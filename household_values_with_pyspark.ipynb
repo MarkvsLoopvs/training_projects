{
 "cells": [
  {
   "cell_type": "markdown",
   "id": "GEqQaHzsZ_bA",
   "metadata": {
    "id": "GEqQaHzsZ_bA"
   },
   "source": [
    "# Предсказание стоимости жилья"
   ]
  },
  {
   "cell_type": "markdown",
   "id": "caf6ae87",
   "metadata": {},
   "source": [
    "Цель проекта - обучить модель линейной регрессии на данных о жилье в Калифорнии в 1990 году. На основе данных нужно предсказать медианную стоимость дома в жилом массиве. Для оценки качества модели требуется использовать метрики RMSE, MAE и R2."
   ]
  },
  {
   "cell_type": "markdown",
   "id": "b13aa22f",
   "metadata": {},
   "source": [
    "## Описание данных"
   ]
  },
  {
   "cell_type": "markdown",
   "id": "d49785e7",
   "metadata": {},
   "source": [
    "Описание данных в файле `housing.csv`:\n",
    "* `longitude` - широта;\n",
    "* `latitude` - долгота;\n",
    "* `housing_median_age` — медианный возраст жителей жилого массива;\n",
    "* `total_rooms` — общее количество комнат в домах жилого массива;\n",
    "* `total_bedrooms` — общее количество спален в домах жилого массива;\n",
    "* `population` — количество человек, которые проживают в жилом массиве;\n",
    "* `households` — количество домовладений в жилом массиве;\n",
    "* `median_income` — медианный доход жителей жилого массива;\n",
    "* `median_house_value` — медианная стоимость дома в жилом массиве, наш таргет;\n",
    "* `ocean_proximity` — близость к океану."
   ]
  },
  {
   "cell_type": "markdown",
   "id": "56b2a08f",
   "metadata": {},
   "source": [
    "## Ознакомление с данными "
   ]
  },
  {
   "cell_type": "markdown",
   "id": "bc51d8fb",
   "metadata": {},
   "source": [
    "### Импорты"
   ]
  },
  {
   "cell_type": "code",
   "execution_count": 35,
   "id": "328c8d1f",
   "metadata": {},
   "outputs": [],
   "source": [
    "from pyspark.sql import SparkSession\n",
    "\n",
    "from pyspark.sql.functions import col, mean\n",
    "\n",
    "from pyspark.ml.feature import OneHotEncoder, StringIndexer\n",
    "from pyspark.ml import Pipeline\n",
    "\n",
    "from pyspark.ml.feature import VectorAssembler\n",
    "from pyspark.ml.regression import LinearRegression\n",
    "from pyspark.ml import Pipeline\n",
    "from pyspark.ml.evaluation import RegressionEvaluator"
   ]
  },
  {
   "cell_type": "markdown",
   "id": "0128c641",
   "metadata": {},
   "source": [
    "### Инициализация Spark-сессии"
   ]
  },
  {
   "cell_type": "code",
   "execution_count": 36,
   "id": "9084f23b",
   "metadata": {},
   "outputs": [],
   "source": [
    "spark = SparkSession.builder \\\n",
    "    .appName(\"SparkHousing\") \\\n",
    "    .getOrCreate()"
   ]
  },
  {
   "cell_type": "markdown",
   "id": "87979339",
   "metadata": {},
   "source": [
    "### Просмотр схемы"
   ]
  },
  {
   "cell_type": "code",
   "execution_count": 37,
   "id": "e123923d",
   "metadata": {},
   "outputs": [
    {
     "name": "stdout",
     "output_type": "stream",
     "text": [
      "root\n",
      " |-- longitude: double (nullable = true)\n",
      " |-- latitude: double (nullable = true)\n",
      " |-- housing_median_age: double (nullable = true)\n",
      " |-- total_rooms: double (nullable = true)\n",
      " |-- total_bedrooms: double (nullable = true)\n",
      " |-- population: double (nullable = true)\n",
      " |-- households: double (nullable = true)\n",
      " |-- median_income: double (nullable = true)\n",
      " |-- median_house_value: double (nullable = true)\n",
      " |-- ocean_proximity: string (nullable = true)\n",
      "\n"
     ]
    }
   ],
   "source": [
    "file_path = \"/datasets/housing.csv\"\n",
    "housing_data = spark.read.csv(file_path, header=True, inferSchema=True)\n",
    "\n",
    "housing_data.printSchema()"
   ]
  },
  {
   "cell_type": "code",
   "execution_count": 38,
   "id": "b66fa079",
   "metadata": {},
   "outputs": [
    {
     "data": {
      "text/plain": [
       "Row(longitude=-122.23, latitude=37.88, housing_median_age=41.0, total_rooms=880.0, total_bedrooms=129.0, population=322.0, households=126.0, median_income=8.3252, median_house_value=452600.0, ocean_proximity='NEAR BAY')"
      ]
     },
     "execution_count": 38,
     "metadata": {},
     "output_type": "execute_result"
    }
   ],
   "source": [
    "housing_data.head()"
   ]
  },
  {
   "cell_type": "markdown",
   "id": "401497fc",
   "metadata": {},
   "source": [
    "## Предобработка данных"
   ]
  },
  {
   "cell_type": "markdown",
   "id": "74b40a46",
   "metadata": {},
   "source": [
    "### Исследование пропусков"
   ]
  },
  {
   "cell_type": "markdown",
   "id": "f448da4e",
   "metadata": {},
   "source": [
    "Пропуски наблюдаем в столбце `total_bedrooms`. Заполним их значением-заглушкой `0`."
   ]
  },
  {
   "cell_type": "code",
   "execution_count": 39,
   "id": "c5484046",
   "metadata": {},
   "outputs": [],
   "source": [
    "housing_data = housing_data.na.fill(0)"
   ]
  },
  {
   "cell_type": "markdown",
   "id": "9e33ae98",
   "metadata": {},
   "source": [
    "### Разделение на выборки"
   ]
  },
  {
   "cell_type": "code",
   "execution_count": 40,
   "id": "a0756485",
   "metadata": {},
   "outputs": [],
   "source": [
    "#разделение на трейн и тест\n",
    "(training_data, test_data) = housing_data.randomSplit([0.8, 0.2], seed=42)"
   ]
  },
  {
   "cell_type": "markdown",
   "id": "bcc18028",
   "metadata": {},
   "source": [
    "### OHE категориальных данных"
   ]
  },
  {
   "cell_type": "markdown",
   "id": "bec00452",
   "metadata": {},
   "source": [
    "Из схемы видим, что категориальным признаком является только `ocean_proximity`"
   ]
  },
  {
   "cell_type": "code",
   "execution_count": 41,
   "id": "2295650f",
   "metadata": {},
   "outputs": [
    {
     "name": "stderr",
     "output_type": "stream",
     "text": [
      "                                                                                \r"
     ]
    },
    {
     "data": {
      "text/plain": [
       "[Row(ocean_proximity='ISLAND'),\n",
       " Row(ocean_proximity='NEAR OCEAN'),\n",
       " Row(ocean_proximity='NEAR BAY'),\n",
       " Row(ocean_proximity='<1H OCEAN'),\n",
       " Row(ocean_proximity='INLAND')]"
      ]
     },
     "execution_count": 41,
     "metadata": {},
     "output_type": "execute_result"
    }
   ],
   "source": [
    "housing_data.select('ocean_proximity').distinct().collect()"
   ]
  },
  {
   "cell_type": "code",
   "execution_count": 43,
   "id": "54228b5c",
   "metadata": {},
   "outputs": [],
   "source": [
    "indexer = StringIndexer(inputCol='ocean_proximity', outputCol='ocean_proximity_index')\n",
    "\n",
    "indexer_model = indexer.fit(training_data)\n",
    "\n",
    "indexed_train = indexer_model.transform(training_data)\n",
    "indexed_test = indexer_model.transform(test_data)"
   ]
  },
  {
   "cell_type": "code",
   "execution_count": 44,
   "id": "629143c2",
   "metadata": {},
   "outputs": [],
   "source": [
    "encoder = OneHotEncoder(inputCol='ocean_proximity_index', outputCol='ocean_proximity_ohe')\n",
    "\n",
    "encoder_model = encoder.fit(indexed_train)\n",
    "\n",
    "training_data = encoder_model.transform(indexed_train)\n",
    "test_data = encoder_model.transform(indexed_test)"
   ]
  },
  {
   "cell_type": "code",
   "execution_count": 48,
   "id": "31b42e3e",
   "metadata": {},
   "outputs": [
    {
     "name": "stdout",
     "output_type": "stream",
     "text": [
      "+---------+--------+------------------+-----------+--------------+----------+----------+-------------+------------------+---------------+---------------------+-------------------+\n",
      "|longitude|latitude|housing_median_age|total_rooms|total_bedrooms|population|households|median_income|median_house_value|ocean_proximity|ocean_proximity_index|ocean_proximity_ohe|\n",
      "+---------+--------+------------------+-----------+--------------+----------+----------+-------------+------------------+---------------+---------------------+-------------------+\n",
      "|  -124.35|   40.54|              52.0|     1820.0|         300.0|     806.0|     270.0|       3.0147|           94600.0|     NEAR OCEAN|                  2.0|      (4,[2],[1.0])|\n",
      "|   -124.3|    41.8|              19.0|     2672.0|         552.0|    1298.0|     478.0|       1.9797|           85800.0|     NEAR OCEAN|                  2.0|      (4,[2],[1.0])|\n",
      "|  -124.27|   40.69|              36.0|     2349.0|         528.0|    1194.0|     465.0|       2.5179|           79000.0|     NEAR OCEAN|                  2.0|      (4,[2],[1.0])|\n",
      "|  -124.26|   40.58|              52.0|     2217.0|         394.0|     907.0|     369.0|       2.3571|          111400.0|     NEAR OCEAN|                  2.0|      (4,[2],[1.0])|\n",
      "|  -124.25|   40.28|              32.0|     1430.0|         419.0|     434.0|     187.0|       1.9417|           76100.0|     NEAR OCEAN|                  2.0|      (4,[2],[1.0])|\n",
      "|  -124.23|   40.81|              52.0|     1112.0|         209.0|     544.0|     172.0|       3.3462|           50800.0|     NEAR OCEAN|                  2.0|      (4,[2],[1.0])|\n",
      "|  -124.22|   41.73|              28.0|     3003.0|         699.0|    1530.0|     653.0|       1.7038|           78300.0|     NEAR OCEAN|                  2.0|      (4,[2],[1.0])|\n",
      "|  -124.21|   40.75|              32.0|     1218.0|         331.0|     620.0|     268.0|       1.6528|           58100.0|     NEAR OCEAN|                  2.0|      (4,[2],[1.0])|\n",
      "|  -124.21|   41.75|              20.0|     3810.0|         787.0|    1993.0|     721.0|       2.0074|           66900.0|     NEAR OCEAN|                  2.0|      (4,[2],[1.0])|\n",
      "|  -124.21|   41.77|              17.0|     3461.0|         722.0|    1947.0|     647.0|       2.5795|           68400.0|     NEAR OCEAN|                  2.0|      (4,[2],[1.0])|\n",
      "|  -124.19|   40.77|              30.0|     2975.0|         634.0|    1367.0|     583.0|        2.442|           69000.0|     NEAR OCEAN|                  2.0|      (4,[2],[1.0])|\n",
      "|  -124.19|   40.78|              37.0|     1371.0|         319.0|     640.0|     260.0|       1.8242|           70000.0|     NEAR OCEAN|                  2.0|      (4,[2],[1.0])|\n",
      "|  -124.19|   41.78|              15.0|     3140.0|         714.0|    1645.0|     640.0|       1.6654|           74600.0|     NEAR OCEAN|                  2.0|      (4,[2],[1.0])|\n",
      "|  -124.18|   40.62|              35.0|      952.0|         178.0|     480.0|     179.0|       3.0536|          107000.0|     NEAR OCEAN|                  2.0|      (4,[2],[1.0])|\n",
      "|  -124.18|   40.78|              33.0|     1076.0|         222.0|     656.0|     236.0|       2.5096|           72200.0|     NEAR OCEAN|                  2.0|      (4,[2],[1.0])|\n",
      "|  -124.18|   40.78|              37.0|     1453.0|         293.0|     867.0|     310.0|       2.5536|           70200.0|     NEAR OCEAN|                  2.0|      (4,[2],[1.0])|\n",
      "|  -124.18|   40.79|              39.0|     1836.0|         352.0|     883.0|     337.0|        1.745|           70500.0|     NEAR OCEAN|                  2.0|      (4,[2],[1.0])|\n",
      "|  -124.18|   40.79|              40.0|     1398.0|         311.0|     788.0|     279.0|       1.4668|           64600.0|     NEAR OCEAN|                  2.0|      (4,[2],[1.0])|\n",
      "|  -124.17|   40.74|              17.0|     2026.0|         338.0|     873.0|     313.0|       4.0357|          128900.0|     NEAR OCEAN|                  2.0|      (4,[2],[1.0])|\n",
      "|  -124.17|   40.75|              13.0|     2171.0|         339.0|     951.0|     353.0|       4.8516|          116100.0|     NEAR OCEAN|                  2.0|      (4,[2],[1.0])|\n",
      "+---------+--------+------------------+-----------+--------------+----------+----------+-------------+------------------+---------------+---------------------+-------------------+\n",
      "only showing top 20 rows\n",
      "\n"
     ]
    }
   ],
   "source": [
    "training_data.show()"
   ]
  },
  {
   "cell_type": "markdown",
   "id": "101c849a",
   "metadata": {},
   "source": [
    "## Построение моделей"
   ]
  },
  {
   "cell_type": "markdown",
   "id": "750be7e2",
   "metadata": {},
   "source": [
    "Заказчик требует построить две модели на двух разных наборах данных:\n",
    "* используя все данные из файла;\n",
    "* используя только числовые переменные, исключив категориальные.\n",
    "Построим для каждого случая пайплайн."
   ]
  },
  {
   "cell_type": "code",
   "execution_count": 49,
   "id": "c39cfb21",
   "metadata": {},
   "outputs": [
    {
     "name": "stderr",
     "output_type": "stream",
     "text": [
      "23/12/06 11:03:08 WARN Instrumentation: [4f59d61f] regParam is zero, which might cause numerical instability and overfitting.\n"
     ]
    }
   ],
   "source": [
    "#модель на всех данных\n",
    "feature_columns_all = [\n",
    "    \"longitude\", \"latitude\", \"housing_median_age\", \"total_rooms\",\n",
    "    \"total_bedrooms\", \"population\", \"households\", \"median_income\",\n",
    "    \"ocean_proximity_ohe\"\n",
    "]\n",
    "\n",
    "assembler_all = VectorAssembler(inputCols=feature_columns_all, outputCol=\"features_all\")\n",
    "lr_all = LinearRegression(labelCol=\"median_house_value\", featuresCol=\"features_all\")\n",
    "pipeline_all = Pipeline(stages=[assembler_all, lr_all])\n",
    "model_all = pipeline_all.fit(training_data)"
   ]
  },
  {
   "cell_type": "code",
   "execution_count": 50,
   "id": "ccf0a770",
   "metadata": {},
   "outputs": [
    {
     "name": "stderr",
     "output_type": "stream",
     "text": [
      "23/12/06 11:03:11 WARN Instrumentation: [099e92ee] regParam is zero, which might cause numerical instability and overfitting.\n"
     ]
    }
   ],
   "source": [
    "#Модель на числовых данных\n",
    "feature_columns_numeric = [\n",
    "    \"longitude\", \"latitude\", \"housing_median_age\", \"total_rooms\",\n",
    "    \"total_bedrooms\", \"population\", \"households\", \"median_income\"\n",
    "]\n",
    "\n",
    "assembler_numeric = VectorAssembler(inputCols=feature_columns_numeric, outputCol=\"features_numeric\")\n",
    "lr_numeric = LinearRegression(labelCol=\"median_house_value\", featuresCol=\"features_numeric\")\n",
    "pipeline_numeric = Pipeline(stages=[assembler_numeric, lr_numeric])\n",
    "model_numeric = pipeline_numeric.fit(training_data)"
   ]
  },
  {
   "cell_type": "markdown",
   "id": "1365493f",
   "metadata": {},
   "source": [
    "Проверим работу моделей на трех требуемых метриках:"
   ]
  },
  {
   "cell_type": "code",
   "execution_count": 51,
   "id": "08d714fd",
   "metadata": {},
   "outputs": [
    {
     "name": "stdout",
     "output_type": "stream",
     "text": [
      "RMSE (все данные): 70895.92875824224\n",
      "RMSE (численные данные): 71934.43916846818\n"
     ]
    }
   ],
   "source": [
    "#Оценка моделей на тестовых данных\n",
    "evaluator_rmse = RegressionEvaluator(labelCol=\"median_house_value\", predictionCol=\"prediction\", metricName=\"rmse\")\n",
    "evaluator_mae = RegressionEvaluator(labelCol=\"median_house_value\", predictionCol=\"prediction\", metricName=\"mae\")\n",
    "evaluator_r2 = RegressionEvaluator(labelCol=\"median_house_value\", predictionCol=\"prediction\", metricName=\"r2\")\n",
    "\n",
    "predictions_all = model_all.transform(test_data)\n",
    "rmse_all = evaluator_rmse.evaluate(predictions_all)\n",
    "print(\"RMSE (все данные):\", rmse_all)\n",
    "\n",
    "predictions_numeric = model_numeric.transform(test_data)\n",
    "rmse_numeric = evaluator_rmse.evaluate(predictions_numeric)\n",
    "print(\"RMSE (численные данные):\", rmse_numeric)"
   ]
  },
  {
   "cell_type": "code",
   "execution_count": 52,
   "id": "c833a445",
   "metadata": {},
   "outputs": [
    {
     "name": "stdout",
     "output_type": "stream",
     "text": [
      "MAE (все данные): 50949.266663002214\n",
      "MAE (численные данные): 51936.17292777196\n"
     ]
    }
   ],
   "source": [
    "mae_all = evaluator_mae.evaluate(predictions_all)\n",
    "mae_numeric = evaluator_mae.evaluate(predictions_numeric)\n",
    "\n",
    "print(\"MAE (все данные):\", mae_all)\n",
    "print(\"MAE (численные данные):\", mae_numeric)"
   ]
  },
  {
   "cell_type": "code",
   "execution_count": 53,
   "id": "d85a3328",
   "metadata": {
    "scrolled": true
   },
   "outputs": [
    {
     "name": "stdout",
     "output_type": "stream",
     "text": [
      "R2 (все данные): 0.6367242913742457\n",
      "R2 (численные данные): 0.6260035412108075\n"
     ]
    }
   ],
   "source": [
    "r2_all = evaluator_r2.evaluate(predictions_all)\n",
    "r2_numeric = evaluator_r2.evaluate(predictions_numeric)\n",
    "\n",
    "print(\"R2 (все данные):\", r2_all)\n",
    "print(\"R2 (численные данные):\", r2_numeric)"
   ]
  },
  {
   "cell_type": "code",
   "execution_count": 54,
   "id": "b32bb490",
   "metadata": {},
   "outputs": [],
   "source": [
    "#все результаты получены\n",
    "spark.stop()"
   ]
  },
  {
   "cell_type": "markdown",
   "id": "f6cd63a3",
   "metadata": {},
   "source": [
    "# Выводы"
   ]
  },
  {
   "cell_type": "markdown",
   "id": "8356b37e",
   "metadata": {},
   "source": [
    "Данные были предобработаны и изучены при помощи методов pySpark. Было построено две модели линейной регрессии на разных наборах данных - на всех одновременно и только на численных. Для построения и оценки моделей была использована библиотека MLlib. Были получены следующие результаты:\n",
    "* RMSE (все данные): 70895.92875824224 / RMSE (численные данные): 71934.43916846818\n",
    "  \n",
    "* MAE (все данные): 50949.266663002214 / MAE (численные данные): 51936.17292777196\n",
    "\n",
    "* R2 (все данные): 0.6367242913742457 / R2 (численные данные): 0.6260035412108075"
   ]
  },
  {
   "cell_type": "markdown",
   "id": "07a628f6",
   "metadata": {},
   "source": [
    "Как видим: \n",
    "*  Модель, обученная на всех данных, имеет меньшее значение RMSE, что свидетельствует о лучшей предсказательной способности по сравнению с моделью, обученной только на числовых данных.\n",
    "* Здесь также модель, обученная на всех данных, имеет меньшее значение MAE, что говорит о лучшей предсказательной способности.\n",
    "* Значение R2 ближе к 1 указывает на лучшую объяснительную способность модели. В данном случае модель, обученная на всех данных, имеет немного лучшее значение R2.\n",
    "\n",
    "Модель, обученная на всех данных (включая категориальные признаки), выглядит более предпочтительной с точки зрения RMSE, MAE и R2 по сравнению с моделью, обученной только на числовых данных."
   ]
  }
 ],
 "metadata": {
  "ExecuteTimeLog": [
   {
    "duration": 81,
    "start_time": "2023-12-06T08:57:23.841Z"
   },
   {
    "duration": 15245,
    "start_time": "2023-12-06T09:01:54.219Z"
   },
   {
    "duration": 7839,
    "start_time": "2023-12-06T09:03:58.134Z"
   },
   {
    "duration": 400,
    "start_time": "2023-12-06T09:06:11.585Z"
   },
   {
    "duration": 2,
    "start_time": "2023-12-06T09:07:33.944Z"
   },
   {
    "duration": 124,
    "start_time": "2023-12-06T09:08:57.543Z"
   },
   {
    "duration": 52,
    "start_time": "2023-12-06T09:09:04.715Z"
   },
   {
    "duration": 7,
    "start_time": "2023-12-06T09:09:19.127Z"
   },
   {
    "duration": 4877,
    "start_time": "2023-12-06T09:10:21.381Z"
   },
   {
    "duration": 306,
    "start_time": "2023-12-06T09:12:07.395Z"
   },
   {
    "duration": 225,
    "start_time": "2023-12-06T09:13:49.865Z"
   },
   {
    "duration": 1307,
    "start_time": "2023-12-06T09:14:18.564Z"
   },
   {
    "duration": 15,
    "start_time": "2023-12-06T09:16:06.267Z"
   },
   {
    "duration": 233,
    "start_time": "2023-12-06T09:17:03.521Z"
   },
   {
    "duration": 450,
    "start_time": "2023-12-06T09:17:18.136Z"
   },
   {
    "duration": 3,
    "start_time": "2023-12-06T09:19:20.033Z"
   },
   {
    "duration": 535,
    "start_time": "2023-12-06T09:19:21.454Z"
   },
   {
    "duration": 186,
    "start_time": "2023-12-06T09:19:22.967Z"
   },
   {
    "duration": 2666,
    "start_time": "2023-12-06T09:19:53.712Z"
   },
   {
    "duration": 2,
    "start_time": "2023-12-06T09:20:43.417Z"
   },
   {
    "duration": 1777,
    "start_time": "2023-12-06T09:20:43.887Z"
   },
   {
    "duration": 326,
    "start_time": "2023-12-06T09:25:58.140Z"
   },
   {
    "duration": 81,
    "start_time": "2023-12-06T09:26:17.775Z"
   },
   {
    "duration": 15423,
    "start_time": "2023-12-06T09:26:35.768Z"
   },
   {
    "duration": 7926,
    "start_time": "2023-12-06T09:26:51.251Z"
   },
   {
    "duration": 495,
    "start_time": "2023-12-06T09:26:59.179Z"
   },
   {
    "duration": 11,
    "start_time": "2023-12-06T09:26:59.676Z"
   },
   {
    "duration": 4185,
    "start_time": "2023-12-06T09:26:59.689Z"
   },
   {
    "duration": 189,
    "start_time": "2023-12-06T09:27:03.876Z"
   },
   {
    "duration": 4191,
    "start_time": "2023-12-06T09:27:04.067Z"
   },
   {
    "duration": 332,
    "start_time": "2023-12-06T09:27:08.260Z"
   },
   {
    "duration": 1265,
    "start_time": "2023-12-06T09:27:08.594Z"
   },
   {
    "duration": 223,
    "start_time": "2023-12-06T09:27:09.861Z"
   },
   {
    "duration": 497,
    "start_time": "2023-12-06T09:27:10.085Z"
   },
   {
    "duration": 3,
    "start_time": "2023-12-06T09:30:54.269Z"
   },
   {
    "duration": 28,
    "start_time": "2023-12-06T09:31:41.237Z"
   },
   {
    "duration": 3,
    "start_time": "2023-12-06T09:37:22.012Z"
   },
   {
    "duration": 3717,
    "start_time": "2023-12-06T09:37:24.877Z"
   },
   {
    "duration": 3,
    "start_time": "2023-12-06T09:37:58.543Z"
   },
   {
    "duration": 11,
    "start_time": "2023-12-06T09:37:59.231Z"
   },
   {
    "duration": 1845,
    "start_time": "2023-12-06T09:37:59.911Z"
   },
   {
    "duration": 2076,
    "start_time": "2023-12-06T09:38:42.387Z"
   },
   {
    "duration": 1300,
    "start_time": "2023-12-06T09:39:07.283Z"
   },
   {
    "duration": 942,
    "start_time": "2023-12-06T09:40:07.814Z"
   },
   {
    "duration": 1006,
    "start_time": "2023-12-06T09:43:13.571Z"
   },
   {
    "duration": 925,
    "start_time": "2023-12-06T09:43:30.845Z"
   },
   {
    "duration": 724,
    "start_time": "2023-12-06T09:44:28.328Z"
   },
   {
    "duration": 556,
    "start_time": "2023-12-06T09:45:24.702Z"
   },
   {
    "duration": 84,
    "start_time": "2023-12-06T09:48:30.521Z"
   },
   {
    "duration": 15289,
    "start_time": "2023-12-06T09:53:28.594Z"
   },
   {
    "duration": 8488,
    "start_time": "2023-12-06T09:53:43.886Z"
   },
   {
    "duration": 485,
    "start_time": "2023-12-06T09:53:52.376Z"
   },
   {
    "duration": 10,
    "start_time": "2023-12-06T09:53:52.863Z"
   },
   {
    "duration": 4209,
    "start_time": "2023-12-06T09:53:52.875Z"
   },
   {
    "duration": 198,
    "start_time": "2023-12-06T09:53:57.086Z"
   },
   {
    "duration": 4179,
    "start_time": "2023-12-06T09:53:57.285Z"
   },
   {
    "duration": 339,
    "start_time": "2023-12-06T09:54:01.465Z"
   },
   {
    "duration": 1288,
    "start_time": "2023-12-06T09:54:01.806Z"
   },
   {
    "duration": 301,
    "start_time": "2023-12-06T09:54:03.152Z"
   },
   {
    "duration": 498,
    "start_time": "2023-12-06T09:54:03.455Z"
   },
   {
    "duration": 4,
    "start_time": "2023-12-06T09:54:03.955Z"
   },
   {
    "duration": 24,
    "start_time": "2023-12-06T09:54:03.961Z"
   },
   {
    "duration": 4375,
    "start_time": "2023-12-06T09:54:03.988Z"
   },
   {
    "duration": 2603,
    "start_time": "2023-12-06T09:54:08.365Z"
   },
   {
    "duration": 1506,
    "start_time": "2023-12-06T09:54:10.969Z"
   },
   {
    "duration": 1076,
    "start_time": "2023-12-06T09:54:12.477Z"
   },
   {
    "duration": 927,
    "start_time": "2023-12-06T09:54:13.554Z"
   },
   {
    "duration": 353,
    "start_time": "2023-12-06T09:54:34.344Z"
   },
   {
    "duration": 5,
    "start_time": "2023-12-06T10:45:32.795Z"
   },
   {
    "duration": 517,
    "start_time": "2023-12-06T10:45:34.438Z"
   },
   {
    "duration": 482,
    "start_time": "2023-12-06T10:45:36.919Z"
   },
   {
    "duration": 119,
    "start_time": "2023-12-06T10:45:40.034Z"
   },
   {
    "duration": 69,
    "start_time": "2023-12-06T10:45:41.986Z"
   },
   {
    "duration": 2471,
    "start_time": "2023-12-06T10:45:50.108Z"
   },
   {
    "duration": 426,
    "start_time": "2023-12-06T10:45:53.355Z"
   },
   {
    "duration": 4,
    "start_time": "2023-12-06T10:49:59.377Z"
   },
   {
    "duration": 5,
    "start_time": "2023-12-06T10:50:00.661Z"
   },
   {
    "duration": 512,
    "start_time": "2023-12-06T10:50:03.649Z"
   },
   {
    "duration": 83,
    "start_time": "2023-12-06T10:50:05.413Z"
   },
   {
    "duration": 29,
    "start_time": "2023-12-06T10:50:08.461Z"
   },
   {
    "duration": 11,
    "start_time": "2023-12-06T10:50:11.821Z"
   },
   {
    "duration": 878,
    "start_time": "2023-12-06T10:51:55.193Z"
   },
   {
    "duration": 542,
    "start_time": "2023-12-06T10:53:15.142Z"
   },
   {
    "duration": 4,
    "start_time": "2023-12-06T10:53:21.891Z"
   },
   {
    "duration": 3,
    "start_time": "2023-12-06T10:53:22.823Z"
   },
   {
    "duration": 419,
    "start_time": "2023-12-06T10:53:24.946Z"
   },
   {
    "duration": 85,
    "start_time": "2023-12-06T10:53:26.623Z"
   },
   {
    "duration": 29,
    "start_time": "2023-12-06T10:53:28.344Z"
   },
   {
    "duration": 19,
    "start_time": "2023-12-06T10:53:29.799Z"
   },
   {
    "duration": 1812,
    "start_time": "2023-12-06T10:53:34.056Z"
   },
   {
    "duration": 444,
    "start_time": "2023-12-06T10:53:37.033Z"
   },
   {
    "duration": 468,
    "start_time": "2023-12-06T10:59:04.113Z"
   },
   {
    "duration": 43,
    "start_time": "2023-12-06T11:02:11.435Z"
   },
   {
    "duration": 492,
    "start_time": "2023-12-06T11:02:29.865Z"
   },
   {
    "duration": 386,
    "start_time": "2023-12-06T11:02:42.094Z"
   },
   {
    "duration": 454,
    "start_time": "2023-12-06T11:02:51.422Z"
   },
   {
    "duration": 249,
    "start_time": "2023-12-06T11:02:58.506Z"
   },
   {
    "duration": 1692,
    "start_time": "2023-12-06T11:03:07.729Z"
   },
   {
    "duration": 1493,
    "start_time": "2023-12-06T11:03:11.276Z"
   },
   {
    "duration": 849,
    "start_time": "2023-12-06T11:03:15.164Z"
   },
   {
    "duration": 674,
    "start_time": "2023-12-06T11:03:18.400Z"
   },
   {
    "duration": 624,
    "start_time": "2023-12-06T11:03:19.329Z"
   },
   {
    "duration": 370,
    "start_time": "2023-12-06T11:03:22.302Z"
   },
   {
    "duration": 106,
    "start_time": "2023-12-06T11:03:49.160Z"
   }
  ],
  "colab": {
   "name": "PySparkSprint.ipynb",
   "provenance": []
  },
  "kernelspec": {
   "display_name": "Python 3 (ipykernel)",
   "language": "python",
   "name": "python3"
  },
  "language_info": {
   "codemirror_mode": {
    "name": "ipython",
    "version": 3
   },
   "file_extension": ".py",
   "mimetype": "text/x-python",
   "name": "python",
   "nbconvert_exporter": "python",
   "pygments_lexer": "ipython3",
   "version": "3.9.16"
  },
  "toc": {
   "base_numbering": 1,
   "nav_menu": {},
   "number_sections": true,
   "sideBar": true,
   "skip_h1_title": true,
   "title_cell": "Table of Contents",
   "title_sidebar": "Contents",
   "toc_cell": false,
   "toc_position": {},
   "toc_section_display": true,
   "toc_window_display": false
  }
 },
 "nbformat": 4,
 "nbformat_minor": 5
}
