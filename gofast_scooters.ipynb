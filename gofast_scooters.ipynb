{
 "cells": [
  {
   "cell_type": "markdown",
   "id": "d775ddcf",
   "metadata": {},
   "source": [
    "# Анализ данных сервиса GoFast"
   ]
  },
  {
   "cell_type": "markdown",
   "id": "ba4929cf",
   "metadata": {},
   "source": [
    "В нашем распоряжении данные о некоторых пользователях сервиса из нескольких городов, а также об их поездках. Наша цель: проанализировать данные и проверить некоторые гипотезы, которые могут помочь бизнесу вырасти."
   ]
  },
  {
   "cell_type": "markdown",
   "id": "38e70436",
   "metadata": {},
   "source": [
    "Сервисом можно пользоваться:\n",
    "* без подписки\n",
    "    * абонентская плата отсутствует;\n",
    "    * стоимость одной минуты поездки — 8 рублей;\n",
    "    * стоимость старта (начала поездки) — 50 рублей;\n",
    "* с подпиской Ultra\n",
    "    * абонентская плата — 199 рублей в месяц;\n",
    "    * стоимость одной минуты поездки — 6 рублей;\n",
    "    * стоимость старта — бесплатно."
   ]
  },
  {
   "cell_type": "markdown",
   "id": "dc47c374",
   "metadata": {},
   "source": [
    "## Описание данных:"
   ]
  },
  {
   "cell_type": "markdown",
   "id": "7355ec2c",
   "metadata": {},
   "source": [
    "Таблица \"Пользователи\" (`users_go.csv`):\n",
    "* `user_id` - уникальный идентификатор пользователя\n",
    "* `name` - имя пользователя\n",
    "* `age` - возраст\n",
    "* `city` - город\n",
    "* `subscription_type` - тип подписки (free, ultra)\n"
   ]
  },
  {
   "cell_type": "markdown",
   "id": "4b21bc4c",
   "metadata": {},
   "source": [
    "Таблица \"Поездки\" (`rides_go.csv`):\n",
    "* `distance` - расстояние, которое пользователь проехал в текущей сессии (в метрах)\n",
    "* `duration` - продолжительность сессии (в минутах) — время с того момента, как пользователь нажал кнопку «Начать поездку» до момента, как он нажал кнопку «Завершить поездку»\n",
    "* `date` - дата совершения поездки"
   ]
  },
  {
   "cell_type": "markdown",
   "id": "166430b3",
   "metadata": {},
   "source": [
    "Таблица \"Подписки\" (`subscriptions_go.csv`):\n",
    "* `subscription_type` - тип подписки\n",
    "* `minute_price` - стоимость одной минуты поездки по данной подписке\n",
    "* `start_ride_price` - стоимость начала поездки\n",
    "* `subscription_fee` - стоимость ежемесячного платежа"
   ]
  },
  {
   "cell_type": "markdown",
   "id": "97a1a005",
   "metadata": {},
   "source": [
    "## Ознакомление с данными"
   ]
  },
  {
   "cell_type": "markdown",
   "id": "6840e243",
   "metadata": {},
   "source": [
    "Импортируем библиотеки и прочитаем файлы."
   ]
  },
  {
   "cell_type": "code",
   "execution_count": 1,
   "id": "fea51cc5",
   "metadata": {},
   "outputs": [],
   "source": [
    "import pandas as pd\n",
    "import seaborn as sns\n",
    "from scipy import stats as st\n",
    "import matplotlib.pyplot as plt\n",
    "from math import factorial\n",
    "from math import sqrt\n",
    "import numpy as np\n",
    "import warnings\n",
    "\n",
    "\n",
    "warnings.filterwarnings(\"ignore\")\n",
    "sns.set(style=\"darkgrid\")"
   ]
  },
  {
   "cell_type": "code",
   "execution_count": 2,
   "id": "7fb642c2",
   "metadata": {},
   "outputs": [],
   "source": [
    "try:\n",
    "    users_go = pd.read_csv('/home/aart/datasets/users_go.csv')\n",
    "    rides_go = pd.read_csv('/home/aart/datasets/rides_go.csv')\n",
    "    subscriptions_go = pd.read_csv('/home/aart/datasets/subscriptions_go.csv')\n",
    "except:\n",
    "    users_go = pd.read_csv('/datasets/users_go.csv')\n",
    "    rides_go = pd.read_csv('/datasets/rides_go.csv')\n",
    "    subscriptions_go = pd.read_csv('/datasets/subscriptions_go.csv')"
   ]
  },
  {
   "cell_type": "code",
   "execution_count": 3,
   "id": "c9e64971",
   "metadata": {},
   "outputs": [
    {
     "name": "stdout",
     "output_type": "stream",
     "text": [
      "<class 'pandas.core.frame.DataFrame'>\n",
      "RangeIndex: 1565 entries, 0 to 1564\n",
      "Data columns (total 5 columns):\n",
      " #   Column             Non-Null Count  Dtype \n",
      "---  ------             --------------  ----- \n",
      " 0   user_id            1565 non-null   int64 \n",
      " 1   name               1565 non-null   object\n",
      " 2   age                1565 non-null   int64 \n",
      " 3   city               1565 non-null   object\n",
      " 4   subscription_type  1565 non-null   object\n",
      "dtypes: int64(2), object(3)\n",
      "memory usage: 61.3+ KB\n"
     ]
    },
    {
     "data": {
      "text/html": [
       "<div>\n",
       "<style scoped>\n",
       "    .dataframe tbody tr th:only-of-type {\n",
       "        vertical-align: middle;\n",
       "    }\n",
       "\n",
       "    .dataframe tbody tr th {\n",
       "        vertical-align: top;\n",
       "    }\n",
       "\n",
       "    .dataframe thead th {\n",
       "        text-align: right;\n",
       "    }\n",
       "</style>\n",
       "<table border=\"1\" class=\"dataframe\">\n",
       "  <thead>\n",
       "    <tr style=\"text-align: right;\">\n",
       "      <th></th>\n",
       "      <th>count</th>\n",
       "      <th>mean</th>\n",
       "      <th>std</th>\n",
       "      <th>min</th>\n",
       "      <th>25%</th>\n",
       "      <th>50%</th>\n",
       "      <th>75%</th>\n",
       "      <th>max</th>\n",
       "    </tr>\n",
       "  </thead>\n",
       "  <tbody>\n",
       "    <tr>\n",
       "      <th>user_id</th>\n",
       "      <td>1565.0</td>\n",
       "      <td>762.633866</td>\n",
       "      <td>443.260155</td>\n",
       "      <td>1.0</td>\n",
       "      <td>378.0</td>\n",
       "      <td>762.0</td>\n",
       "      <td>1146.0</td>\n",
       "      <td>1534.0</td>\n",
       "    </tr>\n",
       "    <tr>\n",
       "      <th>age</th>\n",
       "      <td>1565.0</td>\n",
       "      <td>24.922045</td>\n",
       "      <td>4.553496</td>\n",
       "      <td>12.0</td>\n",
       "      <td>22.0</td>\n",
       "      <td>25.0</td>\n",
       "      <td>28.0</td>\n",
       "      <td>43.0</td>\n",
       "    </tr>\n",
       "  </tbody>\n",
       "</table>\n",
       "</div>"
      ],
      "text/plain": [
       "          count        mean         std   min    25%    50%     75%     max\n",
       "user_id  1565.0  762.633866  443.260155   1.0  378.0  762.0  1146.0  1534.0\n",
       "age      1565.0   24.922045    4.553496  12.0   22.0   25.0    28.0    43.0"
      ]
     },
     "metadata": {},
     "output_type": "display_data"
    },
    {
     "data": {
      "text/plain": [
       "None"
      ]
     },
     "metadata": {},
     "output_type": "display_data"
    },
    {
     "data": {
      "text/html": [
       "<div>\n",
       "<style scoped>\n",
       "    .dataframe tbody tr th:only-of-type {\n",
       "        vertical-align: middle;\n",
       "    }\n",
       "\n",
       "    .dataframe tbody tr th {\n",
       "        vertical-align: top;\n",
       "    }\n",
       "\n",
       "    .dataframe thead th {\n",
       "        text-align: right;\n",
       "    }\n",
       "</style>\n",
       "<table border=\"1\" class=\"dataframe\">\n",
       "  <thead>\n",
       "    <tr style=\"text-align: right;\">\n",
       "      <th></th>\n",
       "      <th>user_id</th>\n",
       "      <th>name</th>\n",
       "      <th>age</th>\n",
       "      <th>city</th>\n",
       "      <th>subscription_type</th>\n",
       "    </tr>\n",
       "  </thead>\n",
       "  <tbody>\n",
       "    <tr>\n",
       "      <th>0</th>\n",
       "      <td>1</td>\n",
       "      <td>Кира</td>\n",
       "      <td>22</td>\n",
       "      <td>Тюмень</td>\n",
       "      <td>ultra</td>\n",
       "    </tr>\n",
       "    <tr>\n",
       "      <th>1</th>\n",
       "      <td>2</td>\n",
       "      <td>Станислав</td>\n",
       "      <td>31</td>\n",
       "      <td>Омск</td>\n",
       "      <td>ultra</td>\n",
       "    </tr>\n",
       "    <tr>\n",
       "      <th>2</th>\n",
       "      <td>3</td>\n",
       "      <td>Алексей</td>\n",
       "      <td>20</td>\n",
       "      <td>Москва</td>\n",
       "      <td>ultra</td>\n",
       "    </tr>\n",
       "    <tr>\n",
       "      <th>3</th>\n",
       "      <td>4</td>\n",
       "      <td>Константин</td>\n",
       "      <td>26</td>\n",
       "      <td>Ростов-на-Дону</td>\n",
       "      <td>ultra</td>\n",
       "    </tr>\n",
       "    <tr>\n",
       "      <th>4</th>\n",
       "      <td>5</td>\n",
       "      <td>Адель</td>\n",
       "      <td>28</td>\n",
       "      <td>Омск</td>\n",
       "      <td>ultra</td>\n",
       "    </tr>\n",
       "  </tbody>\n",
       "</table>\n",
       "</div>"
      ],
      "text/plain": [
       "   user_id        name  age            city subscription_type\n",
       "0        1        Кира   22          Тюмень             ultra\n",
       "1        2   Станислав   31            Омск             ultra\n",
       "2        3     Алексей   20          Москва             ultra\n",
       "3        4  Константин   26  Ростов-на-Дону             ultra\n",
       "4        5       Адель   28            Омск             ultra"
      ]
     },
     "metadata": {},
     "output_type": "display_data"
    }
   ],
   "source": [
    "display(users_go.describe().T, users_go.info(), users_go.head())"
   ]
  },
  {
   "cell_type": "code",
   "execution_count": 4,
   "id": "1755c27c",
   "metadata": {},
   "outputs": [
    {
     "name": "stdout",
     "output_type": "stream",
     "text": [
      "<class 'pandas.core.frame.DataFrame'>\n",
      "RangeIndex: 18068 entries, 0 to 18067\n",
      "Data columns (total 4 columns):\n",
      " #   Column    Non-Null Count  Dtype  \n",
      "---  ------    --------------  -----  \n",
      " 0   user_id   18068 non-null  int64  \n",
      " 1   distance  18068 non-null  float64\n",
      " 2   duration  18068 non-null  float64\n",
      " 3   date      18068 non-null  object \n",
      "dtypes: float64(2), int64(1), object(1)\n",
      "memory usage: 564.8+ KB\n"
     ]
    },
    {
     "data": {
      "text/html": [
       "<div>\n",
       "<style scoped>\n",
       "    .dataframe tbody tr th:only-of-type {\n",
       "        vertical-align: middle;\n",
       "    }\n",
       "\n",
       "    .dataframe tbody tr th {\n",
       "        vertical-align: top;\n",
       "    }\n",
       "\n",
       "    .dataframe thead th {\n",
       "        text-align: right;\n",
       "    }\n",
       "</style>\n",
       "<table border=\"1\" class=\"dataframe\">\n",
       "  <thead>\n",
       "    <tr style=\"text-align: right;\">\n",
       "      <th></th>\n",
       "      <th>count</th>\n",
       "      <th>mean</th>\n",
       "      <th>std</th>\n",
       "      <th>min</th>\n",
       "      <th>25%</th>\n",
       "      <th>50%</th>\n",
       "      <th>75%</th>\n",
       "      <th>max</th>\n",
       "    </tr>\n",
       "  </thead>\n",
       "  <tbody>\n",
       "    <tr>\n",
       "      <th>user_id</th>\n",
       "      <td>18068.0</td>\n",
       "      <td>842.869936</td>\n",
       "      <td>434.734317</td>\n",
       "      <td>1.000000</td>\n",
       "      <td>487.000000</td>\n",
       "      <td>889.000000</td>\n",
       "      <td>1213.250000</td>\n",
       "      <td>1534.000000</td>\n",
       "    </tr>\n",
       "    <tr>\n",
       "      <th>distance</th>\n",
       "      <td>18068.0</td>\n",
       "      <td>3070.659976</td>\n",
       "      <td>1116.831209</td>\n",
       "      <td>0.855683</td>\n",
       "      <td>2543.226360</td>\n",
       "      <td>3133.609994</td>\n",
       "      <td>3776.222735</td>\n",
       "      <td>7211.007745</td>\n",
       "    </tr>\n",
       "    <tr>\n",
       "      <th>duration</th>\n",
       "      <td>18068.0</td>\n",
       "      <td>17.805011</td>\n",
       "      <td>6.091051</td>\n",
       "      <td>0.500000</td>\n",
       "      <td>13.597563</td>\n",
       "      <td>17.678395</td>\n",
       "      <td>21.724800</td>\n",
       "      <td>40.823963</td>\n",
       "    </tr>\n",
       "  </tbody>\n",
       "</table>\n",
       "</div>"
      ],
      "text/plain": [
       "            count         mean          std       min          25%  \\\n",
       "user_id   18068.0   842.869936   434.734317  1.000000   487.000000   \n",
       "distance  18068.0  3070.659976  1116.831209  0.855683  2543.226360   \n",
       "duration  18068.0    17.805011     6.091051  0.500000    13.597563   \n",
       "\n",
       "                  50%          75%          max  \n",
       "user_id    889.000000  1213.250000  1534.000000  \n",
       "distance  3133.609994  3776.222735  7211.007745  \n",
       "duration    17.678395    21.724800    40.823963  "
      ]
     },
     "metadata": {},
     "output_type": "display_data"
    },
    {
     "data": {
      "text/plain": [
       "None"
      ]
     },
     "metadata": {},
     "output_type": "display_data"
    },
    {
     "data": {
      "text/html": [
       "<div>\n",
       "<style scoped>\n",
       "    .dataframe tbody tr th:only-of-type {\n",
       "        vertical-align: middle;\n",
       "    }\n",
       "\n",
       "    .dataframe tbody tr th {\n",
       "        vertical-align: top;\n",
       "    }\n",
       "\n",
       "    .dataframe thead th {\n",
       "        text-align: right;\n",
       "    }\n",
       "</style>\n",
       "<table border=\"1\" class=\"dataframe\">\n",
       "  <thead>\n",
       "    <tr style=\"text-align: right;\">\n",
       "      <th></th>\n",
       "      <th>user_id</th>\n",
       "      <th>distance</th>\n",
       "      <th>duration</th>\n",
       "      <th>date</th>\n",
       "    </tr>\n",
       "  </thead>\n",
       "  <tbody>\n",
       "    <tr>\n",
       "      <th>0</th>\n",
       "      <td>1</td>\n",
       "      <td>4409.919140</td>\n",
       "      <td>25.599769</td>\n",
       "      <td>2021-01-01</td>\n",
       "    </tr>\n",
       "    <tr>\n",
       "      <th>1</th>\n",
       "      <td>1</td>\n",
       "      <td>2617.592153</td>\n",
       "      <td>15.816871</td>\n",
       "      <td>2021-01-18</td>\n",
       "    </tr>\n",
       "    <tr>\n",
       "      <th>2</th>\n",
       "      <td>1</td>\n",
       "      <td>754.159807</td>\n",
       "      <td>6.232113</td>\n",
       "      <td>2021-04-20</td>\n",
       "    </tr>\n",
       "    <tr>\n",
       "      <th>3</th>\n",
       "      <td>1</td>\n",
       "      <td>2694.783254</td>\n",
       "      <td>18.511000</td>\n",
       "      <td>2021-08-11</td>\n",
       "    </tr>\n",
       "    <tr>\n",
       "      <th>4</th>\n",
       "      <td>1</td>\n",
       "      <td>4028.687306</td>\n",
       "      <td>26.265803</td>\n",
       "      <td>2021-08-28</td>\n",
       "    </tr>\n",
       "  </tbody>\n",
       "</table>\n",
       "</div>"
      ],
      "text/plain": [
       "   user_id     distance   duration        date\n",
       "0        1  4409.919140  25.599769  2021-01-01\n",
       "1        1  2617.592153  15.816871  2021-01-18\n",
       "2        1   754.159807   6.232113  2021-04-20\n",
       "3        1  2694.783254  18.511000  2021-08-11\n",
       "4        1  4028.687306  26.265803  2021-08-28"
      ]
     },
     "metadata": {},
     "output_type": "display_data"
    }
   ],
   "source": [
    "display(rides_go.describe().T, rides_go.info(), rides_go.head())"
   ]
  },
  {
   "cell_type": "code",
   "execution_count": 5,
   "id": "f5458368",
   "metadata": {},
   "outputs": [
    {
     "name": "stdout",
     "output_type": "stream",
     "text": [
      "<class 'pandas.core.frame.DataFrame'>\n",
      "RangeIndex: 2 entries, 0 to 1\n",
      "Data columns (total 4 columns):\n",
      " #   Column             Non-Null Count  Dtype \n",
      "---  ------             --------------  ----- \n",
      " 0   subscription_type  2 non-null      object\n",
      " 1   minute_price       2 non-null      int64 \n",
      " 2   start_ride_price   2 non-null      int64 \n",
      " 3   subscription_fee   2 non-null      int64 \n",
      "dtypes: int64(3), object(1)\n",
      "memory usage: 192.0+ bytes\n"
     ]
    },
    {
     "data": {
      "text/html": [
       "<div>\n",
       "<style scoped>\n",
       "    .dataframe tbody tr th:only-of-type {\n",
       "        vertical-align: middle;\n",
       "    }\n",
       "\n",
       "    .dataframe tbody tr th {\n",
       "        vertical-align: top;\n",
       "    }\n",
       "\n",
       "    .dataframe thead th {\n",
       "        text-align: right;\n",
       "    }\n",
       "</style>\n",
       "<table border=\"1\" class=\"dataframe\">\n",
       "  <thead>\n",
       "    <tr style=\"text-align: right;\">\n",
       "      <th></th>\n",
       "      <th>count</th>\n",
       "      <th>mean</th>\n",
       "      <th>std</th>\n",
       "      <th>min</th>\n",
       "      <th>25%</th>\n",
       "      <th>50%</th>\n",
       "      <th>75%</th>\n",
       "      <th>max</th>\n",
       "    </tr>\n",
       "  </thead>\n",
       "  <tbody>\n",
       "    <tr>\n",
       "      <th>minute_price</th>\n",
       "      <td>2.0</td>\n",
       "      <td>7.0</td>\n",
       "      <td>1.414214</td>\n",
       "      <td>6.0</td>\n",
       "      <td>6.50</td>\n",
       "      <td>7.0</td>\n",
       "      <td>7.50</td>\n",
       "      <td>8.0</td>\n",
       "    </tr>\n",
       "    <tr>\n",
       "      <th>start_ride_price</th>\n",
       "      <td>2.0</td>\n",
       "      <td>25.0</td>\n",
       "      <td>35.355339</td>\n",
       "      <td>0.0</td>\n",
       "      <td>12.50</td>\n",
       "      <td>25.0</td>\n",
       "      <td>37.50</td>\n",
       "      <td>50.0</td>\n",
       "    </tr>\n",
       "    <tr>\n",
       "      <th>subscription_fee</th>\n",
       "      <td>2.0</td>\n",
       "      <td>99.5</td>\n",
       "      <td>140.714249</td>\n",
       "      <td>0.0</td>\n",
       "      <td>49.75</td>\n",
       "      <td>99.5</td>\n",
       "      <td>149.25</td>\n",
       "      <td>199.0</td>\n",
       "    </tr>\n",
       "  </tbody>\n",
       "</table>\n",
       "</div>"
      ],
      "text/plain": [
       "                  count  mean         std  min    25%   50%     75%    max\n",
       "minute_price        2.0   7.0    1.414214  6.0   6.50   7.0    7.50    8.0\n",
       "start_ride_price    2.0  25.0   35.355339  0.0  12.50  25.0   37.50   50.0\n",
       "subscription_fee    2.0  99.5  140.714249  0.0  49.75  99.5  149.25  199.0"
      ]
     },
     "metadata": {},
     "output_type": "display_data"
    },
    {
     "data": {
      "text/plain": [
       "None"
      ]
     },
     "metadata": {},
     "output_type": "display_data"
    },
    {
     "data": {
      "text/html": [
       "<div>\n",
       "<style scoped>\n",
       "    .dataframe tbody tr th:only-of-type {\n",
       "        vertical-align: middle;\n",
       "    }\n",
       "\n",
       "    .dataframe tbody tr th {\n",
       "        vertical-align: top;\n",
       "    }\n",
       "\n",
       "    .dataframe thead th {\n",
       "        text-align: right;\n",
       "    }\n",
       "</style>\n",
       "<table border=\"1\" class=\"dataframe\">\n",
       "  <thead>\n",
       "    <tr style=\"text-align: right;\">\n",
       "      <th></th>\n",
       "      <th>subscription_type</th>\n",
       "      <th>minute_price</th>\n",
       "      <th>start_ride_price</th>\n",
       "      <th>subscription_fee</th>\n",
       "    </tr>\n",
       "  </thead>\n",
       "  <tbody>\n",
       "    <tr>\n",
       "      <th>0</th>\n",
       "      <td>free</td>\n",
       "      <td>8</td>\n",
       "      <td>50</td>\n",
       "      <td>0</td>\n",
       "    </tr>\n",
       "    <tr>\n",
       "      <th>1</th>\n",
       "      <td>ultra</td>\n",
       "      <td>6</td>\n",
       "      <td>0</td>\n",
       "      <td>199</td>\n",
       "    </tr>\n",
       "  </tbody>\n",
       "</table>\n",
       "</div>"
      ],
      "text/plain": [
       "  subscription_type  minute_price  start_ride_price  subscription_fee\n",
       "0              free             8                50                 0\n",
       "1             ultra             6                 0               199"
      ]
     },
     "metadata": {},
     "output_type": "display_data"
    }
   ],
   "source": [
    "display(subscriptions_go.describe().T, subscriptions_go.info(), subscriptions_go.head())"
   ]
  },
  {
   "cell_type": "markdown",
   "id": "e1375af1",
   "metadata": {},
   "source": [
    "Данные хорошего качества, хорошо структурированы, без пропусков. Из сразу заметного можно отметить лишь то, что даты в датафрейме `rides_go` хранятся как объекты. Займемся предобработкой данных."
   ]
  },
  {
   "cell_type": "markdown",
   "id": "8f4feb57",
   "metadata": {},
   "source": [
    "## Предобработка данных"
   ]
  },
  {
   "cell_type": "markdown",
   "id": "b86e49af",
   "metadata": {},
   "source": [
    "### Изменение типов данных"
   ]
  },
  {
   "cell_type": "code",
   "execution_count": 6,
   "id": "86d19d19",
   "metadata": {},
   "outputs": [
    {
     "name": "stdout",
     "output_type": "stream",
     "text": [
      "<class 'pandas.core.frame.DataFrame'>\n",
      "RangeIndex: 18068 entries, 0 to 18067\n",
      "Data columns (total 4 columns):\n",
      " #   Column    Non-Null Count  Dtype         \n",
      "---  ------    --------------  -----         \n",
      " 0   user_id   18068 non-null  int64         \n",
      " 1   distance  18068 non-null  float64       \n",
      " 2   duration  18068 non-null  float64       \n",
      " 3   date      18068 non-null  datetime64[ns]\n",
      "dtypes: datetime64[ns](1), float64(2), int64(1)\n",
      "memory usage: 564.8 KB\n"
     ]
    }
   ],
   "source": [
    "rides_go.date = pd.to_datetime(rides_go.date)\n",
    "rides_go.info()"
   ]
  },
  {
   "cell_type": "markdown",
   "id": "00fef96c",
   "metadata": {},
   "source": [
    "Имея даты в верном формате `datetime` извлечем месяц отдельно."
   ]
  },
  {
   "cell_type": "code",
   "execution_count": 7,
   "id": "09467797",
   "metadata": {},
   "outputs": [
    {
     "data": {
      "text/html": [
       "<div>\n",
       "<style scoped>\n",
       "    .dataframe tbody tr th:only-of-type {\n",
       "        vertical-align: middle;\n",
       "    }\n",
       "\n",
       "    .dataframe tbody tr th {\n",
       "        vertical-align: top;\n",
       "    }\n",
       "\n",
       "    .dataframe thead th {\n",
       "        text-align: right;\n",
       "    }\n",
       "</style>\n",
       "<table border=\"1\" class=\"dataframe\">\n",
       "  <thead>\n",
       "    <tr style=\"text-align: right;\">\n",
       "      <th></th>\n",
       "      <th>user_id</th>\n",
       "      <th>distance</th>\n",
       "      <th>duration</th>\n",
       "      <th>date</th>\n",
       "      <th>month</th>\n",
       "    </tr>\n",
       "  </thead>\n",
       "  <tbody>\n",
       "    <tr>\n",
       "      <th>0</th>\n",
       "      <td>1</td>\n",
       "      <td>4409.919140</td>\n",
       "      <td>25.599769</td>\n",
       "      <td>2021-01-01</td>\n",
       "      <td>1</td>\n",
       "    </tr>\n",
       "    <tr>\n",
       "      <th>1</th>\n",
       "      <td>1</td>\n",
       "      <td>2617.592153</td>\n",
       "      <td>15.816871</td>\n",
       "      <td>2021-01-18</td>\n",
       "      <td>1</td>\n",
       "    </tr>\n",
       "    <tr>\n",
       "      <th>2</th>\n",
       "      <td>1</td>\n",
       "      <td>754.159807</td>\n",
       "      <td>6.232113</td>\n",
       "      <td>2021-04-20</td>\n",
       "      <td>4</td>\n",
       "    </tr>\n",
       "  </tbody>\n",
       "</table>\n",
       "</div>"
      ],
      "text/plain": [
       "   user_id     distance   duration       date  month\n",
       "0        1  4409.919140  25.599769 2021-01-01      1\n",
       "1        1  2617.592153  15.816871 2021-01-18      1\n",
       "2        1   754.159807   6.232113 2021-04-20      4"
      ]
     },
     "execution_count": 7,
     "metadata": {},
     "output_type": "execute_result"
    }
   ],
   "source": [
    "rides_go['month'] = rides_go.date.dt.month\n",
    "rides_go.head(3)"
   ]
  },
  {
   "cell_type": "markdown",
   "id": "2b2edd6d",
   "metadata": {},
   "source": [
    "Заодно можно проверить данные за какой период нам предоставлены:"
   ]
  },
  {
   "cell_type": "code",
   "execution_count": 8,
   "id": "74d0e71f",
   "metadata": {},
   "outputs": [
    {
     "name": "stdout",
     "output_type": "stream",
     "text": [
      "Самая ранняя запись: 2021-01-01 00:00:00\n",
      "Самая поздняя запись: 2021-12-30 00:00:00\n"
     ]
    }
   ],
   "source": [
    "print('Самая ранняя запись:', rides_go.date.min())\n",
    "print('Самая поздняя запись:',rides_go.date.max())"
   ]
  },
  {
   "cell_type": "markdown",
   "id": "69092393",
   "metadata": {},
   "source": [
    "В нашем распоряжении данные за 2021 год."
   ]
  },
  {
   "cell_type": "markdown",
   "id": "28f58c83",
   "metadata": {},
   "source": [
    "### Обработка дубликатов и пропусков"
   ]
  },
  {
   "cell_type": "markdown",
   "id": "86c493f5",
   "metadata": {},
   "source": [
    "Теперь изучим датафреймы на предмет дубликатов и пропусков."
   ]
  },
  {
   "cell_type": "code",
   "execution_count": 9,
   "id": "c44cb026",
   "metadata": {},
   "outputs": [
    {
     "name": "stdout",
     "output_type": "stream",
     "text": [
      "Количество пропусков в датафрейме users_go: 0\n",
      "Количество пропусков в датафрейме rides_go: 0\n",
      "Количество пропусков в датафрейме subscriptions_go: 0\n"
     ]
    }
   ],
   "source": [
    "print('Количество пропусков в датафрейме users_go:', users_go.isna().sum().sum())\n",
    "print('Количество пропусков в датафрейме rides_go:', rides_go.isna().sum().sum())\n",
    "print('Количество пропусков в датафрейме subscriptions_go:', subscriptions_go.isna().sum().sum())"
   ]
  },
  {
   "cell_type": "markdown",
   "id": "8bf958e6",
   "metadata": {},
   "source": [
    "Проблем нет."
   ]
  },
  {
   "cell_type": "code",
   "execution_count": 10,
   "id": "1dfc4841",
   "metadata": {},
   "outputs": [
    {
     "name": "stdout",
     "output_type": "stream",
     "text": [
      "Количество явных дубликатов в датафрейме users_go: 31\n",
      "Количество явных дубликатов в датафрейме rides_go: 0\n",
      "Количество явных дубликатов в датафрейме subscriptions_go: 0\n"
     ]
    }
   ],
   "source": [
    "print('Количество явных дубликатов в датафрейме users_go:', users_go.duplicated().sum())\n",
    "print('Количество явных дубликатов в датафрейме rides_go:', rides_go.duplicated().sum())\n",
    "print('Количество явных дубликатов в датафрейме subscriptions_go:', subscriptions_go.duplicated().sum())"
   ]
  },
  {
   "cell_type": "markdown",
   "id": "fa5fbbac",
   "metadata": {},
   "source": [
    "Дубликаты явные и полные, избавимся от них."
   ]
  },
  {
   "cell_type": "code",
   "execution_count": 11,
   "id": "a1b64928",
   "metadata": {},
   "outputs": [],
   "source": [
    "users_go = users_go.drop_duplicates()"
   ]
  },
  {
   "cell_type": "markdown",
   "id": "ad0e82dd",
   "metadata": {},
   "source": [
    "На этом этап предобработки закончен. Как было сказано раннее - имеющиеся данные высокого качества, хорошо структурированные, не содержащие пропусков и пригодные для последующей работы. Единственное что требовало внимания и исправления - неверный формат хранения дат и незначительное количество дубликатов."
   ]
  },
  {
   "cell_type": "markdown",
   "id": "8692cd5f",
   "metadata": {},
   "source": [
    "## Исследовательский анализ даных"
   ]
  },
  {
   "cell_type": "markdown",
   "id": "16a97e6b",
   "metadata": {},
   "source": [
    "Изучим некоторые параметры подробнее."
   ]
  },
  {
   "cell_type": "markdown",
   "id": "b97aaf36",
   "metadata": {},
   "source": [
    "### Частота встречаемости городов"
   ]
  },
  {
   "cell_type": "markdown",
   "id": "449e377d",
   "metadata": {},
   "source": [
    "Начнем с частоты встречаемости городов, участвующих в исследовании:"
   ]
  },
  {
   "cell_type": "code",
   "execution_count": 12,
   "id": "c775780a",
   "metadata": {},
   "outputs": [
    {
     "data": {
      "image/png": "[encoded data removed]",
      "text/plain": [
       "<Figure size 432x288 with 1 Axes>"
      ]
     },
     "metadata": {},
     "output_type": "display_data"
    }
   ],
   "source": [
    "ax = users_go.city.value_counts().sort_values().plot.barh()\n",
    "plt.title('Частота встречаемости городов');\n",
    "plt.xlabel('Появлений, шт.');"
   ]
  },
  {
   "cell_type": "code",
   "execution_count": 13,
   "id": "fe9629eb",
   "metadata": {},
   "outputs": [
    {
     "data": {
      "text/plain": [
       "Пятигорск         219\n",
       "Екатеринбург      204\n",
       "Ростов-на-Дону    198\n",
       "Краснодар         193\n",
       "Сочи              189\n",
       "Омск              183\n",
       "Тюмень            180\n",
       "Москва            168\n",
       "Name: city, dtype: int64"
      ]
     },
     "execution_count": 13,
     "metadata": {},
     "output_type": "execute_result"
    }
   ],
   "source": [
    "users_go.city.value_counts()"
   ]
  },
  {
   "cell_type": "markdown",
   "id": "0470b27a",
   "metadata": {},
   "source": [
    "Любопытно, что сервис пользуется большей популярностью в регионах, чем в столице."
   ]
  },
  {
   "cell_type": "markdown",
   "id": "9923d436",
   "metadata": {},
   "source": [
    "### Отношение пользователей с подпиской ко всем пользователям"
   ]
  },
  {
   "cell_type": "code",
   "execution_count": 14,
   "id": "35fab8c1",
   "metadata": {},
   "outputs": [
    {
     "data": {
      "image/png": "[encoded data removed]",
      "text/plain": [
       "<Figure size 432x288 with 1 Axes>"
      ]
     },
     "metadata": {},
     "output_type": "display_data"
    }
   ],
   "source": [
    "ax = users_go.subscription_type.value_counts().plot(kind='pie', autopct=\"%.1f%%\", \n",
    "                                                    title='Тип подписки пользователей',\n",
    "                                                    ylabel='', legend=True)"
   ]
  },
  {
   "cell_type": "markdown",
   "id": "bf4f10ba",
   "metadata": {},
   "source": [
    "Больше чем у 45% всех пользователей есть платная подписка - очень впечатляющий результат."
   ]
  },
  {
   "cell_type": "markdown",
   "id": "6b02f0e5",
   "metadata": {},
   "source": [
    "### Возраст пользователей"
   ]
  },
  {
   "cell_type": "code",
   "execution_count": 15,
   "id": "f95717aa",
   "metadata": {},
   "outputs": [
    {
     "data": {
      "image/png": "[encoded data removed]",
      "text/plain": [
       "<Figure size 432x288 with 1 Axes>"
      ]
     },
     "metadata": {},
     "output_type": "display_data"
    }
   ],
   "source": [
    "ax = users_go.age.hist(bins=30);\n",
    "plt.title('Распределение возрастов пользователей');\n",
    "plt.xlabel('Возраст, лет');\n",
    "plt.ylabel('Появлений, шт.');"
   ]
  },
  {
   "cell_type": "code",
   "execution_count": 16,
   "id": "30fd89cb",
   "metadata": {},
   "outputs": [
    {
     "data": {
      "text/plain": [
       "count    1534.000000\n",
       "mean       24.903520\n",
       "std         4.572367\n",
       "min        12.000000\n",
       "25%        22.000000\n",
       "50%        25.000000\n",
       "75%        28.000000\n",
       "max        43.000000\n",
       "Name: age, dtype: float64"
      ]
     },
     "execution_count": 16,
     "metadata": {},
     "output_type": "execute_result"
    }
   ],
   "source": [
    "users_go.age.describe()"
   ]
  },
  {
   "cell_type": "markdown",
   "id": "48b7cbe4",
   "metadata": {},
   "source": [
    "Распределение похоже на нормальное, основная ЦА сервиса - молодые люди до 30 лет, что ожидаемо. Средний возраст пользователя - ~25 лет. Минимальный - 12, максимальный - 43."
   ]
  },
  {
   "cell_type": "markdown",
   "id": "67c1ead9",
   "metadata": {},
   "source": [
    "### Расстояние поездок"
   ]
  },
  {
   "cell_type": "code",
   "execution_count": 17,
   "id": "372377d2",
   "metadata": {},
   "outputs": [
    {
     "data": {
      "image/png": "[encoded data removed]",
      "text/plain": [
       "<Figure size 432x288 with 1 Axes>"
      ]
     },
     "metadata": {},
     "output_type": "display_data"
    }
   ],
   "source": [
    "ax = rides_go.distance.hist(bins=50);\n",
    "plt.title('Распределение расстояний поездок');\n",
    "plt.xlabel('Расстояние, м.');\n",
    "plt.ylabel('Появлений, шт.');"
   ]
  },
  {
   "cell_type": "markdown",
   "id": "cf37ef00",
   "metadata": {},
   "source": [
    "Распределение бимодально, пики более подробно будет рассмотрены ниже."
   ]
  },
  {
   "cell_type": "markdown",
   "id": "ca2215c3",
   "metadata": {},
   "source": [
    "### Продолжительность поездок"
   ]
  },
  {
   "cell_type": "code",
   "execution_count": 18,
   "id": "83a39dd2",
   "metadata": {},
   "outputs": [
    {
     "data": {
      "image/png": "[encoded data removed]",
      "text/plain": [
       "<Figure size 432x288 with 1 Axes>"
      ]
     },
     "metadata": {},
     "output_type": "display_data"
    }
   ],
   "source": [
    "rides_go.duration.hist(bins=50);\n",
    "plt.title('Распределение продолжительности поездок');\n",
    "plt.xlabel('Продолжительность, мин.');\n",
    "plt.ylabel('Появлений, шт.');"
   ]
  },
  {
   "cell_type": "markdown",
   "id": "3d70d0c1",
   "metadata": {},
   "source": [
    "Распределение ближе к нормальному, чем распределение расстояний. Заметен странный пик - ну очень непродолжительные поездки. Рассмотрим их подробнее."
   ]
  },
  {
   "cell_type": "code",
   "execution_count": 19,
   "id": "8a7fae52",
   "metadata": {},
   "outputs": [
    {
     "data": {
      "text/html": [
       "<div>\n",
       "<style scoped>\n",
       "    .dataframe tbody tr th:only-of-type {\n",
       "        vertical-align: middle;\n",
       "    }\n",
       "\n",
       "    .dataframe tbody tr th {\n",
       "        vertical-align: top;\n",
       "    }\n",
       "\n",
       "    .dataframe thead th {\n",
       "        text-align: right;\n",
       "    }\n",
       "</style>\n",
       "<table border=\"1\" class=\"dataframe\">\n",
       "  <thead>\n",
       "    <tr style=\"text-align: right;\">\n",
       "      <th></th>\n",
       "      <th>user_id</th>\n",
       "      <th>distance</th>\n",
       "      <th>duration</th>\n",
       "      <th>date</th>\n",
       "      <th>month</th>\n",
       "    </tr>\n",
       "  </thead>\n",
       "  <tbody>\n",
       "    <tr>\n",
       "      <th>6531</th>\n",
       "      <td>701</td>\n",
       "      <td>4196.445201</td>\n",
       "      <td>0.5</td>\n",
       "      <td>2021-08-31</td>\n",
       "      <td>8</td>\n",
       "    </tr>\n",
       "    <tr>\n",
       "      <th>6570</th>\n",
       "      <td>704</td>\n",
       "      <td>4830.824371</td>\n",
       "      <td>0.5</td>\n",
       "      <td>2021-10-14</td>\n",
       "      <td>10</td>\n",
       "    </tr>\n",
       "    <tr>\n",
       "      <th>6680</th>\n",
       "      <td>712</td>\n",
       "      <td>4684.004397</td>\n",
       "      <td>0.5</td>\n",
       "      <td>2021-03-04</td>\n",
       "      <td>3</td>\n",
       "    </tr>\n",
       "    <tr>\n",
       "      <th>6695</th>\n",
       "      <td>713</td>\n",
       "      <td>5215.642710</td>\n",
       "      <td>0.5</td>\n",
       "      <td>2021-02-25</td>\n",
       "      <td>2</td>\n",
       "    </tr>\n",
       "    <tr>\n",
       "      <th>6768</th>\n",
       "      <td>718</td>\n",
       "      <td>5197.436649</td>\n",
       "      <td>0.5</td>\n",
       "      <td>2021-02-11</td>\n",
       "      <td>2</td>\n",
       "    </tr>\n",
       "    <tr>\n",
       "      <th>...</th>\n",
       "      <td>...</td>\n",
       "      <td>...</td>\n",
       "      <td>...</td>\n",
       "      <td>...</td>\n",
       "      <td>...</td>\n",
       "    </tr>\n",
       "    <tr>\n",
       "      <th>17004</th>\n",
       "      <td>1460</td>\n",
       "      <td>5531.335845</td>\n",
       "      <td>0.5</td>\n",
       "      <td>2021-01-19</td>\n",
       "      <td>1</td>\n",
       "    </tr>\n",
       "    <tr>\n",
       "      <th>17242</th>\n",
       "      <td>1477</td>\n",
       "      <td>6724.932981</td>\n",
       "      <td>0.5</td>\n",
       "      <td>2021-01-12</td>\n",
       "      <td>1</td>\n",
       "    </tr>\n",
       "    <tr>\n",
       "      <th>17314</th>\n",
       "      <td>1483</td>\n",
       "      <td>4445.481070</td>\n",
       "      <td>0.5</td>\n",
       "      <td>2021-03-06</td>\n",
       "      <td>3</td>\n",
       "    </tr>\n",
       "    <tr>\n",
       "      <th>17505</th>\n",
       "      <td>1496</td>\n",
       "      <td>5722.551787</td>\n",
       "      <td>0.5</td>\n",
       "      <td>2021-02-14</td>\n",
       "      <td>2</td>\n",
       "    </tr>\n",
       "    <tr>\n",
       "      <th>17909</th>\n",
       "      <td>1524</td>\n",
       "      <td>4103.998874</td>\n",
       "      <td>0.5</td>\n",
       "      <td>2021-06-18</td>\n",
       "      <td>6</td>\n",
       "    </tr>\n",
       "  </tbody>\n",
       "</table>\n",
       "<p>95 rows × 5 columns</p>\n",
       "</div>"
      ],
      "text/plain": [
       "       user_id     distance  duration       date  month\n",
       "6531       701  4196.445201       0.5 2021-08-31      8\n",
       "6570       704  4830.824371       0.5 2021-10-14     10\n",
       "6680       712  4684.004397       0.5 2021-03-04      3\n",
       "6695       713  5215.642710       0.5 2021-02-25      2\n",
       "6768       718  5197.436649       0.5 2021-02-11      2\n",
       "...        ...          ...       ...        ...    ...\n",
       "17004     1460  5531.335845       0.5 2021-01-19      1\n",
       "17242     1477  6724.932981       0.5 2021-01-12      1\n",
       "17314     1483  4445.481070       0.5 2021-03-06      3\n",
       "17505     1496  5722.551787       0.5 2021-02-14      2\n",
       "17909     1524  4103.998874       0.5 2021-06-18      6\n",
       "\n",
       "[95 rows x 5 columns]"
      ]
     },
     "execution_count": 19,
     "metadata": {},
     "output_type": "execute_result"
    }
   ],
   "source": [
    "rides_go.query('duration<2')"
   ]
  },
  {
   "cell_type": "markdown",
   "id": "efe0fd80",
   "metadata": {},
   "source": [
    "Здесь что-то неладно. Проверим сабсет на уникальные значения."
   ]
  },
  {
   "cell_type": "code",
   "execution_count": 20,
   "id": "e2d12ba6",
   "metadata": {},
   "outputs": [
    {
     "data": {
      "text/plain": [
       "array([0.5])"
      ]
     },
     "execution_count": 20,
     "metadata": {},
     "output_type": "execute_result"
    }
   ],
   "source": [
    "rides_go.query('duration<2').duration.unique()"
   ]
  },
  {
   "cell_type": "markdown",
   "id": "8de570bf",
   "metadata": {},
   "source": [
    "Удивительно, но все такие поездки имеют продолжительность 30 секунд. Я бы предположил, что это могли быть служебные, тестовые поездки призванные проверить какой-то новый функционал, но поездки имеют разный `user_id`. Вернемся к этому моменту, когда у нас будет объединенный цельный датафрейм"
   ]
  },
  {
   "cell_type": "markdown",
   "id": "9f89cbd9",
   "metadata": {},
   "source": [
    "## Объединение данных"
   ]
  },
  {
   "cell_type": "markdown",
   "id": "7e58bcf3",
   "metadata": {},
   "source": [
    "Образуем один большой датафрейм."
   ]
  },
  {
   "cell_type": "code",
   "execution_count": 21,
   "id": "517027ed",
   "metadata": {},
   "outputs": [],
   "source": [
    "gofast = pd.merge(users_go,\n",
    "                rides_go,\n",
    "                on='user_id',\n",
    "                how='left')\n",
    "gofast = pd.merge(gofast,\n",
    "                subscriptions_go,\n",
    "                on='subscription_type',\n",
    "                how='left')"
   ]
  },
  {
   "cell_type": "code",
   "execution_count": 22,
   "id": "040cc528",
   "metadata": {},
   "outputs": [
    {
     "data": {
      "text/html": [
       "<div>\n",
       "<style scoped>\n",
       "    .dataframe tbody tr th:only-of-type {\n",
       "        vertical-align: middle;\n",
       "    }\n",
       "\n",
       "    .dataframe tbody tr th {\n",
       "        vertical-align: top;\n",
       "    }\n",
       "\n",
       "    .dataframe thead th {\n",
       "        text-align: right;\n",
       "    }\n",
       "</style>\n",
       "<table border=\"1\" class=\"dataframe\">\n",
       "  <thead>\n",
       "    <tr style=\"text-align: right;\">\n",
       "      <th></th>\n",
       "      <th>user_id</th>\n",
       "      <th>name</th>\n",
       "      <th>age</th>\n",
       "      <th>city</th>\n",
       "      <th>subscription_type</th>\n",
       "      <th>distance</th>\n",
       "      <th>duration</th>\n",
       "      <th>date</th>\n",
       "      <th>month</th>\n",
       "      <th>minute_price</th>\n",
       "      <th>start_ride_price</th>\n",
       "      <th>subscription_fee</th>\n",
       "    </tr>\n",
       "  </thead>\n",
       "  <tbody>\n",
       "    <tr>\n",
       "      <th>0</th>\n",
       "      <td>1</td>\n",
       "      <td>Кира</td>\n",
       "      <td>22</td>\n",
       "      <td>Тюмень</td>\n",
       "      <td>ultra</td>\n",
       "      <td>4409.919140</td>\n",
       "      <td>25.599769</td>\n",
       "      <td>2021-01-01</td>\n",
       "      <td>1</td>\n",
       "      <td>6</td>\n",
       "      <td>0</td>\n",
       "      <td>199</td>\n",
       "    </tr>\n",
       "    <tr>\n",
       "      <th>1</th>\n",
       "      <td>1</td>\n",
       "      <td>Кира</td>\n",
       "      <td>22</td>\n",
       "      <td>Тюмень</td>\n",
       "      <td>ultra</td>\n",
       "      <td>2617.592153</td>\n",
       "      <td>15.816871</td>\n",
       "      <td>2021-01-18</td>\n",
       "      <td>1</td>\n",
       "      <td>6</td>\n",
       "      <td>0</td>\n",
       "      <td>199</td>\n",
       "    </tr>\n",
       "    <tr>\n",
       "      <th>2</th>\n",
       "      <td>1</td>\n",
       "      <td>Кира</td>\n",
       "      <td>22</td>\n",
       "      <td>Тюмень</td>\n",
       "      <td>ultra</td>\n",
       "      <td>754.159807</td>\n",
       "      <td>6.232113</td>\n",
       "      <td>2021-04-20</td>\n",
       "      <td>4</td>\n",
       "      <td>6</td>\n",
       "      <td>0</td>\n",
       "      <td>199</td>\n",
       "    </tr>\n",
       "    <tr>\n",
       "      <th>3</th>\n",
       "      <td>1</td>\n",
       "      <td>Кира</td>\n",
       "      <td>22</td>\n",
       "      <td>Тюмень</td>\n",
       "      <td>ultra</td>\n",
       "      <td>2694.783254</td>\n",
       "      <td>18.511000</td>\n",
       "      <td>2021-08-11</td>\n",
       "      <td>8</td>\n",
       "      <td>6</td>\n",
       "      <td>0</td>\n",
       "      <td>199</td>\n",
       "    </tr>\n",
       "    <tr>\n",
       "      <th>4</th>\n",
       "      <td>1</td>\n",
       "      <td>Кира</td>\n",
       "      <td>22</td>\n",
       "      <td>Тюмень</td>\n",
       "      <td>ultra</td>\n",
       "      <td>4028.687306</td>\n",
       "      <td>26.265803</td>\n",
       "      <td>2021-08-28</td>\n",
       "      <td>8</td>\n",
       "      <td>6</td>\n",
       "      <td>0</td>\n",
       "      <td>199</td>\n",
       "    </tr>\n",
       "  </tbody>\n",
       "</table>\n",
       "</div>"
      ],
      "text/plain": [
       "   user_id  name  age    city subscription_type     distance   duration  \\\n",
       "0        1  Кира   22  Тюмень             ultra  4409.919140  25.599769   \n",
       "1        1  Кира   22  Тюмень             ultra  2617.592153  15.816871   \n",
       "2        1  Кира   22  Тюмень             ultra   754.159807   6.232113   \n",
       "3        1  Кира   22  Тюмень             ultra  2694.783254  18.511000   \n",
       "4        1  Кира   22  Тюмень             ultra  4028.687306  26.265803   \n",
       "\n",
       "        date  month  minute_price  start_ride_price  subscription_fee  \n",
       "0 2021-01-01      1             6                 0               199  \n",
       "1 2021-01-18      1             6                 0               199  \n",
       "2 2021-04-20      4             6                 0               199  \n",
       "3 2021-08-11      8             6                 0               199  \n",
       "4 2021-08-28      8             6                 0               199  "
      ]
     },
     "execution_count": 22,
     "metadata": {},
     "output_type": "execute_result"
    }
   ],
   "source": [
    "gofast.head()"
   ]
  },
  {
   "cell_type": "code",
   "execution_count": 23,
   "id": "caaf46c5",
   "metadata": {},
   "outputs": [
    {
     "data": {
      "text/plain": [
       "True"
      ]
     },
     "execution_count": 23,
     "metadata": {},
     "output_type": "execute_result"
    }
   ],
   "source": [
    "gofast.shape[0] == rides_go.shape[0]"
   ]
  },
  {
   "cell_type": "markdown",
   "id": "1ee7e7bf",
   "metadata": {},
   "source": [
    "Ни одна поездка не осталась неучтенной. "
   ]
  },
  {
   "cell_type": "markdown",
   "id": "0e79cb3e",
   "metadata": {},
   "source": [
    "Разделим итоговый датафрейм еще на два - с данными о пользователях с и без подписки для дальнейшего исследования групп.\n"
   ]
  },
  {
   "cell_type": "code",
   "execution_count": 24,
   "id": "f11a8601",
   "metadata": {},
   "outputs": [],
   "source": [
    "gofast_ultra = gofast.query(\"subscription_type == 'ultra'\")\n",
    "gofast_free = gofast.query(\"subscription_type == 'free'\")"
   ]
  },
  {
   "cell_type": "markdown",
   "id": "c3dc2157",
   "metadata": {},
   "source": [
    "Интересно будет посмотреть на разницу расстояний и времени поездок для каждой категории."
   ]
  },
  {
   "cell_type": "code",
   "execution_count": 25,
   "id": "77f5bf1e",
   "metadata": {},
   "outputs": [
    {
     "data": {
      "image/png": "[encoded data removed]",
      "text/plain": [
       "<Figure size 432x288 with 1 Axes>"
      ]
     },
     "metadata": {},
     "output_type": "display_data"
    }
   ],
   "source": [
    "sns.histplot(x=gofast_ultra.duration, color='darkred',alpha=1);\n",
    "sns.histplot(x=gofast_free.duration, color='green', alpha=0.3);\n",
    "plt.title('Сравнение продолжительности поездок пользователей с подпиской и без');\n",
    "plt.xlabel('Время поездки, мин.');\n",
    "plt.ylabel('Появлений, шт.');\n",
    "plt.legend(labels=['ultra','free']);"
   ]
  },
  {
   "cell_type": "markdown",
   "id": "a4cfa62d",
   "metadata": {},
   "source": [
    "Распределения очень похожи. Перекос в более долгие поездки у пользователей с платной подпиской (>35 мин.) почти незаметен, точно как и перекос в короткие поездки (<5 мин.). Интересен пик в районе поездок продолжительностью ~1 мин. у пользователей без подписки. Возможно, это первые опыты людей с сервисом - люди пытаются разобраться, как работает система."
   ]
  },
  {
   "cell_type": "code",
   "execution_count": 26,
   "id": "07ed23ca",
   "metadata": {},
   "outputs": [
    {
     "data": {
      "image/png": "[encoded data removed]",
      "text/plain": [
       "<Figure size 432x288 with 1 Axes>"
      ]
     },
     "metadata": {},
     "output_type": "display_data"
    }
   ],
   "source": [
    "sns.histplot(x=gofast_ultra.distance, color='darkred',alpha=1);\n",
    "sns.histplot(x=gofast_free.distance, color='green', alpha=0.3);\n",
    "plt.title('Сравнение расстояний поездок пользователей с подпиской и без');\n",
    "plt.xlabel('Расстояние поездки, м.');\n",
    "plt.ylabel('Появлений, шт.');\n",
    "plt.legend(labels=['ultra','free']);"
   ]
  },
  {
   "cell_type": "markdown",
   "id": "1833c264",
   "metadata": {},
   "source": [
    "В распределениях расстояния поездок тоже есть сходство. Оба мультимодальны. Пользователи без подписки более склонны как и к очень коротким, так и к наиболее длинным поездкам. Любопытен провал в районе 1.5 км у обоих групп пользователей.\n",
    "Мне кажется два пика можно объяснить таким образом: пик в районе ~1км. - непродолжительные развлекательные поездки в одной местности - вокрук водоема, по определенному парку и подобное. Более продолжительный пик: поездки, направленные либо на достижение определенной точки в городе (с утилитарной целью), или же наоборот - продолжительные поездки по нескольким районам города для ознакомления/перепосещения достопримечательностей. Такое может пользоваться большим спросом у впервые посещающих город. Для проверки такой теории пригодились бы данные о местоположении точек аренды самокатов."
   ]
  },
  {
   "cell_type": "markdown",
   "id": "3f0cff21",
   "metadata": {},
   "source": [
    "### Аномалия 30 секунд"
   ]
  },
  {
   "cell_type": "markdown",
   "id": "1feb2a54",
   "metadata": {},
   "source": [
    "Имея на руках цельный объединенный датафрейм, вернемся к обнаруженной ранее аномалии."
   ]
  },
  {
   "cell_type": "code",
   "execution_count": 27,
   "id": "5c1f9d91",
   "metadata": {},
   "outputs": [
    {
     "data": {
      "text/html": [
       "<div>\n",
       "<style scoped>\n",
       "    .dataframe tbody tr th:only-of-type {\n",
       "        vertical-align: middle;\n",
       "    }\n",
       "\n",
       "    .dataframe tbody tr th {\n",
       "        vertical-align: top;\n",
       "    }\n",
       "\n",
       "    .dataframe thead th {\n",
       "        text-align: right;\n",
       "    }\n",
       "</style>\n",
       "<table border=\"1\" class=\"dataframe\">\n",
       "  <thead>\n",
       "    <tr style=\"text-align: right;\">\n",
       "      <th></th>\n",
       "      <th>user_id</th>\n",
       "      <th>name</th>\n",
       "      <th>age</th>\n",
       "      <th>city</th>\n",
       "      <th>subscription_type</th>\n",
       "      <th>distance</th>\n",
       "      <th>duration</th>\n",
       "      <th>date</th>\n",
       "      <th>month</th>\n",
       "      <th>minute_price</th>\n",
       "      <th>start_ride_price</th>\n",
       "      <th>subscription_fee</th>\n",
       "    </tr>\n",
       "  </thead>\n",
       "  <tbody>\n",
       "    <tr>\n",
       "      <th>6531</th>\n",
       "      <td>701</td>\n",
       "      <td>Иван</td>\n",
       "      <td>31</td>\n",
       "      <td>Екатеринбург</td>\n",
       "      <td>free</td>\n",
       "      <td>4196.445201</td>\n",
       "      <td>0.5</td>\n",
       "      <td>2021-08-31</td>\n",
       "      <td>8</td>\n",
       "      <td>8</td>\n",
       "      <td>50</td>\n",
       "      <td>0</td>\n",
       "    </tr>\n",
       "    <tr>\n",
       "      <th>6570</th>\n",
       "      <td>704</td>\n",
       "      <td>Мирон</td>\n",
       "      <td>29</td>\n",
       "      <td>Ростов-на-Дону</td>\n",
       "      <td>free</td>\n",
       "      <td>4830.824371</td>\n",
       "      <td>0.5</td>\n",
       "      <td>2021-10-14</td>\n",
       "      <td>10</td>\n",
       "      <td>8</td>\n",
       "      <td>50</td>\n",
       "      <td>0</td>\n",
       "    </tr>\n",
       "    <tr>\n",
       "      <th>6680</th>\n",
       "      <td>712</td>\n",
       "      <td>Дарья</td>\n",
       "      <td>28</td>\n",
       "      <td>Москва</td>\n",
       "      <td>free</td>\n",
       "      <td>4684.004397</td>\n",
       "      <td>0.5</td>\n",
       "      <td>2021-03-04</td>\n",
       "      <td>3</td>\n",
       "      <td>8</td>\n",
       "      <td>50</td>\n",
       "      <td>0</td>\n",
       "    </tr>\n",
       "    <tr>\n",
       "      <th>6695</th>\n",
       "      <td>713</td>\n",
       "      <td>Святослав</td>\n",
       "      <td>30</td>\n",
       "      <td>Краснодар</td>\n",
       "      <td>free</td>\n",
       "      <td>5215.642710</td>\n",
       "      <td>0.5</td>\n",
       "      <td>2021-02-25</td>\n",
       "      <td>2</td>\n",
       "      <td>8</td>\n",
       "      <td>50</td>\n",
       "      <td>0</td>\n",
       "    </tr>\n",
       "    <tr>\n",
       "      <th>6768</th>\n",
       "      <td>718</td>\n",
       "      <td>Владислава</td>\n",
       "      <td>31</td>\n",
       "      <td>Москва</td>\n",
       "      <td>free</td>\n",
       "      <td>5197.436649</td>\n",
       "      <td>0.5</td>\n",
       "      <td>2021-02-11</td>\n",
       "      <td>2</td>\n",
       "      <td>8</td>\n",
       "      <td>50</td>\n",
       "      <td>0</td>\n",
       "    </tr>\n",
       "    <tr>\n",
       "      <th>...</th>\n",
       "      <td>...</td>\n",
       "      <td>...</td>\n",
       "      <td>...</td>\n",
       "      <td>...</td>\n",
       "      <td>...</td>\n",
       "      <td>...</td>\n",
       "      <td>...</td>\n",
       "      <td>...</td>\n",
       "      <td>...</td>\n",
       "      <td>...</td>\n",
       "      <td>...</td>\n",
       "      <td>...</td>\n",
       "    </tr>\n",
       "    <tr>\n",
       "      <th>17004</th>\n",
       "      <td>1460</td>\n",
       "      <td>Жанна</td>\n",
       "      <td>27</td>\n",
       "      <td>Пятигорск</td>\n",
       "      <td>free</td>\n",
       "      <td>5531.335845</td>\n",
       "      <td>0.5</td>\n",
       "      <td>2021-01-19</td>\n",
       "      <td>1</td>\n",
       "      <td>8</td>\n",
       "      <td>50</td>\n",
       "      <td>0</td>\n",
       "    </tr>\n",
       "    <tr>\n",
       "      <th>17242</th>\n",
       "      <td>1477</td>\n",
       "      <td>Ян</td>\n",
       "      <td>17</td>\n",
       "      <td>Сочи</td>\n",
       "      <td>free</td>\n",
       "      <td>6724.932981</td>\n",
       "      <td>0.5</td>\n",
       "      <td>2021-01-12</td>\n",
       "      <td>1</td>\n",
       "      <td>8</td>\n",
       "      <td>50</td>\n",
       "      <td>0</td>\n",
       "    </tr>\n",
       "    <tr>\n",
       "      <th>17314</th>\n",
       "      <td>1483</td>\n",
       "      <td>Роберт</td>\n",
       "      <td>26</td>\n",
       "      <td>Екатеринбург</td>\n",
       "      <td>free</td>\n",
       "      <td>4445.481070</td>\n",
       "      <td>0.5</td>\n",
       "      <td>2021-03-06</td>\n",
       "      <td>3</td>\n",
       "      <td>8</td>\n",
       "      <td>50</td>\n",
       "      <td>0</td>\n",
       "    </tr>\n",
       "    <tr>\n",
       "      <th>17505</th>\n",
       "      <td>1496</td>\n",
       "      <td>Яна</td>\n",
       "      <td>19</td>\n",
       "      <td>Москва</td>\n",
       "      <td>free</td>\n",
       "      <td>5722.551787</td>\n",
       "      <td>0.5</td>\n",
       "      <td>2021-02-14</td>\n",
       "      <td>2</td>\n",
       "      <td>8</td>\n",
       "      <td>50</td>\n",
       "      <td>0</td>\n",
       "    </tr>\n",
       "    <tr>\n",
       "      <th>17909</th>\n",
       "      <td>1524</td>\n",
       "      <td>Матвей</td>\n",
       "      <td>32</td>\n",
       "      <td>Москва</td>\n",
       "      <td>free</td>\n",
       "      <td>4103.998874</td>\n",
       "      <td>0.5</td>\n",
       "      <td>2021-06-18</td>\n",
       "      <td>6</td>\n",
       "      <td>8</td>\n",
       "      <td>50</td>\n",
       "      <td>0</td>\n",
       "    </tr>\n",
       "  </tbody>\n",
       "</table>\n",
       "<p>95 rows × 12 columns</p>\n",
       "</div>"
      ],
      "text/plain": [
       "       user_id        name  age            city subscription_type  \\\n",
       "6531       701        Иван   31    Екатеринбург              free   \n",
       "6570       704       Мирон   29  Ростов-на-Дону              free   \n",
       "6680       712       Дарья   28          Москва              free   \n",
       "6695       713   Святослав   30       Краснодар              free   \n",
       "6768       718  Владислава   31          Москва              free   \n",
       "...        ...         ...  ...             ...               ...   \n",
       "17004     1460       Жанна   27       Пятигорск              free   \n",
       "17242     1477          Ян   17            Сочи              free   \n",
       "17314     1483      Роберт   26    Екатеринбург              free   \n",
       "17505     1496         Яна   19          Москва              free   \n",
       "17909     1524      Матвей   32          Москва              free   \n",
       "\n",
       "          distance  duration       date  month  minute_price  \\\n",
       "6531   4196.445201       0.5 2021-08-31      8             8   \n",
       "6570   4830.824371       0.5 2021-10-14     10             8   \n",
       "6680   4684.004397       0.5 2021-03-04      3             8   \n",
       "6695   5215.642710       0.5 2021-02-25      2             8   \n",
       "6768   5197.436649       0.5 2021-02-11      2             8   \n",
       "...            ...       ...        ...    ...           ...   \n",
       "17004  5531.335845       0.5 2021-01-19      1             8   \n",
       "17242  6724.932981       0.5 2021-01-12      1             8   \n",
       "17314  4445.481070       0.5 2021-03-06      3             8   \n",
       "17505  5722.551787       0.5 2021-02-14      2             8   \n",
       "17909  4103.998874       0.5 2021-06-18      6             8   \n",
       "\n",
       "       start_ride_price  subscription_fee  \n",
       "6531                 50                 0  \n",
       "6570                 50                 0  \n",
       "6680                 50                 0  \n",
       "6695                 50                 0  \n",
       "6768                 50                 0  \n",
       "...                 ...               ...  \n",
       "17004                50                 0  \n",
       "17242                50                 0  \n",
       "17314                50                 0  \n",
       "17505                50                 0  \n",
       "17909                50                 0  \n",
       "\n",
       "[95 rows x 12 columns]"
      ]
     },
     "metadata": {},
     "output_type": "display_data"
    },
    {
     "data": {
      "text/html": [
       "<div>\n",
       "<style scoped>\n",
       "    .dataframe tbody tr th:only-of-type {\n",
       "        vertical-align: middle;\n",
       "    }\n",
       "\n",
       "    .dataframe tbody tr th {\n",
       "        vertical-align: top;\n",
       "    }\n",
       "\n",
       "    .dataframe thead th {\n",
       "        text-align: right;\n",
       "    }\n",
       "</style>\n",
       "<table border=\"1\" class=\"dataframe\">\n",
       "  <thead>\n",
       "    <tr style=\"text-align: right;\">\n",
       "      <th></th>\n",
       "      <th>user_id</th>\n",
       "      <th>age</th>\n",
       "      <th>distance</th>\n",
       "      <th>duration</th>\n",
       "      <th>month</th>\n",
       "      <th>minute_price</th>\n",
       "      <th>start_ride_price</th>\n",
       "      <th>subscription_fee</th>\n",
       "    </tr>\n",
       "  </thead>\n",
       "  <tbody>\n",
       "    <tr>\n",
       "      <th>count</th>\n",
       "      <td>95.000000</td>\n",
       "      <td>95.000000</td>\n",
       "      <td>95.000000</td>\n",
       "      <td>95.0</td>\n",
       "      <td>95.000000</td>\n",
       "      <td>95.0</td>\n",
       "      <td>95.0</td>\n",
       "      <td>95.0</td>\n",
       "    </tr>\n",
       "    <tr>\n",
       "      <th>mean</th>\n",
       "      <td>1092.210526</td>\n",
       "      <td>25.442105</td>\n",
       "      <td>5113.176549</td>\n",
       "      <td>0.5</td>\n",
       "      <td>6.484211</td>\n",
       "      <td>8.0</td>\n",
       "      <td>50.0</td>\n",
       "      <td>0.0</td>\n",
       "    </tr>\n",
       "    <tr>\n",
       "      <th>std</th>\n",
       "      <td>244.028551</td>\n",
       "      <td>4.350876</td>\n",
       "      <td>658.254104</td>\n",
       "      <td>0.0</td>\n",
       "      <td>3.709858</td>\n",
       "      <td>0.0</td>\n",
       "      <td>0.0</td>\n",
       "      <td>0.0</td>\n",
       "    </tr>\n",
       "    <tr>\n",
       "      <th>min</th>\n",
       "      <td>701.000000</td>\n",
       "      <td>13.000000</td>\n",
       "      <td>4030.308008</td>\n",
       "      <td>0.5</td>\n",
       "      <td>1.000000</td>\n",
       "      <td>8.0</td>\n",
       "      <td>50.0</td>\n",
       "      <td>0.0</td>\n",
       "    </tr>\n",
       "    <tr>\n",
       "      <th>25%</th>\n",
       "      <td>901.000000</td>\n",
       "      <td>22.500000</td>\n",
       "      <td>4611.510820</td>\n",
       "      <td>0.5</td>\n",
       "      <td>3.000000</td>\n",
       "      <td>8.0</td>\n",
       "      <td>50.0</td>\n",
       "      <td>0.0</td>\n",
       "    </tr>\n",
       "    <tr>\n",
       "      <th>50%</th>\n",
       "      <td>1069.000000</td>\n",
       "      <td>25.000000</td>\n",
       "      <td>5052.769411</td>\n",
       "      <td>0.5</td>\n",
       "      <td>6.000000</td>\n",
       "      <td>8.0</td>\n",
       "      <td>50.0</td>\n",
       "      <td>0.0</td>\n",
       "    </tr>\n",
       "    <tr>\n",
       "      <th>75%</th>\n",
       "      <td>1310.500000</td>\n",
       "      <td>29.000000</td>\n",
       "      <td>5488.459099</td>\n",
       "      <td>0.5</td>\n",
       "      <td>10.000000</td>\n",
       "      <td>8.0</td>\n",
       "      <td>50.0</td>\n",
       "      <td>0.0</td>\n",
       "    </tr>\n",
       "    <tr>\n",
       "      <th>max</th>\n",
       "      <td>1524.000000</td>\n",
       "      <td>36.000000</td>\n",
       "      <td>7211.007745</td>\n",
       "      <td>0.5</td>\n",
       "      <td>12.000000</td>\n",
       "      <td>8.0</td>\n",
       "      <td>50.0</td>\n",
       "      <td>0.0</td>\n",
       "    </tr>\n",
       "  </tbody>\n",
       "</table>\n",
       "</div>"
      ],
      "text/plain": [
       "           user_id        age     distance  duration      month  minute_price  \\\n",
       "count    95.000000  95.000000    95.000000      95.0  95.000000          95.0   \n",
       "mean   1092.210526  25.442105  5113.176549       0.5   6.484211           8.0   \n",
       "std     244.028551   4.350876   658.254104       0.0   3.709858           0.0   \n",
       "min     701.000000  13.000000  4030.308008       0.5   1.000000           8.0   \n",
       "25%     901.000000  22.500000  4611.510820       0.5   3.000000           8.0   \n",
       "50%    1069.000000  25.000000  5052.769411       0.5   6.000000           8.0   \n",
       "75%    1310.500000  29.000000  5488.459099       0.5  10.000000           8.0   \n",
       "max    1524.000000  36.000000  7211.007745       0.5  12.000000           8.0   \n",
       "\n",
       "       start_ride_price  subscription_fee  \n",
       "count              95.0              95.0  \n",
       "mean               50.0               0.0  \n",
       "std                 0.0               0.0  \n",
       "min                50.0               0.0  \n",
       "25%                50.0               0.0  \n",
       "50%                50.0               0.0  \n",
       "75%                50.0               0.0  \n",
       "max                50.0               0.0  "
      ]
     },
     "metadata": {},
     "output_type": "display_data"
    }
   ],
   "source": [
    "display(gofast.query('duration<2'), gofast.query('duration<2').describe())"
   ]
  },
  {
   "cell_type": "markdown",
   "id": "3f06bf50",
   "metadata": {},
   "source": [
    "Видно, что все строки объединяет бесплатный тариф и неправдоподобно большие для продолжительности в 30 секунд преодоленные расстояния - от 4 до 7+ км. Учитывая максимум в 7200 м., это значило бы, что самокаты способны разгоняться до 240 м/c, или 864 км/ч, что почти равно скорости пассажирского самолета. Исходя из этого предполагаю, что эти данные ошибочны, и попали в датафрейм по ошибке. Стоит удалить их, чтобы не повредить проверке гипотез."
   ]
  },
  {
   "cell_type": "code",
   "execution_count": 28,
   "id": "5354006e",
   "metadata": {},
   "outputs": [
    {
     "data": {
      "image/png": "[encoded data removed]",
      "text/plain": [
       "<Figure size 432x288 with 1 Axes>"
      ]
     },
     "metadata": {},
     "output_type": "display_data"
    }
   ],
   "source": [
    "gofast = gofast[gofast.duration > 2]\n",
    "gofast.duration.hist(bins=50);\n",
    "plt.title('Распределение продолжительности поездок');\n",
    "plt.xlabel('Продолжительность, мин.');\n",
    "plt.ylabel('Появлений, шт.');"
   ]
  },
  {
   "cell_type": "markdown",
   "id": "a575bc2b",
   "metadata": {},
   "source": [
    "## Подсчет выручки"
   ]
  },
  {
   "cell_type": "markdown",
   "id": "12c1000f",
   "metadata": {},
   "source": [
    "Создадим датафрейм с агрегированными данными о поездках на основе датафрейма с объединёнными данными. В него будут входить суммарное расстояние, количество поездок и суммарное время для каждого пользователя за каждый месяц."
   ]
  },
  {
   "cell_type": "code",
   "execution_count": 29,
   "id": "c1b8f535",
   "metadata": {},
   "outputs": [],
   "source": [
    "#округление времени\n",
    "gofast.duration = np.ceil(gofast.duration)\n",
    "\n",
    "gofast_revenue = gofast.pivot_table(index=['subscription_type', 'user_id', 'month',\n",
    "                                          'minute_price', 'start_ride_price', 'subscription_fee'],\n",
    "                                    values=['distance', 'duration'],\n",
    "                                    aggfunc={'distance' : ['sum', 'count'], 'duration' : 'sum'})\n",
    "gofast_revenue.reset_index(inplace=True)\n",
    "#избавляемся от мультиуровневых индексов\n",
    "gofast_revenue = gofast_revenue.droplevel(1,axis=1)\n",
    "#избавляемся от одинаковых названий и вносим ясность\n",
    "gofast_revenue.columns = ['subscription_type', 'user_id', 'month', 'minute_price', \n",
    "                          'start_ride_price', 'subscription_fee','overall_trips',\n",
    "                          'overall_distance', 'overall_duration_min']"
   ]
  },
  {
   "cell_type": "markdown",
   "id": "4f4ee823",
   "metadata": {},
   "source": [
    "Рассчитаем выручку за каждого пользователя за каждый месяц:"
   ]
  },
  {
   "cell_type": "code",
   "execution_count": 30,
   "id": "286a8e31",
   "metadata": {},
   "outputs": [],
   "source": [
    "gofast_revenue['revenue_rub'] = (gofast_revenue.start_ride_price * gofast_revenue.overall_trips) + (gofast_revenue.minute_price * gofast_revenue.overall_duration_min) + gofast_revenue.subscription_fee"
   ]
  },
  {
   "cell_type": "code",
   "execution_count": 31,
   "id": "7f70ffcc",
   "metadata": {},
   "outputs": [
    {
     "data": {
      "text/html": [
       "<div>\n",
       "<style scoped>\n",
       "    .dataframe tbody tr th:only-of-type {\n",
       "        vertical-align: middle;\n",
       "    }\n",
       "\n",
       "    .dataframe tbody tr th {\n",
       "        vertical-align: top;\n",
       "    }\n",
       "\n",
       "    .dataframe thead th {\n",
       "        text-align: right;\n",
       "    }\n",
       "</style>\n",
       "<table border=\"1\" class=\"dataframe\">\n",
       "  <thead>\n",
       "    <tr style=\"text-align: right;\">\n",
       "      <th></th>\n",
       "      <th>subscription_type</th>\n",
       "      <th>user_id</th>\n",
       "      <th>month</th>\n",
       "      <th>minute_price</th>\n",
       "      <th>start_ride_price</th>\n",
       "      <th>subscription_fee</th>\n",
       "      <th>overall_trips</th>\n",
       "      <th>overall_distance</th>\n",
       "      <th>overall_duration_min</th>\n",
       "      <th>revenue_rub</th>\n",
       "    </tr>\n",
       "  </thead>\n",
       "  <tbody>\n",
       "    <tr>\n",
       "      <th>0</th>\n",
       "      <td>free</td>\n",
       "      <td>700</td>\n",
       "      <td>1</td>\n",
       "      <td>8</td>\n",
       "      <td>50</td>\n",
       "      <td>0</td>\n",
       "      <td>1</td>\n",
       "      <td>2515.690719</td>\n",
       "      <td>15.0</td>\n",
       "      <td>170.0</td>\n",
       "    </tr>\n",
       "    <tr>\n",
       "      <th>1</th>\n",
       "      <td>free</td>\n",
       "      <td>700</td>\n",
       "      <td>2</td>\n",
       "      <td>8</td>\n",
       "      <td>50</td>\n",
       "      <td>0</td>\n",
       "      <td>5</td>\n",
       "      <td>13446.659764</td>\n",
       "      <td>89.0</td>\n",
       "      <td>962.0</td>\n",
       "    </tr>\n",
       "    <tr>\n",
       "      <th>2</th>\n",
       "      <td>free</td>\n",
       "      <td>700</td>\n",
       "      <td>3</td>\n",
       "      <td>8</td>\n",
       "      <td>50</td>\n",
       "      <td>0</td>\n",
       "      <td>1</td>\n",
       "      <td>3798.334905</td>\n",
       "      <td>19.0</td>\n",
       "      <td>202.0</td>\n",
       "    </tr>\n",
       "    <tr>\n",
       "      <th>3</th>\n",
       "      <td>free</td>\n",
       "      <td>700</td>\n",
       "      <td>4</td>\n",
       "      <td>8</td>\n",
       "      <td>50</td>\n",
       "      <td>0</td>\n",
       "      <td>1</td>\n",
       "      <td>2984.551206</td>\n",
       "      <td>16.0</td>\n",
       "      <td>178.0</td>\n",
       "    </tr>\n",
       "    <tr>\n",
       "      <th>4</th>\n",
       "      <td>free</td>\n",
       "      <td>700</td>\n",
       "      <td>6</td>\n",
       "      <td>8</td>\n",
       "      <td>50</td>\n",
       "      <td>0</td>\n",
       "      <td>2</td>\n",
       "      <td>5927.650988</td>\n",
       "      <td>29.0</td>\n",
       "      <td>332.0</td>\n",
       "    </tr>\n",
       "  </tbody>\n",
       "</table>\n",
       "</div>"
      ],
      "text/plain": [
       "  subscription_type  user_id  month  minute_price  start_ride_price  \\\n",
       "0              free      700      1             8                50   \n",
       "1              free      700      2             8                50   \n",
       "2              free      700      3             8                50   \n",
       "3              free      700      4             8                50   \n",
       "4              free      700      6             8                50   \n",
       "\n",
       "   subscription_fee  overall_trips  overall_distance  overall_duration_min  \\\n",
       "0                 0              1       2515.690719                  15.0   \n",
       "1                 0              5      13446.659764                  89.0   \n",
       "2                 0              1       3798.334905                  19.0   \n",
       "3                 0              1       2984.551206                  16.0   \n",
       "4                 0              2       5927.650988                  29.0   \n",
       "\n",
       "   revenue_rub  \n",
       "0        170.0  \n",
       "1        962.0  \n",
       "2        202.0  \n",
       "3        178.0  \n",
       "4        332.0  "
      ]
     },
     "execution_count": 31,
     "metadata": {},
     "output_type": "execute_result"
    }
   ],
   "source": [
    "gofast_revenue.head()"
   ]
  },
  {
   "cell_type": "markdown",
   "id": "2a1ba9cb",
   "metadata": {},
   "source": [
    "## Проверка гипотез"
   ]
  },
  {
   "cell_type": "markdown",
   "id": "02292162",
   "metadata": {},
   "source": [
    "Заказчик требует проверить три гипотезы."
   ]
  },
  {
   "cell_type": "markdown",
   "id": "7444ff12",
   "metadata": {},
   "source": [
    "### 1. Тратят ли пользователи с подпиской больше времени на поездки?"
   ]
  },
  {
   "cell_type": "markdown",
   "id": "c82ab3ad",
   "metadata": {},
   "source": [
    "* $H_0$ - пользователи с подпиской тратят столько же времени на поездки.\n",
    "* $H_1$ - пользователи с подпиской тратят больше времени на поездки."
   ]
  },
  {
   "cell_type": "code",
   "execution_count": 32,
   "id": "e31c995d",
   "metadata": {},
   "outputs": [
    {
     "name": "stdout",
     "output_type": "stream",
     "text": [
      "p-value: 1.2804098316645618e-34\n",
      "Отвергаем нулевую гипотезу\n"
     ]
    }
   ],
   "source": [
    "alpha = 0.05\n",
    "results = st.ttest_ind(gofast_ultra.duration, gofast_free.duration, alternative='greater')\n",
    "print(f'p-value: {results.pvalue}')\n",
    "if results.pvalue < alpha:\n",
    "    print('Отвергаем нулевую гипотезу')\n",
    "else:\n",
    "    print('Нет оснований отвергнуть нулевую гипотезу')"
   ]
  },
  {
   "cell_type": "markdown",
   "id": "ca7f5184",
   "metadata": {},
   "source": [
    "Пользователи с подпиской тратят больше времени на поездки - ведь длинные поездки для них более выгодны. Можно в этом убедиться, сравнив средние:"
   ]
  },
  {
   "cell_type": "code",
   "execution_count": 33,
   "id": "2af0ae40",
   "metadata": {},
   "outputs": [
    {
     "name": "stdout",
     "output_type": "stream",
     "text": [
      "Средняя продолжительность поездки пользователя с подпиской: 18.54 мин.\n",
      "Средняя продолжительность поездки пользователя без подписки: 17.39 мин.\n"
     ]
    }
   ],
   "source": [
    "print(f'Средняя продолжительность поездки пользователя с подпиской: {round(gofast_ultra.duration.mean(),2)} мин.')\n",
    "print(f'Средняя продолжительность поездки пользователя без подписки: {round(gofast_free.duration.mean(),2)} мин.') "
   ]
  },
  {
   "cell_type": "markdown",
   "id": "038b2c43",
   "metadata": {},
   "source": [
    "Справедливости ради, разница не так велика."
   ]
  },
  {
   "cell_type": "markdown",
   "id": "3526ecbd",
   "metadata": {},
   "source": [
    "### 2. Гипотеза об износе самокатов "
   ]
  },
  {
   "cell_type": "markdown",
   "id": "a80f1365",
   "metadata": {},
   "source": [
    "* $H_0$ - истинное среднее расстояние одной поездки равно гипотетическому значению 3130 м.\n",
    "* $H_1$ - истинное среднее расстояние одной поездки больше."
   ]
  },
  {
   "cell_type": "code",
   "execution_count": 34,
   "id": "9160e76a",
   "metadata": {},
   "outputs": [
    {
     "name": "stdout",
     "output_type": "stream",
     "text": [
      "p-value: 0.9195368847849785\n",
      "Нет оснований отвергнуть нулевую гипотезу\n"
     ]
    }
   ],
   "source": [
    "optimal_wear = 3130\n",
    "alpha = 0.05\n",
    "results = st.ttest_1samp(gofast.query(\"subscription_type == 'ultra'\").distance, optimal_wear, alternative='greater')\n",
    "print(f'p-value: {results.pvalue}')\n",
    "if results.pvalue < alpha:\n",
    "    print('Отвергаем нулевую гипотезу')\n",
    "else:\n",
    "    print('Нет оснований отвергнуть нулевую гипотезу')"
   ]
  },
  {
   "cell_type": "markdown",
   "id": "41067a78",
   "metadata": {},
   "source": [
    "Самокаты в среднем не подвергаются дополнительному износу."
   ]
  },
  {
   "cell_type": "markdown",
   "id": "b58ee48f",
   "metadata": {},
   "source": [
    "### 3. Будет ли помесячная выручка от пользователей с подпиской по месяцам выше, чем выручка от пользователей без подписки?"
   ]
  },
  {
   "cell_type": "markdown",
   "id": "5f0a2655",
   "metadata": {},
   "source": [
    "* $H_0$ - помесячная выручка от пользователей с подпиской по месяцам равна выручке от пользователей без подписки.\n",
    "* $H_1$ - помесячная выручка от пользователей с подпиской выше."
   ]
  },
  {
   "cell_type": "code",
   "execution_count": 35,
   "id": "4ecc0db1",
   "metadata": {},
   "outputs": [
    {
     "name": "stdout",
     "output_type": "stream",
     "text": [
      "p-value: 2.0314113674863288e-30\n",
      "Отвергаем нулевую гипотезу\n"
     ]
    }
   ],
   "source": [
    "alpha = 0.05\n",
    "results = st.ttest_ind(gofast_revenue.query('subscription_type == \"ultra\"').revenue_rub,\n",
    "                       gofast_revenue.query('subscription_type == \"free\"').revenue_rub,\n",
    "                       alternative='greater')\n",
    "\n",
    "print(f'p-value: {results.pvalue}')\n",
    "if results.pvalue < alpha:\n",
    "    print('Отвергаем нулевую гипотезу')\n",
    "else:\n",
    "    print('Нет оснований отвергнуть нулевую гипотезу')"
   ]
  },
  {
   "cell_type": "markdown",
   "id": "2febad12",
   "metadata": {},
   "source": [
    "Помесячная выручка от пользоваталей с подпиской больше, значит тариф достаточно выгоден чтобы поощрать частое использование сервисом."
   ]
  },
  {
   "cell_type": "markdown",
   "id": "952f2108",
   "metadata": {},
   "source": [
    "### 4. Вопрос от заказчика"
   ]
  },
  {
   "cell_type": "markdown",
   "id": "8349f13d",
   "metadata": {},
   "source": [
    "Заказчик интересуется подобной ситуацией:\n",
    "\n",
    "Техническая команда сервиса обновила сервера, с которыми взаимодействует мобильное приложение. Она надеется, что из-за этого количество обращений в техподдержку значимо снизилось. Некоторый файл содержит для каждого пользователя данные о количестве обращений до обновления и после него. Какой тест вам понадобился бы для проверки этой гипотезы?"
   ]
  },
  {
   "cell_type": "markdown",
   "id": "93fc8431",
   "metadata": {},
   "source": [
    "В этой ситуации понадобится тест ttest_rel."
   ]
  },
  {
   "cell_type": "markdown",
   "id": "5d665c6b",
   "metadata": {},
   "source": [
    "## Распределения"
   ]
  },
  {
   "cell_type": "markdown",
   "id": "61b88efe",
   "metadata": {},
   "source": [
    "### Промокоды"
   ]
  },
  {
   "cell_type": "markdown",
   "id": "5bd18dff",
   "metadata": {},
   "source": [
    "Отделу маркетинга GoFast поставили задачу: нужно провести акцию с раздачей промокодов на один бесплатный месяц подписки, в рамках которой как минимум 100 существующих клиентов должны продлить эту подписку. То есть по завершении периода действия подписки пользователь может либо отказаться от неё, либо продлить, совершив соответствующий платёж. \n",
    "Эта акция уже проводилась ранее и по итогу выяснилось, что после бесплатного пробного периода подписку продлевают \n",
    "10% пользователей. Выясните, какое минимальное количество промокодов нужно разослать, чтобы вероятность не выполнить план была примерно 5%.\n"
   ]
  },
  {
   "cell_type": "markdown",
   "id": "c7182007",
   "metadata": {},
   "source": [
    "Опишем ситуацию биноминальным распределением. Наша задача - найти количество испытаний."
   ]
  },
  {
   "cell_type": "code",
   "execution_count": 36,
   "id": "1830789a",
   "metadata": {},
   "outputs": [
    {
     "name": "stdout",
     "output_type": "stream",
     "text": [
      "Необходимое количество отправленных промокодов: 1172\n"
     ]
    }
   ],
   "source": [
    "p = 0.1 #вероятность успеха\n",
    "k = 100 #целевой результат\n",
    "confidence_requirement = 0.95 #нам нужна 95% уверенность в выполнении плана\n",
    "n = np.arange(k,25*k) #гипотетическое поле в котором лежит искомое количество испытаний, значение 25 арбитрарно\n",
    "\n",
    "binom_sf = st.binom.sf(k, n, p) #sf = 1-cdf\n",
    "n_required = n[binom_sf >= confidence_requirement][0]\n",
    "print('Необходимое количество отправленных промокодов:',n_required)"
   ]
  },
  {
   "cell_type": "markdown",
   "id": "dfab6f81",
   "metadata": {},
   "source": [
    "График:"
   ]
  },
  {
   "cell_type": "code",
   "execution_count": 37,
   "id": "83ac403c",
   "metadata": {},
   "outputs": [
    {
     "data": {
      "image/png": "[encoded data removed]",
      "text/plain": [
       "<Figure size 432x432 with 1 Axes>"
      ]
     },
     "metadata": {},
     "output_type": "display_data"
    }
   ],
   "source": [
    "fig, ax = plt.subplots(1, 1, figsize=(6, 6))\n",
    "x = np.arange(0, n_required+1, 1)\n",
    "ax.plot(x, st.binom.sf(x, n_required, p), lw=2)\n",
    "ax.set_xlabel(\"Количество успехов\", fontsize=10)\n",
    "ax.set_ylabel(\"Вероятность получить минимум это количество успехов\", fontsize=10)\n",
    "ax.set_title(\"Распределение для %i испытаний\" %n_required, fontsize=10)\n",
    "plt.show();"
   ]
  },
  {
   "cell_type": "markdown",
   "id": "879c8ce4",
   "metadata": {},
   "source": [
    "### Пуши"
   ]
  },
  {
   "cell_type": "markdown",
   "id": "92bfcaed",
   "metadata": {},
   "source": [
    "Отдел маркетинга рассылает клиентам push-уведомления в мобильном приложении. Клиенты могут открыть его или не открывать. Известно, что уведомления открывают около 40% получивших клиентов. Отдел планирует разослать 1 млн уведомлений. С помощью аппроксимации постройте примерный график распределения и оцените вероятность того, что уведомление откроют не более 399,5 тыс. пользователей. "
   ]
  },
  {
   "cell_type": "markdown",
   "id": "e00b1ce0",
   "metadata": {},
   "source": [
    "Воспользуемся нормальной аппроксимацией биномиального распределения"
   ]
  },
  {
   "cell_type": "code",
   "execution_count": 38,
   "id": "4c986524",
   "metadata": {},
   "outputs": [
    {
     "name": "stdout",
     "output_type": "stream",
     "text": [
      "Вероятность того, что уведомление откроют не более 399,5 тыс. пользователей: 15.37%\n"
     ]
    }
   ],
   "source": [
    "n = 1000000 #1млн уведомлений\n",
    "p = 0.4 #вероятность успеха\n",
    "mu = n * p \n",
    "sigma = sqrt(n * p * (1 - p))\n",
    "distr = st.norm(mu, sigma)\n",
    "result = distr.cdf(399500)\n",
    "print(f'Вероятность того, что уведомление откроют не более 399,5 тыс. пользователей: {round(result*100, 2)}%')"
   ]
  },
  {
   "cell_type": "markdown",
   "id": "08894fd2",
   "metadata": {},
   "source": [
    "## Вывод"
   ]
  },
  {
   "cell_type": "markdown",
   "id": "bc99e15b",
   "metadata": {},
   "source": [
    "В ходе работы были:\n",
    "* Проанализированы предоставленные данные, описаны тренды, тенденции и распределения различных показаталей как самих пользователей, так и того, как они взаимодействуют с сервисом. \n",
    "* В том числе на этапе исследовательского анализа данных:\n",
    "    * Продемонстрирована популярность сервиса в городах, участвующих в исследовании.\n",
    "    * Сравнены различные показатели использования сервиса (продолжительность и расстояния поездок, etc.) двумя основными группами пользователей - владельцев платной подписки и ее не имеющих. Выделены основные предположительные сценарии использования сервиса.\n",
    "    * Была обнаружена и исключена аномалия в данных - в районе сотни записей с неправдоподобными показателями. Данные были исключены из исследования, на проверку гипотез не повлияли.\n",
    "* Была агрегирована большая сводная таблица с основными показателями. На ее основе были проверены три гипотезы - две о разницах различных показателей между двумя группами пользователей (с подпиской и без), а так же об износе самокатов. На основе их результатов заказчик может корректировать бизнес стратегию, увеличивать прибыль.\n",
    "* Были решены две практические задачи для отдела маркетинга - о промокодах и о пушах."
   ]
  },
  {
   "cell_type": "code",
   "execution_count": null,
   "id": "d097f6a7",
   "metadata": {},
   "outputs": [],
   "source": []
  }
 ],
 "metadata": {
  "ExecuteTimeLog": [
   {
    "duration": 1620,
    "start_time": "2023-08-11T06:42:47.065Z"
   },
   {
    "duration": 35,
    "start_time": "2023-08-11T06:42:48.687Z"
   },
   {
    "duration": 34,
    "start_time": "2023-08-11T06:42:48.723Z"
   },
   {
    "duration": 55,
    "start_time": "2023-08-11T06:42:48.759Z"
   },
   {
    "duration": 14,
    "start_time": "2023-08-11T06:42:48.815Z"
   },
   {
    "duration": 11,
    "start_time": "2023-08-11T06:42:48.831Z"
   },
   {
    "duration": 8,
    "start_time": "2023-08-11T06:42:48.843Z"
   },
   {
    "duration": 19,
    "start_time": "2023-08-11T06:42:48.852Z"
   },
   {
    "duration": 37,
    "start_time": "2023-08-11T06:42:48.872Z"
   },
   {
    "duration": 6,
    "start_time": "2023-08-11T06:42:48.911Z"
   },
   {
    "duration": 176,
    "start_time": "2023-08-11T06:42:48.918Z"
   },
   {
    "duration": 17,
    "start_time": "2023-08-11T06:42:49.096Z"
   },
   {
    "duration": 72,
    "start_time": "2023-08-11T06:42:49.114Z"
   },
   {
    "duration": 169,
    "start_time": "2023-08-11T06:42:49.188Z"
   },
   {
    "duration": 186,
    "start_time": "2023-08-11T06:42:49.359Z"
   },
   {
    "duration": 168,
    "start_time": "2023-08-11T06:42:49.547Z"
   },
   {
    "duration": 18,
    "start_time": "2023-08-11T06:42:49.716Z"
   },
   {
    "duration": 12,
    "start_time": "2023-08-11T06:42:49.736Z"
   },
   {
    "duration": 14,
    "start_time": "2023-08-11T06:42:49.750Z"
   },
   {
    "duration": 346,
    "start_time": "2023-08-11T06:42:49.766Z"
   },
   {
    "duration": 336,
    "start_time": "2023-08-11T06:42:50.113Z"
   },
   {
    "duration": 133,
    "start_time": "2023-08-11T06:42:50.451Z"
   },
   {
    "duration": 177,
    "start_time": "2023-08-11T06:42:50.586Z"
   },
   {
    "duration": 10,
    "start_time": "2023-08-11T06:42:50.764Z"
   },
   {
    "duration": 29,
    "start_time": "2023-08-11T06:42:50.775Z"
   },
   {
    "duration": 31,
    "start_time": "2023-08-11T06:42:50.805Z"
   },
   {
    "duration": 28,
    "start_time": "2023-08-11T06:42:50.838Z"
   },
   {
    "duration": 33,
    "start_time": "2023-08-11T06:42:50.868Z"
   },
   {
    "duration": 165,
    "start_time": "2023-08-11T06:42:50.903Z"
   },
   {
    "duration": 5,
    "start_time": "2023-08-11T06:42:51.070Z"
   },
   {
    "duration": 1330,
    "start_time": "2023-08-11T06:48:02.327Z"
   },
   {
    "duration": 42,
    "start_time": "2023-08-11T06:48:03.659Z"
   },
   {
    "duration": 37,
    "start_time": "2023-08-11T06:48:03.704Z"
   },
   {
    "duration": 34,
    "start_time": "2023-08-11T06:48:03.743Z"
   },
   {
    "duration": 17,
    "start_time": "2023-08-11T06:48:03.809Z"
   },
   {
    "duration": 14,
    "start_time": "2023-08-11T06:48:03.828Z"
   },
   {
    "duration": 19,
    "start_time": "2023-08-11T06:48:03.844Z"
   },
   {
    "duration": 37,
    "start_time": "2023-08-11T06:48:03.865Z"
   },
   {
    "duration": 7,
    "start_time": "2023-08-11T06:48:03.908Z"
   },
   {
    "duration": 21,
    "start_time": "2023-08-11T06:48:03.918Z"
   },
   {
    "duration": 281,
    "start_time": "2023-08-11T06:48:03.941Z"
   },
   {
    "duration": 12,
    "start_time": "2023-08-11T06:48:04.224Z"
   },
   {
    "duration": 110,
    "start_time": "2023-08-11T06:48:04.238Z"
   },
   {
    "duration": 176,
    "start_time": "2023-08-11T06:48:04.350Z"
   },
   {
    "duration": 167,
    "start_time": "2023-08-11T06:48:04.528Z"
   },
   {
    "duration": 174,
    "start_time": "2023-08-11T06:48:04.697Z"
   },
   {
    "duration": 22,
    "start_time": "2023-08-11T06:48:04.873Z"
   },
   {
    "duration": 74,
    "start_time": "2023-08-11T06:48:04.898Z"
   },
   {
    "duration": 61,
    "start_time": "2023-08-11T06:48:04.974Z"
   },
   {
    "duration": 345,
    "start_time": "2023-08-11T06:48:05.036Z"
   },
   {
    "duration": 376,
    "start_time": "2023-08-11T06:48:05.384Z"
   },
   {
    "duration": 177,
    "start_time": "2023-08-11T06:48:05.763Z"
   },
   {
    "duration": 293,
    "start_time": "2023-08-11T06:48:05.942Z"
   },
   {
    "duration": 11,
    "start_time": "2023-08-11T06:48:06.237Z"
   },
   {
    "duration": 19,
    "start_time": "2023-08-11T06:48:06.252Z"
   },
   {
    "duration": 27,
    "start_time": "2023-08-11T06:48:06.274Z"
   },
   {
    "duration": 31,
    "start_time": "2023-08-11T06:48:06.303Z"
   },
   {
    "duration": 13,
    "start_time": "2023-08-11T06:48:06.337Z"
   },
   {
    "duration": 185,
    "start_time": "2023-08-11T06:48:06.352Z"
   },
   {
    "duration": 6,
    "start_time": "2023-08-11T06:48:06.539Z"
   },
   {
    "duration": 233,
    "start_time": "2023-08-11T06:52:31.491Z"
   },
   {
    "duration": 164,
    "start_time": "2023-08-11T06:52:37.402Z"
   },
   {
    "duration": 29,
    "start_time": "2023-08-11T06:54:56.858Z"
   },
   {
    "duration": 8,
    "start_time": "2023-08-11T06:57:14.414Z"
   },
   {
    "duration": 8,
    "start_time": "2023-08-11T07:08:27.459Z"
   },
   {
    "duration": 8,
    "start_time": "2023-08-11T07:08:31.808Z"
   },
   {
    "duration": 1351,
    "start_time": "2023-08-11T07:10:10.700Z"
   },
   {
    "duration": 43,
    "start_time": "2023-08-11T07:10:12.053Z"
   },
   {
    "duration": 48,
    "start_time": "2023-08-11T07:10:12.098Z"
   },
   {
    "duration": 61,
    "start_time": "2023-08-11T07:10:12.149Z"
   },
   {
    "duration": 20,
    "start_time": "2023-08-11T07:10:12.211Z"
   },
   {
    "duration": 11,
    "start_time": "2023-08-11T07:10:12.234Z"
   },
   {
    "duration": 9,
    "start_time": "2023-08-11T07:10:12.247Z"
   },
   {
    "duration": 21,
    "start_time": "2023-08-11T07:10:12.257Z"
   },
   {
    "duration": 34,
    "start_time": "2023-08-11T07:10:12.280Z"
   },
   {
    "duration": 10,
    "start_time": "2023-08-11T07:10:12.317Z"
   },
   {
    "duration": 207,
    "start_time": "2023-08-11T07:10:12.329Z"
   },
   {
    "duration": 12,
    "start_time": "2023-08-11T07:10:12.538Z"
   },
   {
    "duration": 117,
    "start_time": "2023-08-11T07:10:12.553Z"
   },
   {
    "duration": 172,
    "start_time": "2023-08-11T07:10:12.672Z"
   },
   {
    "duration": 171,
    "start_time": "2023-08-11T07:10:12.846Z"
   },
   {
    "duration": 171,
    "start_time": "2023-08-11T07:10:13.019Z"
   },
   {
    "duration": 26,
    "start_time": "2023-08-11T07:10:13.192Z"
   },
   {
    "duration": 15,
    "start_time": "2023-08-11T07:10:13.220Z"
   },
   {
    "duration": 19,
    "start_time": "2023-08-11T07:10:13.237Z"
   },
   {
    "duration": 331,
    "start_time": "2023-08-11T07:10:13.258Z"
   },
   {
    "duration": 411,
    "start_time": "2023-08-11T07:10:13.590Z"
   },
   {
    "duration": 144,
    "start_time": "2023-08-11T07:10:14.003Z"
   },
   {
    "duration": 224,
    "start_time": "2023-08-11T07:10:14.149Z"
   },
   {
    "duration": 11,
    "start_time": "2023-08-11T07:10:14.374Z"
   },
   {
    "duration": 8,
    "start_time": "2023-08-11T07:10:14.386Z"
   },
   {
    "duration": 13,
    "start_time": "2023-08-11T07:10:14.396Z"
   },
   {
    "duration": 35,
    "start_time": "2023-08-11T07:10:14.411Z"
   },
   {
    "duration": 7,
    "start_time": "2023-08-11T07:10:14.449Z"
   },
   {
    "duration": 184,
    "start_time": "2023-08-11T07:10:14.458Z"
   },
   {
    "duration": 7,
    "start_time": "2023-08-11T07:10:14.645Z"
   },
   {
    "duration": 50,
    "start_time": "2023-08-15T13:38:02.434Z"
   },
   {
    "duration": 1633,
    "start_time": "2023-08-15T13:38:12.199Z"
   },
   {
    "duration": 38,
    "start_time": "2023-08-15T13:38:13.835Z"
   },
   {
    "duration": 39,
    "start_time": "2023-08-15T13:38:13.875Z"
   },
   {
    "duration": 35,
    "start_time": "2023-08-15T13:38:13.916Z"
   },
   {
    "duration": 49,
    "start_time": "2023-08-15T13:38:13.952Z"
   },
   {
    "duration": 13,
    "start_time": "2023-08-15T13:38:14.268Z"
   },
   {
    "duration": 12,
    "start_time": "2023-08-15T13:38:15.108Z"
   },
   {
    "duration": 11,
    "start_time": "2023-08-15T13:38:15.424Z"
   },
   {
    "duration": 5,
    "start_time": "2023-08-15T13:38:15.716Z"
   },
   {
    "duration": 7,
    "start_time": "2023-08-15T13:38:17.445Z"
   },
   {
    "duration": 196,
    "start_time": "2023-08-15T13:38:18.166Z"
   },
   {
    "duration": 207,
    "start_time": "2023-08-15T13:38:21.665Z"
   },
   {
    "duration": 145,
    "start_time": "2023-08-15T14:06:56.630Z"
   },
   {
    "duration": 22,
    "start_time": "2023-08-15T14:08:49.375Z"
   },
   {
    "duration": 273,
    "start_time": "2023-08-15T14:09:04.706Z"
   },
   {
    "duration": 2504,
    "start_time": "2023-08-15T14:09:31.352Z"
   },
   {
    "duration": 2588,
    "start_time": "2023-08-15T14:09:48.410Z"
   },
   {
    "duration": 219,
    "start_time": "2023-08-15T14:10:59.174Z"
   },
   {
    "duration": 2738,
    "start_time": "2023-08-15T14:11:07.974Z"
   },
   {
    "duration": 2800,
    "start_time": "2023-08-15T14:11:35.253Z"
   },
   {
    "duration": 15,
    "start_time": "2023-08-15T14:11:57.740Z"
   },
   {
    "duration": 17,
    "start_time": "2023-08-15T14:12:14.217Z"
   },
   {
    "duration": 790,
    "start_time": "2023-08-15T14:12:20.349Z"
   },
   {
    "duration": 4293,
    "start_time": "2023-08-15T14:12:29.798Z"
   },
   {
    "duration": 14,
    "start_time": "2023-08-15T14:13:43.227Z"
   },
   {
    "duration": 736,
    "start_time": "2023-08-15T14:14:01.733Z"
   },
   {
    "duration": 162,
    "start_time": "2023-08-15T14:15:23.309Z"
   },
   {
    "duration": 248,
    "start_time": "2023-08-15T14:15:38.300Z"
   },
   {
    "duration": 214,
    "start_time": "2023-08-15T14:16:17.673Z"
   },
   {
    "duration": 12,
    "start_time": "2023-08-15T14:16:57.423Z"
   },
   {
    "duration": 11,
    "start_time": "2023-08-15T14:17:06.256Z"
   },
   {
    "duration": 4,
    "start_time": "2023-08-15T14:17:14.813Z"
   },
   {
    "duration": 6,
    "start_time": "2023-08-15T14:17:21.516Z"
   },
   {
    "duration": 15,
    "start_time": "2023-08-15T14:17:34.992Z"
   },
   {
    "duration": 8,
    "start_time": "2023-08-15T14:19:00.397Z"
   },
   {
    "duration": 20,
    "start_time": "2023-08-15T14:19:24.413Z"
   },
   {
    "duration": 4,
    "start_time": "2023-08-15T14:22:32.648Z"
   },
   {
    "duration": 202,
    "start_time": "2023-08-15T14:22:48.730Z"
   },
   {
    "duration": 181,
    "start_time": "2023-08-15T14:24:06.441Z"
   },
   {
    "duration": 183,
    "start_time": "2023-08-15T14:24:28.502Z"
   },
   {
    "duration": 224,
    "start_time": "2023-08-15T14:25:06.976Z"
   },
   {
    "duration": 189,
    "start_time": "2023-08-15T14:25:55.581Z"
   },
   {
    "duration": 204,
    "start_time": "2023-08-15T14:26:15.279Z"
   },
   {
    "duration": 182,
    "start_time": "2023-08-15T14:26:19.071Z"
   },
   {
    "duration": 7,
    "start_time": "2023-08-15T14:26:57.849Z"
   },
   {
    "duration": 83,
    "start_time": "2023-08-15T14:30:33.464Z"
   },
   {
    "duration": 84,
    "start_time": "2023-08-15T14:31:21.074Z"
   },
   {
    "duration": 93,
    "start_time": "2023-08-15T14:33:17.406Z"
   },
   {
    "duration": 102,
    "start_time": "2023-08-15T14:34:08.658Z"
   },
   {
    "duration": 79,
    "start_time": "2023-08-15T14:34:27.660Z"
   },
   {
    "duration": 77,
    "start_time": "2023-08-15T14:35:38.249Z"
   },
   {
    "duration": 82,
    "start_time": "2023-08-15T14:35:50.494Z"
   },
   {
    "duration": 78,
    "start_time": "2023-08-15T14:38:07.267Z"
   },
   {
    "duration": 80,
    "start_time": "2023-08-15T14:38:16.888Z"
   },
   {
    "duration": 155,
    "start_time": "2023-08-15T14:38:32.073Z"
   },
   {
    "duration": 174,
    "start_time": "2023-08-15T14:39:02.903Z"
   },
   {
    "duration": 144,
    "start_time": "2023-08-15T14:39:21.705Z"
   },
   {
    "duration": 135,
    "start_time": "2023-08-15T14:39:30.324Z"
   },
   {
    "duration": 141,
    "start_time": "2023-08-15T14:39:56.484Z"
   },
   {
    "duration": 7,
    "start_time": "2023-08-15T14:41:20.354Z"
   },
   {
    "duration": 155,
    "start_time": "2023-08-15T14:43:10.259Z"
   },
   {
    "duration": 199,
    "start_time": "2023-08-15T14:43:14.772Z"
   },
   {
    "duration": 184,
    "start_time": "2023-08-15T14:43:19.327Z"
   },
   {
    "duration": 215,
    "start_time": "2023-08-15T14:43:24.708Z"
   },
   {
    "duration": 214,
    "start_time": "2023-08-15T14:43:31.186Z"
   },
   {
    "duration": 243,
    "start_time": "2023-08-15T14:44:39.081Z"
   },
   {
    "duration": 4,
    "start_time": "2023-08-15T14:45:16.507Z"
   },
   {
    "duration": 72,
    "start_time": "2023-08-15T14:45:16.907Z"
   },
   {
    "duration": 184,
    "start_time": "2023-08-15T14:46:36.180Z"
   },
   {
    "duration": 213,
    "start_time": "2023-08-15T14:46:47.409Z"
   },
   {
    "duration": 196,
    "start_time": "2023-08-15T14:46:52.914Z"
   },
   {
    "duration": 191,
    "start_time": "2023-08-15T14:47:30.268Z"
   },
   {
    "duration": 61,
    "start_time": "2023-08-15T19:16:34.759Z"
   },
   {
    "duration": 1364,
    "start_time": "2023-08-15T19:16:44.285Z"
   },
   {
    "duration": 231,
    "start_time": "2023-08-15T19:16:45.651Z"
   },
   {
    "duration": 41,
    "start_time": "2023-08-15T19:16:45.884Z"
   },
   {
    "duration": 34,
    "start_time": "2023-08-15T19:16:45.927Z"
   },
   {
    "duration": 33,
    "start_time": "2023-08-15T19:16:45.989Z"
   },
   {
    "duration": 34,
    "start_time": "2023-08-15T19:16:46.024Z"
   },
   {
    "duration": 11,
    "start_time": "2023-08-15T19:16:46.109Z"
   },
   {
    "duration": 12,
    "start_time": "2023-08-15T19:16:46.987Z"
   },
   {
    "duration": 12,
    "start_time": "2023-08-15T19:16:47.309Z"
   },
   {
    "duration": 4,
    "start_time": "2023-08-15T19:16:47.369Z"
   },
   {
    "duration": 161,
    "start_time": "2023-08-15T19:16:48.460Z"
   },
   {
    "duration": 6,
    "start_time": "2023-08-15T19:16:48.643Z"
   },
   {
    "duration": 122,
    "start_time": "2023-08-15T19:16:49.826Z"
   },
   {
    "duration": 184,
    "start_time": "2023-08-15T19:16:50.572Z"
   },
   {
    "duration": 7,
    "start_time": "2023-08-15T19:16:50.758Z"
   },
   {
    "duration": 200,
    "start_time": "2023-08-15T19:16:51.548Z"
   },
   {
    "duration": 203,
    "start_time": "2023-08-15T19:16:54.160Z"
   },
   {
    "duration": 16,
    "start_time": "2023-08-15T19:16:56.899Z"
   },
   {
    "duration": 11,
    "start_time": "2023-08-15T19:16:57.424Z"
   },
   {
    "duration": 3,
    "start_time": "2023-08-15T19:16:58.206Z"
   },
   {
    "duration": 4,
    "start_time": "2023-08-15T19:17:11.281Z"
   },
   {
    "duration": 171,
    "start_time": "2023-08-15T19:20:31.174Z"
   },
   {
    "duration": 162,
    "start_time": "2023-08-15T19:20:58.482Z"
   },
   {
    "duration": 176,
    "start_time": "2023-08-15T19:21:37.265Z"
   },
   {
    "duration": 226,
    "start_time": "2023-08-15T19:22:26.850Z"
   },
   {
    "duration": 299,
    "start_time": "2023-08-15T19:23:12.140Z"
   },
   {
    "duration": 3,
    "start_time": "2023-08-15T19:23:50.406Z"
   },
   {
    "duration": 4,
    "start_time": "2023-08-15T19:24:53.288Z"
   },
   {
    "duration": 69,
    "start_time": "2023-08-15T19:26:01.561Z"
   },
   {
    "duration": 1230,
    "start_time": "2023-08-15T19:26:13.164Z"
   },
   {
    "duration": 68,
    "start_time": "2023-08-15T19:26:14.396Z"
   },
   {
    "duration": 32,
    "start_time": "2023-08-15T19:26:14.466Z"
   },
   {
    "duration": 31,
    "start_time": "2023-08-15T19:26:14.500Z"
   },
   {
    "duration": 27,
    "start_time": "2023-08-15T19:26:14.533Z"
   },
   {
    "duration": 35,
    "start_time": "2023-08-15T19:26:14.561Z"
   },
   {
    "duration": 9,
    "start_time": "2023-08-15T19:26:14.598Z"
   },
   {
    "duration": 10,
    "start_time": "2023-08-15T19:26:14.608Z"
   },
   {
    "duration": 13,
    "start_time": "2023-08-15T19:26:14.619Z"
   },
   {
    "duration": 12,
    "start_time": "2023-08-15T19:26:14.634Z"
   },
   {
    "duration": 208,
    "start_time": "2023-08-15T19:26:14.648Z"
   },
   {
    "duration": 7,
    "start_time": "2023-08-15T19:26:14.858Z"
   },
   {
    "duration": 154,
    "start_time": "2023-08-15T19:26:14.867Z"
   },
   {
    "duration": 186,
    "start_time": "2023-08-15T19:26:15.024Z"
   },
   {
    "duration": 7,
    "start_time": "2023-08-15T19:26:15.211Z"
   },
   {
    "duration": 227,
    "start_time": "2023-08-15T19:26:15.220Z"
   },
   {
    "duration": 222,
    "start_time": "2023-08-15T19:26:15.449Z"
   },
   {
    "duration": 21,
    "start_time": "2023-08-15T19:26:15.672Z"
   },
   {
    "duration": 19,
    "start_time": "2023-08-15T19:26:15.695Z"
   },
   {
    "duration": 25,
    "start_time": "2023-08-15T19:26:15.716Z"
   },
   {
    "duration": 23,
    "start_time": "2023-08-15T19:26:15.742Z"
   },
   {
    "duration": 317,
    "start_time": "2023-08-15T19:26:15.767Z"
   },
   {
    "duration": 303,
    "start_time": "2023-08-15T19:26:16.086Z"
   },
   {
    "duration": 117,
    "start_time": "2023-08-15T19:26:16.391Z"
   },
   {
    "duration": 185,
    "start_time": "2023-08-15T19:26:16.510Z"
   },
   {
    "duration": 9,
    "start_time": "2023-08-15T19:26:16.697Z"
   },
   {
    "duration": 35,
    "start_time": "2023-08-15T19:26:16.707Z"
   },
   {
    "duration": 42,
    "start_time": "2023-08-15T19:26:16.744Z"
   },
   {
    "duration": 24,
    "start_time": "2023-08-15T19:26:16.787Z"
   },
   {
    "duration": 28,
    "start_time": "2023-08-15T19:26:16.814Z"
   },
   {
    "duration": 177,
    "start_time": "2023-08-15T19:26:16.844Z"
   },
   {
    "duration": 5,
    "start_time": "2023-08-15T19:26:17.023Z"
   },
   {
    "duration": 292,
    "start_time": "2023-08-15T19:28:44.113Z"
   },
   {
    "duration": 339,
    "start_time": "2023-08-15T19:29:39.635Z"
   },
   {
    "duration": 308,
    "start_time": "2023-08-15T19:31:34.689Z"
   },
   {
    "duration": 102,
    "start_time": "2023-08-15T19:33:15.881Z"
   },
   {
    "duration": 299,
    "start_time": "2023-08-15T19:34:15.244Z"
   },
   {
    "duration": 329,
    "start_time": "2023-08-15T19:34:25.008Z"
   },
   {
    "duration": 435,
    "start_time": "2023-08-15T19:35:10.649Z"
   },
   {
    "duration": 400,
    "start_time": "2023-08-15T19:35:24.691Z"
   },
   {
    "duration": 366,
    "start_time": "2023-08-15T19:36:04.887Z"
   },
   {
    "duration": 448,
    "start_time": "2023-08-15T19:36:37.105Z"
   },
   {
    "duration": 31,
    "start_time": "2023-08-15T19:38:56.385Z"
   },
   {
    "duration": 11,
    "start_time": "2023-08-15T19:41:25.371Z"
   },
   {
    "duration": 33,
    "start_time": "2023-08-15T19:43:14.943Z"
   },
   {
    "duration": 433,
    "start_time": "2023-08-15T19:43:25.157Z"
   },
   {
    "duration": 48,
    "start_time": "2023-08-15T19:44:30.576Z"
   },
   {
    "duration": 10,
    "start_time": "2023-08-15T19:44:34.511Z"
   },
   {
    "duration": 426,
    "start_time": "2023-08-15T19:45:00.222Z"
   },
   {
    "duration": 49,
    "start_time": "2023-08-15T19:45:54.852Z"
   },
   {
    "duration": 10,
    "start_time": "2023-08-15T19:45:58.408Z"
   },
   {
    "duration": 46,
    "start_time": "2023-08-15T19:46:40.327Z"
   },
   {
    "duration": 10,
    "start_time": "2023-08-15T19:46:44.295Z"
   },
   {
    "duration": 9,
    "start_time": "2023-08-15T19:51:42.180Z"
   },
   {
    "duration": 35,
    "start_time": "2023-08-15T19:51:47.285Z"
   },
   {
    "duration": 8,
    "start_time": "2023-08-15T19:51:49.057Z"
   },
   {
    "duration": 75,
    "start_time": "2023-08-15T19:53:07.110Z"
   },
   {
    "duration": 94,
    "start_time": "2023-08-15T19:53:25.268Z"
   },
   {
    "duration": 6,
    "start_time": "2023-08-15T19:53:44.049Z"
   },
   {
    "duration": 10,
    "start_time": "2023-08-15T19:53:46.351Z"
   },
   {
    "duration": 7,
    "start_time": "2023-08-15T19:53:59.872Z"
   },
   {
    "duration": 15,
    "start_time": "2023-08-15T19:54:00.885Z"
   },
   {
    "duration": 86,
    "start_time": "2023-08-15T19:54:15.530Z"
   },
   {
    "duration": 6,
    "start_time": "2023-08-15T19:54:20.980Z"
   },
   {
    "duration": 11,
    "start_time": "2023-08-15T19:54:21.843Z"
   },
   {
    "duration": 6,
    "start_time": "2023-08-15T19:55:40.228Z"
   },
   {
    "duration": 12,
    "start_time": "2023-08-15T19:58:49.736Z"
   },
   {
    "duration": 8,
    "start_time": "2023-08-15T19:59:29.700Z"
   },
   {
    "duration": 5,
    "start_time": "2023-08-15T20:00:38.547Z"
   },
   {
    "duration": 11,
    "start_time": "2023-08-15T20:00:39.251Z"
   },
   {
    "duration": 1146,
    "start_time": "2023-08-15T20:00:47.447Z"
   },
   {
    "duration": 72,
    "start_time": "2023-08-15T20:00:48.595Z"
   },
   {
    "duration": 34,
    "start_time": "2023-08-15T20:00:48.669Z"
   },
   {
    "duration": 43,
    "start_time": "2023-08-15T20:00:48.705Z"
   },
   {
    "duration": 44,
    "start_time": "2023-08-15T20:00:48.749Z"
   },
   {
    "duration": 33,
    "start_time": "2023-08-15T20:00:48.795Z"
   },
   {
    "duration": 27,
    "start_time": "2023-08-15T20:00:48.830Z"
   },
   {
    "duration": 7,
    "start_time": "2023-08-15T20:00:48.858Z"
   },
   {
    "duration": 17,
    "start_time": "2023-08-15T20:00:48.866Z"
   },
   {
    "duration": 7,
    "start_time": "2023-08-15T20:00:48.885Z"
   },
   {
    "duration": 201,
    "start_time": "2023-08-15T20:00:48.894Z"
   },
   {
    "duration": 6,
    "start_time": "2023-08-15T20:00:49.096Z"
   },
   {
    "duration": 154,
    "start_time": "2023-08-15T20:00:49.104Z"
   },
   {
    "duration": 197,
    "start_time": "2023-08-15T20:00:49.260Z"
   },
   {
    "duration": 9,
    "start_time": "2023-08-15T20:00:49.459Z"
   },
   {
    "duration": 241,
    "start_time": "2023-08-15T20:00:49.470Z"
   },
   {
    "duration": 242,
    "start_time": "2023-08-15T20:00:49.713Z"
   },
   {
    "duration": 17,
    "start_time": "2023-08-15T20:00:49.956Z"
   },
   {
    "duration": 21,
    "start_time": "2023-08-15T20:00:49.974Z"
   },
   {
    "duration": 6,
    "start_time": "2023-08-15T20:00:49.996Z"
   },
   {
    "duration": 37,
    "start_time": "2023-08-15T20:00:50.004Z"
   },
   {
    "duration": 367,
    "start_time": "2023-08-15T20:00:50.042Z"
   },
   {
    "duration": 409,
    "start_time": "2023-08-15T20:00:50.411Z"
   },
   {
    "duration": 36,
    "start_time": "2023-08-15T20:00:50.822Z"
   },
   {
    "duration": 5,
    "start_time": "2023-08-15T20:00:50.860Z"
   },
   {
    "duration": 26,
    "start_time": "2023-08-15T20:00:50.866Z"
   },
   {
    "duration": 53,
    "start_time": "2023-08-15T20:00:50.893Z"
   },
   {
    "duration": 22,
    "start_time": "2023-08-15T20:00:50.949Z"
   },
   {
    "duration": 47,
    "start_time": "2023-08-15T20:00:50.972Z"
   },
   {
    "duration": 14,
    "start_time": "2023-08-15T20:00:51.020Z"
   },
   {
    "duration": 256,
    "start_time": "2023-08-15T20:00:51.035Z"
   },
   {
    "duration": 5,
    "start_time": "2023-08-15T20:00:51.293Z"
   },
   {
    "duration": 10,
    "start_time": "2023-08-15T20:01:26.297Z"
   },
   {
    "duration": 11,
    "start_time": "2023-08-15T20:01:32.302Z"
   },
   {
    "duration": 1085,
    "start_time": "2023-08-15T20:01:39.811Z"
   },
   {
    "duration": 68,
    "start_time": "2023-08-15T20:01:40.899Z"
   },
   {
    "duration": 35,
    "start_time": "2023-08-15T20:01:40.969Z"
   },
   {
    "duration": 35,
    "start_time": "2023-08-15T20:01:41.005Z"
   },
   {
    "duration": 53,
    "start_time": "2023-08-15T20:01:41.043Z"
   },
   {
    "duration": 13,
    "start_time": "2023-08-15T20:01:41.098Z"
   },
   {
    "duration": 14,
    "start_time": "2023-08-15T20:01:41.113Z"
   },
   {
    "duration": 30,
    "start_time": "2023-08-15T20:01:41.128Z"
   },
   {
    "duration": 12,
    "start_time": "2023-08-15T20:01:41.159Z"
   },
   {
    "duration": 15,
    "start_time": "2023-08-15T20:01:41.172Z"
   },
   {
    "duration": 180,
    "start_time": "2023-08-15T20:01:41.188Z"
   },
   {
    "duration": 6,
    "start_time": "2023-08-15T20:01:41.370Z"
   },
   {
    "duration": 161,
    "start_time": "2023-08-15T20:01:41.378Z"
   },
   {
    "duration": 210,
    "start_time": "2023-08-15T20:01:41.542Z"
   },
   {
    "duration": 8,
    "start_time": "2023-08-15T20:01:41.754Z"
   },
   {
    "duration": 239,
    "start_time": "2023-08-15T20:01:41.763Z"
   },
   {
    "duration": 247,
    "start_time": "2023-08-15T20:01:42.003Z"
   },
   {
    "duration": 19,
    "start_time": "2023-08-15T20:01:42.252Z"
   },
   {
    "duration": 30,
    "start_time": "2023-08-15T20:01:42.274Z"
   },
   {
    "duration": 18,
    "start_time": "2023-08-15T20:01:42.306Z"
   },
   {
    "duration": 46,
    "start_time": "2023-08-15T20:01:42.326Z"
   },
   {
    "duration": 410,
    "start_time": "2023-08-15T20:01:42.373Z"
   },
   {
    "duration": 396,
    "start_time": "2023-08-15T20:01:42.785Z"
   },
   {
    "duration": 38,
    "start_time": "2023-08-15T20:01:43.182Z"
   },
   {
    "duration": 5,
    "start_time": "2023-08-15T20:01:43.222Z"
   },
   {
    "duration": 12,
    "start_time": "2023-08-15T20:01:43.229Z"
   },
   {
    "duration": 5,
    "start_time": "2023-08-15T20:01:43.242Z"
   },
   {
    "duration": 107,
    "start_time": "2023-08-15T20:01:43.249Z"
   },
   {
    "duration": 11,
    "start_time": "2023-08-15T20:01:43.358Z"
   },
   {
    "duration": 17,
    "start_time": "2023-08-15T20:01:43.370Z"
   },
   {
    "duration": 164,
    "start_time": "2023-08-15T20:01:43.388Z"
   },
   {
    "duration": 6,
    "start_time": "2023-08-15T20:01:43.554Z"
   },
   {
    "duration": 5,
    "start_time": "2023-08-15T20:10:33.646Z"
   },
   {
    "duration": 5,
    "start_time": "2023-08-15T20:10:51.026Z"
   },
   {
    "duration": 6,
    "start_time": "2023-08-15T20:11:46.499Z"
   },
   {
    "duration": 6,
    "start_time": "2023-08-15T20:12:26.731Z"
   },
   {
    "duration": 4,
    "start_time": "2023-08-15T20:23:21.721Z"
   },
   {
    "duration": 6,
    "start_time": "2023-08-15T20:24:36.202Z"
   },
   {
    "duration": 5,
    "start_time": "2023-08-15T20:26:19.199Z"
   },
   {
    "duration": 10,
    "start_time": "2023-08-15T20:34:15.289Z"
   },
   {
    "duration": 10,
    "start_time": "2023-08-15T20:34:19.394Z"
   },
   {
    "duration": 6,
    "start_time": "2023-08-15T20:34:32.527Z"
   },
   {
    "duration": 6,
    "start_time": "2023-08-15T20:34:39.196Z"
   },
   {
    "duration": 17,
    "start_time": "2023-08-15T20:38:16.259Z"
   },
   {
    "duration": 1087,
    "start_time": "2023-08-15T20:38:38.601Z"
   },
   {
    "duration": 71,
    "start_time": "2023-08-15T20:38:39.690Z"
   },
   {
    "duration": 34,
    "start_time": "2023-08-15T20:38:39.763Z"
   },
   {
    "duration": 39,
    "start_time": "2023-08-15T20:38:39.799Z"
   },
   {
    "duration": 48,
    "start_time": "2023-08-15T20:38:39.840Z"
   },
   {
    "duration": 12,
    "start_time": "2023-08-15T20:38:39.889Z"
   },
   {
    "duration": 9,
    "start_time": "2023-08-15T20:38:39.903Z"
   },
   {
    "duration": 4,
    "start_time": "2023-08-15T20:38:39.913Z"
   },
   {
    "duration": 16,
    "start_time": "2023-08-15T20:38:39.918Z"
   },
   {
    "duration": 10,
    "start_time": "2023-08-15T20:38:39.936Z"
   },
   {
    "duration": 4,
    "start_time": "2023-08-15T20:38:39.947Z"
   },
   {
    "duration": 193,
    "start_time": "2023-08-15T20:38:39.952Z"
   },
   {
    "duration": 5,
    "start_time": "2023-08-15T20:38:40.147Z"
   },
   {
    "duration": 120,
    "start_time": "2023-08-15T20:38:40.155Z"
   },
   {
    "duration": 181,
    "start_time": "2023-08-15T20:38:40.277Z"
   },
   {
    "duration": 8,
    "start_time": "2023-08-15T20:38:40.459Z"
   },
   {
    "duration": 246,
    "start_time": "2023-08-15T20:38:40.468Z"
   },
   {
    "duration": 212,
    "start_time": "2023-08-15T20:38:40.715Z"
   },
   {
    "duration": 13,
    "start_time": "2023-08-15T20:38:40.929Z"
   },
   {
    "duration": 14,
    "start_time": "2023-08-15T20:38:40.944Z"
   },
   {
    "duration": 29,
    "start_time": "2023-08-15T20:38:40.959Z"
   },
   {
    "duration": 3,
    "start_time": "2023-08-15T20:38:40.989Z"
   },
   {
    "duration": 36,
    "start_time": "2023-08-15T20:38:40.993Z"
   },
   {
    "duration": 329,
    "start_time": "2023-08-15T20:38:41.030Z"
   },
   {
    "duration": 387,
    "start_time": "2023-08-15T20:38:41.361Z"
   },
   {
    "duration": 47,
    "start_time": "2023-08-15T20:38:41.750Z"
   },
   {
    "duration": 32,
    "start_time": "2023-08-15T20:38:41.799Z"
   },
   {
    "duration": 87,
    "start_time": "2023-08-15T20:38:41.833Z"
   },
   {
    "duration": 22,
    "start_time": "2023-08-15T20:38:41.922Z"
   },
   {
    "duration": 6,
    "start_time": "2023-08-15T20:38:41.945Z"
   },
   {
    "duration": 130,
    "start_time": "2023-08-15T20:38:41.952Z"
   },
   {
    "duration": 24,
    "start_time": "2023-08-15T20:38:42.084Z"
   },
   {
    "duration": 20,
    "start_time": "2023-08-15T20:38:42.110Z"
   },
   {
    "duration": 189,
    "start_time": "2023-08-15T20:38:42.132Z"
   },
   {
    "duration": 5,
    "start_time": "2023-08-15T20:38:42.322Z"
   },
   {
    "duration": 8,
    "start_time": "2023-08-15T20:40:30.310Z"
   },
   {
    "duration": 7,
    "start_time": "2023-08-15T20:41:26.155Z"
   },
   {
    "duration": 14,
    "start_time": "2023-08-15T20:46:09.342Z"
   },
   {
    "duration": 21,
    "start_time": "2023-08-15T20:46:30.220Z"
   },
   {
    "duration": 13,
    "start_time": "2023-08-15T20:47:01.912Z"
   },
   {
    "duration": 34,
    "start_time": "2023-08-15T20:47:11.873Z"
   },
   {
    "duration": 41,
    "start_time": "2023-08-15T20:49:10.218Z"
   },
   {
    "duration": 1136,
    "start_time": "2023-08-15T20:50:36.366Z"
   },
   {
    "duration": 69,
    "start_time": "2023-08-15T20:50:37.504Z"
   },
   {
    "duration": 33,
    "start_time": "2023-08-15T20:50:37.574Z"
   },
   {
    "duration": 65,
    "start_time": "2023-08-15T20:50:37.609Z"
   },
   {
    "duration": 29,
    "start_time": "2023-08-15T20:50:37.675Z"
   },
   {
    "duration": 49,
    "start_time": "2023-08-15T20:50:37.705Z"
   },
   {
    "duration": 33,
    "start_time": "2023-08-15T20:50:37.755Z"
   },
   {
    "duration": 4,
    "start_time": "2023-08-15T20:50:37.789Z"
   },
   {
    "duration": 22,
    "start_time": "2023-08-15T20:50:37.794Z"
   },
   {
    "duration": 24,
    "start_time": "2023-08-15T20:50:37.818Z"
   },
   {
    "duration": 19,
    "start_time": "2023-08-15T20:50:37.844Z"
   },
   {
    "duration": 179,
    "start_time": "2023-08-15T20:50:37.864Z"
   },
   {
    "duration": 6,
    "start_time": "2023-08-15T20:50:38.045Z"
   },
   {
    "duration": 148,
    "start_time": "2023-08-15T20:50:38.052Z"
   },
   {
    "duration": 202,
    "start_time": "2023-08-15T20:50:38.202Z"
   },
   {
    "duration": 7,
    "start_time": "2023-08-15T20:50:38.405Z"
   },
   {
    "duration": 289,
    "start_time": "2023-08-15T20:50:38.414Z"
   },
   {
    "duration": 219,
    "start_time": "2023-08-15T20:50:38.704Z"
   },
   {
    "duration": 15,
    "start_time": "2023-08-15T20:50:38.924Z"
   },
   {
    "duration": 46,
    "start_time": "2023-08-15T20:50:38.940Z"
   },
   {
    "duration": 32,
    "start_time": "2023-08-15T20:50:38.987Z"
   },
   {
    "duration": 97,
    "start_time": "2023-08-15T20:50:39.020Z"
   },
   {
    "duration": 38,
    "start_time": "2023-08-15T20:50:39.118Z"
   },
   {
    "duration": 65,
    "start_time": "2023-08-15T20:50:39.158Z"
   },
   {
    "duration": 390,
    "start_time": "2023-08-15T20:50:39.224Z"
   },
   {
    "duration": 391,
    "start_time": "2023-08-15T20:50:39.615Z"
   },
   {
    "duration": 44,
    "start_time": "2023-08-15T20:50:40.008Z"
   },
   {
    "duration": 54,
    "start_time": "2023-08-15T20:50:40.055Z"
   },
   {
    "duration": 6,
    "start_time": "2023-08-15T20:50:40.110Z"
   },
   {
    "duration": 13,
    "start_time": "2023-08-15T20:50:40.117Z"
   },
   {
    "duration": 9,
    "start_time": "2023-08-15T20:50:40.131Z"
   },
   {
    "duration": 8,
    "start_time": "2023-08-15T20:50:40.141Z"
   },
   {
    "duration": 12,
    "start_time": "2023-08-15T20:50:40.150Z"
   },
   {
    "duration": 103,
    "start_time": "2023-08-15T20:50:40.163Z"
   },
   {
    "duration": 5,
    "start_time": "2023-08-15T20:50:40.268Z"
   },
   {
    "duration": 178,
    "start_time": "2023-08-15T20:50:40.275Z"
   },
   {
    "duration": 5,
    "start_time": "2023-08-15T20:50:40.454Z"
   },
   {
    "duration": 14,
    "start_time": "2023-08-15T20:58:03.191Z"
   },
   {
    "duration": 16,
    "start_time": "2023-08-15T20:58:07.691Z"
   },
   {
    "duration": 99,
    "start_time": "2023-08-15T20:58:31.805Z"
   },
   {
    "duration": 4,
    "start_time": "2023-08-15T20:59:41.895Z"
   },
   {
    "duration": 188,
    "start_time": "2023-08-15T21:00:14.190Z"
   },
   {
    "duration": 205,
    "start_time": "2023-08-15T21:00:25.970Z"
   },
   {
    "duration": 1134,
    "start_time": "2023-08-15T21:00:35.176Z"
   },
   {
    "duration": 70,
    "start_time": "2023-08-15T21:00:36.313Z"
   },
   {
    "duration": 33,
    "start_time": "2023-08-15T21:00:36.385Z"
   },
   {
    "duration": 31,
    "start_time": "2023-08-15T21:00:36.420Z"
   },
   {
    "duration": 54,
    "start_time": "2023-08-15T21:00:36.452Z"
   },
   {
    "duration": 12,
    "start_time": "2023-08-15T21:00:36.508Z"
   },
   {
    "duration": 23,
    "start_time": "2023-08-15T21:00:36.522Z"
   },
   {
    "duration": 14,
    "start_time": "2023-08-15T21:00:36.546Z"
   },
   {
    "duration": 17,
    "start_time": "2023-08-15T21:00:36.561Z"
   },
   {
    "duration": 18,
    "start_time": "2023-08-15T21:00:36.580Z"
   },
   {
    "duration": 5,
    "start_time": "2023-08-15T21:00:36.599Z"
   },
   {
    "duration": 185,
    "start_time": "2023-08-15T21:00:36.605Z"
   },
   {
    "duration": 6,
    "start_time": "2023-08-15T21:00:36.791Z"
   },
   {
    "duration": 128,
    "start_time": "2023-08-15T21:00:36.798Z"
   },
   {
    "duration": 187,
    "start_time": "2023-08-15T21:00:36.927Z"
   },
   {
    "duration": 7,
    "start_time": "2023-08-15T21:00:37.116Z"
   },
   {
    "duration": 213,
    "start_time": "2023-08-15T21:00:37.125Z"
   },
   {
    "duration": 213,
    "start_time": "2023-08-15T21:00:37.339Z"
   },
   {
    "duration": 13,
    "start_time": "2023-08-15T21:00:37.554Z"
   },
   {
    "duration": 21,
    "start_time": "2023-08-15T21:00:37.569Z"
   },
   {
    "duration": 35,
    "start_time": "2023-08-15T21:00:37.592Z"
   },
   {
    "duration": 17,
    "start_time": "2023-08-15T21:00:37.628Z"
   },
   {
    "duration": 23,
    "start_time": "2023-08-15T21:00:37.647Z"
   },
   {
    "duration": 32,
    "start_time": "2023-08-15T21:00:37.671Z"
   },
   {
    "duration": 339,
    "start_time": "2023-08-15T21:00:37.704Z"
   },
   {
    "duration": 366,
    "start_time": "2023-08-15T21:00:38.044Z"
   },
   {
    "duration": 41,
    "start_time": "2023-08-15T21:00:38.412Z"
   },
   {
    "duration": 307,
    "start_time": "2023-08-15T21:00:38.456Z"
   },
   {
    "duration": 39,
    "start_time": "2023-08-15T21:00:38.765Z"
   },
   {
    "duration": 5,
    "start_time": "2023-08-15T21:00:38.806Z"
   },
   {
    "duration": 38,
    "start_time": "2023-08-15T21:00:38.812Z"
   },
   {
    "duration": 18,
    "start_time": "2023-08-15T21:00:38.851Z"
   },
   {
    "duration": 22,
    "start_time": "2023-08-15T21:00:38.870Z"
   },
   {
    "duration": 14,
    "start_time": "2023-08-15T21:00:38.894Z"
   },
   {
    "duration": 10,
    "start_time": "2023-08-15T21:00:38.909Z"
   },
   {
    "duration": 19,
    "start_time": "2023-08-15T21:00:38.921Z"
   },
   {
    "duration": 159,
    "start_time": "2023-08-15T21:00:38.941Z"
   },
   {
    "duration": 5,
    "start_time": "2023-08-15T21:00:39.102Z"
   },
   {
    "duration": 1234,
    "start_time": "2023-08-15T21:13:07.563Z"
   },
   {
    "duration": 70,
    "start_time": "2023-08-15T21:13:08.799Z"
   },
   {
    "duration": 38,
    "start_time": "2023-08-15T21:13:08.870Z"
   },
   {
    "duration": 38,
    "start_time": "2023-08-15T21:13:08.910Z"
   },
   {
    "duration": 57,
    "start_time": "2023-08-15T21:13:08.951Z"
   },
   {
    "duration": 13,
    "start_time": "2023-08-15T21:13:09.010Z"
   },
   {
    "duration": 10,
    "start_time": "2023-08-15T21:13:09.025Z"
   },
   {
    "duration": 4,
    "start_time": "2023-08-15T21:13:09.037Z"
   },
   {
    "duration": 8,
    "start_time": "2023-08-15T21:13:09.043Z"
   },
   {
    "duration": 43,
    "start_time": "2023-08-15T21:13:09.053Z"
   },
   {
    "duration": 4,
    "start_time": "2023-08-15T21:13:09.097Z"
   },
   {
    "duration": 176,
    "start_time": "2023-08-15T21:13:09.102Z"
   },
   {
    "duration": 11,
    "start_time": "2023-08-15T21:13:09.280Z"
   },
   {
    "duration": 119,
    "start_time": "2023-08-15T21:13:09.293Z"
   },
   {
    "duration": 180,
    "start_time": "2023-08-15T21:13:09.414Z"
   },
   {
    "duration": 7,
    "start_time": "2023-08-15T21:13:09.595Z"
   },
   {
    "duration": 227,
    "start_time": "2023-08-15T21:13:09.604Z"
   },
   {
    "duration": 214,
    "start_time": "2023-08-15T21:13:09.833Z"
   },
   {
    "duration": 14,
    "start_time": "2023-08-15T21:13:10.048Z"
   },
   {
    "duration": 6,
    "start_time": "2023-08-15T21:13:10.064Z"
   },
   {
    "duration": 28,
    "start_time": "2023-08-15T21:13:10.071Z"
   },
   {
    "duration": 10,
    "start_time": "2023-08-15T21:13:10.101Z"
   },
   {
    "duration": 6,
    "start_time": "2023-08-15T21:13:10.112Z"
   },
   {
    "duration": 11,
    "start_time": "2023-08-15T21:13:10.119Z"
   },
   {
    "duration": 343,
    "start_time": "2023-08-15T21:13:10.132Z"
   },
   {
    "duration": 393,
    "start_time": "2023-08-15T21:13:10.477Z"
   },
   {
    "duration": 47,
    "start_time": "2023-08-15T21:13:10.872Z"
   },
   {
    "duration": 293,
    "start_time": "2023-08-15T21:13:10.921Z"
   },
   {
    "duration": 36,
    "start_time": "2023-08-15T21:13:11.215Z"
   },
   {
    "duration": 5,
    "start_time": "2023-08-15T21:13:11.253Z"
   },
   {
    "duration": 28,
    "start_time": "2023-08-15T21:13:11.260Z"
   },
   {
    "duration": 5,
    "start_time": "2023-08-15T21:13:11.289Z"
   },
   {
    "duration": 5,
    "start_time": "2023-08-15T21:13:11.296Z"
   },
   {
    "duration": 8,
    "start_time": "2023-08-15T21:13:11.302Z"
   },
   {
    "duration": 11,
    "start_time": "2023-08-15T21:13:11.311Z"
   },
   {
    "duration": 5,
    "start_time": "2023-08-15T21:13:11.323Z"
   },
   {
    "duration": 190,
    "start_time": "2023-08-15T21:13:11.330Z"
   },
   {
    "duration": 5,
    "start_time": "2023-08-15T21:13:11.521Z"
   },
   {
    "duration": 10,
    "start_time": "2023-08-15T21:14:52.700Z"
   },
   {
    "duration": 1055,
    "start_time": "2023-08-16T07:32:54.788Z"
   },
   {
    "duration": 64,
    "start_time": "2023-08-16T07:32:55.845Z"
   },
   {
    "duration": 30,
    "start_time": "2023-08-16T07:32:55.910Z"
   },
   {
    "duration": 29,
    "start_time": "2023-08-16T07:32:55.942Z"
   },
   {
    "duration": 25,
    "start_time": "2023-08-16T07:32:55.972Z"
   },
   {
    "duration": 10,
    "start_time": "2023-08-16T07:32:55.999Z"
   },
   {
    "duration": 34,
    "start_time": "2023-08-16T07:32:56.011Z"
   },
   {
    "duration": 4,
    "start_time": "2023-08-16T07:32:56.046Z"
   },
   {
    "duration": 12,
    "start_time": "2023-08-16T07:32:56.051Z"
   },
   {
    "duration": 12,
    "start_time": "2023-08-16T07:32:56.065Z"
   },
   {
    "duration": 5,
    "start_time": "2023-08-16T07:32:56.078Z"
   },
   {
    "duration": 177,
    "start_time": "2023-08-16T07:32:56.085Z"
   },
   {
    "duration": 6,
    "start_time": "2023-08-16T07:32:56.263Z"
   },
   {
    "duration": 112,
    "start_time": "2023-08-16T07:32:56.270Z"
   },
   {
    "duration": 170,
    "start_time": "2023-08-16T07:32:56.384Z"
   },
   {
    "duration": 6,
    "start_time": "2023-08-16T07:32:56.556Z"
   },
   {
    "duration": 206,
    "start_time": "2023-08-16T07:32:56.564Z"
   },
   {
    "duration": 203,
    "start_time": "2023-08-16T07:32:56.772Z"
   },
   {
    "duration": 14,
    "start_time": "2023-08-16T07:32:56.977Z"
   },
   {
    "duration": 5,
    "start_time": "2023-08-16T07:32:56.992Z"
   },
   {
    "duration": 47,
    "start_time": "2023-08-16T07:32:56.999Z"
   },
   {
    "duration": 11,
    "start_time": "2023-08-16T07:32:57.048Z"
   },
   {
    "duration": 13,
    "start_time": "2023-08-16T07:32:57.061Z"
   },
   {
    "duration": 16,
    "start_time": "2023-08-16T07:32:57.075Z"
   },
   {
    "duration": 315,
    "start_time": "2023-08-16T07:32:57.092Z"
   },
   {
    "duration": 338,
    "start_time": "2023-08-16T07:32:57.408Z"
   },
   {
    "duration": 41,
    "start_time": "2023-08-16T07:32:57.747Z"
   },
   {
    "duration": 272,
    "start_time": "2023-08-16T07:32:57.791Z"
   },
   {
    "duration": 33,
    "start_time": "2023-08-16T07:32:58.065Z"
   },
   {
    "duration": 4,
    "start_time": "2023-08-16T07:32:58.100Z"
   },
   {
    "duration": 28,
    "start_time": "2023-08-16T07:32:58.105Z"
   },
   {
    "duration": 10,
    "start_time": "2023-08-16T07:32:58.134Z"
   },
   {
    "duration": 17,
    "start_time": "2023-08-16T07:32:58.146Z"
   },
   {
    "duration": 19,
    "start_time": "2023-08-16T07:32:58.165Z"
   },
   {
    "duration": 20,
    "start_time": "2023-08-16T07:32:58.186Z"
   },
   {
    "duration": 20,
    "start_time": "2023-08-16T07:32:58.207Z"
   },
   {
    "duration": 149,
    "start_time": "2023-08-16T07:32:58.228Z"
   },
   {
    "duration": 5,
    "start_time": "2023-08-16T07:32:58.378Z"
   },
   {
    "duration": 6,
    "start_time": "2023-08-16T07:39:21.358Z"
   },
   {
    "duration": 1084,
    "start_time": "2023-08-16T07:43:45.768Z"
   },
   {
    "duration": 66,
    "start_time": "2023-08-16T07:43:46.854Z"
   },
   {
    "duration": 32,
    "start_time": "2023-08-16T07:43:46.921Z"
   },
   {
    "duration": 34,
    "start_time": "2023-08-16T07:43:46.954Z"
   },
   {
    "duration": 27,
    "start_time": "2023-08-16T07:43:46.989Z"
   },
   {
    "duration": 12,
    "start_time": "2023-08-16T07:43:47.038Z"
   },
   {
    "duration": 20,
    "start_time": "2023-08-16T07:43:47.051Z"
   },
   {
    "duration": 12,
    "start_time": "2023-08-16T07:43:47.072Z"
   },
   {
    "duration": 9,
    "start_time": "2023-08-16T07:43:47.086Z"
   },
   {
    "duration": 22,
    "start_time": "2023-08-16T07:43:47.097Z"
   },
   {
    "duration": 8,
    "start_time": "2023-08-16T07:43:47.120Z"
   },
   {
    "duration": 181,
    "start_time": "2023-08-16T07:43:47.130Z"
   },
   {
    "duration": 6,
    "start_time": "2023-08-16T07:43:47.313Z"
   },
   {
    "duration": 116,
    "start_time": "2023-08-16T07:43:47.320Z"
   },
   {
    "duration": 182,
    "start_time": "2023-08-16T07:43:47.438Z"
   },
   {
    "duration": 17,
    "start_time": "2023-08-16T07:43:47.622Z"
   },
   {
    "duration": 200,
    "start_time": "2023-08-16T07:43:47.640Z"
   },
   {
    "duration": 212,
    "start_time": "2023-08-16T07:43:47.841Z"
   },
   {
    "duration": 15,
    "start_time": "2023-08-16T07:43:48.055Z"
   },
   {
    "duration": 7,
    "start_time": "2023-08-16T07:43:48.071Z"
   },
   {
    "duration": 31,
    "start_time": "2023-08-16T07:43:48.080Z"
   },
   {
    "duration": 13,
    "start_time": "2023-08-16T07:43:48.112Z"
   },
   {
    "duration": 12,
    "start_time": "2023-08-16T07:43:48.126Z"
   },
   {
    "duration": 12,
    "start_time": "2023-08-16T07:43:48.140Z"
   },
   {
    "duration": 334,
    "start_time": "2023-08-16T07:43:48.153Z"
   },
   {
    "duration": 353,
    "start_time": "2023-08-16T07:43:48.488Z"
   },
   {
    "duration": 44,
    "start_time": "2023-08-16T07:43:48.843Z"
   },
   {
    "duration": 272,
    "start_time": "2023-08-16T07:43:48.890Z"
   },
   {
    "duration": 38,
    "start_time": "2023-08-16T07:43:49.164Z"
   },
   {
    "duration": 6,
    "start_time": "2023-08-16T07:43:49.204Z"
   },
   {
    "duration": 32,
    "start_time": "2023-08-16T07:43:49.211Z"
   },
   {
    "duration": 8,
    "start_time": "2023-08-16T07:43:49.245Z"
   },
   {
    "duration": 16,
    "start_time": "2023-08-16T07:43:49.255Z"
   },
   {
    "duration": 12,
    "start_time": "2023-08-16T07:43:49.272Z"
   },
   {
    "duration": 16,
    "start_time": "2023-08-16T07:43:49.285Z"
   },
   {
    "duration": 14,
    "start_time": "2023-08-16T07:43:49.302Z"
   },
   {
    "duration": 174,
    "start_time": "2023-08-16T07:43:49.317Z"
   },
   {
    "duration": 6,
    "start_time": "2023-08-16T07:43:49.493Z"
   },
   {
    "duration": 1442,
    "start_time": "2023-08-16T14:33:36.398Z"
   },
   {
    "duration": 192,
    "start_time": "2023-08-16T14:33:37.842Z"
   },
   {
    "duration": 39,
    "start_time": "2023-08-16T14:33:38.036Z"
   },
   {
    "duration": 37,
    "start_time": "2023-08-16T14:33:38.078Z"
   },
   {
    "duration": 32,
    "start_time": "2023-08-16T14:33:38.117Z"
   },
   {
    "duration": 14,
    "start_time": "2023-08-16T14:33:38.151Z"
   },
   {
    "duration": 13,
    "start_time": "2023-08-16T14:33:38.194Z"
   },
   {
    "duration": 5,
    "start_time": "2023-08-16T14:33:38.209Z"
   },
   {
    "duration": 19,
    "start_time": "2023-08-16T14:33:38.216Z"
   },
   {
    "duration": 19,
    "start_time": "2023-08-16T14:33:38.238Z"
   },
   {
    "duration": 12,
    "start_time": "2023-08-16T14:33:38.258Z"
   },
   {
    "duration": 253,
    "start_time": "2023-08-16T14:33:38.272Z"
   },
   {
    "duration": 6,
    "start_time": "2023-08-16T14:33:38.527Z"
   },
   {
    "duration": 132,
    "start_time": "2023-08-16T14:33:38.534Z"
   },
   {
    "duration": 210,
    "start_time": "2023-08-16T14:33:38.667Z"
   },
   {
    "duration": 8,
    "start_time": "2023-08-16T14:33:38.879Z"
   },
   {
    "duration": 239,
    "start_time": "2023-08-16T14:33:38.895Z"
   },
   {
    "duration": 244,
    "start_time": "2023-08-16T14:33:39.136Z"
   },
   {
    "duration": 28,
    "start_time": "2023-08-16T14:33:39.382Z"
   },
   {
    "duration": 48,
    "start_time": "2023-08-16T14:33:39.412Z"
   },
   {
    "duration": 51,
    "start_time": "2023-08-16T14:33:39.462Z"
   },
   {
    "duration": 13,
    "start_time": "2023-08-16T14:33:39.515Z"
   },
   {
    "duration": 34,
    "start_time": "2023-08-16T14:33:39.529Z"
   },
   {
    "duration": 30,
    "start_time": "2023-08-16T14:33:39.565Z"
   },
   {
    "duration": 386,
    "start_time": "2023-08-16T14:33:39.596Z"
   },
   {
    "duration": 417,
    "start_time": "2023-08-16T14:33:39.984Z"
   },
   {
    "duration": 52,
    "start_time": "2023-08-16T14:33:40.403Z"
   },
   {
    "duration": 355,
    "start_time": "2023-08-16T14:33:40.458Z"
   },
   {
    "duration": 40,
    "start_time": "2023-08-16T14:33:40.815Z"
   },
   {
    "duration": 41,
    "start_time": "2023-08-16T14:33:40.856Z"
   },
   {
    "duration": 41,
    "start_time": "2023-08-16T14:33:40.899Z"
   },
   {
    "duration": 52,
    "start_time": "2023-08-16T14:33:40.942Z"
   },
   {
    "duration": 60,
    "start_time": "2023-08-16T14:33:40.996Z"
   },
   {
    "duration": 14,
    "start_time": "2023-08-16T14:33:41.058Z"
   },
   {
    "duration": 96,
    "start_time": "2023-08-16T14:33:41.074Z"
   },
   {
    "duration": 29,
    "start_time": "2023-08-16T14:33:41.171Z"
   },
   {
    "duration": 195,
    "start_time": "2023-08-16T14:33:41.202Z"
   },
   {
    "duration": 5,
    "start_time": "2023-08-16T14:33:41.399Z"
   },
   {
    "duration": 1216,
    "start_time": "2023-08-16T16:20:37.280Z"
   },
   {
    "duration": 66,
    "start_time": "2023-08-16T16:20:38.498Z"
   },
   {
    "duration": 35,
    "start_time": "2023-08-16T16:20:38.566Z"
   },
   {
    "duration": 59,
    "start_time": "2023-08-16T16:20:38.604Z"
   },
   {
    "duration": 33,
    "start_time": "2023-08-16T16:20:38.665Z"
   },
   {
    "duration": 14,
    "start_time": "2023-08-16T16:20:38.700Z"
   },
   {
    "duration": 11,
    "start_time": "2023-08-16T16:20:38.716Z"
   },
   {
    "duration": 5,
    "start_time": "2023-08-16T16:20:38.759Z"
   },
   {
    "duration": 18,
    "start_time": "2023-08-16T16:20:38.765Z"
   },
   {
    "duration": 10,
    "start_time": "2023-08-16T16:20:38.786Z"
   },
   {
    "duration": 5,
    "start_time": "2023-08-16T16:20:38.798Z"
   },
   {
    "duration": 208,
    "start_time": "2023-08-16T16:20:38.804Z"
   },
   {
    "duration": 6,
    "start_time": "2023-08-16T16:20:39.013Z"
   },
   {
    "duration": 131,
    "start_time": "2023-08-16T16:20:39.021Z"
   },
   {
    "duration": 203,
    "start_time": "2023-08-16T16:20:39.154Z"
   },
   {
    "duration": 8,
    "start_time": "2023-08-16T16:20:39.359Z"
   },
   {
    "duration": 234,
    "start_time": "2023-08-16T16:20:39.369Z"
   },
   {
    "duration": 237,
    "start_time": "2023-08-16T16:20:39.605Z"
   },
   {
    "duration": 23,
    "start_time": "2023-08-16T16:20:39.844Z"
   },
   {
    "duration": 8,
    "start_time": "2023-08-16T16:20:39.868Z"
   },
   {
    "duration": 20,
    "start_time": "2023-08-16T16:20:39.878Z"
   },
   {
    "duration": 15,
    "start_time": "2023-08-16T16:20:39.900Z"
   },
   {
    "duration": 8,
    "start_time": "2023-08-16T16:20:39.917Z"
   },
   {
    "duration": 41,
    "start_time": "2023-08-16T16:20:39.927Z"
   },
   {
    "duration": 373,
    "start_time": "2023-08-16T16:20:39.970Z"
   },
   {
    "duration": 385,
    "start_time": "2023-08-16T16:20:40.344Z"
   },
   {
    "duration": 56,
    "start_time": "2023-08-16T16:20:40.731Z"
   },
   {
    "duration": 315,
    "start_time": "2023-08-16T16:20:40.790Z"
   },
   {
    "duration": 36,
    "start_time": "2023-08-16T16:20:41.107Z"
   },
   {
    "duration": 17,
    "start_time": "2023-08-16T16:20:41.145Z"
   },
   {
    "duration": 35,
    "start_time": "2023-08-16T16:20:41.163Z"
   },
   {
    "duration": 8,
    "start_time": "2023-08-16T16:20:41.200Z"
   },
   {
    "duration": 42,
    "start_time": "2023-08-16T16:20:41.210Z"
   },
   {
    "duration": 22,
    "start_time": "2023-08-16T16:20:41.254Z"
   },
   {
    "duration": 20,
    "start_time": "2023-08-16T16:20:41.278Z"
   },
   {
    "duration": 5,
    "start_time": "2023-08-16T16:20:41.300Z"
   },
   {
    "duration": 175,
    "start_time": "2023-08-16T16:20:41.307Z"
   },
   {
    "duration": 6,
    "start_time": "2023-08-16T16:20:41.484Z"
   }
  ],
  "kernelspec": {
   "display_name": "Python 3 (ipykernel)",
   "language": "python",
   "name": "python3"
  },
  "language_info": {
   "codemirror_mode": {
    "name": "ipython",
    "version": 3
   },
   "file_extension": ".py",
   "mimetype": "text/x-python",
   "name": "python",
   "nbconvert_exporter": "python",
   "pygments_lexer": "ipython3",
   "version": "3.9.16"
  },
  "toc": {
   "base_numbering": 1,
   "nav_menu": {},
   "number_sections": true,
   "sideBar": true,
   "skip_h1_title": true,
   "title_cell": "Table of Contents",
   "title_sidebar": "Contents",
   "toc_cell": false,
   "toc_position": {},
   "toc_section_display": true,
   "toc_window_display": false
  }
 },
 "nbformat": 4,
 "nbformat_minor": 5
}
