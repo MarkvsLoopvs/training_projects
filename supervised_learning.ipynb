{
 "cells": [
  {
   "cell_type": "markdown",
   "id": "42d3880b",
   "metadata": {},
   "source": [
    "# Прогнозирование оттока клиентов банка"
   ]
  },
  {
   "cell_type": "markdown",
   "id": "93f899c7",
   "metadata": {},
   "source": [
    "Из «Бета-Банка» стали уходить клиенты. Банковские маркетологи посчитали: сохранять текущих клиентов дешевле, чем привлекать новых.\n",
    "Нужно спрогнозировать, уйдёт клиент из банка в ближайшее время или нет. Нам предоставлены исторические данные о поведении клиентов и расторжении договоров с банком. "
   ]
  },
  {
   "cell_type": "markdown",
   "id": "4baff32c",
   "metadata": {},
   "source": [
    "## Описание данных"
   ]
  },
  {
   "cell_type": "markdown",
   "id": "55ac7a44",
   "metadata": {},
   "source": [
    "Признаки:\n",
    "* `RowNumber` - индекс строки в данных\n",
    "* `CustomerId` - уникальный идентификатор клиента\n",
    "* `Surname` - фамилия\n",
    "* `CreditScore` - крединтный рейтинг\n",
    "* `Geography` - страна проживания\n",
    "* `Gender` - пол\n",
    "* `Age` - возраст\n",
    "* `Tenure` -  сколько лет человек является клиентом банка\n",
    "* `Balance` - баланс на счёте\n",
    "* `NumOfProducts` - количество продуктов банка, используемых клиентом\n",
    "* `HasCrCard` - наличие кредитной карты\n",
    "* `IsActiveMember` - активность клиента\n",
    "* `EstimatedSalary` - предполагаемая зарплата\n",
    "\n",
    "Целевой признак:\n",
    "* `Exited` - факт ухода клиента\n"
   ]
  },
  {
   "cell_type": "markdown",
   "id": "65081971",
   "metadata": {},
   "source": [
    "## Импорт библиотек"
   ]
  },
  {
   "cell_type": "code",
   "execution_count": 37,
   "id": "d9ca922d",
   "metadata": {},
   "outputs": [],
   "source": [
    "import pandas as pd\n",
    "import seaborn as sns\n",
    "from scipy import stats as st\n",
    "import matplotlib.pyplot as plt\n",
    "import time\n",
    "from sklearn.model_selection import train_test_split\n",
    "from sklearn.metrics import accuracy_score\n",
    "from sklearn.tree import DecisionTreeClassifier\n",
    "from sklearn.ensemble import RandomForestClassifier\n",
    "from sklearn.linear_model import LogisticRegression\n",
    "from sklearn.dummy import DummyClassifier\n",
    "from sklearn.preprocessing import StandardScaler \n",
    "from sklearn.metrics import precision_recall_curve, classification_report \n",
    "from sklearn.metrics import precision_score, recall_score, f1_score, roc_auc_score, roc_curve \n",
    "from sklearn.utils import shuffle \n",
    "from sklearn import metrics\n",
    "from sklearn.preprocessing import OneHotEncoder\n",
    "import re\n",
    "\n",
    "import numpy as np\n",
    "import warnings\n",
    "\n",
    "warnings.filterwarnings(\"ignore\")\n",
    "sns.set(style=\"darkgrid\")\n",
    "RANDOM_STATE = 12345"
   ]
  },
  {
   "cell_type": "markdown",
   "id": "ff5ae9a3",
   "metadata": {},
   "source": [
    "## Загрузка и изучение датасета"
   ]
  },
  {
   "cell_type": "code",
   "execution_count": 38,
   "id": "9c676b55",
   "metadata": {},
   "outputs": [],
   "source": [
    "try:\n",
    "    df = pd.read_csv('/home/aart/datasets/Churn.csv')\n",
    "except:\n",
    "    df = pd.read_csv('/datasets/Churn.csv')"
   ]
  },
  {
   "cell_type": "code",
   "execution_count": 39,
   "id": "53581ef2",
   "metadata": {},
   "outputs": [
    {
     "data": {
      "text/html": [
       "<div>\n",
       "<style scoped>\n",
       "    .dataframe tbody tr th:only-of-type {\n",
       "        vertical-align: middle;\n",
       "    }\n",
       "\n",
       "    .dataframe tbody tr th {\n",
       "        vertical-align: top;\n",
       "    }\n",
       "\n",
       "    .dataframe thead th {\n",
       "        text-align: right;\n",
       "    }\n",
       "</style>\n",
       "<table border=\"1\" class=\"dataframe\">\n",
       "  <thead>\n",
       "    <tr style=\"text-align: right;\">\n",
       "      <th></th>\n",
       "      <th>RowNumber</th>\n",
       "      <th>CustomerId</th>\n",
       "      <th>Surname</th>\n",
       "      <th>CreditScore</th>\n",
       "      <th>Geography</th>\n",
       "      <th>Gender</th>\n",
       "      <th>Age</th>\n",
       "      <th>Tenure</th>\n",
       "      <th>Balance</th>\n",
       "      <th>NumOfProducts</th>\n",
       "      <th>HasCrCard</th>\n",
       "      <th>IsActiveMember</th>\n",
       "      <th>EstimatedSalary</th>\n",
       "      <th>Exited</th>\n",
       "    </tr>\n",
       "  </thead>\n",
       "  <tbody>\n",
       "    <tr>\n",
       "      <th>0</th>\n",
       "      <td>1</td>\n",
       "      <td>15634602</td>\n",
       "      <td>Hargrave</td>\n",
       "      <td>619</td>\n",
       "      <td>France</td>\n",
       "      <td>Female</td>\n",
       "      <td>42</td>\n",
       "      <td>2.0</td>\n",
       "      <td>0.00</td>\n",
       "      <td>1</td>\n",
       "      <td>1</td>\n",
       "      <td>1</td>\n",
       "      <td>101348.88</td>\n",
       "      <td>1</td>\n",
       "    </tr>\n",
       "    <tr>\n",
       "      <th>1</th>\n",
       "      <td>2</td>\n",
       "      <td>15647311</td>\n",
       "      <td>Hill</td>\n",
       "      <td>608</td>\n",
       "      <td>Spain</td>\n",
       "      <td>Female</td>\n",
       "      <td>41</td>\n",
       "      <td>1.0</td>\n",
       "      <td>83807.86</td>\n",
       "      <td>1</td>\n",
       "      <td>0</td>\n",
       "      <td>1</td>\n",
       "      <td>112542.58</td>\n",
       "      <td>0</td>\n",
       "    </tr>\n",
       "    <tr>\n",
       "      <th>2</th>\n",
       "      <td>3</td>\n",
       "      <td>15619304</td>\n",
       "      <td>Onio</td>\n",
       "      <td>502</td>\n",
       "      <td>France</td>\n",
       "      <td>Female</td>\n",
       "      <td>42</td>\n",
       "      <td>8.0</td>\n",
       "      <td>159660.80</td>\n",
       "      <td>3</td>\n",
       "      <td>1</td>\n",
       "      <td>0</td>\n",
       "      <td>113931.57</td>\n",
       "      <td>1</td>\n",
       "    </tr>\n",
       "    <tr>\n",
       "      <th>3</th>\n",
       "      <td>4</td>\n",
       "      <td>15701354</td>\n",
       "      <td>Boni</td>\n",
       "      <td>699</td>\n",
       "      <td>France</td>\n",
       "      <td>Female</td>\n",
       "      <td>39</td>\n",
       "      <td>1.0</td>\n",
       "      <td>0.00</td>\n",
       "      <td>2</td>\n",
       "      <td>0</td>\n",
       "      <td>0</td>\n",
       "      <td>93826.63</td>\n",
       "      <td>0</td>\n",
       "    </tr>\n",
       "    <tr>\n",
       "      <th>4</th>\n",
       "      <td>5</td>\n",
       "      <td>15737888</td>\n",
       "      <td>Mitchell</td>\n",
       "      <td>850</td>\n",
       "      <td>Spain</td>\n",
       "      <td>Female</td>\n",
       "      <td>43</td>\n",
       "      <td>2.0</td>\n",
       "      <td>125510.82</td>\n",
       "      <td>1</td>\n",
       "      <td>1</td>\n",
       "      <td>1</td>\n",
       "      <td>79084.10</td>\n",
       "      <td>0</td>\n",
       "    </tr>\n",
       "  </tbody>\n",
       "</table>\n",
       "</div>"
      ],
      "text/plain": [
       "   RowNumber  CustomerId   Surname  CreditScore Geography  Gender  Age  \\\n",
       "0          1    15634602  Hargrave          619    France  Female   42   \n",
       "1          2    15647311      Hill          608     Spain  Female   41   \n",
       "2          3    15619304      Onio          502    France  Female   42   \n",
       "3          4    15701354      Boni          699    France  Female   39   \n",
       "4          5    15737888  Mitchell          850     Spain  Female   43   \n",
       "\n",
       "   Tenure    Balance  NumOfProducts  HasCrCard  IsActiveMember  \\\n",
       "0     2.0       0.00              1          1               1   \n",
       "1     1.0   83807.86              1          0               1   \n",
       "2     8.0  159660.80              3          1               0   \n",
       "3     1.0       0.00              2          0               0   \n",
       "4     2.0  125510.82              1          1               1   \n",
       "\n",
       "   EstimatedSalary  Exited  \n",
       "0        101348.88       1  \n",
       "1        112542.58       0  \n",
       "2        113931.57       1  \n",
       "3         93826.63       0  \n",
       "4         79084.10       0  "
      ]
     },
     "execution_count": 39,
     "metadata": {},
     "output_type": "execute_result"
    }
   ],
   "source": [
    "df.head()"
   ]
  },
  {
   "cell_type": "markdown",
   "id": "e3f11bb6",
   "metadata": {},
   "source": [
    "Приведем названия в нижний регистр, проверим наличие явных дубликатов."
   ]
  },
  {
   "cell_type": "code",
   "execution_count": 40,
   "id": "fc3dd764",
   "metadata": {},
   "outputs": [
    {
     "data": {
      "text/plain": [
       "0"
      ]
     },
     "execution_count": 40,
     "metadata": {},
     "output_type": "execute_result"
    }
   ],
   "source": [
    "df = df.rename(columns=lambda column: re.sub(r'(?<!^)(?=[A-Z])', '_', column).lower())\n",
    "df.duplicated().sum()"
   ]
  },
  {
   "cell_type": "markdown",
   "id": "3d3780af",
   "metadata": {},
   "source": [
    "Проверим наличие пропусков."
   ]
  },
  {
   "cell_type": "code",
   "execution_count": 41,
   "id": "97cce0b0",
   "metadata": {},
   "outputs": [
    {
     "data": {
      "text/plain": [
       "row_number            0\n",
       "customer_id           0\n",
       "surname               0\n",
       "credit_score          0\n",
       "geography             0\n",
       "gender                0\n",
       "age                   0\n",
       "tenure              909\n",
       "balance               0\n",
       "num_of_products       0\n",
       "has_cr_card           0\n",
       "is_active_member      0\n",
       "estimated_salary      0\n",
       "exited                0\n",
       "dtype: int64"
      ]
     },
     "execution_count": 41,
     "metadata": {},
     "output_type": "execute_result"
    }
   ],
   "source": [
    "df.isna().sum()"
   ]
  },
  {
   "cell_type": "markdown",
   "id": "e3a14a7b",
   "metadata": {},
   "source": [
    "909 пропусков в столбце `tenure` - изучим их."
   ]
  },
  {
   "cell_type": "code",
   "execution_count": 42,
   "id": "f6bdf878",
   "metadata": {},
   "outputs": [
    {
     "data": {
      "text/html": [
       "<div>\n",
       "<style scoped>\n",
       "    .dataframe tbody tr th:only-of-type {\n",
       "        vertical-align: middle;\n",
       "    }\n",
       "\n",
       "    .dataframe tbody tr th {\n",
       "        vertical-align: top;\n",
       "    }\n",
       "\n",
       "    .dataframe thead th {\n",
       "        text-align: right;\n",
       "    }\n",
       "</style>\n",
       "<table border=\"1\" class=\"dataframe\">\n",
       "  <thead>\n",
       "    <tr style=\"text-align: right;\">\n",
       "      <th></th>\n",
       "      <th>row_number</th>\n",
       "      <th>customer_id</th>\n",
       "      <th>surname</th>\n",
       "      <th>credit_score</th>\n",
       "      <th>geography</th>\n",
       "      <th>gender</th>\n",
       "      <th>age</th>\n",
       "      <th>tenure</th>\n",
       "      <th>balance</th>\n",
       "      <th>num_of_products</th>\n",
       "      <th>has_cr_card</th>\n",
       "      <th>is_active_member</th>\n",
       "      <th>estimated_salary</th>\n",
       "      <th>exited</th>\n",
       "    </tr>\n",
       "  </thead>\n",
       "  <tbody>\n",
       "    <tr>\n",
       "      <th>30</th>\n",
       "      <td>31</td>\n",
       "      <td>15589475</td>\n",
       "      <td>Azikiwe</td>\n",
       "      <td>591</td>\n",
       "      <td>Spain</td>\n",
       "      <td>Female</td>\n",
       "      <td>39</td>\n",
       "      <td>NaN</td>\n",
       "      <td>0.00</td>\n",
       "      <td>3</td>\n",
       "      <td>1</td>\n",
       "      <td>0</td>\n",
       "      <td>140469.38</td>\n",
       "      <td>1</td>\n",
       "    </tr>\n",
       "    <tr>\n",
       "      <th>48</th>\n",
       "      <td>49</td>\n",
       "      <td>15766205</td>\n",
       "      <td>Yin</td>\n",
       "      <td>550</td>\n",
       "      <td>Germany</td>\n",
       "      <td>Male</td>\n",
       "      <td>38</td>\n",
       "      <td>NaN</td>\n",
       "      <td>103391.38</td>\n",
       "      <td>1</td>\n",
       "      <td>0</td>\n",
       "      <td>1</td>\n",
       "      <td>90878.13</td>\n",
       "      <td>0</td>\n",
       "    </tr>\n",
       "    <tr>\n",
       "      <th>51</th>\n",
       "      <td>52</td>\n",
       "      <td>15768193</td>\n",
       "      <td>Trevisani</td>\n",
       "      <td>585</td>\n",
       "      <td>Germany</td>\n",
       "      <td>Male</td>\n",
       "      <td>36</td>\n",
       "      <td>NaN</td>\n",
       "      <td>146050.97</td>\n",
       "      <td>2</td>\n",
       "      <td>0</td>\n",
       "      <td>0</td>\n",
       "      <td>86424.57</td>\n",
       "      <td>0</td>\n",
       "    </tr>\n",
       "    <tr>\n",
       "      <th>53</th>\n",
       "      <td>54</td>\n",
       "      <td>15702298</td>\n",
       "      <td>Parkhill</td>\n",
       "      <td>655</td>\n",
       "      <td>Germany</td>\n",
       "      <td>Male</td>\n",
       "      <td>41</td>\n",
       "      <td>NaN</td>\n",
       "      <td>125561.97</td>\n",
       "      <td>1</td>\n",
       "      <td>0</td>\n",
       "      <td>0</td>\n",
       "      <td>164040.94</td>\n",
       "      <td>1</td>\n",
       "    </tr>\n",
       "    <tr>\n",
       "      <th>60</th>\n",
       "      <td>61</td>\n",
       "      <td>15651280</td>\n",
       "      <td>Hunter</td>\n",
       "      <td>742</td>\n",
       "      <td>Germany</td>\n",
       "      <td>Male</td>\n",
       "      <td>35</td>\n",
       "      <td>NaN</td>\n",
       "      <td>136857.00</td>\n",
       "      <td>1</td>\n",
       "      <td>0</td>\n",
       "      <td>0</td>\n",
       "      <td>84509.57</td>\n",
       "      <td>0</td>\n",
       "    </tr>\n",
       "    <tr>\n",
       "      <th>...</th>\n",
       "      <td>...</td>\n",
       "      <td>...</td>\n",
       "      <td>...</td>\n",
       "      <td>...</td>\n",
       "      <td>...</td>\n",
       "      <td>...</td>\n",
       "      <td>...</td>\n",
       "      <td>...</td>\n",
       "      <td>...</td>\n",
       "      <td>...</td>\n",
       "      <td>...</td>\n",
       "      <td>...</td>\n",
       "      <td>...</td>\n",
       "      <td>...</td>\n",
       "    </tr>\n",
       "    <tr>\n",
       "      <th>9944</th>\n",
       "      <td>9945</td>\n",
       "      <td>15703923</td>\n",
       "      <td>Cameron</td>\n",
       "      <td>744</td>\n",
       "      <td>Germany</td>\n",
       "      <td>Male</td>\n",
       "      <td>41</td>\n",
       "      <td>NaN</td>\n",
       "      <td>190409.34</td>\n",
       "      <td>2</td>\n",
       "      <td>1</td>\n",
       "      <td>1</td>\n",
       "      <td>138361.48</td>\n",
       "      <td>0</td>\n",
       "    </tr>\n",
       "    <tr>\n",
       "      <th>9956</th>\n",
       "      <td>9957</td>\n",
       "      <td>15707861</td>\n",
       "      <td>Nucci</td>\n",
       "      <td>520</td>\n",
       "      <td>France</td>\n",
       "      <td>Female</td>\n",
       "      <td>46</td>\n",
       "      <td>NaN</td>\n",
       "      <td>85216.61</td>\n",
       "      <td>1</td>\n",
       "      <td>1</td>\n",
       "      <td>0</td>\n",
       "      <td>117369.52</td>\n",
       "      <td>1</td>\n",
       "    </tr>\n",
       "    <tr>\n",
       "      <th>9964</th>\n",
       "      <td>9965</td>\n",
       "      <td>15642785</td>\n",
       "      <td>Douglas</td>\n",
       "      <td>479</td>\n",
       "      <td>France</td>\n",
       "      <td>Male</td>\n",
       "      <td>34</td>\n",
       "      <td>NaN</td>\n",
       "      <td>117593.48</td>\n",
       "      <td>2</td>\n",
       "      <td>0</td>\n",
       "      <td>0</td>\n",
       "      <td>113308.29</td>\n",
       "      <td>0</td>\n",
       "    </tr>\n",
       "    <tr>\n",
       "      <th>9985</th>\n",
       "      <td>9986</td>\n",
       "      <td>15586914</td>\n",
       "      <td>Nepean</td>\n",
       "      <td>659</td>\n",
       "      <td>France</td>\n",
       "      <td>Male</td>\n",
       "      <td>36</td>\n",
       "      <td>NaN</td>\n",
       "      <td>123841.49</td>\n",
       "      <td>2</td>\n",
       "      <td>1</td>\n",
       "      <td>0</td>\n",
       "      <td>96833.00</td>\n",
       "      <td>0</td>\n",
       "    </tr>\n",
       "    <tr>\n",
       "      <th>9999</th>\n",
       "      <td>10000</td>\n",
       "      <td>15628319</td>\n",
       "      <td>Walker</td>\n",
       "      <td>792</td>\n",
       "      <td>France</td>\n",
       "      <td>Female</td>\n",
       "      <td>28</td>\n",
       "      <td>NaN</td>\n",
       "      <td>130142.79</td>\n",
       "      <td>1</td>\n",
       "      <td>1</td>\n",
       "      <td>0</td>\n",
       "      <td>38190.78</td>\n",
       "      <td>0</td>\n",
       "    </tr>\n",
       "  </tbody>\n",
       "</table>\n",
       "<p>909 rows × 14 columns</p>\n",
       "</div>"
      ],
      "text/plain": [
       "      row_number  customer_id    surname  credit_score geography  gender  age  \\\n",
       "30            31     15589475    Azikiwe           591     Spain  Female   39   \n",
       "48            49     15766205        Yin           550   Germany    Male   38   \n",
       "51            52     15768193  Trevisani           585   Germany    Male   36   \n",
       "53            54     15702298   Parkhill           655   Germany    Male   41   \n",
       "60            61     15651280     Hunter           742   Germany    Male   35   \n",
       "...          ...          ...        ...           ...       ...     ...  ...   \n",
       "9944        9945     15703923    Cameron           744   Germany    Male   41   \n",
       "9956        9957     15707861      Nucci           520    France  Female   46   \n",
       "9964        9965     15642785    Douglas           479    France    Male   34   \n",
       "9985        9986     15586914     Nepean           659    France    Male   36   \n",
       "9999       10000     15628319     Walker           792    France  Female   28   \n",
       "\n",
       "      tenure    balance  num_of_products  has_cr_card  is_active_member  \\\n",
       "30       NaN       0.00                3            1                 0   \n",
       "48       NaN  103391.38                1            0                 1   \n",
       "51       NaN  146050.97                2            0                 0   \n",
       "53       NaN  125561.97                1            0                 0   \n",
       "60       NaN  136857.00                1            0                 0   \n",
       "...      ...        ...              ...          ...               ...   \n",
       "9944     NaN  190409.34                2            1                 1   \n",
       "9956     NaN   85216.61                1            1                 0   \n",
       "9964     NaN  117593.48                2            0                 0   \n",
       "9985     NaN  123841.49                2            1                 0   \n",
       "9999     NaN  130142.79                1            1                 0   \n",
       "\n",
       "      estimated_salary  exited  \n",
       "30           140469.38       1  \n",
       "48            90878.13       0  \n",
       "51            86424.57       0  \n",
       "53           164040.94       1  \n",
       "60            84509.57       0  \n",
       "...                ...     ...  \n",
       "9944         138361.48       0  \n",
       "9956         117369.52       1  \n",
       "9964         113308.29       0  \n",
       "9985          96833.00       0  \n",
       "9999          38190.78       0  \n",
       "\n",
       "[909 rows x 14 columns]"
      ]
     },
     "execution_count": 42,
     "metadata": {},
     "output_type": "execute_result"
    }
   ],
   "source": [
    "df[df['tenure'].isna()]"
   ]
  },
  {
   "cell_type": "code",
   "execution_count": 43,
   "id": "0202b310",
   "metadata": {},
   "outputs": [
    {
     "data": {
      "image/png": "[encoded data removed]",
      "text/plain": [
       "<Figure size 1500x500 with 2 Axes>"
      ]
     },
     "metadata": {},
     "output_type": "display_data"
    }
   ],
   "source": [
    "plt.figure(figsize=(15, 5))\n",
    "plt.title('Матрица корреляций зависимости качественных признаков')\n",
    "sns.heatmap(df.corr(), annot = True)\n",
    "plt.show()"
   ]
  },
  {
   "cell_type": "markdown",
   "id": "84cd2adc",
   "metadata": {},
   "source": [
    "Признаки коррелируют между собой слабо - выделяется только положительная корреляция в 0.29 между признаком `age` и `exited`, а так же негативная корреляция -0.3 между `numofproducts` и `balance`. Корреляция параметра `tenure` со всеми остальными - мала. В связи с этим, чтобы не удалять пропуски и не ухудшать результаты обучения моделей, мне кажется корректным замена пропусков на медиану."
   ]
  },
  {
   "cell_type": "code",
   "execution_count": 44,
   "id": "17f5acf9",
   "metadata": {},
   "outputs": [],
   "source": [
    "df_filled = df\n",
    "df_filled['tenure'] = df_filled['tenure'].fillna(df_filled['tenure'].median())"
   ]
  },
  {
   "cell_type": "code",
   "execution_count": 45,
   "id": "98e0fd77",
   "metadata": {},
   "outputs": [
    {
     "data": {
      "image/png": "[encoded data removed]",
      "text/plain": [
       "<Figure size 640x480 with 4 Axes>"
      ]
     },
     "metadata": {},
     "output_type": "display_data"
    }
   ],
   "source": [
    "fig, (ax1, ax2) = plt.subplots(1,2)\n",
    "plt.title('Матрица корреляций зависимости признаков')\n",
    "\n",
    "sns.heatmap(df.corr()[['tenure']], annot = True, ax=ax1)\n",
    "sns.heatmap(df_filled.corr()[['tenure']], annot = True, yticklabels=False, ax=ax2)\n",
    "\n",
    "plt.show()"
   ]
  },
  {
   "cell_type": "markdown",
   "id": "6da2527f",
   "metadata": {},
   "source": [
    "Корреляции не поменялись, все в порядке. Заодно отбросим все столбцы, не играющие роли в обучении модели."
   ]
  },
  {
   "cell_type": "code",
   "execution_count": 46,
   "id": "ea91607f",
   "metadata": {},
   "outputs": [],
   "source": [
    "df = df_filled\n",
    "df = df.drop(['surname', 'row_number', 'customer_id'], axis=1)"
   ]
  },
  {
   "cell_type": "markdown",
   "id": "7ece98f1",
   "metadata": {},
   "source": [
    "## Дисбаланс классов"
   ]
  },
  {
   "cell_type": "code",
   "execution_count": 47,
   "id": "120cbbc0",
   "metadata": {},
   "outputs": [
    {
     "data": {
      "image/png": "[encoded data removed]",
      "text/plain": [
       "<Figure size 800x200 with 1 Axes>"
      ]
     },
     "metadata": {},
     "output_type": "display_data"
    }
   ],
   "source": [
    "plt.figure(figsize=(8,2))\n",
    "sns.countplot(data = df, y='exited')\n",
    "plt.title('Класс \"Exited\"')\n",
    "plt.xlabel('Кол-во значений')\n",
    "plt.ylabel('Значение');"
   ]
  },
  {
   "cell_type": "code",
   "execution_count": 48,
   "id": "bb63a1bc",
   "metadata": {},
   "outputs": [
    {
     "name": "stdout",
     "output_type": "stream",
     "text": [
      "Доли значений:\n"
     ]
    },
    {
     "data": {
      "text/plain": [
       "0    0.7963\n",
       "1    0.2037\n",
       "Name: exited, dtype: float64"
      ]
     },
     "execution_count": 48,
     "metadata": {},
     "output_type": "execute_result"
    }
   ],
   "source": [
    "print('Доли значений:')\n",
    "df['exited'].value_counts() / len(df)"
   ]
  },
  {
   "cell_type": "markdown",
   "id": "372b630b",
   "metadata": {},
   "source": [
    "Классы несбалансированы. В целях исследования указано сначала изучить поведение моделей без их взвешивания, но лучше исследовать дисбаланс сразу. "
   ]
  },
  {
   "cell_type": "markdown",
   "id": "c98ef9dc",
   "metadata": {},
   "source": [
    "## Стандартизация и OHE, разбиение на выборки"
   ]
  },
  {
   "cell_type": "code",
   "execution_count": 49,
   "id": "61fb67a5",
   "metadata": {},
   "outputs": [
    {
     "name": "stdout",
     "output_type": "stream",
     "text": [
      "Размер тренировочной выборки: 6000\n",
      "Размер валидационной выборки: 2000\n",
      "Размер тестовой выборки: 2000\n"
     ]
    }
   ],
   "source": [
    "X = df.drop(['exited'], axis=1)\n",
    "y = df['exited']\n",
    "\n",
    "X_train, X_valid, y_train, y_valid = train_test_split(X, y, train_size=0.6, test_size=0.4,\n",
    "                                                      random_state=RANDOM_STATE,stratify=y)\n",
    "X_test, X_valid, y_test, y_valid = train_test_split(X_valid, y_valid, test_size=0.5,\n",
    "                                                    random_state=RANDOM_STATE,stratify=y_valid)\n",
    "\n",
    "print('Размер тренировочной выборки:', X_train.shape[0])\n",
    "print('Размер валидационной выборки:', X_valid.shape[0])\n",
    "print('Размер тестовой выборки:',X_test.shape[0])"
   ]
  },
  {
   "cell_type": "code",
   "execution_count": 50,
   "id": "03c208d8",
   "metadata": {},
   "outputs": [],
   "source": [
    "num_features = ['credit_score', 'age', 'tenure', 'balance', 'num_of_products', 'estimated_salary']\n",
    "\n",
    "scaler = StandardScaler()\n",
    "scaler.fit(X_train[num_features])\n",
    "\n",
    "X_train[num_features] = pd.DataFrame(scaler.transform(X_train[num_features]), columns=X_train[num_features].columns, \\\n",
    "                                                                            index=X_train[num_features].index)\n",
    "X_valid[num_features] = pd.DataFrame(scaler.transform(X_valid[num_features]), columns=X_valid[num_features].columns, \\\n",
    "                                                                            index=X_valid[num_features].index)\n",
    "X_test[num_features] = pd.DataFrame(scaler.transform(X_test[num_features]), columns=X_test[num_features].columns, \\\n",
    "                                                                            index=X_test[num_features].index)"
   ]
  },
  {
   "cell_type": "code",
   "execution_count": 52,
   "id": "58258080",
   "metadata": {},
   "outputs": [],
   "source": [
    "cat_features = ['gender', 'geography']\n",
    "ohe_encoder = OneHotEncoder(drop='first', sparse=False)\n",
    "\n",
    "train_temp = ohe_encoder.fit_transform(X_train[cat_features]) #обучение и применение к train\n",
    "X_train[ohe_encoder.get_feature_names()] = train_temp \n",
    "X_train.drop(cat_features, axis=1, inplace=True) \n",
    "\n",
    "valid_temp = ohe_encoder.transform(X_valid[cat_features]) #применение к valid\n",
    "X_valid[ohe_encoder.get_feature_names()] = valid_temp \n",
    "X_valid.drop(cat_features, axis=1, inplace=True) \n",
    "\n",
    "test_temp = ohe_encoder.transform(X_test[cat_features]) #применение к test\n",
    "X_test[ohe_encoder.get_feature_names()] = test_temp \n",
    "X_test.drop(cat_features, axis=1, inplace=True) "
   ]
  },
  {
   "cell_type": "markdown",
   "id": "41a70c2f",
   "metadata": {},
   "source": [
    "## Исследование задачи без учета дисбаланса классов"
   ]
  },
  {
   "cell_type": "markdown",
   "id": "d2db4557",
   "metadata": {},
   "source": [
    "### Логистическая регрессия"
   ]
  },
  {
   "cell_type": "code",
   "execution_count": 53,
   "id": "ab0eafed",
   "metadata": {},
   "outputs": [
    {
     "name": "stdout",
     "output_type": "stream",
     "text": [
      "F1: 0.2932330827067669\n"
     ]
    }
   ],
   "source": [
    "model = LogisticRegression(random_state=RANDOM_STATE, solver='liblinear')\n",
    "model.fit(X_train, y_train)\n",
    "y_pred = model.predict(X_valid)\n",
    "print(\"F1:\", f1_score(y_valid, y_pred))\n",
    "#вероятности пресдсказания положительного класса\n",
    "prob_exited_val = model.predict_proba(X_valid)[:, 1]"
   ]
  },
  {
   "cell_type": "markdown",
   "id": "795ad66f",
   "metadata": {},
   "source": [
    "Результат неутешительный. Стоит попробовать найти оптимальный threshold."
   ]
  },
  {
   "cell_type": "code",
   "execution_count": 54,
   "id": "94b1c344",
   "metadata": {},
   "outputs": [],
   "source": [
    "f1 = pd.DataFrame()\n",
    "for threshold in np.arange(0.05, 0.95, 0.05):\n",
    "    y_pred = list(map(float, prob_exited_val > threshold))\n",
    "    f1 = f1.append({\n",
    "        'Порог'    : threshold, \n",
    "        'F1'       : f1_score(y_valid, y_pred)}, \n",
    "    ignore_index=True)"
   ]
  },
  {
   "cell_type": "code",
   "execution_count": 55,
   "id": "c641ae21",
   "metadata": {},
   "outputs": [
    {
     "data": {
      "image/png": "[encoded data removed]",
      "text/plain": [
       "<Figure size 640x480 with 1 Axes>"
      ]
     },
     "metadata": {},
     "output_type": "display_data"
    }
   ],
   "source": [
    "f1.plot(x='Порог', y='F1', ylabel='F1');"
   ]
  },
  {
   "cell_type": "code",
   "execution_count": 56,
   "id": "48a78ac6",
   "metadata": {},
   "outputs": [
    {
     "data": {
      "text/html": [
       "<div>\n",
       "<style scoped>\n",
       "    .dataframe tbody tr th:only-of-type {\n",
       "        vertical-align: middle;\n",
       "    }\n",
       "\n",
       "    .dataframe tbody tr th {\n",
       "        vertical-align: top;\n",
       "    }\n",
       "\n",
       "    .dataframe thead th {\n",
       "        text-align: right;\n",
       "    }\n",
       "</style>\n",
       "<table border=\"1\" class=\"dataframe\">\n",
       "  <thead>\n",
       "    <tr style=\"text-align: right;\">\n",
       "      <th></th>\n",
       "      <th>F1</th>\n",
       "      <th>Порог</th>\n",
       "    </tr>\n",
       "  </thead>\n",
       "  <tbody>\n",
       "    <tr>\n",
       "      <th>3</th>\n",
       "      <td>0.473552</td>\n",
       "      <td>0.20</td>\n",
       "    </tr>\n",
       "    <tr>\n",
       "      <th>4</th>\n",
       "      <td>0.465164</td>\n",
       "      <td>0.25</td>\n",
       "    </tr>\n",
       "    <tr>\n",
       "      <th>5</th>\n",
       "      <td>0.458537</td>\n",
       "      <td>0.30</td>\n",
       "    </tr>\n",
       "  </tbody>\n",
       "</table>\n",
       "</div>"
      ],
      "text/plain": [
       "         F1  Порог\n",
       "3  0.473552   0.20\n",
       "4  0.465164   0.25\n",
       "5  0.458537   0.30"
      ]
     },
     "execution_count": 56,
     "metadata": {},
     "output_type": "execute_result"
    }
   ],
   "source": [
    "f1.sort_values(by='F1',ascending=False).head(3)"
   ]
  },
  {
   "cell_type": "markdown",
   "id": "0df33383",
   "metadata": {},
   "source": [
    "Оптимальный порог для модели - 0.2. С ним F1-score модели равен ~0.47. Это неудовлетворительный результат."
   ]
  },
  {
   "cell_type": "code",
   "execution_count": 57,
   "id": "585a70a1",
   "metadata": {},
   "outputs": [
    {
     "data": {
      "image/png": "[encoded data removed]",
      "text/plain": [
       "<Figure size 640x480 with 1 Axes>"
      ]
     },
     "metadata": {},
     "output_type": "display_data"
    }
   ],
   "source": [
    "y_pred_proba = model.predict_proba(X_valid)[::,1]\n",
    "fpr, tpr, _ = metrics.roc_curve(y_valid, y_pred_proba)\n",
    "auc = metrics.roc_auc_score(y_valid, y_pred_proba)\n",
    "\n",
    "plt.plot (fpr,tpr,label=\" AUC= \"+str(auc))\n",
    "plt.ylabel('True Positive Rate')\n",
    "plt.xlabel('False Positive Rate')\n",
    "plt.legend(loc=4)\n",
    "plt.title('ROC кривая для логистической регрессии')\n",
    "plt.show() "
   ]
  },
  {
   "cell_type": "markdown",
   "id": "80016673",
   "metadata": {},
   "source": [
    "### Решающее дерево"
   ]
  },
  {
   "cell_type": "code",
   "execution_count": 58,
   "id": "1a955a84",
   "metadata": {},
   "outputs": [],
   "source": [
    "best_depth = 0\n",
    "f1_best = 0\n",
    "\n",
    "for depth in range(2, 20):\n",
    "    model = DecisionTreeClassifier(random_state=RANDOM_STATE, max_depth=depth)\n",
    "    model.fit(X_train, y_train)\n",
    "    y_pred = model.predict(X_valid)\n",
    "    f1 = f1_score(y_valid, y_pred)\n",
    "    if f1 > f1_best:\n",
    "        best_depth = depth\n",
    "        f1_best = f1"
   ]
  },
  {
   "cell_type": "code",
   "execution_count": 59,
   "id": "186dc002",
   "metadata": {},
   "outputs": [
    {
     "name": "stdout",
     "output_type": "stream",
     "text": [
      "F1: 0.5520361990950227\n"
     ]
    }
   ],
   "source": [
    "model = DecisionTreeClassifier(random_state=RANDOM_STATE, max_depth=best_depth)\n",
    "model.fit(X_train, y_train)\n",
    "y_pred = model.predict(X_valid)\n",
    "print(\"F1:\", f1_score(y_valid, y_pred))"
   ]
  },
  {
   "cell_type": "code",
   "execution_count": 60,
   "id": "ec702963",
   "metadata": {},
   "outputs": [
    {
     "data": {
      "image/png": "[encoded data removed]",
      "text/plain": [
       "<Figure size 640x480 with 1 Axes>"
      ]
     },
     "metadata": {},
     "output_type": "display_data"
    }
   ],
   "source": [
    "y_pred_proba = model.predict_proba(X_valid)[::,1]\n",
    "fpr, tpr, _ = metrics.roc_curve(y_valid, y_pred_proba)\n",
    "auc = metrics.roc_auc_score(y_valid, y_pred_proba)\n",
    "\n",
    "plt.plot (fpr,tpr,label=\" AUC= \"+str(auc))\n",
    "plt.ylabel('True Positive Rate')\n",
    "plt.xlabel('False Positive Rate')\n",
    "plt.legend(loc=4)\n",
    "plt.title('ROC кривая для решающего дерева')\n",
    "plt.show() "
   ]
  },
  {
   "cell_type": "markdown",
   "id": "adf5a4a0",
   "metadata": {},
   "source": [
    "Уже лучше, но результат неудовлетворителен. "
   ]
  },
  {
   "cell_type": "markdown",
   "id": "428ffa5c",
   "metadata": {},
   "source": [
    "### Случайный лес"
   ]
  },
  {
   "cell_type": "code",
   "execution_count": 61,
   "id": "f72c1379",
   "metadata": {},
   "outputs": [],
   "source": [
    "best_est = 0\n",
    "best_depth = 0\n",
    "f1_best = 0\n",
    "\n",
    "for est in np.arange(5, 50, 5):\n",
    "    for depth in range(2, 20):\n",
    "        model = RandomForestClassifier(random_state=RANDOM_STATE, max_depth=depth, n_estimators=est)\n",
    "        model.fit(X_train, y_train)\n",
    "        y_pred = model.predict(X_valid)\n",
    "        f1 = f1_score(y_valid, y_pred)\n",
    "        if f1 > f1_best:\n",
    "            best_depth = depth\n",
    "            best_est=est\n",
    "            f1_best = f1"
   ]
  },
  {
   "cell_type": "code",
   "execution_count": 62,
   "id": "70e178e8",
   "metadata": {},
   "outputs": [
    {
     "name": "stdout",
     "output_type": "stream",
     "text": [
      "F1: 0.5561643835616439\n"
     ]
    }
   ],
   "source": [
    "model = RandomForestClassifier(random_state=RANDOM_STATE, max_depth=best_depth, n_estimators=best_est)\n",
    "model.fit(X_train, y_train)\n",
    "y_pred = model.predict(X_valid)\n",
    "print(\"F1:\", f1_score(y_valid, y_pred))"
   ]
  },
  {
   "cell_type": "code",
   "execution_count": 63,
   "id": "05a23af9",
   "metadata": {},
   "outputs": [
    {
     "data": {
      "image/png": "[encoded data removed]",
      "text/plain": [
       "<Figure size 640x480 with 1 Axes>"
      ]
     },
     "metadata": {},
     "output_type": "display_data"
    }
   ],
   "source": [
    "y_pred_proba = model.predict_proba(X_valid)[::,1]\n",
    "fpr, tpr, _ = metrics.roc_curve(y_valid, y_pred_proba)\n",
    "auc = metrics.roc_auc_score(y_valid, y_pred_proba)\n",
    "\n",
    "plt.plot (fpr,tpr,label=\" AUC= \"+str(auc))\n",
    "plt.ylabel('True Positive Rate')\n",
    "plt.xlabel('False Positive Rate')\n",
    "plt.legend(loc=4)\n",
    "plt.title('ROC кривая для случайного леса')\n",
    "plt.show() "
   ]
  },
  {
   "cell_type": "markdown",
   "id": "6a2b0c46",
   "metadata": {},
   "source": [
    "Это лучший результат на несбалансированной выборке:\n",
    " * F1-score = 0.55\n",
    " * AUC = 0.79"
   ]
  },
  {
   "cell_type": "markdown",
   "id": "393afcde",
   "metadata": {},
   "source": [
    "Тем не менее, результат неудовлетворительный, нужно сбалансировать классы."
   ]
  },
  {
   "cell_type": "markdown",
   "id": "86990f23",
   "metadata": {},
   "source": [
    "## Борьба с дисбалансом"
   ]
  },
  {
   "cell_type": "markdown",
   "id": "81b0927b",
   "metadata": {},
   "source": [
    "### Взвешивание"
   ]
  },
  {
   "cell_type": "code",
   "execution_count": 64,
   "id": "9968f553",
   "metadata": {},
   "outputs": [],
   "source": [
    "best_est = 0\n",
    "best_depth = 0\n",
    "f1_best = 0\n",
    "\n",
    "for est in np.arange(5, 50, 5):\n",
    "    for depth in range(2, 20):\n",
    "        model = RandomForestClassifier(random_state=RANDOM_STATE, max_depth=depth, n_estimators=est, class_weight='balanced')\n",
    "        model.fit(X_train, y_train)\n",
    "        y_pred = model.predict(X_valid)\n",
    "        f1 = f1_score(y_valid, y_pred)\n",
    "        if f1 > f1_best:\n",
    "            best_depth = depth\n",
    "            best_est=est\n",
    "            f1_best = f1"
   ]
  },
  {
   "cell_type": "code",
   "execution_count": 65,
   "id": "b6e12335",
   "metadata": {},
   "outputs": [
    {
     "name": "stdout",
     "output_type": "stream",
     "text": [
      "F1: 0.6146892655367232\n"
     ]
    }
   ],
   "source": [
    "model = RandomForestClassifier(random_state=RANDOM_STATE, max_depth=best_depth, n_estimators=best_est,class_weight='balanced')\n",
    "model.fit(X_train, y_train)\n",
    "y_pred = model.predict(X_valid)\n",
    "print(\"F1:\", f1_score(y_valid, y_pred))"
   ]
  },
  {
   "cell_type": "code",
   "execution_count": 66,
   "id": "efcbc8ea",
   "metadata": {},
   "outputs": [
    {
     "data": {
      "image/png": "[encoded data removed]",
      "text/plain": [
       "<Figure size 640x480 with 1 Axes>"
      ]
     },
     "metadata": {},
     "output_type": "display_data"
    }
   ],
   "source": [
    "y_pred_proba = model.predict_proba(X_valid)[::,1]\n",
    "fpr, tpr, _ = metrics.roc_curve(y_valid, y_pred_proba)\n",
    "auc = metrics.roc_auc_score(y_valid, y_pred_proba)\n",
    "\n",
    "plt.plot (fpr,tpr,label=\" AUC= \"+str(auc))\n",
    "plt.ylabel('True Positive Rate')\n",
    "plt.xlabel('False Positive Rate')\n",
    "plt.legend(loc=4)\n",
    "plt.title('ROC кривая для случайного леса (классы сбалансированы)')\n",
    "plt.show() "
   ]
  },
  {
   "cell_type": "markdown",
   "id": "6e73e74c",
   "metadata": {},
   "source": [
    "Результат при взвешивании классов удовлетворителен. Попробуем улучшить его."
   ]
  },
  {
   "cell_type": "markdown",
   "id": "ca3d3a99",
   "metadata": {},
   "source": [
    "### Up- и downsampling"
   ]
  },
  {
   "cell_type": "markdown",
   "id": "ff3b3d3a",
   "metadata": {},
   "source": [
    "Напишем фунеции для семплирования"
   ]
  },
  {
   "cell_type": "code",
   "execution_count": 67,
   "id": "c85580f0",
   "metadata": {},
   "outputs": [],
   "source": [
    "def upsample(features, target, multiplier):\n",
    "    \n",
    "    features_zeros = features[target == 0]\n",
    "    features_ones = features[target == 1]\n",
    "    target_zeros = target[target == 0]\n",
    "    target_ones = target[target == 1]\n",
    "\n",
    "    features_upsampled = pd.concat([features_zeros] + [features_ones] * multiplier)\n",
    "    target_upsampled = pd.concat([target_zeros] + [target_ones] * multiplier)\n",
    "        \n",
    "    return shuffle(features_upsampled, target_upsampled, random_state=RANDOM_STATE)\n",
    "\n",
    "\n",
    "def downsample(features, target, divider):\n",
    "    \n",
    "    features_zeros = features[target == 0].sample(frac=divider, random_state=RANDOM_STATE)\n",
    "    features_ones = features[target == 1]\n",
    "    target_zeros = target[target == 0].sample(frac=divider, random_state=RANDOM_STATE)\n",
    "    target_ones = target[target == 1]\n",
    "\n",
    "    features_downsampled = pd.concat([features_zeros] + [features_ones]) \n",
    "    target_downsampled = pd.concat([target_zeros] + [target_ones])\n",
    "     \n",
    "    return shuffle(features_downsampled, target_downsampled, random_state=RANDOM_STATE)"
   ]
  },
  {
   "cell_type": "code",
   "execution_count": 68,
   "id": "f8befa2b",
   "metadata": {},
   "outputs": [],
   "source": [
    "count = y_train.value_counts()\n",
    "\n",
    "X_upsampled, y_upsampled = upsample(X_train, y_train, round(count[0]/count[1]))\n",
    "X_downsampled, y_downsampled = downsample(X_train, y_train, count[1]/count[0])"
   ]
  },
  {
   "cell_type": "markdown",
   "id": "372a7d7b",
   "metadata": {},
   "source": [
    "Увеличение/уменьшение выборок происходит в ~4 раза, т.к. отношение классов примерно одна четвертая."
   ]
  },
  {
   "cell_type": "code",
   "execution_count": 69,
   "id": "c406c5b8",
   "metadata": {},
   "outputs": [
    {
     "name": "stdout",
     "output_type": "stream",
     "text": [
      "F1 (upsampled): 0.6120331950207468\n",
      "Best depth (upsampled): 8\n",
      "Best estimators (upsampled): 35\n"
     ]
    }
   ],
   "source": [
    "best_est_up = 0\n",
    "best_depth_up = 0\n",
    "f1_best_up = 0\n",
    "\n",
    "for est in np.arange(5, 50, 5):\n",
    "    for depth in range(2, 20):\n",
    "        model = RandomForestClassifier(random_state=RANDOM_STATE, max_depth=depth, n_estimators=est)\n",
    "        model.fit(X_upsampled, y_upsampled)\n",
    "        y_pred = model.predict(X_valid)\n",
    "        f1 = f1_score(y_valid, y_pred)\n",
    "        if f1 > f1_best_up:\n",
    "            best_depth_up = depth\n",
    "            best_est_up=est\n",
    "            f1_best_up = f1\n",
    "            \n",
    "model = RandomForestClassifier(random_state=RANDOM_STATE, max_depth=best_depth_up, n_estimators=best_est_up)\n",
    "model.fit(X_upsampled, y_upsampled)\n",
    "y_pred = model.predict(X_valid)\n",
    "print(\"F1 (upsampled):\", f1_score(y_valid, y_pred))\n",
    "print(\"Best depth (upsampled):\", best_depth_up)\n",
    "print(\"Best estimators (upsampled):\", best_est_up)"
   ]
  },
  {
   "cell_type": "code",
   "execution_count": 70,
   "id": "5846fbb2",
   "metadata": {},
   "outputs": [
    {
     "data": {
      "image/png": "[encoded data removed]",
      "text/plain": [
       "<Figure size 640x480 with 1 Axes>"
      ]
     },
     "metadata": {},
     "output_type": "display_data"
    }
   ],
   "source": [
    "y_pred_proba = model.predict_proba(X_valid)[::,1]\n",
    "fpr, tpr, _ = metrics.roc_curve(y_valid, y_pred_proba)\n",
    "auc = metrics.roc_auc_score(y_valid, y_pred_proba)\n",
    "\n",
    "plt.plot (fpr,tpr,label=\" AUC= \"+str(auc))\n",
    "plt.ylabel('True Positive Rate')\n",
    "plt.xlabel('False Positive Rate')\n",
    "plt.legend(loc=4)\n",
    "plt.title('ROC кривая для случайного леса (upsampled)')\n",
    "plt.show() "
   ]
  },
  {
   "cell_type": "code",
   "execution_count": 71,
   "id": "5b592c3e",
   "metadata": {},
   "outputs": [
    {
     "name": "stdout",
     "output_type": "stream",
     "text": [
      "F1 (downsampled): 0.5902578796561605\n",
      "Best depth (downsampled): 7\n",
      "Best estimators (downsampled): 45\n"
     ]
    }
   ],
   "source": [
    "best_est_down = 0\n",
    "best_depth_down = 0\n",
    "f1_best_down = 0\n",
    "\n",
    "for est in np.arange(5, 50, 5):\n",
    "    for depth in range(2, 20):\n",
    "        model = RandomForestClassifier(random_state=RANDOM_STATE, max_depth=depth, n_estimators=est)\n",
    "        model.fit(X_downsampled, y_downsampled)\n",
    "        y_pred = model.predict(X_valid)\n",
    "        f1 = f1_score(y_valid, y_pred)\n",
    "        if f1 > f1_best_down:\n",
    "            best_depth_down = depth\n",
    "            best_est_down=est\n",
    "            f1_best_down = f1\n",
    "            \n",
    "model = RandomForestClassifier(random_state=RANDOM_STATE, max_depth=best_depth_down, n_estimators=best_est_down)\n",
    "model.fit(X_downsampled, y_downsampled)\n",
    "y_pred = model.predict(X_valid)\n",
    "print(\"F1 (downsampled):\", f1_score(y_valid, y_pred))\n",
    "print(\"Best depth (downsampled):\", best_depth_down)\n",
    "print(\"Best estimators (downsampled):\", best_est_down)"
   ]
  },
  {
   "cell_type": "code",
   "execution_count": 72,
   "id": "f32198c0",
   "metadata": {},
   "outputs": [
    {
     "data": {
      "image/png": "[encoded data removed]",
      "text/plain": [
       "<Figure size 640x480 with 1 Axes>"
      ]
     },
     "metadata": {},
     "output_type": "display_data"
    }
   ],
   "source": [
    "y_pred_proba = model.predict_proba(X_valid)[::,1]\n",
    "fpr, tpr, _ = metrics.roc_curve(y_valid, y_pred_proba)\n",
    "auc = metrics.roc_auc_score(y_valid, y_pred_proba)\n",
    "\n",
    "plt.plot (fpr,tpr,label=\" AUC= \"+str(auc))\n",
    "plt.ylabel('True Positive Rate')\n",
    "plt.xlabel('False Positive Rate')\n",
    "plt.legend(loc=4)\n",
    "plt.title('ROC кривая для случайного леса (downsampled)')\n",
    "plt.show() "
   ]
  },
  {
   "cell_type": "markdown",
   "id": "6aa62837",
   "metadata": {},
   "source": [
    "Как видим, в нашем случае upsampling работает немного лучше, чем простое взвешивание классов. Downsampling же работает значительно хуже. Остается лишь протестировать модель."
   ]
  },
  {
   "cell_type": "markdown",
   "id": "8f9d369f",
   "metadata": {},
   "source": [
    "## Тестирование модели"
   ]
  },
  {
   "cell_type": "code",
   "execution_count": 73,
   "id": "e4f3a5fd",
   "metadata": {},
   "outputs": [
    {
     "name": "stdout",
     "output_type": "stream",
     "text": [
      "F1-score validate: 0.6120\n",
      "             test: 0.6379\n",
      "Accuracy validate: 0.8130\n",
      "             test: 0.8240\n",
      "         fit time: 0.0000 s \n",
      "\n"
     ]
    }
   ],
   "source": [
    "final_model = RandomForestClassifier(random_state=RANDOM_STATE, max_depth=best_depth_up, n_estimators=best_est_up)\n",
    "final_model.fit(X_upsampled, y_upsampled)\n",
    "start = time.time()\n",
    "fit_time = time.time() - start\n",
    "print('F1-score validate: {:.4f}'.format(f1_score(y_valid, final_model.predict(X_valid))))\n",
    "print('             test: {:.4f}'.format(f1_score(y_test, final_model.predict(X_test))))\n",
    "print('Accuracy validate: {:.4f}'.format(final_model.score(X_valid, y_valid)))\n",
    "print('             test: {:.4f}'.format(final_model.score(X_test, y_test)))\n",
    "print('         fit time: {:.4f} s \\n'.format(fit_time))"
   ]
  },
  {
   "cell_type": "code",
   "execution_count": 74,
   "id": "7e23714b",
   "metadata": {},
   "outputs": [
    {
     "data": {
      "image/png": "[encoded data removed]",
      "text/plain": [
       "<Figure size 640x480 with 1 Axes>"
      ]
     },
     "metadata": {},
     "output_type": "display_data"
    }
   ],
   "source": [
    "y_pred_proba = final_model.predict_proba(X_test)[::,1]\n",
    "fpr, tpr, _ = metrics.roc_curve(y_test, y_pred_proba)\n",
    "auc = metrics.roc_auc_score(y_test, y_pred_proba)\n",
    "\n",
    "plt.plot (fpr,tpr,label=\" AUC= \"+str(auc))\n",
    "plt.ylabel('True Positive Rate')\n",
    "plt.xlabel('False Positive Rate')\n",
    "plt.legend(loc=4)\n",
    "plt.title('ROC кривая для случайного леса (upsampled), тестовая выборка')\n",
    "plt.show() "
   ]
  },
  {
   "cell_type": "markdown",
   "id": "9242341a",
   "metadata": {},
   "source": [
    "Итого, лучшая полученная модель показывает следующие результаты на тестовой выборке:\n",
    "   * F1-score: 0.63\n",
    "   * Accuracy score: 0.82\n",
    "   * AUC: 0.87"
   ]
  },
  {
   "cell_type": "markdown",
   "id": "1d205d8e",
   "metadata": {},
   "source": [
    "## Вывод"
   ]
  },
  {
   "cell_type": "markdown",
   "id": "1ad5602a",
   "metadata": {},
   "source": [
    "Датасет был предобработан, недочеты были устранены, он готов к последующей над ним работе.\n",
    "В ходе исследования было изучено три модели: \n",
    "* Логистическая регрессия\n",
    "* Дерево решений\n",
    "* Случайный лес\n",
    "Работа проходила следующим образом: каждую модель обучали и использовали на валидационной выборке **БЕЗ** учета дисбаланса классов. Для каждой модели оптимизировались гиперпараметры, и находились лучшие метрики F1-score и AUC. Также для каждой модели была построена ROC кривая. В результате этого исследования была выбрана модель, показавшая лучший результат (случайный лес). Оптимизация модели продолжилась, были применены три метода борьбы с дисбалансом - взвешивание, up- и downsampling. Из них был выбран лучший (upsampling). \n",
    "На тестовой выборке были получены результаты:\n",
    "* F1-score: 0.63\n",
    "* Accuracy score: 0.82\n",
    "* AUC: 0.87\n",
    "При требовании к F1-score >0.59. Была получена адекватная модель с хорошими показателями."
   ]
  },
  {
   "cell_type": "code",
   "execution_count": null,
   "id": "12da1efd",
   "metadata": {},
   "outputs": [],
   "source": []
  }
 ],
 "metadata": {
  "ExecuteTimeLog": [
   {
    "duration": 1789,
    "start_time": "2023-09-19T10:28:03.906Z"
   },
   {
    "duration": 83,
    "start_time": "2023-09-19T10:29:10.064Z"
   },
   {
    "duration": 26,
    "start_time": "2023-09-19T10:29:22.764Z"
   },
   {
    "duration": 13,
    "start_time": "2023-09-19T10:29:25.587Z"
   },
   {
    "duration": 6,
    "start_time": "2023-09-19T10:31:41.288Z"
   },
   {
    "duration": 26,
    "start_time": "2023-09-19T10:31:43.694Z"
   },
   {
    "duration": 1055,
    "start_time": "2023-09-19T10:31:45.297Z"
   },
   {
    "duration": 4,
    "start_time": "2023-09-19T10:31:56.360Z"
   },
   {
    "duration": 501,
    "start_time": "2023-09-19T10:32:18.730Z"
   },
   {
    "duration": 4,
    "start_time": "2023-09-19T10:32:23.745Z"
   },
   {
    "duration": 188,
    "start_time": "2023-09-19T10:34:26.826Z"
   },
   {
    "duration": 7,
    "start_time": "2023-09-19T10:34:42.310Z"
   },
   {
    "duration": 22,
    "start_time": "2023-09-19T10:34:53.942Z"
   },
   {
    "duration": 41,
    "start_time": "2023-09-19T10:37:35.921Z"
   },
   {
    "duration": 11,
    "start_time": "2023-09-19T10:38:12.127Z"
   },
   {
    "duration": 10,
    "start_time": "2023-09-19T10:38:15.116Z"
   },
   {
    "duration": 1458,
    "start_time": "2023-09-19T10:47:23.602Z"
   },
   {
    "duration": 41,
    "start_time": "2023-09-19T10:47:25.062Z"
   },
   {
    "duration": 15,
    "start_time": "2023-09-19T10:47:25.104Z"
   },
   {
    "duration": 12,
    "start_time": "2023-09-19T10:47:25.121Z"
   },
   {
    "duration": 11,
    "start_time": "2023-09-19T10:47:25.135Z"
   },
   {
    "duration": 19,
    "start_time": "2023-09-19T10:47:25.147Z"
   },
   {
    "duration": 1001,
    "start_time": "2023-09-19T10:47:25.167Z"
   },
   {
    "duration": 4,
    "start_time": "2023-09-19T10:47:26.170Z"
   },
   {
    "duration": 454,
    "start_time": "2023-09-19T10:47:26.176Z"
   },
   {
    "duration": 3,
    "start_time": "2023-09-19T10:47:26.632Z"
   },
   {
    "duration": 205,
    "start_time": "2023-09-19T10:47:26.637Z"
   },
   {
    "duration": 10,
    "start_time": "2023-09-19T10:47:26.844Z"
   },
   {
    "duration": 21,
    "start_time": "2023-09-19T10:47:26.856Z"
   },
   {
    "duration": 32,
    "start_time": "2023-09-19T10:47:26.879Z"
   },
   {
    "duration": 9,
    "start_time": "2023-09-19T10:47:26.913Z"
   },
   {
    "duration": 32,
    "start_time": "2023-09-19T10:47:26.923Z"
   },
   {
    "duration": 34,
    "start_time": "2023-09-19T10:47:26.956Z"
   },
   {
    "duration": 169,
    "start_time": "2023-09-19T10:47:27.051Z"
   },
   {
    "duration": 145,
    "start_time": "2023-09-19T10:47:27.222Z"
   },
   {
    "duration": 7,
    "start_time": "2023-09-19T10:47:27.369Z"
   },
   {
    "duration": 306,
    "start_time": "2023-09-19T10:47:27.377Z"
   },
   {
    "duration": 382,
    "start_time": "2023-09-19T10:47:27.685Z"
   },
   {
    "duration": 20,
    "start_time": "2023-09-19T10:47:28.069Z"
   },
   {
    "duration": 159,
    "start_time": "2023-09-19T10:47:28.090Z"
   },
   {
    "duration": 20112,
    "start_time": "2023-09-19T10:47:28.250Z"
   },
   {
    "duration": 164,
    "start_time": "2023-09-19T10:47:48.364Z"
   },
   {
    "duration": 158,
    "start_time": "2023-09-19T10:47:48.529Z"
   },
   {
    "duration": 20962,
    "start_time": "2023-09-19T10:47:48.688Z"
   },
   {
    "duration": 224,
    "start_time": "2023-09-19T10:48:09.652Z"
   },
   {
    "duration": 169,
    "start_time": "2023-09-19T10:48:09.877Z"
   },
   {
    "duration": 4,
    "start_time": "2023-09-19T10:48:10.050Z"
   },
   {
    "duration": 53,
    "start_time": "2023-09-19T10:48:10.056Z"
   },
   {
    "duration": 27763,
    "start_time": "2023-09-19T10:48:10.110Z"
   },
   {
    "duration": 164,
    "start_time": "2023-09-19T10:48:37.874Z"
   },
   {
    "duration": 11674,
    "start_time": "2023-09-19T10:48:38.039Z"
   },
   {
    "duration": 156,
    "start_time": "2023-09-19T10:48:49.715Z"
   },
   {
    "duration": 228,
    "start_time": "2023-09-19T10:48:49.872Z"
   },
   {
    "duration": 165,
    "start_time": "2023-09-19T10:48:50.102Z"
   },
   {
    "duration": 1941,
    "start_time": "2023-09-19T14:32:22.877Z"
   },
   {
    "duration": 141,
    "start_time": "2023-09-19T14:32:24.821Z"
   },
   {
    "duration": 20,
    "start_time": "2023-09-19T14:32:25.622Z"
   },
   {
    "duration": 14,
    "start_time": "2023-09-19T14:32:26.175Z"
   },
   {
    "duration": 8,
    "start_time": "2023-09-19T14:32:27.735Z"
   },
   {
    "duration": 23,
    "start_time": "2023-09-19T14:32:29.396Z"
   },
   {
    "duration": 1285,
    "start_time": "2023-09-19T14:32:30.161Z"
   },
   {
    "duration": 4,
    "start_time": "2023-09-19T14:32:33.283Z"
   },
   {
    "duration": 584,
    "start_time": "2023-09-19T14:32:33.919Z"
   },
   {
    "duration": 130,
    "start_time": "2023-09-19T14:32:59.676Z"
   },
   {
    "duration": 5,
    "start_time": "2023-09-19T14:33:57.215Z"
   },
   {
    "duration": 5,
    "start_time": "2023-09-19T14:35:10.324Z"
   },
   {
    "duration": 116,
    "start_time": "2023-09-19T14:35:11.738Z"
   },
   {
    "duration": 14,
    "start_time": "2023-09-19T14:35:12.414Z"
   },
   {
    "duration": 14,
    "start_time": "2023-09-19T14:35:13.185Z"
   },
   {
    "duration": 8,
    "start_time": "2023-09-19T14:35:21.470Z"
   },
   {
    "duration": 24,
    "start_time": "2023-09-19T14:35:25.096Z"
   },
   {
    "duration": 1123,
    "start_time": "2023-09-19T14:35:27.340Z"
   },
   {
    "duration": 5,
    "start_time": "2023-09-19T14:35:28.465Z"
   },
   {
    "duration": 570,
    "start_time": "2023-09-19T14:35:28.471Z"
   },
   {
    "duration": 13,
    "start_time": "2023-09-19T14:35:29.043Z"
   },
   {
    "duration": 149,
    "start_time": "2023-09-19T14:35:29.351Z"
   },
   {
    "duration": 9,
    "start_time": "2023-09-19T14:35:29.811Z"
   },
   {
    "duration": 5,
    "start_time": "2023-09-19T14:38:25.529Z"
   },
   {
    "duration": 186,
    "start_time": "2023-09-19T14:38:30.725Z"
   },
   {
    "duration": 8,
    "start_time": "2023-09-19T14:38:31.410Z"
   },
   {
    "duration": 25,
    "start_time": "2023-09-19T14:39:21.172Z"
   },
   {
    "duration": 13,
    "start_time": "2023-09-19T14:44:20.472Z"
   },
   {
    "duration": 18,
    "start_time": "2023-09-19T14:45:24.690Z"
   },
   {
    "duration": 22,
    "start_time": "2023-09-19T14:45:33.411Z"
   },
   {
    "duration": 15,
    "start_time": "2023-09-19T14:46:07.879Z"
   },
   {
    "duration": 6,
    "start_time": "2023-09-19T14:47:22.955Z"
   },
   {
    "duration": 26,
    "start_time": "2023-09-19T14:48:55.555Z"
   },
   {
    "duration": 55,
    "start_time": "2023-09-19T14:48:56.856Z"
   },
   {
    "duration": 13,
    "start_time": "2023-09-19T14:48:59.663Z"
   },
   {
    "duration": 42,
    "start_time": "2023-09-19T14:49:42.737Z"
   },
   {
    "duration": 20,
    "start_time": "2023-09-19T14:49:44.160Z"
   },
   {
    "duration": 15,
    "start_time": "2023-09-19T14:51:23.829Z"
   },
   {
    "duration": 39,
    "start_time": "2023-09-19T14:51:24.481Z"
   },
   {
    "duration": 17,
    "start_time": "2023-09-19T14:56:20.792Z"
   },
   {
    "duration": 17,
    "start_time": "2023-09-19T14:57:08.067Z"
   },
   {
    "duration": 23,
    "start_time": "2023-09-19T14:57:33.880Z"
   },
   {
    "duration": 18,
    "start_time": "2023-09-19T14:57:48.280Z"
   },
   {
    "duration": 15,
    "start_time": "2023-09-19T14:57:50.941Z"
   },
   {
    "duration": 1602,
    "start_time": "2023-09-19T14:58:14.216Z"
   },
   {
    "duration": 46,
    "start_time": "2023-09-19T14:58:15.821Z"
   },
   {
    "duration": 19,
    "start_time": "2023-09-19T14:58:16.003Z"
   },
   {
    "duration": 19,
    "start_time": "2023-09-19T14:58:16.383Z"
   },
   {
    "duration": 9,
    "start_time": "2023-09-19T14:58:17.335Z"
   },
   {
    "duration": 35,
    "start_time": "2023-09-19T14:58:17.835Z"
   },
   {
    "duration": 1374,
    "start_time": "2023-09-19T14:58:18.012Z"
   },
   {
    "duration": 6,
    "start_time": "2023-09-19T14:58:19.389Z"
   },
   {
    "duration": 591,
    "start_time": "2023-09-19T14:58:19.863Z"
   },
   {
    "duration": 4,
    "start_time": "2023-09-19T14:58:20.457Z"
   },
   {
    "duration": 234,
    "start_time": "2023-09-19T14:58:21.230Z"
   },
   {
    "duration": 9,
    "start_time": "2023-09-19T14:58:21.466Z"
   },
   {
    "duration": 23,
    "start_time": "2023-09-19T14:58:23.814Z"
   },
   {
    "duration": 24,
    "start_time": "2023-09-19T14:58:25.917Z"
   },
   {
    "duration": 136,
    "start_time": "2023-09-19T14:59:30.980Z"
   },
   {
    "duration": 41,
    "start_time": "2023-09-19T15:00:03.459Z"
   },
   {
    "duration": 15,
    "start_time": "2023-09-19T15:01:36.124Z"
   },
   {
    "duration": 16,
    "start_time": "2023-09-19T15:01:47.197Z"
   },
   {
    "duration": 5,
    "start_time": "2023-09-19T15:02:44.318Z"
   },
   {
    "duration": 1515,
    "start_time": "2023-09-19T15:05:06.455Z"
   },
   {
    "duration": 44,
    "start_time": "2023-09-19T15:05:07.972Z"
   },
   {
    "duration": 18,
    "start_time": "2023-09-19T15:05:08.472Z"
   },
   {
    "duration": 16,
    "start_time": "2023-09-19T15:05:08.980Z"
   },
   {
    "duration": 8,
    "start_time": "2023-09-19T15:05:10.194Z"
   },
   {
    "duration": 23,
    "start_time": "2023-09-19T15:05:10.770Z"
   },
   {
    "duration": 1124,
    "start_time": "2023-09-19T15:05:10.926Z"
   },
   {
    "duration": 5,
    "start_time": "2023-09-19T15:05:12.052Z"
   },
   {
    "duration": 560,
    "start_time": "2023-09-19T15:05:12.097Z"
   },
   {
    "duration": 5,
    "start_time": "2023-09-19T15:05:13.125Z"
   },
   {
    "duration": 254,
    "start_time": "2023-09-19T15:05:14.106Z"
   },
   {
    "duration": 8,
    "start_time": "2023-09-19T15:05:14.362Z"
   },
   {
    "duration": 4,
    "start_time": "2023-09-19T15:05:15.943Z"
   },
   {
    "duration": 19,
    "start_time": "2023-09-19T15:05:17.438Z"
   },
   {
    "duration": 30,
    "start_time": "2023-09-19T15:05:18.643Z"
   },
   {
    "duration": 14,
    "start_time": "2023-09-19T15:05:41.392Z"
   },
   {
    "duration": 14,
    "start_time": "2023-09-19T15:05:49.205Z"
   },
   {
    "duration": 13,
    "start_time": "2023-09-19T15:07:02.063Z"
   },
   {
    "duration": 327,
    "start_time": "2023-09-19T15:08:05.178Z"
   },
   {
    "duration": 5,
    "start_time": "2023-09-19T15:09:48.815Z"
   },
   {
    "duration": 204,
    "start_time": "2023-09-19T15:09:56.900Z"
   },
   {
    "duration": 113,
    "start_time": "2023-09-19T15:11:01.601Z"
   },
   {
    "duration": 99,
    "start_time": "2023-09-19T15:14:12.410Z"
   },
   {
    "duration": 10,
    "start_time": "2023-09-19T15:14:35.561Z"
   },
   {
    "duration": 78,
    "start_time": "2023-09-19T15:14:41.935Z"
   },
   {
    "duration": 107,
    "start_time": "2023-09-19T15:14:46.012Z"
   },
   {
    "duration": 189,
    "start_time": "2023-09-19T15:14:46.802Z"
   },
   {
    "duration": 12,
    "start_time": "2023-09-19T15:14:49.912Z"
   },
   {
    "duration": 6,
    "start_time": "2023-09-19T15:15:27.467Z"
   },
   {
    "duration": 102,
    "start_time": "2023-09-19T15:15:31.993Z"
   },
   {
    "duration": 178,
    "start_time": "2023-09-19T15:15:32.629Z"
   },
   {
    "duration": 9,
    "start_time": "2023-09-19T15:15:33.755Z"
   },
   {
    "duration": 354,
    "start_time": "2023-09-19T15:15:38.624Z"
   },
   {
    "duration": 344,
    "start_time": "2023-09-19T15:16:10.574Z"
   },
   {
    "duration": 476,
    "start_time": "2023-09-19T15:16:12.532Z"
   },
   {
    "duration": 28,
    "start_time": "2023-09-19T15:16:14.235Z"
   },
   {
    "duration": 204,
    "start_time": "2023-09-19T15:16:15.548Z"
   },
   {
    "duration": 25534,
    "start_time": "2023-09-19T15:16:20.743Z"
   },
   {
    "duration": 60,
    "start_time": "2023-09-19T15:16:46.280Z"
   },
   {
    "duration": 195,
    "start_time": "2023-09-19T15:16:57.784Z"
   },
   {
    "duration": 24963,
    "start_time": "2023-09-19T15:17:09.021Z"
   },
   {
    "duration": 264,
    "start_time": "2023-09-19T15:17:33.986Z"
   },
   {
    "duration": 230,
    "start_time": "2023-09-19T15:17:37.821Z"
   },
   {
    "duration": 6,
    "start_time": "2023-09-19T15:17:47.019Z"
   },
   {
    "duration": 22,
    "start_time": "2023-09-19T15:19:20.350Z"
   },
   {
    "duration": 35540,
    "start_time": "2023-09-19T15:19:22.487Z"
   },
   {
    "duration": 209,
    "start_time": "2023-09-19T15:19:58.029Z"
   },
   {
    "duration": 14820,
    "start_time": "2023-09-19T15:19:58.240Z"
   },
   {
    "duration": 213,
    "start_time": "2023-09-19T15:20:13.063Z"
   },
   {
    "duration": 1571,
    "start_time": "2023-09-19T15:21:28.651Z"
   },
   {
    "duration": 44,
    "start_time": "2023-09-19T15:21:30.224Z"
   },
   {
    "duration": 23,
    "start_time": "2023-09-19T15:21:30.270Z"
   },
   {
    "duration": 173,
    "start_time": "2023-09-19T15:21:30.296Z"
   },
   {
    "duration": 0,
    "start_time": "2023-09-19T15:21:30.472Z"
   },
   {
    "duration": 0,
    "start_time": "2023-09-19T15:21:30.473Z"
   },
   {
    "duration": 0,
    "start_time": "2023-09-19T15:21:30.477Z"
   },
   {
    "duration": 0,
    "start_time": "2023-09-19T15:21:30.478Z"
   },
   {
    "duration": 0,
    "start_time": "2023-09-19T15:21:30.479Z"
   },
   {
    "duration": 0,
    "start_time": "2023-09-19T15:21:30.481Z"
   },
   {
    "duration": 0,
    "start_time": "2023-09-19T15:21:30.482Z"
   },
   {
    "duration": 0,
    "start_time": "2023-09-19T15:21:30.484Z"
   },
   {
    "duration": 1,
    "start_time": "2023-09-19T15:21:30.501Z"
   },
   {
    "duration": 0,
    "start_time": "2023-09-19T15:21:30.503Z"
   },
   {
    "duration": 0,
    "start_time": "2023-09-19T15:21:30.505Z"
   },
   {
    "duration": 0,
    "start_time": "2023-09-19T15:21:30.506Z"
   },
   {
    "duration": 0,
    "start_time": "2023-09-19T15:21:30.508Z"
   },
   {
    "duration": 0,
    "start_time": "2023-09-19T15:21:30.508Z"
   },
   {
    "duration": 0,
    "start_time": "2023-09-19T15:21:30.510Z"
   },
   {
    "duration": 0,
    "start_time": "2023-09-19T15:21:30.511Z"
   },
   {
    "duration": 0,
    "start_time": "2023-09-19T15:21:30.513Z"
   },
   {
    "duration": 0,
    "start_time": "2023-09-19T15:21:30.514Z"
   },
   {
    "duration": 0,
    "start_time": "2023-09-19T15:21:30.516Z"
   },
   {
    "duration": 0,
    "start_time": "2023-09-19T15:21:30.517Z"
   },
   {
    "duration": 0,
    "start_time": "2023-09-19T15:21:30.518Z"
   },
   {
    "duration": 0,
    "start_time": "2023-09-19T15:21:30.520Z"
   },
   {
    "duration": 0,
    "start_time": "2023-09-19T15:21:30.521Z"
   },
   {
    "duration": 0,
    "start_time": "2023-09-19T15:21:30.522Z"
   },
   {
    "duration": 0,
    "start_time": "2023-09-19T15:21:30.523Z"
   },
   {
    "duration": 0,
    "start_time": "2023-09-19T15:21:30.525Z"
   },
   {
    "duration": 0,
    "start_time": "2023-09-19T15:21:30.526Z"
   },
   {
    "duration": 0,
    "start_time": "2023-09-19T15:21:30.527Z"
   },
   {
    "duration": 0,
    "start_time": "2023-09-19T15:21:30.529Z"
   },
   {
    "duration": 0,
    "start_time": "2023-09-19T15:21:30.531Z"
   },
   {
    "duration": 0,
    "start_time": "2023-09-19T15:21:30.532Z"
   },
   {
    "duration": 0,
    "start_time": "2023-09-19T15:21:30.535Z"
   },
   {
    "duration": 0,
    "start_time": "2023-09-19T15:21:30.536Z"
   },
   {
    "duration": 6,
    "start_time": "2023-09-19T15:21:44.937Z"
   },
   {
    "duration": 1666,
    "start_time": "2023-09-19T15:21:48.296Z"
   },
   {
    "duration": 50,
    "start_time": "2023-09-19T15:21:49.965Z"
   },
   {
    "duration": 23,
    "start_time": "2023-09-19T15:21:50.017Z"
   },
   {
    "duration": 92,
    "start_time": "2023-09-19T15:21:50.043Z"
   },
   {
    "duration": 18,
    "start_time": "2023-09-19T15:21:50.138Z"
   },
   {
    "duration": 69,
    "start_time": "2023-09-19T15:21:50.158Z"
   },
   {
    "duration": 1253,
    "start_time": "2023-09-19T15:21:50.229Z"
   },
   {
    "duration": 6,
    "start_time": "2023-09-19T15:21:51.484Z"
   },
   {
    "duration": 573,
    "start_time": "2023-09-19T15:21:51.491Z"
   },
   {
    "duration": 5,
    "start_time": "2023-09-19T15:21:52.067Z"
   },
   {
    "duration": 346,
    "start_time": "2023-09-19T15:21:52.073Z"
   },
   {
    "duration": 10,
    "start_time": "2023-09-19T15:21:52.422Z"
   },
   {
    "duration": 34,
    "start_time": "2023-09-19T15:21:52.434Z"
   },
   {
    "duration": 53,
    "start_time": "2023-09-19T15:21:52.470Z"
   },
   {
    "duration": 190,
    "start_time": "2023-09-19T15:21:52.525Z"
   },
   {
    "duration": 0,
    "start_time": "2023-09-19T15:21:52.718Z"
   },
   {
    "duration": 0,
    "start_time": "2023-09-19T15:21:52.719Z"
   },
   {
    "duration": 0,
    "start_time": "2023-09-19T15:21:52.720Z"
   },
   {
    "duration": 0,
    "start_time": "2023-09-19T15:21:52.721Z"
   },
   {
    "duration": 0,
    "start_time": "2023-09-19T15:21:52.723Z"
   },
   {
    "duration": 0,
    "start_time": "2023-09-19T15:21:52.724Z"
   },
   {
    "duration": 0,
    "start_time": "2023-09-19T15:21:52.725Z"
   },
   {
    "duration": 0,
    "start_time": "2023-09-19T15:21:52.726Z"
   },
   {
    "duration": 0,
    "start_time": "2023-09-19T15:21:52.727Z"
   },
   {
    "duration": 0,
    "start_time": "2023-09-19T15:21:52.728Z"
   },
   {
    "duration": 0,
    "start_time": "2023-09-19T15:21:52.729Z"
   },
   {
    "duration": 0,
    "start_time": "2023-09-19T15:21:52.730Z"
   },
   {
    "duration": 0,
    "start_time": "2023-09-19T15:21:52.731Z"
   },
   {
    "duration": 0,
    "start_time": "2023-09-19T15:21:52.732Z"
   },
   {
    "duration": 0,
    "start_time": "2023-09-19T15:21:52.733Z"
   },
   {
    "duration": 0,
    "start_time": "2023-09-19T15:21:52.735Z"
   },
   {
    "duration": 0,
    "start_time": "2023-09-19T15:21:52.736Z"
   },
   {
    "duration": 0,
    "start_time": "2023-09-19T15:21:52.737Z"
   },
   {
    "duration": 0,
    "start_time": "2023-09-19T15:21:52.738Z"
   },
   {
    "duration": 0,
    "start_time": "2023-09-19T15:21:52.740Z"
   },
   {
    "duration": 0,
    "start_time": "2023-09-19T15:21:52.741Z"
   },
   {
    "duration": 0,
    "start_time": "2023-09-19T15:21:52.742Z"
   },
   {
    "duration": 1537,
    "start_time": "2023-09-19T15:23:09.947Z"
   },
   {
    "duration": 45,
    "start_time": "2023-09-19T15:23:11.486Z"
   },
   {
    "duration": 18,
    "start_time": "2023-09-19T15:23:11.533Z"
   },
   {
    "duration": 22,
    "start_time": "2023-09-19T15:23:11.553Z"
   },
   {
    "duration": 8,
    "start_time": "2023-09-19T15:23:11.577Z"
   },
   {
    "duration": 35,
    "start_time": "2023-09-19T15:23:11.586Z"
   },
   {
    "duration": 1179,
    "start_time": "2023-09-19T15:23:11.623Z"
   },
   {
    "duration": 5,
    "start_time": "2023-09-19T15:23:12.804Z"
   },
   {
    "duration": 567,
    "start_time": "2023-09-19T15:23:12.810Z"
   },
   {
    "duration": 4,
    "start_time": "2023-09-19T15:23:13.381Z"
   },
   {
    "duration": 298,
    "start_time": "2023-09-19T15:23:13.387Z"
   },
   {
    "duration": 17,
    "start_time": "2023-09-19T15:23:13.688Z"
   },
   {
    "duration": 17,
    "start_time": "2023-09-19T15:23:13.707Z"
   },
   {
    "duration": 36,
    "start_time": "2023-09-19T15:23:13.726Z"
   },
   {
    "duration": 60,
    "start_time": "2023-09-19T15:23:13.763Z"
   },
   {
    "duration": 255,
    "start_time": "2023-09-19T15:23:13.825Z"
   },
   {
    "duration": 197,
    "start_time": "2023-09-19T15:23:14.082Z"
   },
   {
    "duration": 21,
    "start_time": "2023-09-19T15:23:14.281Z"
   },
   {
    "duration": 420,
    "start_time": "2023-09-19T15:23:14.304Z"
   },
   {
    "duration": 503,
    "start_time": "2023-09-19T15:23:14.727Z"
   },
   {
    "duration": 26,
    "start_time": "2023-09-19T15:23:15.232Z"
   },
   {
    "duration": 200,
    "start_time": "2023-09-19T15:23:15.260Z"
   },
   {
    "duration": 25270,
    "start_time": "2023-09-19T15:23:15.462Z"
   },
   {
    "duration": 51,
    "start_time": "2023-09-19T15:23:40.734Z"
   },
   {
    "duration": 204,
    "start_time": "2023-09-19T15:23:40.787Z"
   },
   {
    "duration": 25460,
    "start_time": "2023-09-19T15:23:41.001Z"
   },
   {
    "duration": 272,
    "start_time": "2023-09-19T15:24:06.463Z"
   },
   {
    "duration": 219,
    "start_time": "2023-09-19T15:24:06.740Z"
   },
   {
    "duration": 7,
    "start_time": "2023-09-19T15:24:06.961Z"
   },
   {
    "duration": 41,
    "start_time": "2023-09-19T15:24:06.970Z"
   },
   {
    "duration": 34738,
    "start_time": "2023-09-19T15:24:07.013Z"
   },
   {
    "duration": 207,
    "start_time": "2023-09-19T15:24:41.754Z"
   },
   {
    "duration": 14757,
    "start_time": "2023-09-19T15:24:41.963Z"
   },
   {
    "duration": 206,
    "start_time": "2023-09-19T15:24:56.722Z"
   },
   {
    "duration": 130,
    "start_time": "2023-09-19T15:24:56.930Z"
   },
   {
    "duration": 0,
    "start_time": "2023-09-19T15:24:57.062Z"
   },
   {
    "duration": 1606,
    "start_time": "2023-09-19T15:26:27.306Z"
   },
   {
    "duration": 45,
    "start_time": "2023-09-19T15:26:28.914Z"
   },
   {
    "duration": 19,
    "start_time": "2023-09-19T15:26:28.961Z"
   },
   {
    "duration": 20,
    "start_time": "2023-09-19T15:26:28.982Z"
   },
   {
    "duration": 26,
    "start_time": "2023-09-19T15:26:29.004Z"
   },
   {
    "duration": 64,
    "start_time": "2023-09-19T15:26:29.032Z"
   },
   {
    "duration": 1176,
    "start_time": "2023-09-19T15:26:29.098Z"
   },
   {
    "duration": 5,
    "start_time": "2023-09-19T15:26:30.276Z"
   },
   {
    "duration": 766,
    "start_time": "2023-09-19T15:26:30.283Z"
   },
   {
    "duration": 4,
    "start_time": "2023-09-19T15:26:31.052Z"
   },
   {
    "duration": 293,
    "start_time": "2023-09-19T15:26:31.058Z"
   },
   {
    "duration": 8,
    "start_time": "2023-09-19T15:26:31.353Z"
   },
   {
    "duration": 164,
    "start_time": "2023-09-19T15:26:31.363Z"
   },
   {
    "duration": 147,
    "start_time": "2023-09-19T15:26:31.529Z"
   },
   {
    "duration": 326,
    "start_time": "2023-09-19T15:26:31.678Z"
   },
   {
    "duration": 302,
    "start_time": "2023-09-19T15:26:32.007Z"
   },
   {
    "duration": 203,
    "start_time": "2023-09-19T15:26:32.311Z"
   },
   {
    "duration": 9,
    "start_time": "2023-09-19T15:26:32.516Z"
   },
   {
    "duration": 374,
    "start_time": "2023-09-19T15:26:32.527Z"
   },
   {
    "duration": 465,
    "start_time": "2023-09-19T15:26:32.903Z"
   },
   {
    "duration": 34,
    "start_time": "2023-09-19T15:26:33.370Z"
   },
   {
    "duration": 198,
    "start_time": "2023-09-19T15:26:33.406Z"
   },
   {
    "duration": 25107,
    "start_time": "2023-09-19T15:26:33.606Z"
   },
   {
    "duration": 49,
    "start_time": "2023-09-19T15:26:58.715Z"
   },
   {
    "duration": 209,
    "start_time": "2023-09-19T15:26:58.765Z"
   },
   {
    "duration": 24907,
    "start_time": "2023-09-19T15:26:58.976Z"
   },
   {
    "duration": 243,
    "start_time": "2023-09-19T15:27:23.885Z"
   },
   {
    "duration": 228,
    "start_time": "2023-09-19T15:27:24.131Z"
   },
   {
    "duration": 6,
    "start_time": "2023-09-19T15:27:24.361Z"
   },
   {
    "duration": 62,
    "start_time": "2023-09-19T15:27:24.368Z"
   },
   {
    "duration": 33769,
    "start_time": "2023-09-19T15:27:24.432Z"
   },
   {
    "duration": 200,
    "start_time": "2023-09-19T15:27:58.203Z"
   },
   {
    "duration": 14665,
    "start_time": "2023-09-19T15:27:58.405Z"
   },
   {
    "duration": 216,
    "start_time": "2023-09-19T15:28:13.072Z"
   },
   {
    "duration": 146,
    "start_time": "2023-09-19T15:28:13.290Z"
   },
   {
    "duration": 0,
    "start_time": "2023-09-19T15:28:13.439Z"
   },
   {
    "duration": 1607,
    "start_time": "2023-09-19T15:31:02.498Z"
   },
   {
    "duration": 48,
    "start_time": "2023-09-19T15:31:04.107Z"
   },
   {
    "duration": 220,
    "start_time": "2023-09-19T15:31:04.157Z"
   },
   {
    "duration": 81,
    "start_time": "2023-09-19T15:31:04.380Z"
   },
   {
    "duration": 49,
    "start_time": "2023-09-19T15:31:04.463Z"
   },
   {
    "duration": 58,
    "start_time": "2023-09-19T15:31:04.514Z"
   },
   {
    "duration": 1223,
    "start_time": "2023-09-19T15:31:04.575Z"
   },
   {
    "duration": 6,
    "start_time": "2023-09-19T15:31:05.800Z"
   },
   {
    "duration": 664,
    "start_time": "2023-09-19T15:31:05.807Z"
   },
   {
    "duration": 5,
    "start_time": "2023-09-19T15:31:06.473Z"
   },
   {
    "duration": 251,
    "start_time": "2023-09-19T15:31:06.480Z"
   },
   {
    "duration": 10,
    "start_time": "2023-09-19T15:31:06.733Z"
   },
   {
    "duration": 54,
    "start_time": "2023-09-19T15:31:06.744Z"
   },
   {
    "duration": 119,
    "start_time": "2023-09-19T15:31:06.800Z"
   },
   {
    "duration": 84,
    "start_time": "2023-09-19T15:31:06.920Z"
   },
   {
    "duration": 283,
    "start_time": "2023-09-19T15:31:07.007Z"
   },
   {
    "duration": 205,
    "start_time": "2023-09-19T15:31:07.293Z"
   },
   {
    "duration": 9,
    "start_time": "2023-09-19T15:31:07.501Z"
   },
   {
    "duration": 354,
    "start_time": "2023-09-19T15:31:07.512Z"
   },
   {
    "duration": 466,
    "start_time": "2023-09-19T15:31:07.868Z"
   },
   {
    "duration": 27,
    "start_time": "2023-09-19T15:31:08.336Z"
   },
   {
    "duration": 204,
    "start_time": "2023-09-19T15:31:08.365Z"
   },
   {
    "duration": 24965,
    "start_time": "2023-09-19T15:31:08.572Z"
   },
   {
    "duration": 50,
    "start_time": "2023-09-19T15:31:33.539Z"
   },
   {
    "duration": 189,
    "start_time": "2023-09-19T15:31:33.604Z"
   },
   {
    "duration": 25152,
    "start_time": "2023-09-19T15:31:33.796Z"
   },
   {
    "duration": 279,
    "start_time": "2023-09-19T15:31:58.950Z"
   },
   {
    "duration": 252,
    "start_time": "2023-09-19T15:31:59.234Z"
   },
   {
    "duration": 14,
    "start_time": "2023-09-19T15:31:59.488Z"
   },
   {
    "duration": 37,
    "start_time": "2023-09-19T15:31:59.505Z"
   },
   {
    "duration": 33896,
    "start_time": "2023-09-19T15:31:59.543Z"
   },
   {
    "duration": 0,
    "start_time": "2023-09-19T15:32:33.441Z"
   },
   {
    "duration": 0,
    "start_time": "2023-09-19T15:32:33.442Z"
   },
   {
    "duration": 0,
    "start_time": "2023-09-19T15:32:33.444Z"
   },
   {
    "duration": 0,
    "start_time": "2023-09-19T15:32:33.445Z"
   },
   {
    "duration": 0,
    "start_time": "2023-09-19T15:32:33.446Z"
   },
   {
    "duration": 33202,
    "start_time": "2023-09-19T15:34:45.909Z"
   },
   {
    "duration": 33522,
    "start_time": "2023-09-19T15:35:40.553Z"
   },
   {
    "duration": 1514,
    "start_time": "2023-09-19T15:36:25.151Z"
   },
   {
    "duration": 44,
    "start_time": "2023-09-19T15:36:26.667Z"
   },
   {
    "duration": 17,
    "start_time": "2023-09-19T15:36:26.713Z"
   },
   {
    "duration": 32,
    "start_time": "2023-09-19T15:36:26.733Z"
   },
   {
    "duration": 12,
    "start_time": "2023-09-19T15:36:26.767Z"
   },
   {
    "duration": 34,
    "start_time": "2023-09-19T15:36:26.780Z"
   },
   {
    "duration": 1167,
    "start_time": "2023-09-19T15:36:26.815Z"
   },
   {
    "duration": 6,
    "start_time": "2023-09-19T15:36:27.985Z"
   },
   {
    "duration": 589,
    "start_time": "2023-09-19T15:36:27.994Z"
   },
   {
    "duration": 5,
    "start_time": "2023-09-19T15:36:28.586Z"
   },
   {
    "duration": 268,
    "start_time": "2023-09-19T15:36:28.600Z"
   },
   {
    "duration": 8,
    "start_time": "2023-09-19T15:36:28.870Z"
   },
   {
    "duration": 39,
    "start_time": "2023-09-19T15:36:28.879Z"
   },
   {
    "duration": 29,
    "start_time": "2023-09-19T15:36:28.919Z"
   },
   {
    "duration": 53,
    "start_time": "2023-09-19T15:36:28.950Z"
   },
   {
    "duration": 276,
    "start_time": "2023-09-19T15:36:29.006Z"
   },
   {
    "duration": 191,
    "start_time": "2023-09-19T15:36:29.284Z"
   },
   {
    "duration": 9,
    "start_time": "2023-09-19T15:36:29.477Z"
   },
   {
    "duration": 378,
    "start_time": "2023-09-19T15:36:29.487Z"
   },
   {
    "duration": 457,
    "start_time": "2023-09-19T15:36:29.867Z"
   },
   {
    "duration": 26,
    "start_time": "2023-09-19T15:36:30.326Z"
   },
   {
    "duration": 328,
    "start_time": "2023-09-19T15:36:30.353Z"
   },
   {
    "duration": 24609,
    "start_time": "2023-09-19T15:36:30.683Z"
   },
   {
    "duration": 54,
    "start_time": "2023-09-19T15:36:55.294Z"
   },
   {
    "duration": 192,
    "start_time": "2023-09-19T15:36:55.350Z"
   },
   {
    "duration": 24780,
    "start_time": "2023-09-19T15:36:55.544Z"
   },
   {
    "duration": 263,
    "start_time": "2023-09-19T15:37:20.326Z"
   },
   {
    "duration": 210,
    "start_time": "2023-09-19T15:37:20.593Z"
   },
   {
    "duration": 6,
    "start_time": "2023-09-19T15:37:20.805Z"
   },
   {
    "duration": 51,
    "start_time": "2023-09-19T15:37:20.813Z"
   },
   {
    "duration": 33716,
    "start_time": "2023-09-19T15:37:20.866Z"
   },
   {
    "duration": 243,
    "start_time": "2023-09-19T15:37:54.584Z"
   },
   {
    "duration": 14276,
    "start_time": "2023-09-19T15:37:54.830Z"
   },
   {
    "duration": 0,
    "start_time": "2023-09-19T15:38:09.108Z"
   },
   {
    "duration": 0,
    "start_time": "2023-09-19T15:38:09.109Z"
   },
   {
    "duration": 0,
    "start_time": "2023-09-19T15:38:09.110Z"
   },
   {
    "duration": 1522,
    "start_time": "2023-09-19T15:38:44.949Z"
   },
   {
    "duration": 45,
    "start_time": "2023-09-19T15:38:46.473Z"
   },
   {
    "duration": 49,
    "start_time": "2023-09-19T15:38:46.520Z"
   },
   {
    "duration": 23,
    "start_time": "2023-09-19T15:38:46.571Z"
   },
   {
    "duration": 7,
    "start_time": "2023-09-19T15:38:46.596Z"
   },
   {
    "duration": 48,
    "start_time": "2023-09-19T15:38:46.605Z"
   },
   {
    "duration": 1147,
    "start_time": "2023-09-19T15:38:46.655Z"
   },
   {
    "duration": 6,
    "start_time": "2023-09-19T15:38:47.804Z"
   },
   {
    "duration": 581,
    "start_time": "2023-09-19T15:38:47.811Z"
   },
   {
    "duration": 4,
    "start_time": "2023-09-19T15:38:48.400Z"
   },
   {
    "duration": 262,
    "start_time": "2023-09-19T15:38:48.406Z"
   },
   {
    "duration": 9,
    "start_time": "2023-09-19T15:38:48.670Z"
   },
   {
    "duration": 69,
    "start_time": "2023-09-19T15:38:48.681Z"
   },
   {
    "duration": 31,
    "start_time": "2023-09-19T15:38:48.752Z"
   },
   {
    "duration": 116,
    "start_time": "2023-09-19T15:38:48.785Z"
   },
   {
    "duration": 183,
    "start_time": "2023-09-19T15:38:48.907Z"
   },
   {
    "duration": 175,
    "start_time": "2023-09-19T15:38:49.092Z"
   },
   {
    "duration": 9,
    "start_time": "2023-09-19T15:38:49.269Z"
   },
   {
    "duration": 381,
    "start_time": "2023-09-19T15:38:49.279Z"
   },
   {
    "duration": 453,
    "start_time": "2023-09-19T15:38:49.661Z"
   },
   {
    "duration": 25,
    "start_time": "2023-09-19T15:38:50.116Z"
   },
   {
    "duration": 193,
    "start_time": "2023-09-19T15:38:50.143Z"
   },
   {
    "duration": 24173,
    "start_time": "2023-09-19T15:38:50.338Z"
   },
   {
    "duration": 56,
    "start_time": "2023-09-19T15:39:14.512Z"
   },
   {
    "duration": 221,
    "start_time": "2023-09-19T15:39:14.571Z"
   },
   {
    "duration": 24566,
    "start_time": "2023-09-19T15:39:14.800Z"
   },
   {
    "duration": 283,
    "start_time": "2023-09-19T15:39:39.368Z"
   },
   {
    "duration": 230,
    "start_time": "2023-09-19T15:39:39.654Z"
   },
   {
    "duration": 15,
    "start_time": "2023-09-19T15:39:39.887Z"
   },
   {
    "duration": 34,
    "start_time": "2023-09-19T15:39:39.905Z"
   },
   {
    "duration": 33276,
    "start_time": "2023-09-19T15:39:39.941Z"
   },
   {
    "duration": 211,
    "start_time": "2023-09-19T15:40:13.219Z"
   },
   {
    "duration": 14147,
    "start_time": "2023-09-19T15:40:13.431Z"
   },
   {
    "duration": 199,
    "start_time": "2023-09-19T15:40:27.580Z"
   },
   {
    "duration": 317,
    "start_time": "2023-09-19T15:40:27.780Z"
   },
   {
    "duration": 206,
    "start_time": "2023-09-19T15:40:28.101Z"
   },
   {
    "duration": 184,
    "start_time": "2023-09-19T15:42:14.077Z"
   },
   {
    "duration": 5,
    "start_time": "2023-09-19T15:42:57.902Z"
   },
   {
    "duration": 43,
    "start_time": "2023-09-19T15:42:58.611Z"
   },
   {
    "duration": 15,
    "start_time": "2023-09-19T15:42:58.894Z"
   },
   {
    "duration": 16,
    "start_time": "2023-09-19T15:42:59.191Z"
   },
   {
    "duration": 9,
    "start_time": "2023-09-19T15:42:59.909Z"
   },
   {
    "duration": 33,
    "start_time": "2023-09-19T15:43:00.283Z"
   },
   {
    "duration": 1115,
    "start_time": "2023-09-19T15:43:00.435Z"
   },
   {
    "duration": 5,
    "start_time": "2023-09-19T15:43:01.552Z"
   },
   {
    "duration": 804,
    "start_time": "2023-09-19T15:43:01.559Z"
   },
   {
    "duration": 4,
    "start_time": "2023-09-19T15:43:02.365Z"
   },
   {
    "duration": 187,
    "start_time": "2023-09-19T15:43:02.371Z"
   },
   {
    "duration": 7,
    "start_time": "2023-09-19T15:43:02.591Z"
   },
   {
    "duration": 17,
    "start_time": "2023-09-19T15:43:04.245Z"
   },
   {
    "duration": 39,
    "start_time": "2023-09-19T15:43:05.196Z"
   }
  ],
  "kernelspec": {
   "display_name": "Python 3 (ipykernel)",
   "language": "python",
   "name": "python3"
  },
  "language_info": {
   "codemirror_mode": {
    "name": "ipython",
    "version": 3
   },
   "file_extension": ".py",
   "mimetype": "text/x-python",
   "name": "python",
   "nbconvert_exporter": "python",
   "pygments_lexer": "ipython3",
   "version": "3.9.16"
  },
  "toc": {
   "base_numbering": 1,
   "nav_menu": {},
   "number_sections": true,
   "sideBar": true,
   "skip_h1_title": true,
   "title_cell": "Table of Contents",
   "title_sidebar": "Contents",
   "toc_cell": false,
   "toc_position": {},
   "toc_section_display": true,
   "toc_window_display": false
  }
 },
 "nbformat": 4,
 "nbformat_minor": 5
}
