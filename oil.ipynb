{
 "cells": [
  {
   "cell_type": "markdown",
   "id": "7957aa88",
   "metadata": {},
   "source": [
    "# Выбор локации для нефтяной скважины"
   ]
  },
  {
   "cell_type": "markdown",
   "id": "24600b92",
   "metadata": {},
   "source": [
    "Нужно решить, где бурить новую скважину добывающей компании «ГлавРосГосНефть». \n",
    "Шаги для выбора локации обычно такие:\n",
    "* В избранном регионе собирают характеристики для скважин: качество нефти и объём её запасов;\n",
    "* Строят модель для предсказания объёма запасов в новых скважинах;\n",
    "* Выбирают скважины с самыми высокими оценками значений;\n",
    "* Определяют регион с максимальной суммарной прибылью отобранных скважин.\n",
    "\n",
    "Предоставлены пробы нефти в трёх регионах. Характеристики для каждой скважины в регионе уже известны. Построим модель для определения региона, где добыча принесёт наибольшую прибыль. Проанализируем возможную прибыль и риски техникой Bootstrap."
   ]
  },
  {
   "cell_type": "markdown",
   "id": "d117c293",
   "metadata": {},
   "source": [
    "## Описание данных"
   ]
  },
  {
   "cell_type": "markdown",
   "id": "caec1b74",
   "metadata": {},
   "source": [
    "Данные геологоразведки трёх регионов находятся в файлах:\n",
    "* `geo_data_0.csv`\n",
    "* `geo_data_1.csv`\n",
    "* `geo_data_2.csv`\n",
    "\n",
    "Значения в датасетах:\n",
    "* `id` — уникальный идентификатор скважины;\n",
    "* `f0, f1, f2` — три признака точек;\n",
    "* `product` — объём запасов в скважине (тыс. баррелей).\n",
    "\n",
    "Условия задачи:\n",
    "* Для обучения модели подходит только линейная регрессия (остальные — недостаточно предсказуемые).\n",
    "* При разведке региона исследуют 500 точек, из которых с помощью машинного обучения выбирают 200 лучших для разработки.\n",
    "* Бюджет на разработку скважин в регионе — 10 млрд рублей.\n",
    "* При нынешних ценах один баррель сырья приносит 450 рублей дохода. Доход с каждой единицы продукта составляет 450 тыс. рублей, поскольку объём указан в тысячах баррелей.\n",
    "* После оценки рисков нужно оставить лишь те регионы, в которых вероятность убытков меньше 2.5%. Среди них выбирают регион с наибольшей средней прибылью."
   ]
  },
  {
   "cell_type": "markdown",
   "id": "cb32f636",
   "metadata": {},
   "source": [
    "## Иморты и константы"
   ]
  },
  {
   "cell_type": "code",
   "execution_count": 1,
   "id": "f37799f0",
   "metadata": {},
   "outputs": [],
   "source": [
    "import os\n",
    "import pandas as pd\n",
    "import numpy as np\n",
    "\n",
    "import seaborn as sns\n",
    "from matplotlib import pyplot as plt\n",
    "sns.set(style=\"darkgrid\")\n",
    "\n",
    "from sklearn.model_selection import train_test_split\n",
    "from sklearn.metrics import mean_squared_error, r2_score\n",
    "from sklearn.linear_model import LinearRegression\n",
    "\n",
    "import warnings\n",
    "warnings.filterwarnings(\"ignore\")"
   ]
  },
  {
   "cell_type": "code",
   "execution_count": 14,
   "id": "6240d2ca",
   "metadata": {},
   "outputs": [],
   "source": [
    "BUILD_BUDGET = 10e9 #бюджет разработки скважины\n",
    "UNIT_INCOME = 450000 #доход с ед. продукта\n",
    "WELLS_CNT = 500 #количество скважин для исследования\n",
    "BEST_WELLS_CNT = 200 #лучшие скважины\n",
    "RISK_TRESHOLD = 0.025 #максимальный приемлемый риск убытков\n",
    "CONF_INTERVAL = 0.95\n",
    "BOOTSTRAP_SAMPLES = 1000\n",
    "RANDOM_STATE = 12345\n",
    "PATH_YANDEX = '/datasets/'\n",
    "PATH_HOME = '/home/aart/datasets/'"
   ]
  },
  {
   "cell_type": "markdown",
   "id": "2565c13e",
   "metadata": {},
   "source": [
    "## Чтение данных"
   ]
  },
  {
   "cell_type": "code",
   "execution_count": 15,
   "id": "42521d11",
   "metadata": {},
   "outputs": [],
   "source": [
    "file_names = ['geo_data_0.csv', 'geo_data_1.csv', 'geo_data_2.csv']\n",
    "dfs = []\n",
    "\n",
    "try:\n",
    "    for file_name in file_names:\n",
    "        with open(os.path.join(PATH_HOME, file_name)) as f:\n",
    "            dfs.append(pd.read_csv(f, index_col='id'))\n",
    "except:\n",
    "    for file_name in file_names:\n",
    "        with open(os.path.join(PATH_YANDEX, file_name)) as f:\n",
    "            dfs.append(pd.read_csv(f, index_col='id'))"
   ]
  },
  {
   "cell_type": "markdown",
   "id": "16dedcee",
   "metadata": {},
   "source": [
    "<div class=\"alert alert-success\">\n",
    "<h2> Комментарий ревьюера ✔️ <a class=\"tocSkip\"> </h2>\n",
    "\n",
    "Здорово, что ты используешь конструкцию `try-except`, это повышает отказоустойчивость кода\n",
    "\n",
    "</div>\n"
   ]
  },
  {
   "cell_type": "code",
   "execution_count": 4,
   "id": "4396683f",
   "metadata": {},
   "outputs": [
    {
     "name": "stdout",
     "output_type": "stream",
     "text": [
      "Пропусков в датафреймах: 0\n",
      "Дубликатов в датафреймах: 0\n",
      "Размеры датафрйемов: [(100000, 4), (100000, 4), (100000, 4)]\n",
      "Дубликатов в индексах: [10, 4, 4]\n"
     ]
    }
   ],
   "source": [
    "NAs = []\n",
    "duplicates = []\n",
    "shapes = []\n",
    "id_duplicates = []\n",
    "\n",
    "for df in dfs:\n",
    "    NAs.append(df.isna().sum().sum())\n",
    "    duplicates.append(df.duplicated().sum())\n",
    "    shapes.append(df.shape)\n",
    "    id_duplicates.append(df.index.duplicated().sum())\n",
    "    \n",
    "print('Пропусков в датафреймах:', sum(NAs))\n",
    "print('Дубликатов в датафреймах:', sum(duplicates))\n",
    "print('Размеры датафрйемов:', shapes)\n",
    "print('Дубликатов в индексах:', id_duplicates)"
   ]
  },
  {
   "cell_type": "markdown",
   "id": "84548fe1",
   "metadata": {},
   "source": [
    "Явных дубликатов нет, но они встречаются в индексах. Впрочем, их отношение к размерам датафреймов настолько мало, что ими можно пренебречь."
   ]
  },
  {
   "cell_type": "markdown",
   "id": "4b94a8d3",
   "metadata": {},
   "source": [
    "В датафреймах нет пропусков, дубликатов, все одинакового размера."
   ]
  },
  {
   "cell_type": "markdown",
   "id": "12a9f3e7",
   "metadata": {},
   "source": [
    "## Работа с моделью"
   ]
  },
  {
   "cell_type": "markdown",
   "id": "5e6d78d8",
   "metadata": {},
   "source": [
    "### Features and target, разделение на выборки"
   ]
  },
  {
   "cell_type": "code",
   "execution_count": 5,
   "id": "8b6e2576",
   "metadata": {},
   "outputs": [],
   "source": [
    "def sampling(df, test_size=0.25, random_state=RANDOM_STATE):\n",
    "    X = df.drop(['product'], axis=1)\n",
    "    y = df['product']\n",
    "\n",
    "    X_train, X_val, y_train, y_val = train_test_split(\n",
    "        X, y, test_size=test_size, random_state=RANDOM_STATE)\n",
    "\n",
    "    return X_train, X_val, y_train, y_val"
   ]
  },
  {
   "cell_type": "code",
   "execution_count": 6,
   "id": "edff1fcb",
   "metadata": {},
   "outputs": [],
   "source": [
    "def rmse(y_true, y_pred):\n",
    "    return (mean_squared_error(y_true, y_pred))**(1/2)\n",
    "\n",
    "results = {'mean': [],\n",
    "           'RMSE': []}\n",
    "\n",
    "predictions = {} \n",
    "answers = {} #словари предсказаний и целевых значений, помогут при вычислении прибыли\n",
    "i = 0\n",
    "\n",
    "for df in dfs: \n",
    "    geo_name = file_names[i]\n",
    "    X_train, X_val, y_train, y_val = sampling(df)\n",
    "    model = LinearRegression()\n",
    "    model.fit(X_train, y_train)\n",
    "    y_pred = model.predict(X_val)\n",
    "    answers[geo_name] = np.array(y_val)\n",
    "    predictions[geo_name] = y_pred\n",
    "    results['mean'].append(y_pred.mean())\n",
    "    results['RMSE'].append(rmse(y_val, y_pred)) \n",
    "    i+=1"
   ]
  },
  {
   "cell_type": "code",
   "execution_count": 7,
   "id": "4aa8269b",
   "metadata": {},
   "outputs": [
    {
     "data": {
      "text/html": [
       "<div>\n",
       "<style scoped>\n",
       "    .dataframe tbody tr th:only-of-type {\n",
       "        vertical-align: middle;\n",
       "    }\n",
       "\n",
       "    .dataframe tbody tr th {\n",
       "        vertical-align: top;\n",
       "    }\n",
       "\n",
       "    .dataframe thead th {\n",
       "        text-align: right;\n",
       "    }\n",
       "</style>\n",
       "<table border=\"1\" class=\"dataframe\">\n",
       "  <thead>\n",
       "    <tr style=\"text-align: right;\">\n",
       "      <th></th>\n",
       "      <th>mean</th>\n",
       "      <th>RMSE</th>\n",
       "    </tr>\n",
       "  </thead>\n",
       "  <tbody>\n",
       "    <tr>\n",
       "      <th>0</th>\n",
       "      <td>92.592568</td>\n",
       "      <td>37.579422</td>\n",
       "    </tr>\n",
       "    <tr>\n",
       "      <th>1</th>\n",
       "      <td>68.728547</td>\n",
       "      <td>0.893099</td>\n",
       "    </tr>\n",
       "    <tr>\n",
       "      <th>2</th>\n",
       "      <td>94.965046</td>\n",
       "      <td>40.029709</td>\n",
       "    </tr>\n",
       "  </tbody>\n",
       "</table>\n",
       "</div>"
      ],
      "text/plain": [
       "        mean       RMSE\n",
       "0  92.592568  37.579422\n",
       "1  68.728547   0.893099\n",
       "2  94.965046  40.029709"
      ]
     },
     "execution_count": 7,
     "metadata": {},
     "output_type": "execute_result"
    }
   ],
   "source": [
    "pd.DataFrame(results)"
   ]
  },
  {
   "cell_type": "markdown",
   "id": "b2005990",
   "metadata": {},
   "source": [
    "В регионах 0 и 2 средние значение объема в месторождении примерно одинаковые, при этом модели имеют бОльшую погрешность.\n",
    "В 1 регионе средние запасы нефти в месторождениях ниже, но и погрешность модели значительно ниже."
   ]
  },
  {
   "cell_type": "code",
   "execution_count": 8,
   "id": "4b8b8e10",
   "metadata": {},
   "outputs": [
    {
     "data": {
      "image/png": "[encoded data removed]",
      "text/plain": [
       "<Figure size 432x288 with 1 Axes>"
      ]
     },
     "metadata": {},
     "output_type": "display_data"
    }
   ],
   "source": [
    "for i, df in enumerate(dfs):\n",
    "    sns.distplot(df['product'], label=i)\n",
    "    plt.legend()"
   ]
  },
  {
   "cell_type": "markdown",
   "id": "1d01b71a",
   "metadata": {},
   "source": [
    "Распределнение запасов в месторождении 1 существенно отличается от 0 и 2."
   ]
  },
  {
   "cell_type": "code",
   "execution_count": 9,
   "id": "e1c255fd",
   "metadata": {},
   "outputs": [
    {
     "data": {
      "image/png": "[encoded data removed]",
      "text/plain": [
       "<Figure size 720x720 with 20 Axes>"
      ]
     },
     "metadata": {},
     "output_type": "display_data"
    }
   ],
   "source": [
    "sns.pairplot(dfs[1]);"
   ]
  },
  {
   "cell_type": "markdown",
   "id": "ebee3ca3",
   "metadata": {},
   "source": [
    "Показатель `product` линейно коррелирует с признаком `f2`. Это объясняет высокую точность линейной регрессии."
   ]
  },
  {
   "cell_type": "markdown",
   "id": "64fe947f",
   "metadata": {},
   "source": [
    "## Расчет прибыли, рисков, вероятности убытков"
   ]
  },
  {
   "cell_type": "markdown",
   "id": "a73f85cb",
   "metadata": {},
   "source": [
    "Прибыль с одной скважины должна быть выше, чем ее бюджет. Вычислим бюджет на одну вышку - разделим весь бюджет `BUILD_BUDGET`, выделяемый на регион, на количество вышек `WELLS_CNT`, которое должны разработать в регионе.\n",
    "Это значение разделим на прибыль с 1 тысячи баррелей `UNIT_INCOME` - получим оценочное значение объёма сырья, при котором доходы равны расходам"
   ]
  },
  {
   "cell_type": "code",
   "execution_count": 10,
   "id": "479113c3",
   "metadata": {},
   "outputs": [
    {
     "data": {
      "text/plain": [
       "111.11111111111111"
      ]
     },
     "execution_count": 10,
     "metadata": {},
     "output_type": "execute_result"
    }
   ],
   "source": [
    "MIN_RAW = (BUILD_BUDGET/BEST_WELLS_CNT)/UNIT_INCOME\n",
    "MIN_RAW"
   ]
  },
  {
   "cell_type": "markdown",
   "id": "44591688",
   "metadata": {},
   "source": [
    "Значение выше, чем средние значения запасов в любом из регионов.\n",
    "Для минимизации рисков, надо отобрать точки которые потенциально могуть дать больше сырья. Напишем функцию для расчёта прибыли по выбранным скважинам и предсказаниям модели"
   ]
  },
  {
   "cell_type": "code",
   "execution_count": 11,
   "id": "823aec4c",
   "metadata": {},
   "outputs": [],
   "source": [
    "def profit(predicted, target, \n",
    "           wells_cnt=BEST_WELLS_CNT, unit_income=UNIT_INCOME, res_budget=BUILD_BUDGET):\n",
    "    total_product = target[(-predicted).argsort()[:wells_cnt]].sum()\n",
    "    return total_product * unit_income - res_budget"
   ]
  },
  {
   "cell_type": "code",
   "execution_count": 13,
   "id": "e2b34687",
   "metadata": {
    "scrolled": false
   },
   "outputs": [
    {
     "data": {
      "text/html": [
       "<div>\n",
       "<style scoped>\n",
       "    .dataframe tbody tr th:only-of-type {\n",
       "        vertical-align: middle;\n",
       "    }\n",
       "\n",
       "    .dataframe tbody tr th {\n",
       "        vertical-align: top;\n",
       "    }\n",
       "\n",
       "    .dataframe thead th {\n",
       "        text-align: right;\n",
       "    }\n",
       "</style>\n",
       "<table border=\"1\" class=\"dataframe\">\n",
       "  <thead>\n",
       "    <tr style=\"text-align: right;\">\n",
       "      <th></th>\n",
       "      <th>geo_data_0.csv</th>\n",
       "      <th>geo_data_1.csv</th>\n",
       "      <th>geo_data_2.csv</th>\n",
       "    </tr>\n",
       "  </thead>\n",
       "  <tbody>\n",
       "    <tr>\n",
       "      <th>Доверительный интервал, млн. руб.</th>\n",
       "      <td>(-64.27, 776.54)</td>\n",
       "      <td>(108.84, 799.66)</td>\n",
       "      <td>(-61.97, 850.77)</td>\n",
       "    </tr>\n",
       "    <tr>\n",
       "      <th>Средняя прибыль, млн. руб.</th>\n",
       "      <td>371.89</td>\n",
       "      <td>452.25</td>\n",
       "      <td>395.96</td>\n",
       "    </tr>\n",
       "    <tr>\n",
       "      <th>Вероятность убытков, %</th>\n",
       "      <td>7.4</td>\n",
       "      <td>1.7</td>\n",
       "      <td>7.5</td>\n",
       "    </tr>\n",
       "  </tbody>\n",
       "</table>\n",
       "</div>"
      ],
      "text/plain": [
       "                                     geo_data_0.csv    geo_data_1.csv  \\\n",
       "Доверительный интервал, млн. руб.  (-64.27, 776.54)  (108.84, 799.66)   \n",
       "Средняя прибыль, млн. руб.                   371.89            452.25   \n",
       "Вероятность убытков, %                          7.4               1.7   \n",
       "\n",
       "                                     geo_data_2.csv  \n",
       "Доверительный интервал, млн. руб.  (-61.97, 850.77)  \n",
       "Средняя прибыль, млн. руб.                   395.96  \n",
       "Вероятность убытков, %                          7.5  "
      ]
     },
     "execution_count": 13,
     "metadata": {},
     "output_type": "execute_result"
    },
    {
     "data": {
      "image/png": "[encoded data removed]",
      "text/plain": [
       "<Figure size 360x360 with 1 Axes>"
      ]
     },
     "metadata": {},
     "output_type": "display_data"
    },
    {
     "data": {
      "image/png": "[encoded data removed]",
      "text/plain": [
       "<Figure size 360x360 with 1 Axes>"
      ]
     },
     "metadata": {},
     "output_type": "display_data"
    },
    {
     "data": {
      "image/png": "[encoded data removed]",
      "text/plain": [
       "<Figure size 360x360 with 1 Axes>"
      ]
     },
     "metadata": {},
     "output_type": "display_data"
    }
   ],
   "source": [
    "result_table = pd.DataFrame()\n",
    "for geo in predictions:\n",
    "    # предсказания и ответы для текущего geo\n",
    "    product_pred = predictions[geo]\n",
    "    product_answ = answers[geo]\n",
    "\n",
    "    # bootstrap\n",
    "    profits = []\n",
    "    for i in range(1000):\n",
    "        id = np.random.randint(0, product_pred.shape[0], WELLS_CNT)\n",
    "        profits.append(profit(product_pred[id], product_answ[id]))\n",
    "\n",
    "    # пределы доверительного интервала\n",
    "    profits = pd.Series(profits)\n",
    "    lower = profits.quantile(1-CONF_INTERVAL)\n",
    "    upper = profits.quantile(CONF_INTERVAL)\n",
    "    sns.displot(data=profits,kde=True,legend=True)\n",
    "    plt.axvline(x=lower,color='red')\n",
    "    plt.axvline(x=upper,color='red')\n",
    "    plt.axvline(x=round(np.mean(profits)),color='purple')\n",
    "    plt.xlabel('Предсказанная прибыль')\n",
    "    plt.ylabel('')\n",
    "    plt.title(geo)\n",
    "\n",
    "    result_table[geo]= pd.Series({\n",
    "        'Доверительный интервал, млн. руб.': (round(lower/1e6,2), round(upper/1e6,2)),\n",
    "        'Средняя прибыль, млн. руб.': round(np.mean(profits)/1e6, 2),\n",
    "        'Вероятность убытков, %': 100*(profits<0).astype(int).mean()\n",
    "    })\n",
    "result_table"
   ]
  },
  {
   "cell_type": "markdown",
   "id": "73aaac41",
   "metadata": {},
   "source": [
    "Красными линиями на графике обозначен доверительный интервал, фиолетовыми - средняя прибыль для региона."
   ]
  },
  {
   "cell_type": "markdown",
   "id": "92699bf2",
   "metadata": {},
   "source": [
    "Регион, описанный в файлу `geo_data_1.csv` неоспоримо является лучшим - он выгодно отличается как и по средней прибыли, так и вероятности убытков."
   ]
  },
  {
   "cell_type": "markdown",
   "id": "dbb1f9af",
   "metadata": {},
   "source": [
    "# Вывод"
   ]
  },
  {
   "cell_type": "markdown",
   "id": "a5985e44",
   "metadata": {},
   "source": [
    "Было проведено исследование в соответсвии с заданными шагами. С помощью линейной регрессии и bootstrap'a был выделен самый перспективный регион, выгодно отличающийся как по средней предсказанной прибыли, так и по вероятности убытков.\n",
    "Также в ходе исследования поведения линейной модели было изучено распределения нефти в регионах.\n",
    "\n",
    "В результате была доказана целесообразность использования моделей машинного обучения для этой задачи, ей можно пользоваться при освоении новых регионов."
   ]
  },
  {
   "cell_type": "code",
   "execution_count": null,
   "id": "fedd246e",
   "metadata": {},
   "outputs": [],
   "source": []
  }
 ],
 "metadata": {
  "ExecuteTimeLog": [
   {
    "duration": 2384,
    "start_time": "2023-09-20T22:34:29.603Z"
   },
   {
    "duration": 3,
    "start_time": "2023-09-20T22:34:31.989Z"
   },
   {
    "duration": 1039,
    "start_time": "2023-09-20T22:34:31.993Z"
   },
   {
    "duration": 71,
    "start_time": "2023-09-20T22:34:33.034Z"
   },
   {
    "duration": 4,
    "start_time": "2023-09-20T22:34:33.106Z"
   },
   {
    "duration": 543,
    "start_time": "2023-09-20T22:34:33.112Z"
   },
   {
    "duration": 96,
    "start_time": "2023-09-20T22:34:33.656Z"
   },
   {
    "duration": 1688,
    "start_time": "2023-09-20T22:34:33.754Z"
   },
   {
    "duration": 4643,
    "start_time": "2023-09-20T22:34:35.449Z"
   },
   {
    "duration": 4,
    "start_time": "2023-09-20T22:34:40.094Z"
   },
   {
    "duration": 6,
    "start_time": "2023-09-20T22:34:40.099Z"
   },
   {
    "duration": 692,
    "start_time": "2023-09-20T22:34:40.106Z"
   },
   {
    "duration": 49,
    "start_time": "2023-09-21T02:46:39.282Z"
   },
   {
    "duration": 2428,
    "start_time": "2023-09-21T02:46:50.860Z"
   },
   {
    "duration": 4,
    "start_time": "2023-09-21T02:46:53.290Z"
   },
   {
    "duration": 911,
    "start_time": "2023-09-21T02:46:53.295Z"
   },
   {
    "duration": 84,
    "start_time": "2023-09-21T02:46:54.208Z"
   },
   {
    "duration": 8,
    "start_time": "2023-09-21T02:46:54.295Z"
   },
   {
    "duration": 602,
    "start_time": "2023-09-21T02:46:54.305Z"
   },
   {
    "duration": 108,
    "start_time": "2023-09-21T02:46:54.910Z"
   },
   {
    "duration": 1806,
    "start_time": "2023-09-21T02:46:55.020Z"
   },
   {
    "duration": 4803,
    "start_time": "2023-09-21T02:46:56.828Z"
   },
   {
    "duration": 4,
    "start_time": "2023-09-21T02:47:01.633Z"
   },
   {
    "duration": 92,
    "start_time": "2023-09-21T02:47:01.639Z"
   },
   {
    "duration": 978,
    "start_time": "2023-09-21T02:47:01.733Z"
   },
   {
    "duration": 5,
    "start_time": "2023-09-21T02:47:19.082Z"
   },
   {
    "duration": 6,
    "start_time": "2023-09-21T02:47:38.543Z"
   },
   {
    "duration": 110,
    "start_time": "2023-09-21T02:48:09.554Z"
   },
   {
    "duration": 6,
    "start_time": "2023-09-21T02:48:16.047Z"
   },
   {
    "duration": 44,
    "start_time": "2023-09-21T12:08:50.878Z"
   },
   {
    "duration": 1640,
    "start_time": "2023-09-21T12:08:58.329Z"
   },
   {
    "duration": 3,
    "start_time": "2023-09-21T12:09:00.296Z"
   },
   {
    "duration": 1632,
    "start_time": "2023-09-21T12:09:01.492Z"
   },
   {
    "duration": 1824,
    "start_time": "2023-09-21T12:09:03.636Z"
   },
   {
    "duration": 1920,
    "start_time": "2023-09-21T12:11:31.857Z"
   },
   {
    "duration": 1702,
    "start_time": "2023-09-21T12:12:28.627Z"
   },
   {
    "duration": 1378,
    "start_time": "2023-09-21T12:12:38.354Z"
   },
   {
    "duration": 4,
    "start_time": "2023-09-21T12:12:39.734Z"
   },
   {
    "duration": 483,
    "start_time": "2023-09-21T12:12:39.740Z"
   },
   {
    "duration": 105,
    "start_time": "2023-09-21T12:12:40.225Z"
   },
   {
    "duration": 0,
    "start_time": "2023-09-21T12:12:40.332Z"
   },
   {
    "duration": 0,
    "start_time": "2023-09-21T12:12:40.333Z"
   },
   {
    "duration": 0,
    "start_time": "2023-09-21T12:12:40.344Z"
   },
   {
    "duration": 0,
    "start_time": "2023-09-21T12:12:40.345Z"
   },
   {
    "duration": 0,
    "start_time": "2023-09-21T12:12:40.346Z"
   },
   {
    "duration": 0,
    "start_time": "2023-09-21T12:12:40.346Z"
   },
   {
    "duration": 0,
    "start_time": "2023-09-21T12:12:40.348Z"
   },
   {
    "duration": 0,
    "start_time": "2023-09-21T12:12:40.348Z"
   },
   {
    "duration": 38,
    "start_time": "2023-09-21T12:12:56.949Z"
   },
   {
    "duration": 1638,
    "start_time": "2023-09-21T12:13:08.287Z"
   },
   {
    "duration": 1673,
    "start_time": "2023-09-21T12:13:50.674Z"
   },
   {
    "duration": 1664,
    "start_time": "2023-09-21T12:14:13.613Z"
   },
   {
    "duration": 1582,
    "start_time": "2023-09-21T12:14:27.902Z"
   },
   {
    "duration": 33,
    "start_time": "2023-09-21T12:15:06.189Z"
   },
   {
    "duration": 45,
    "start_time": "2023-09-21T12:15:11.417Z"
   },
   {
    "duration": 69,
    "start_time": "2023-09-21T12:16:49.989Z"
   },
   {
    "duration": 1847,
    "start_time": "2023-09-21T13:39:04.566Z"
   },
   {
    "duration": 4,
    "start_time": "2023-09-21T13:39:06.415Z"
   },
   {
    "duration": 896,
    "start_time": "2023-09-21T13:39:07.082Z"
   },
   {
    "duration": 16,
    "start_time": "2023-09-21T13:39:16.482Z"
   },
   {
    "duration": 1988,
    "start_time": "2023-09-21T13:39:21.749Z"
   },
   {
    "duration": 4,
    "start_time": "2023-09-21T13:39:34.342Z"
   },
   {
    "duration": 12,
    "start_time": "2023-09-21T13:39:49.229Z"
   },
   {
    "duration": 7,
    "start_time": "2023-09-21T13:41:53.364Z"
   },
   {
    "duration": 6,
    "start_time": "2023-09-21T13:44:48.775Z"
   },
   {
    "duration": 37,
    "start_time": "2023-09-21T13:44:55.724Z"
   },
   {
    "duration": 17,
    "start_time": "2023-09-21T13:45:00.101Z"
   },
   {
    "duration": 40,
    "start_time": "2023-09-21T13:45:45.327Z"
   },
   {
    "duration": 148,
    "start_time": "2023-09-21T13:46:01.767Z"
   },
   {
    "duration": 1556,
    "start_time": "2023-09-21T13:50:04.310Z"
   },
   {
    "duration": 3,
    "start_time": "2023-09-21T13:50:05.868Z"
   },
   {
    "duration": 555,
    "start_time": "2023-09-21T13:50:05.873Z"
   },
   {
    "duration": 8,
    "start_time": "2023-09-21T13:50:06.429Z"
   },
   {
    "duration": 146,
    "start_time": "2023-09-21T13:50:06.439Z"
   },
   {
    "duration": 4,
    "start_time": "2023-09-21T13:50:06.587Z"
   },
   {
    "duration": 557,
    "start_time": "2023-09-21T13:50:06.592Z"
   },
   {
    "duration": 101,
    "start_time": "2023-09-21T13:50:07.154Z"
   },
   {
    "duration": 1888,
    "start_time": "2023-09-21T13:50:07.257Z"
   },
   {
    "duration": 5287,
    "start_time": "2023-09-21T13:50:09.147Z"
   },
   {
    "duration": 5,
    "start_time": "2023-09-21T13:50:14.435Z"
   },
   {
    "duration": 28,
    "start_time": "2023-09-21T13:50:14.441Z"
   },
   {
    "duration": 795,
    "start_time": "2023-09-21T13:50:14.470Z"
   },
   {
    "duration": 6,
    "start_time": "2023-09-21T13:53:13.871Z"
   },
   {
    "duration": 167,
    "start_time": "2023-09-21T13:54:14.941Z"
   },
   {
    "duration": 707,
    "start_time": "2023-09-21T13:54:23.542Z"
   },
   {
    "duration": 164,
    "start_time": "2023-09-21T13:54:30.355Z"
   },
   {
    "duration": 1545,
    "start_time": "2023-09-21T13:56:35.717Z"
   },
   {
    "duration": 3,
    "start_time": "2023-09-21T13:56:37.264Z"
   },
   {
    "duration": 495,
    "start_time": "2023-09-21T13:56:37.269Z"
   },
   {
    "duration": 8,
    "start_time": "2023-09-21T13:56:37.766Z"
   },
   {
    "duration": 146,
    "start_time": "2023-09-21T13:56:37.776Z"
   },
   {
    "duration": 3,
    "start_time": "2023-09-21T13:56:37.924Z"
   },
   {
    "duration": 450,
    "start_time": "2023-09-21T13:56:37.929Z"
   },
   {
    "duration": 100,
    "start_time": "2023-09-21T13:56:38.448Z"
   },
   {
    "duration": 1875,
    "start_time": "2023-09-21T13:56:38.550Z"
   },
   {
    "duration": 5221,
    "start_time": "2023-09-21T13:56:40.429Z"
   },
   {
    "duration": 5,
    "start_time": "2023-09-21T13:56:45.652Z"
   },
   {
    "duration": 16,
    "start_time": "2023-09-21T13:56:45.659Z"
   },
   {
    "duration": 1554,
    "start_time": "2023-09-21T13:57:43.093Z"
   },
   {
    "duration": 6,
    "start_time": "2023-09-21T13:57:44.650Z"
   },
   {
    "duration": 605,
    "start_time": "2023-09-21T13:57:44.658Z"
   },
   {
    "duration": 8,
    "start_time": "2023-09-21T13:57:45.266Z"
   },
   {
    "duration": 160,
    "start_time": "2023-09-21T13:57:45.276Z"
   },
   {
    "duration": 4,
    "start_time": "2023-09-21T13:57:45.438Z"
   },
   {
    "duration": 502,
    "start_time": "2023-09-21T13:57:45.448Z"
   },
   {
    "duration": 105,
    "start_time": "2023-09-21T13:57:45.964Z"
   },
   {
    "duration": 1962,
    "start_time": "2023-09-21T13:57:46.072Z"
   },
   {
    "duration": 5646,
    "start_time": "2023-09-21T13:57:48.036Z"
   },
   {
    "duration": 4,
    "start_time": "2023-09-21T13:57:53.684Z"
   },
   {
    "duration": 73,
    "start_time": "2023-09-21T13:57:53.690Z"
   },
   {
    "duration": 216,
    "start_time": "2023-09-21T13:57:53.765Z"
   },
   {
    "duration": 129,
    "start_time": "2023-09-21T13:59:26.619Z"
   },
   {
    "duration": 220,
    "start_time": "2023-09-21T13:59:32.809Z"
   },
   {
    "duration": 6,
    "start_time": "2023-09-21T14:00:11.335Z"
   },
   {
    "duration": 12,
    "start_time": "2023-09-21T14:00:17.425Z"
   },
   {
    "duration": 5,
    "start_time": "2023-09-21T14:00:53.269Z"
   },
   {
    "duration": 10,
    "start_time": "2023-09-21T14:16:23.450Z"
   },
   {
    "duration": 20,
    "start_time": "2023-09-21T14:17:35.010Z"
   },
   {
    "duration": 1556,
    "start_time": "2023-09-21T14:19:53.646Z"
   },
   {
    "duration": 5,
    "start_time": "2023-09-21T14:19:55.205Z"
   },
   {
    "duration": 581,
    "start_time": "2023-09-21T14:19:55.212Z"
   },
   {
    "duration": 9,
    "start_time": "2023-09-21T14:19:55.796Z"
   },
   {
    "duration": 163,
    "start_time": "2023-09-21T14:19:55.807Z"
   },
   {
    "duration": 4,
    "start_time": "2023-09-21T14:19:55.972Z"
   },
   {
    "duration": 569,
    "start_time": "2023-09-21T14:19:55.978Z"
   },
   {
    "duration": 98,
    "start_time": "2023-09-21T14:19:56.556Z"
   },
   {
    "duration": 1866,
    "start_time": "2023-09-21T14:19:56.655Z"
   },
   {
    "duration": 5323,
    "start_time": "2023-09-21T14:19:58.523Z"
   },
   {
    "duration": 4,
    "start_time": "2023-09-21T14:20:03.847Z"
   },
   {
    "duration": 65,
    "start_time": "2023-09-21T14:20:03.853Z"
   },
   {
    "duration": 626,
    "start_time": "2023-09-21T14:20:03.920Z"
   },
   {
    "duration": 174,
    "start_time": "2023-09-21T14:20:36.540Z"
   },
   {
    "duration": 61,
    "start_time": "2023-09-21T14:20:48.500Z"
   },
   {
    "duration": 61,
    "start_time": "2023-09-21T14:20:53.656Z"
   },
   {
    "duration": 625,
    "start_time": "2023-09-21T14:21:04.882Z"
   },
   {
    "duration": 67,
    "start_time": "2023-09-21T14:21:35.489Z"
   },
   {
    "duration": 65,
    "start_time": "2023-09-21T14:21:45.783Z"
   },
   {
    "duration": 457,
    "start_time": "2023-09-21T14:21:57.780Z"
   },
   {
    "duration": 471,
    "start_time": "2023-09-21T14:22:33.977Z"
   },
   {
    "duration": 381,
    "start_time": "2023-09-21T14:23:05.552Z"
   },
   {
    "duration": 1371,
    "start_time": "2023-09-21T14:23:12.663Z"
   },
   {
    "duration": 1373,
    "start_time": "2023-09-21T14:23:45.567Z"
   },
   {
    "duration": 65,
    "start_time": "2023-09-21T14:23:56.506Z"
   },
   {
    "duration": 1817,
    "start_time": "2023-09-21T14:24:10.766Z"
   },
   {
    "duration": 369,
    "start_time": "2023-09-21T14:24:39.703Z"
   },
   {
    "duration": 1334,
    "start_time": "2023-09-21T14:24:48.927Z"
   },
   {
    "duration": 68,
    "start_time": "2023-09-21T14:25:10.653Z"
   },
   {
    "duration": 1331,
    "start_time": "2023-09-21T14:25:29.520Z"
   },
   {
    "duration": 1578,
    "start_time": "2023-09-21T14:25:45.502Z"
   },
   {
    "duration": 6,
    "start_time": "2023-09-21T14:26:17.310Z"
   },
   {
    "duration": 67,
    "start_time": "2023-09-21T14:26:51.451Z"
   },
   {
    "duration": 1487,
    "start_time": "2023-09-21T14:26:58.186Z"
   },
   {
    "duration": 1396,
    "start_time": "2023-09-21T14:27:49.389Z"
   },
   {
    "duration": 1599,
    "start_time": "2023-09-21T14:28:09.614Z"
   },
   {
    "duration": 1645,
    "start_time": "2023-09-21T14:29:47.651Z"
   },
   {
    "duration": 1427,
    "start_time": "2023-09-21T14:30:13.653Z"
   },
   {
    "duration": 1450,
    "start_time": "2023-09-21T14:30:19.942Z"
   },
   {
    "duration": 1515,
    "start_time": "2023-09-21T14:31:19.981Z"
   },
   {
    "duration": 1703,
    "start_time": "2023-09-21T14:32:49.703Z"
   },
   {
    "duration": 1768,
    "start_time": "2023-09-21T14:34:15.523Z"
   },
   {
    "duration": 1355,
    "start_time": "2023-09-21T14:35:09.709Z"
   },
   {
    "duration": 511,
    "start_time": "2023-09-21T14:35:17.354Z"
   },
   {
    "duration": 1577,
    "start_time": "2023-09-21T14:35:27.151Z"
   },
   {
    "duration": 1871,
    "start_time": "2023-09-21T14:35:43.741Z"
   },
   {
    "duration": 1704,
    "start_time": "2023-09-21T14:36:03.499Z"
   },
   {
    "duration": 87,
    "start_time": "2023-09-21T14:37:01.471Z"
   },
   {
    "duration": 1954,
    "start_time": "2023-09-21T14:37:43.470Z"
   },
   {
    "duration": 1787,
    "start_time": "2023-09-21T14:37:59.381Z"
   },
   {
    "duration": 190,
    "start_time": "2023-09-21T14:38:28.728Z"
   },
   {
    "duration": 1725,
    "start_time": "2023-09-21T14:38:42.769Z"
   },
   {
    "duration": 1892,
    "start_time": "2023-09-21T14:39:04.764Z"
   },
   {
    "duration": 611,
    "start_time": "2023-09-21T14:44:47.076Z"
   },
   {
    "duration": 6,
    "start_time": "2023-09-21T14:46:14.619Z"
   },
   {
    "duration": 397,
    "start_time": "2023-09-21T14:46:50.206Z"
   },
   {
    "duration": 4,
    "start_time": "2023-09-21T14:47:37.569Z"
   },
   {
    "duration": 13772,
    "start_time": "2023-09-21T14:47:40.053Z"
   },
   {
    "duration": 4,
    "start_time": "2023-09-21T14:48:53.117Z"
   },
   {
    "duration": 423,
    "start_time": "2023-09-21T14:48:54.973Z"
   },
   {
    "duration": 4,
    "start_time": "2023-09-21T14:49:35.065Z"
   },
   {
    "duration": 377,
    "start_time": "2023-09-21T14:49:36.821Z"
   },
   {
    "duration": 4,
    "start_time": "2023-09-21T14:50:23.111Z"
   },
   {
    "duration": 5,
    "start_time": "2023-09-21T14:50:59.901Z"
   },
   {
    "duration": 150,
    "start_time": "2023-09-21T14:51:00.965Z"
   },
   {
    "duration": 4,
    "start_time": "2023-09-21T14:51:26.188Z"
   },
   {
    "duration": 91,
    "start_time": "2023-09-21T14:51:27.751Z"
   },
   {
    "duration": 4,
    "start_time": "2023-09-21T14:51:34.969Z"
   },
   {
    "duration": 3,
    "start_time": "2023-09-21T14:51:38.289Z"
   },
   {
    "duration": 84,
    "start_time": "2023-09-21T14:51:38.977Z"
   },
   {
    "duration": 4,
    "start_time": "2023-09-21T14:51:55.839Z"
   },
   {
    "duration": 4497,
    "start_time": "2023-09-21T14:51:56.115Z"
   },
   {
    "duration": 5,
    "start_time": "2023-09-21T14:52:27.042Z"
   },
   {
    "duration": 13992,
    "start_time": "2023-09-21T14:52:27.807Z"
   },
   {
    "duration": 4,
    "start_time": "2023-09-21T14:53:05.042Z"
   },
   {
    "duration": 14034,
    "start_time": "2023-09-21T14:53:05.922Z"
   },
   {
    "duration": 1533,
    "start_time": "2023-09-21T14:53:23.530Z"
   },
   {
    "duration": 3,
    "start_time": "2023-09-21T14:53:25.065Z"
   },
   {
    "duration": 554,
    "start_time": "2023-09-21T14:53:25.070Z"
   },
   {
    "duration": 145,
    "start_time": "2023-09-21T14:53:25.626Z"
   },
   {
    "duration": 4,
    "start_time": "2023-09-21T14:53:25.773Z"
   },
   {
    "duration": 13542,
    "start_time": "2023-09-21T14:53:25.779Z"
   },
   {
    "duration": 5,
    "start_time": "2023-09-21T14:53:39.323Z"
   },
   {
    "duration": 517,
    "start_time": "2023-09-21T14:53:39.330Z"
   },
   {
    "duration": 98,
    "start_time": "2023-09-21T14:53:39.850Z"
   },
   {
    "duration": 1982,
    "start_time": "2023-09-21T14:53:39.951Z"
   },
   {
    "duration": 5212,
    "start_time": "2023-09-21T14:53:41.936Z"
   },
   {
    "duration": 4,
    "start_time": "2023-09-21T14:53:47.150Z"
   },
   {
    "duration": 18,
    "start_time": "2023-09-21T14:53:47.155Z"
   },
   {
    "duration": 1797,
    "start_time": "2023-09-21T14:53:47.175Z"
   },
   {
    "duration": 117,
    "start_time": "2023-09-21T14:56:06.408Z"
   },
   {
    "duration": 4,
    "start_time": "2023-09-21T14:56:43.435Z"
   },
   {
    "duration": 9,
    "start_time": "2023-09-21T14:56:44.253Z"
   },
   {
    "duration": 1563,
    "start_time": "2023-09-21T14:56:51.491Z"
   },
   {
    "duration": 3,
    "start_time": "2023-09-21T14:56:53.056Z"
   },
   {
    "duration": 535,
    "start_time": "2023-09-21T14:56:53.061Z"
   },
   {
    "duration": 149,
    "start_time": "2023-09-21T14:56:53.598Z"
   },
   {
    "duration": 4,
    "start_time": "2023-09-21T14:56:53.749Z"
   },
   {
    "duration": 139,
    "start_time": "2023-09-21T14:56:53.755Z"
   },
   {
    "duration": 0,
    "start_time": "2023-09-21T14:56:53.896Z"
   },
   {
    "duration": 0,
    "start_time": "2023-09-21T14:56:53.897Z"
   },
   {
    "duration": 0,
    "start_time": "2023-09-21T14:56:53.898Z"
   },
   {
    "duration": 0,
    "start_time": "2023-09-21T14:56:53.900Z"
   },
   {
    "duration": 0,
    "start_time": "2023-09-21T14:56:53.901Z"
   },
   {
    "duration": 0,
    "start_time": "2023-09-21T14:56:53.902Z"
   },
   {
    "duration": 0,
    "start_time": "2023-09-21T14:56:53.904Z"
   },
   {
    "duration": 0,
    "start_time": "2023-09-21T14:56:53.905Z"
   },
   {
    "duration": 13666,
    "start_time": "2023-09-21T14:57:05.646Z"
   },
   {
    "duration": 4,
    "start_time": "2023-09-21T14:57:42.730Z"
   },
   {
    "duration": 13852,
    "start_time": "2023-09-21T14:57:43.402Z"
   },
   {
    "duration": 6,
    "start_time": "2023-09-21T14:59:52.665Z"
   },
   {
    "duration": 1595,
    "start_time": "2023-09-21T15:00:04.346Z"
   },
   {
    "duration": 4,
    "start_time": "2023-09-21T15:00:05.943Z"
   },
   {
    "duration": 582,
    "start_time": "2023-09-21T15:00:05.948Z"
   },
   {
    "duration": 154,
    "start_time": "2023-09-21T15:00:06.532Z"
   },
   {
    "duration": 5,
    "start_time": "2023-09-21T15:00:06.688Z"
   },
   {
    "duration": 525,
    "start_time": "2023-09-21T15:00:06.695Z"
   },
   {
    "duration": 0,
    "start_time": "2023-09-21T15:00:07.222Z"
   },
   {
    "duration": 0,
    "start_time": "2023-09-21T15:00:07.224Z"
   },
   {
    "duration": 0,
    "start_time": "2023-09-21T15:00:07.226Z"
   },
   {
    "duration": 0,
    "start_time": "2023-09-21T15:00:07.227Z"
   },
   {
    "duration": 0,
    "start_time": "2023-09-21T15:00:07.229Z"
   },
   {
    "duration": 0,
    "start_time": "2023-09-21T15:00:07.231Z"
   },
   {
    "duration": 0,
    "start_time": "2023-09-21T15:00:07.232Z"
   },
   {
    "duration": 0,
    "start_time": "2023-09-21T15:00:07.247Z"
   },
   {
    "duration": 396,
    "start_time": "2023-09-21T15:00:24.909Z"
   },
   {
    "duration": 4,
    "start_time": "2023-09-21T15:00:45.517Z"
   },
   {
    "duration": 13911,
    "start_time": "2023-09-21T15:00:45.821Z"
   },
   {
    "duration": 5,
    "start_time": "2023-09-21T15:01:02.554Z"
   },
   {
    "duration": 13802,
    "start_time": "2023-09-21T15:01:02.899Z"
   },
   {
    "duration": 4,
    "start_time": "2023-09-21T15:01:27.337Z"
   },
   {
    "duration": 369,
    "start_time": "2023-09-21T15:01:28.249Z"
   },
   {
    "duration": 4,
    "start_time": "2023-09-21T15:01:45.899Z"
   },
   {
    "duration": 433,
    "start_time": "2023-09-21T15:01:46.335Z"
   },
   {
    "duration": 390,
    "start_time": "2023-09-21T15:02:04.826Z"
   },
   {
    "duration": 5,
    "start_time": "2023-09-21T15:02:41.512Z"
   },
   {
    "duration": 4,
    "start_time": "2023-09-21T15:02:56.305Z"
   },
   {
    "duration": 13794,
    "start_time": "2023-09-21T15:02:56.401Z"
   },
   {
    "duration": 4,
    "start_time": "2023-09-21T15:03:18.078Z"
   },
   {
    "duration": 1526,
    "start_time": "2023-09-21T15:03:32.778Z"
   },
   {
    "duration": 5,
    "start_time": "2023-09-21T15:03:34.306Z"
   },
   {
    "duration": 537,
    "start_time": "2023-09-21T15:03:34.313Z"
   },
   {
    "duration": 154,
    "start_time": "2023-09-21T15:03:34.853Z"
   },
   {
    "duration": 5,
    "start_time": "2023-09-21T15:03:35.009Z"
   },
   {
    "duration": 14225,
    "start_time": "2023-09-21T15:03:35.016Z"
   },
   {
    "duration": 5,
    "start_time": "2023-09-21T15:03:49.243Z"
   },
   {
    "duration": 599,
    "start_time": "2023-09-21T15:03:49.250Z"
   },
   {
    "duration": 18,
    "start_time": "2023-09-21T15:03:49.851Z"
   },
   {
    "duration": 2273,
    "start_time": "2023-09-21T15:03:49.884Z"
   },
   {
    "duration": 5148,
    "start_time": "2023-09-21T15:03:52.159Z"
   },
   {
    "duration": 4,
    "start_time": "2023-09-21T15:03:57.309Z"
   },
   {
    "duration": 12,
    "start_time": "2023-09-21T15:03:57.315Z"
   },
   {
    "duration": 1903,
    "start_time": "2023-09-21T15:03:57.328Z"
   },
   {
    "duration": 4,
    "start_time": "2023-09-21T15:04:33.787Z"
   },
   {
    "duration": 1532,
    "start_time": "2023-09-21T15:04:44.672Z"
   },
   {
    "duration": 4,
    "start_time": "2023-09-21T15:04:46.206Z"
   },
   {
    "duration": 507,
    "start_time": "2023-09-21T15:04:46.211Z"
   },
   {
    "duration": 157,
    "start_time": "2023-09-21T15:04:46.720Z"
   },
   {
    "duration": 4,
    "start_time": "2023-09-21T15:04:46.878Z"
   },
   {
    "duration": 13973,
    "start_time": "2023-09-21T15:04:46.884Z"
   },
   {
    "duration": 4,
    "start_time": "2023-09-21T15:05:00.858Z"
   },
   {
    "duration": 583,
    "start_time": "2023-09-21T15:05:00.864Z"
   },
   {
    "duration": 102,
    "start_time": "2023-09-21T15:05:01.450Z"
   },
   {
    "duration": 1976,
    "start_time": "2023-09-21T15:05:01.554Z"
   },
   {
    "duration": 5129,
    "start_time": "2023-09-21T15:05:03.531Z"
   },
   {
    "duration": 4,
    "start_time": "2023-09-21T15:05:08.662Z"
   },
   {
    "duration": 13,
    "start_time": "2023-09-21T15:05:08.667Z"
   },
   {
    "duration": 1919,
    "start_time": "2023-09-21T15:05:08.682Z"
   },
   {
    "duration": 4,
    "start_time": "2023-09-21T15:05:18.919Z"
   },
   {
    "duration": 13671,
    "start_time": "2023-09-21T15:05:19.264Z"
   },
   {
    "duration": 4,
    "start_time": "2023-09-21T15:05:54.076Z"
   },
   {
    "duration": 14011,
    "start_time": "2023-09-21T15:05:54.221Z"
   },
   {
    "duration": 118,
    "start_time": "2023-09-21T15:06:44.887Z"
   },
   {
    "duration": 10,
    "start_time": "2023-09-21T15:07:08.717Z"
   },
   {
    "duration": 10,
    "start_time": "2023-09-21T15:07:27.564Z"
   },
   {
    "duration": 10,
    "start_time": "2023-09-21T15:07:36.801Z"
   },
   {
    "duration": 11,
    "start_time": "2023-09-21T15:08:46.316Z"
   },
   {
    "duration": 11,
    "start_time": "2023-09-21T15:09:23.861Z"
   },
   {
    "duration": 14455,
    "start_time": "2023-09-21T15:10:08.678Z"
   },
   {
    "duration": 5,
    "start_time": "2023-09-21T15:11:26.972Z"
   },
   {
    "duration": 13668,
    "start_time": "2023-09-21T15:11:27.648Z"
   },
   {
    "duration": 5,
    "start_time": "2023-09-21T15:12:07.624Z"
   },
   {
    "duration": 17091,
    "start_time": "2023-09-21T15:12:09.213Z"
   },
   {
    "duration": 5,
    "start_time": "2023-09-21T15:12:44.197Z"
   },
   {
    "duration": 14054,
    "start_time": "2023-09-21T15:12:44.449Z"
   },
   {
    "duration": 4,
    "start_time": "2023-09-21T15:13:15.756Z"
   },
   {
    "duration": 13700,
    "start_time": "2023-09-21T15:13:16.101Z"
   },
   {
    "duration": 13594,
    "start_time": "2023-09-21T15:13:45.777Z"
   },
   {
    "duration": 1617,
    "start_time": "2023-09-21T15:14:13.829Z"
   },
   {
    "duration": 4,
    "start_time": "2023-09-21T15:14:15.448Z"
   },
   {
    "duration": 570,
    "start_time": "2023-09-21T15:14:15.454Z"
   },
   {
    "duration": 153,
    "start_time": "2023-09-21T15:14:16.026Z"
   },
   {
    "duration": 4,
    "start_time": "2023-09-21T15:14:16.181Z"
   },
   {
    "duration": 4,
    "start_time": "2023-09-21T15:14:30.189Z"
   },
   {
    "duration": 555,
    "start_time": "2023-09-21T15:14:30.195Z"
   },
   {
    "duration": 102,
    "start_time": "2023-09-21T15:14:30.753Z"
   },
   {
    "duration": 2179,
    "start_time": "2023-09-21T15:14:30.857Z"
   },
   {
    "duration": 5102,
    "start_time": "2023-09-21T15:14:33.038Z"
   },
   {
    "duration": 5,
    "start_time": "2023-09-21T15:14:38.147Z"
   },
   {
    "duration": 51,
    "start_time": "2023-09-21T15:14:38.153Z"
   },
   {
    "duration": 1879,
    "start_time": "2023-09-21T15:14:38.207Z"
   },
   {
    "duration": 5,
    "start_time": "2023-09-21T15:14:53.777Z"
   },
   {
    "duration": 13813,
    "start_time": "2023-09-21T15:14:53.783Z"
   },
   {
    "duration": 4,
    "start_time": "2023-09-21T15:16:08.276Z"
   },
   {
    "duration": 14279,
    "start_time": "2023-09-21T15:16:08.437Z"
   },
   {
    "duration": 132,
    "start_time": "2023-09-21T15:16:49.857Z"
   },
   {
    "duration": 16791,
    "start_time": "2023-09-21T15:17:21.801Z"
   },
   {
    "duration": 20734,
    "start_time": "2023-09-21T15:18:05.250Z"
   },
   {
    "duration": 20722,
    "start_time": "2023-09-21T15:18:30.037Z"
   },
   {
    "duration": 19559,
    "start_time": "2023-09-21T15:18:57.444Z"
   },
   {
    "duration": 851,
    "start_time": "2023-09-21T15:19:22.008Z"
   },
   {
    "duration": 1614,
    "start_time": "2023-09-21T15:19:46.107Z"
   },
   {
    "duration": 3,
    "start_time": "2023-09-21T15:19:47.724Z"
   },
   {
    "duration": 546,
    "start_time": "2023-09-21T15:19:47.729Z"
   },
   {
    "duration": 145,
    "start_time": "2023-09-21T15:19:48.278Z"
   },
   {
    "duration": 4,
    "start_time": "2023-09-21T15:19:48.425Z"
   },
   {
    "duration": 517,
    "start_time": "2023-09-21T15:19:48.430Z"
   },
   {
    "duration": 102,
    "start_time": "2023-09-21T15:19:48.951Z"
   },
   {
    "duration": 1884,
    "start_time": "2023-09-21T15:19:49.055Z"
   },
   {
    "duration": 5317,
    "start_time": "2023-09-21T15:19:50.941Z"
   },
   {
    "duration": 4,
    "start_time": "2023-09-21T15:19:56.261Z"
   },
   {
    "duration": 29,
    "start_time": "2023-09-21T15:19:56.266Z"
   },
   {
    "duration": 1727,
    "start_time": "2023-09-21T15:19:56.297Z"
   },
   {
    "duration": 2330,
    "start_time": "2023-09-22T14:12:26.139Z"
   },
   {
    "duration": 4,
    "start_time": "2023-09-22T14:12:28.471Z"
   },
   {
    "duration": 889,
    "start_time": "2023-09-22T14:12:28.477Z"
   },
   {
    "duration": 121,
    "start_time": "2023-09-22T14:12:29.368Z"
   },
   {
    "duration": 4,
    "start_time": "2023-09-22T14:12:29.492Z"
   },
   {
    "duration": 548,
    "start_time": "2023-09-22T14:12:29.498Z"
   },
   {
    "duration": 11,
    "start_time": "2023-09-22T14:12:30.145Z"
   },
   {
    "duration": 1850,
    "start_time": "2023-09-22T14:12:30.158Z"
   },
   {
    "duration": 4789,
    "start_time": "2023-09-22T14:12:32.010Z"
   },
   {
    "duration": 5,
    "start_time": "2023-09-22T14:12:36.802Z"
   },
   {
    "duration": 23,
    "start_time": "2023-09-22T14:12:36.809Z"
   },
   {
    "duration": 1699,
    "start_time": "2023-09-22T14:12:36.833Z"
   },
   {
    "duration": 3462,
    "start_time": "2023-09-22T14:12:38.534Z"
   },
   {
    "duration": 21,
    "start_time": "2023-09-22T14:13:08.807Z"
   },
   {
    "duration": 19,
    "start_time": "2023-09-22T14:13:26.113Z"
   },
   {
    "duration": 1619,
    "start_time": "2023-09-22T14:13:37.345Z"
   },
   {
    "duration": 1838,
    "start_time": "2023-09-22T15:29:59.054Z"
   },
   {
    "duration": 5,
    "start_time": "2023-09-22T15:30:00.894Z"
   },
   {
    "duration": 1027,
    "start_time": "2023-09-22T15:30:00.901Z"
   },
   {
    "duration": 168,
    "start_time": "2023-09-22T15:30:01.931Z"
   },
   {
    "duration": 8,
    "start_time": "2023-09-22T15:30:02.101Z"
   },
   {
    "duration": 715,
    "start_time": "2023-09-22T15:30:02.111Z"
   },
   {
    "duration": 91,
    "start_time": "2023-09-22T15:30:02.829Z"
   },
   {
    "duration": 1930,
    "start_time": "2023-09-22T15:30:04.253Z"
   },
   {
    "duration": 5422,
    "start_time": "2023-09-22T15:30:07.153Z"
   },
   {
    "duration": 5,
    "start_time": "2023-09-22T15:30:13.524Z"
   },
   {
    "duration": 4,
    "start_time": "2023-09-22T15:30:14.681Z"
   },
   {
    "duration": 1908,
    "start_time": "2023-09-22T15:30:15.888Z"
   },
   {
    "duration": 1987,
    "start_time": "2023-09-22T15:30:39.911Z"
   },
   {
    "duration": 7,
    "start_time": "2023-09-22T17:02:37.845Z"
   },
   {
    "duration": 613,
    "start_time": "2023-09-22T17:02:41.288Z"
   }
  ],
  "kernelspec": {
   "display_name": "Python 3 (ipykernel)",
   "language": "python",
   "name": "python3"
  },
  "language_info": {
   "codemirror_mode": {
    "name": "ipython",
    "version": 3
   },
   "file_extension": ".py",
   "mimetype": "text/x-python",
   "name": "python",
   "nbconvert_exporter": "python",
   "pygments_lexer": "ipython3",
   "version": "3.10.9"
  },
  "toc": {
   "base_numbering": 1,
   "nav_menu": {},
   "number_sections": true,
   "sideBar": true,
   "skip_h1_title": true,
   "title_cell": "Table of Contents",
   "title_sidebar": "Contents",
   "toc_cell": false,
   "toc_position": {},
   "toc_section_display": true,
   "toc_window_display": false
  }
 },
 "nbformat": 4,
 "nbformat_minor": 5
}
