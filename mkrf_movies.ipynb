{
 "cells": [
  {
   "cell_type": "markdown",
   "id": "bc980821",
   "metadata": {},
   "source": [
    "# Изучение и анализ рынка российского кинопроката"
   ]
  },
  {
   "cell_type": "markdown",
   "id": "df1ad2e2",
   "metadata": {},
   "source": [
    "В нашем распоряжении - открытые данные, опубликованные Министерством культуры РФ. Цель исследования - изучить рынок отечественного проката и выявить текущие тренды. Особое внимание будет уделено фильмам, получавшим государственную поддержку.\n",
    "\n",
    "Описание данных:\n",
    "Таблица `mkrf_movies` содержит информацию из реестра прокатных удостоверений. У одного фильма может быть несколько прокатных удостоверений. \n",
    "* `title` — название фильма;\n",
    "* `puNumber` — номер прокатного удостоверения;\n",
    "* `show_start_date` — дата премьеры фильма;\n",
    "* `type` — тип фильма;\n",
    "* `film_studio` — студия-производитель;\n",
    "* `production_country` — страна-производитель;\n",
    "* `director` — режиссёр;\n",
    "* `producer` — продюсер;\n",
    "* `age_restriction` — возрастная категория;\n",
    "* `refundable_support` — объём возвратных средств государственной поддержки;\n",
    "* `nonrefundable_support` — объём невозвратных средств государственной поддержки;\n",
    "* `financing_source` — источник государственного финансирования;\n",
    "* `budget` — общий бюджет фильма;\n",
    "* `ratings` — рейтинг фильма на КиноПоиске;\n",
    "* `genres` — жанр фильма.\n",
    "Обратим внимание, что столбец budget уже включает в себя полный объём государственной поддержки. Данные в этом столбце указаны только для тех фильмов, которые получили государственную поддержку.\n",
    "\n",
    "Таблица `mkrf_shows` содержит сведения о показах фильмов в российских кинотеатрах.\n",
    "* `puNumber` — номер прокатного удостоверения;\n",
    "* `box_office` — сборы в рублях."
   ]
  },
  {
   "cell_type": "markdown",
   "id": "f913d7f0",
   "metadata": {},
   "source": [
    "Импортируем библиотеки и прочитаем файлы."
   ]
  },
  {
   "cell_type": "code",
   "execution_count": 1,
   "id": "e730184b",
   "metadata": {},
   "outputs": [],
   "source": [
    "import pandas as pd\n",
    "import seaborn as sns\n",
    "from scipy import stats\n",
    "import matplotlib.pyplot as plt\n",
    "import numpy as np\n",
    "import warnings\n",
    "\n",
    "\n",
    "warnings.filterwarnings(\"ignore\")\n",
    "sns.set(style=\"darkgrid\")\n",
    "\n",
    "try:\n",
    "    mkrf_movies = pd.read_csv('/home/aart/datasets/mkrf_movies.csv')\n",
    "    mkrf_shows = pd.read_csv('/home/aart/datasets/mkrf_shows.csv')\n",
    "except:\n",
    "    mkrf_movies = pd.read_csv('/datasets/mkrf_movies.csv')\n",
    "    mkrf_shows = pd.read_csv('/datasets/mkrf_shows.csv')"
   ]
  },
  {
   "cell_type": "code",
   "execution_count": 2,
   "id": "bb9e2585",
   "metadata": {
    "scrolled": true
   },
   "outputs": [
    {
     "name": "stdout",
     "output_type": "stream",
     "text": [
      "<class 'pandas.core.frame.DataFrame'>\n",
      "RangeIndex: 7486 entries, 0 to 7485\n",
      "Data columns (total 15 columns):\n",
      " #   Column                 Non-Null Count  Dtype  \n",
      "---  ------                 --------------  -----  \n",
      " 0   title                  7486 non-null   object \n",
      " 1   puNumber               7486 non-null   object \n",
      " 2   show_start_date        7486 non-null   object \n",
      " 3   type                   7486 non-null   object \n",
      " 4   film_studio            7468 non-null   object \n",
      " 5   production_country     7484 non-null   object \n",
      " 6   director               7477 non-null   object \n",
      " 7   producer               6918 non-null   object \n",
      " 8   age_restriction        7486 non-null   object \n",
      " 9   refundable_support     332 non-null    float64\n",
      " 10  nonrefundable_support  332 non-null    float64\n",
      " 11  budget                 332 non-null    float64\n",
      " 12  financing_source       332 non-null    object \n",
      " 13  ratings                6519 non-null   object \n",
      " 14  genres                 6510 non-null   object \n",
      "dtypes: float64(3), object(12)\n",
      "memory usage: 877.4+ KB\n"
     ]
    },
    {
     "data": {
      "text/html": [
       "<div>\n",
       "<style scoped>\n",
       "    .dataframe tbody tr th:only-of-type {\n",
       "        vertical-align: middle;\n",
       "    }\n",
       "\n",
       "    .dataframe tbody tr th {\n",
       "        vertical-align: top;\n",
       "    }\n",
       "\n",
       "    .dataframe thead th {\n",
       "        text-align: right;\n",
       "    }\n",
       "</style>\n",
       "<table border=\"1\" class=\"dataframe\">\n",
       "  <thead>\n",
       "    <tr style=\"text-align: right;\">\n",
       "      <th></th>\n",
       "      <th>count</th>\n",
       "      <th>mean</th>\n",
       "      <th>std</th>\n",
       "      <th>min</th>\n",
       "      <th>25%</th>\n",
       "      <th>50%</th>\n",
       "      <th>75%</th>\n",
       "      <th>max</th>\n",
       "    </tr>\n",
       "  </thead>\n",
       "  <tbody>\n",
       "    <tr>\n",
       "      <th>refundable_support</th>\n",
       "      <td>332.0</td>\n",
       "      <td>1.186446e+07</td>\n",
       "      <td>2.491656e+07</td>\n",
       "      <td>0.0</td>\n",
       "      <td>0.0</td>\n",
       "      <td>0.0</td>\n",
       "      <td>15000000.0</td>\n",
       "      <td>1.800000e+08</td>\n",
       "    </tr>\n",
       "    <tr>\n",
       "      <th>nonrefundable_support</th>\n",
       "      <td>332.0</td>\n",
       "      <td>4.898099e+07</td>\n",
       "      <td>5.998012e+07</td>\n",
       "      <td>0.0</td>\n",
       "      <td>25000000.0</td>\n",
       "      <td>30000000.0</td>\n",
       "      <td>40375000.0</td>\n",
       "      <td>4.000000e+08</td>\n",
       "    </tr>\n",
       "    <tr>\n",
       "      <th>budget</th>\n",
       "      <td>332.0</td>\n",
       "      <td>1.272297e+08</td>\n",
       "      <td>1.885883e+08</td>\n",
       "      <td>0.0</td>\n",
       "      <td>42000000.0</td>\n",
       "      <td>68649916.0</td>\n",
       "      <td>141985319.5</td>\n",
       "      <td>2.305074e+09</td>\n",
       "    </tr>\n",
       "  </tbody>\n",
       "</table>\n",
       "</div>"
      ],
      "text/plain": [
       "                       count          mean           std  min         25%  \\\n",
       "refundable_support     332.0  1.186446e+07  2.491656e+07  0.0         0.0   \n",
       "nonrefundable_support  332.0  4.898099e+07  5.998012e+07  0.0  25000000.0   \n",
       "budget                 332.0  1.272297e+08  1.885883e+08  0.0  42000000.0   \n",
       "\n",
       "                              50%          75%           max  \n",
       "refundable_support            0.0   15000000.0  1.800000e+08  \n",
       "nonrefundable_support  30000000.0   40375000.0  4.000000e+08  \n",
       "budget                 68649916.0  141985319.5  2.305074e+09  "
      ]
     },
     "metadata": {},
     "output_type": "display_data"
    },
    {
     "data": {
      "text/plain": [
       "None"
      ]
     },
     "metadata": {},
     "output_type": "display_data"
    },
    {
     "data": {
      "text/html": [
       "<div>\n",
       "<style scoped>\n",
       "    .dataframe tbody tr th:only-of-type {\n",
       "        vertical-align: middle;\n",
       "    }\n",
       "\n",
       "    .dataframe tbody tr th {\n",
       "        vertical-align: top;\n",
       "    }\n",
       "\n",
       "    .dataframe thead th {\n",
       "        text-align: right;\n",
       "    }\n",
       "</style>\n",
       "<table border=\"1\" class=\"dataframe\">\n",
       "  <thead>\n",
       "    <tr style=\"text-align: right;\">\n",
       "      <th></th>\n",
       "      <th>title</th>\n",
       "      <th>puNumber</th>\n",
       "      <th>show_start_date</th>\n",
       "      <th>type</th>\n",
       "      <th>film_studio</th>\n",
       "      <th>production_country</th>\n",
       "      <th>director</th>\n",
       "      <th>producer</th>\n",
       "      <th>age_restriction</th>\n",
       "      <th>refundable_support</th>\n",
       "      <th>nonrefundable_support</th>\n",
       "      <th>budget</th>\n",
       "      <th>financing_source</th>\n",
       "      <th>ratings</th>\n",
       "      <th>genres</th>\n",
       "    </tr>\n",
       "  </thead>\n",
       "  <tbody>\n",
       "    <tr>\n",
       "      <th>0</th>\n",
       "      <td>Открытый простор</td>\n",
       "      <td>221048915</td>\n",
       "      <td>2015-11-27T12:00:00.000Z</td>\n",
       "      <td>Художественный</td>\n",
       "      <td>Тачстоун Пикчерз, Кобальт Пикчерз, Бикон Пикче...</td>\n",
       "      <td>США</td>\n",
       "      <td>Кевин Костнер</td>\n",
       "      <td>Дэвид Валдес, Кевин Костнер, Джейк Эбертс</td>\n",
       "      <td>«18+» - запрещено для детей</td>\n",
       "      <td>NaN</td>\n",
       "      <td>NaN</td>\n",
       "      <td>NaN</td>\n",
       "      <td>NaN</td>\n",
       "      <td>7.2</td>\n",
       "      <td>боевик,драма,мелодрама</td>\n",
       "    </tr>\n",
       "    <tr>\n",
       "      <th>1</th>\n",
       "      <td>Особо важное задание</td>\n",
       "      <td>111013716</td>\n",
       "      <td>2016-09-13T12:00:00.000Z</td>\n",
       "      <td>Художественный</td>\n",
       "      <td>Киностудия \"Мосфильм\"</td>\n",
       "      <td>СССР</td>\n",
       "      <td>Е.Матвеев</td>\n",
       "      <td>NaN</td>\n",
       "      <td>«6+» - для детей старше 6 лет</td>\n",
       "      <td>NaN</td>\n",
       "      <td>NaN</td>\n",
       "      <td>NaN</td>\n",
       "      <td>NaN</td>\n",
       "      <td>6.6</td>\n",
       "      <td>драма,военный</td>\n",
       "    </tr>\n",
       "    <tr>\n",
       "      <th>2</th>\n",
       "      <td>Особо опасен</td>\n",
       "      <td>221038416</td>\n",
       "      <td>2016-10-10T12:00:00.000Z</td>\n",
       "      <td>Художественный</td>\n",
       "      <td>Юниверсал Пикчерз, Кикстарт Продакшнз, Марк Пл...</td>\n",
       "      <td>США</td>\n",
       "      <td>Тимур Бекмамбетов</td>\n",
       "      <td>Джим Лемли, Джейсон Нетер, Марк Е.Платт, Яйн Смит</td>\n",
       "      <td>«18+» - запрещено для детей</td>\n",
       "      <td>NaN</td>\n",
       "      <td>NaN</td>\n",
       "      <td>NaN</td>\n",
       "      <td>NaN</td>\n",
       "      <td>6.8</td>\n",
       "      <td>фантастика,боевик,триллер</td>\n",
       "    </tr>\n",
       "    <tr>\n",
       "      <th>3</th>\n",
       "      <td>Особо опасен</td>\n",
       "      <td>221026916</td>\n",
       "      <td>2016-06-10T12:00:00.000Z</td>\n",
       "      <td>Художественный</td>\n",
       "      <td>Юниверсал Пикчерз, Кикстарт Продакшнз, Марк Пл...</td>\n",
       "      <td>США</td>\n",
       "      <td>Тимур Бекмамбетов</td>\n",
       "      <td>Джим Лемли, Джейсон Нетер, Марк Е.Платт, Яйн Смит</td>\n",
       "      <td>«18+» - запрещено для детей</td>\n",
       "      <td>NaN</td>\n",
       "      <td>NaN</td>\n",
       "      <td>NaN</td>\n",
       "      <td>NaN</td>\n",
       "      <td>6.8</td>\n",
       "      <td>фантастика,боевик,триллер</td>\n",
       "    </tr>\n",
       "    <tr>\n",
       "      <th>4</th>\n",
       "      <td>Особо опасен</td>\n",
       "      <td>221030815</td>\n",
       "      <td>2015-07-29T12:00:00.000Z</td>\n",
       "      <td>Художественный</td>\n",
       "      <td>Юниверсал Пикчерз, Кикстарт Продакшнз, Марк Пл...</td>\n",
       "      <td>США</td>\n",
       "      <td>Тимур Бекмамбетов</td>\n",
       "      <td>Джим Лемли, Джейсон Нетер, Марк Е.Платт, Яйн Смит</td>\n",
       "      <td>«18+» - запрещено для детей</td>\n",
       "      <td>NaN</td>\n",
       "      <td>NaN</td>\n",
       "      <td>NaN</td>\n",
       "      <td>NaN</td>\n",
       "      <td>6.8</td>\n",
       "      <td>фантастика,боевик,триллер</td>\n",
       "    </tr>\n",
       "  </tbody>\n",
       "</table>\n",
       "</div>"
      ],
      "text/plain": [
       "                  title   puNumber           show_start_date            type  \\\n",
       "0      Открытый простор  221048915  2015-11-27T12:00:00.000Z  Художественный   \n",
       "1  Особо важное задание  111013716  2016-09-13T12:00:00.000Z  Художественный   \n",
       "2          Особо опасен  221038416  2016-10-10T12:00:00.000Z  Художественный   \n",
       "3          Особо опасен  221026916  2016-06-10T12:00:00.000Z  Художественный   \n",
       "4          Особо опасен  221030815  2015-07-29T12:00:00.000Z  Художественный   \n",
       "\n",
       "                                         film_studio production_country  \\\n",
       "0  Тачстоун Пикчерз, Кобальт Пикчерз, Бикон Пикче...                США   \n",
       "1                              Киностудия \"Мосфильм\"               СССР   \n",
       "2  Юниверсал Пикчерз, Кикстарт Продакшнз, Марк Пл...                США   \n",
       "3  Юниверсал Пикчерз, Кикстарт Продакшнз, Марк Пл...                США   \n",
       "4  Юниверсал Пикчерз, Кикстарт Продакшнз, Марк Пл...                США   \n",
       "\n",
       "            director                                           producer  \\\n",
       "0      Кевин Костнер          Дэвид Валдес, Кевин Костнер, Джейк Эбертс   \n",
       "1          Е.Матвеев                                                NaN   \n",
       "2  Тимур Бекмамбетов  Джим Лемли, Джейсон Нетер, Марк Е.Платт, Яйн Смит   \n",
       "3  Тимур Бекмамбетов  Джим Лемли, Джейсон Нетер, Марк Е.Платт, Яйн Смит   \n",
       "4  Тимур Бекмамбетов  Джим Лемли, Джейсон Нетер, Марк Е.Платт, Яйн Смит   \n",
       "\n",
       "                 age_restriction  refundable_support  nonrefundable_support  \\\n",
       "0    «18+» - запрещено для детей                 NaN                    NaN   \n",
       "1  «6+» - для детей старше 6 лет                 NaN                    NaN   \n",
       "2    «18+» - запрещено для детей                 NaN                    NaN   \n",
       "3    «18+» - запрещено для детей                 NaN                    NaN   \n",
       "4    «18+» - запрещено для детей                 NaN                    NaN   \n",
       "\n",
       "   budget financing_source ratings                     genres  \n",
       "0     NaN              NaN     7.2     боевик,драма,мелодрама  \n",
       "1     NaN              NaN     6.6              драма,военный  \n",
       "2     NaN              NaN     6.8  фантастика,боевик,триллер  \n",
       "3     NaN              NaN     6.8  фантастика,боевик,триллер  \n",
       "4     NaN              NaN     6.8  фантастика,боевик,триллер  "
      ]
     },
     "metadata": {},
     "output_type": "display_data"
    }
   ],
   "source": [
    "display(mkrf_movies.describe().T, mkrf_movies.info(), mkrf_movies.head())"
   ]
  },
  {
   "cell_type": "code",
   "execution_count": 3,
   "id": "6af53d76",
   "metadata": {
    "scrolled": true
   },
   "outputs": [
    {
     "name": "stdout",
     "output_type": "stream",
     "text": [
      "<class 'pandas.core.frame.DataFrame'>\n",
      "RangeIndex: 3158 entries, 0 to 3157\n",
      "Data columns (total 2 columns):\n",
      " #   Column      Non-Null Count  Dtype  \n",
      "---  ------      --------------  -----  \n",
      " 0   puNumber    3158 non-null   int64  \n",
      " 1   box_office  3158 non-null   float64\n",
      "dtypes: float64(1), int64(1)\n",
      "memory usage: 49.5 KB\n"
     ]
    },
    {
     "data": {
      "text/html": [
       "<div>\n",
       "<style scoped>\n",
       "    .dataframe tbody tr th:only-of-type {\n",
       "        vertical-align: middle;\n",
       "    }\n",
       "\n",
       "    .dataframe tbody tr th {\n",
       "        vertical-align: top;\n",
       "    }\n",
       "\n",
       "    .dataframe thead th {\n",
       "        text-align: right;\n",
       "    }\n",
       "</style>\n",
       "<table border=\"1\" class=\"dataframe\">\n",
       "  <thead>\n",
       "    <tr style=\"text-align: right;\">\n",
       "      <th></th>\n",
       "      <th>count</th>\n",
       "      <th>mean</th>\n",
       "      <th>std</th>\n",
       "      <th>min</th>\n",
       "      <th>25%</th>\n",
       "      <th>50%</th>\n",
       "      <th>75%</th>\n",
       "      <th>max</th>\n",
       "    </tr>\n",
       "  </thead>\n",
       "  <tbody>\n",
       "    <tr>\n",
       "      <th>puNumber</th>\n",
       "      <td>3158.0</td>\n",
       "      <td>1.201875e+08</td>\n",
       "      <td>1.238394e+07</td>\n",
       "      <td>111000113.0</td>\n",
       "      <td>1.130002e+08</td>\n",
       "      <td>1.210131e+08</td>\n",
       "      <td>1.210283e+08</td>\n",
       "      <td>2.240264e+08</td>\n",
       "    </tr>\n",
       "    <tr>\n",
       "      <th>box_office</th>\n",
       "      <td>3158.0</td>\n",
       "      <td>7.647870e+07</td>\n",
       "      <td>2.403531e+08</td>\n",
       "      <td>0.0</td>\n",
       "      <td>8.623900e+04</td>\n",
       "      <td>2.327988e+06</td>\n",
       "      <td>2.397967e+07</td>\n",
       "      <td>3.073569e+09</td>\n",
       "    </tr>\n",
       "  </tbody>\n",
       "</table>\n",
       "</div>"
      ],
      "text/plain": [
       "             count          mean           std          min           25%  \\\n",
       "puNumber    3158.0  1.201875e+08  1.238394e+07  111000113.0  1.130002e+08   \n",
       "box_office  3158.0  7.647870e+07  2.403531e+08          0.0  8.623900e+04   \n",
       "\n",
       "                     50%           75%           max  \n",
       "puNumber    1.210131e+08  1.210283e+08  2.240264e+08  \n",
       "box_office  2.327988e+06  2.397967e+07  3.073569e+09  "
      ]
     },
     "metadata": {},
     "output_type": "display_data"
    },
    {
     "data": {
      "text/plain": [
       "None"
      ]
     },
     "metadata": {},
     "output_type": "display_data"
    },
    {
     "data": {
      "text/html": [
       "<div>\n",
       "<style scoped>\n",
       "    .dataframe tbody tr th:only-of-type {\n",
       "        vertical-align: middle;\n",
       "    }\n",
       "\n",
       "    .dataframe tbody tr th {\n",
       "        vertical-align: top;\n",
       "    }\n",
       "\n",
       "    .dataframe thead th {\n",
       "        text-align: right;\n",
       "    }\n",
       "</style>\n",
       "<table border=\"1\" class=\"dataframe\">\n",
       "  <thead>\n",
       "    <tr style=\"text-align: right;\">\n",
       "      <th></th>\n",
       "      <th>puNumber</th>\n",
       "      <th>box_office</th>\n",
       "    </tr>\n",
       "  </thead>\n",
       "  <tbody>\n",
       "    <tr>\n",
       "      <th>0</th>\n",
       "      <td>111000113</td>\n",
       "      <td>2.450000e+03</td>\n",
       "    </tr>\n",
       "    <tr>\n",
       "      <th>1</th>\n",
       "      <td>111000115</td>\n",
       "      <td>6.104000e+04</td>\n",
       "    </tr>\n",
       "    <tr>\n",
       "      <th>2</th>\n",
       "      <td>111000116</td>\n",
       "      <td>1.530300e+08</td>\n",
       "    </tr>\n",
       "    <tr>\n",
       "      <th>3</th>\n",
       "      <td>111000117</td>\n",
       "      <td>1.226096e+07</td>\n",
       "    </tr>\n",
       "    <tr>\n",
       "      <th>4</th>\n",
       "      <td>111000118</td>\n",
       "      <td>1.636841e+08</td>\n",
       "    </tr>\n",
       "  </tbody>\n",
       "</table>\n",
       "</div>"
      ],
      "text/plain": [
       "    puNumber    box_office\n",
       "0  111000113  2.450000e+03\n",
       "1  111000115  6.104000e+04\n",
       "2  111000116  1.530300e+08\n",
       "3  111000117  1.226096e+07\n",
       "4  111000118  1.636841e+08"
      ]
     },
     "metadata": {},
     "output_type": "display_data"
    }
   ],
   "source": [
    "display(mkrf_shows.describe().T, mkrf_shows.info(), mkrf_shows.head())"
   ]
  },
  {
   "cell_type": "markdown",
   "id": "bad7fb0a",
   "metadata": {},
   "source": [
    "## Предобработка данных"
   ]
  },
  {
   "cell_type": "markdown",
   "id": "7277cee5",
   "metadata": {},
   "source": [
    "### Типы данных и объединение датафреймов"
   ]
  },
  {
   "cell_type": "code",
   "execution_count": 4,
   "id": "d6142d5d",
   "metadata": {},
   "outputs": [
    {
     "name": "stdout",
     "output_type": "stream",
     "text": [
      "<class 'pandas.core.frame.DataFrame'>\n",
      "RangeIndex: 7486 entries, 0 to 7485\n",
      "Data columns (total 15 columns):\n",
      " #   Column                 Non-Null Count  Dtype  \n",
      "---  ------                 --------------  -----  \n",
      " 0   title                  7486 non-null   object \n",
      " 1   puNumber               7486 non-null   object \n",
      " 2   show_start_date        7486 non-null   object \n",
      " 3   type                   7486 non-null   object \n",
      " 4   film_studio            7468 non-null   object \n",
      " 5   production_country     7484 non-null   object \n",
      " 6   director               7477 non-null   object \n",
      " 7   producer               6918 non-null   object \n",
      " 8   age_restriction        7486 non-null   object \n",
      " 9   refundable_support     332 non-null    float64\n",
      " 10  nonrefundable_support  332 non-null    float64\n",
      " 11  budget                 332 non-null    float64\n",
      " 12  financing_source       332 non-null    object \n",
      " 13  ratings                6519 non-null   object \n",
      " 14  genres                 6510 non-null   object \n",
      "dtypes: float64(3), object(12)\n",
      "memory usage: 877.4+ KB\n",
      "<class 'pandas.core.frame.DataFrame'>\n",
      "RangeIndex: 3158 entries, 0 to 3157\n",
      "Data columns (total 2 columns):\n",
      " #   Column      Non-Null Count  Dtype  \n",
      "---  ------      --------------  -----  \n",
      " 0   puNumber    3158 non-null   int64  \n",
      " 1   box_office  3158 non-null   float64\n",
      "dtypes: float64(1), int64(1)\n",
      "memory usage: 49.5 KB\n"
     ]
    },
    {
     "data": {
      "text/plain": [
       "None"
      ]
     },
     "metadata": {},
     "output_type": "display_data"
    },
    {
     "data": {
      "text/plain": [
       "None"
      ]
     },
     "metadata": {},
     "output_type": "display_data"
    }
   ],
   "source": [
    "mkrf_movies.convert_dtypes()\n",
    "mkrf_shows.convert_dtypes()\n",
    "display(mkrf_movies.info(), mkrf_shows.info())"
   ]
  },
  {
   "cell_type": "markdown",
   "id": "22a932ec",
   "metadata": {},
   "source": [
    "Я бы хотел объединить два этих датафрейма в один, используя столбец `puNumber`. Автоматическая конверсия типов данных `convert_dtypes` решила, что в таблице `mkrf_movies` столбец `pu_number` должен сохранить тип данных `object`. Это подсказывает нам, что в этом столбце присутствуют нечисловые значения."
   ]
  },
  {
   "cell_type": "code",
   "execution_count": 5,
   "id": "8336f243",
   "metadata": {},
   "outputs": [
    {
     "data": {
      "text/html": [
       "<div>\n",
       "<style scoped>\n",
       "    .dataframe tbody tr th:only-of-type {\n",
       "        vertical-align: middle;\n",
       "    }\n",
       "\n",
       "    .dataframe tbody tr th {\n",
       "        vertical-align: top;\n",
       "    }\n",
       "\n",
       "    .dataframe thead th {\n",
       "        text-align: right;\n",
       "    }\n",
       "</style>\n",
       "<table border=\"1\" class=\"dataframe\">\n",
       "  <thead>\n",
       "    <tr style=\"text-align: right;\">\n",
       "      <th></th>\n",
       "      <th>title</th>\n",
       "      <th>puNumber</th>\n",
       "      <th>show_start_date</th>\n",
       "      <th>type</th>\n",
       "      <th>film_studio</th>\n",
       "      <th>production_country</th>\n",
       "      <th>director</th>\n",
       "      <th>producer</th>\n",
       "      <th>age_restriction</th>\n",
       "      <th>refundable_support</th>\n",
       "      <th>nonrefundable_support</th>\n",
       "      <th>budget</th>\n",
       "      <th>financing_source</th>\n",
       "      <th>ratings</th>\n",
       "      <th>genres</th>\n",
       "    </tr>\n",
       "  </thead>\n",
       "  <tbody>\n",
       "    <tr>\n",
       "      <th>804</th>\n",
       "      <td>Паранормальный Якутск</td>\n",
       "      <td>111004112</td>\n",
       "      <td>2012-08-24T12:00:00.000Z</td>\n",
       "      <td>Художественный</td>\n",
       "      <td>ИП Тимофеев К.П.</td>\n",
       "      <td>Россия</td>\n",
       "      <td>К.Тимофеев</td>\n",
       "      <td>NaN</td>\n",
       "      <td>«16+» - для детей старше 16 лет</td>\n",
       "      <td>NaN</td>\n",
       "      <td>NaN</td>\n",
       "      <td>NaN</td>\n",
       "      <td>NaN</td>\n",
       "      <td>NaN</td>\n",
       "      <td>NaN</td>\n",
       "    </tr>\n",
       "    <tr>\n",
       "      <th>1797</th>\n",
       "      <td>Курбан-роман. (История с жертвой)</td>\n",
       "      <td>нет</td>\n",
       "      <td>2014-05-15T12:00:00.000Z</td>\n",
       "      <td>Художественный</td>\n",
       "      <td>ФОНД \"ИННОВАЦИЯ\"</td>\n",
       "      <td>Россия</td>\n",
       "      <td>С.Юзеев</td>\n",
       "      <td>М.Галицкая</td>\n",
       "      <td>«12+» - для детей старше 12 лет</td>\n",
       "      <td>NaN</td>\n",
       "      <td>NaN</td>\n",
       "      <td>NaN</td>\n",
       "      <td>NaN</td>\n",
       "      <td>NaN</td>\n",
       "      <td>NaN</td>\n",
       "    </tr>\n",
       "  </tbody>\n",
       "</table>\n",
       "</div>"
      ],
      "text/plain": [
       "                                  title    puNumber           show_start_date  \\\n",
       "804               Паранормальный Якутск   111004112  2012-08-24T12:00:00.000Z   \n",
       "1797  Курбан-роман. (История с жертвой)         нет  2014-05-15T12:00:00.000Z   \n",
       "\n",
       "                type       film_studio production_country    director  \\\n",
       "804   Художественный  ИП Тимофеев К.П.             Россия  К.Тимофеев   \n",
       "1797  Художественный  ФОНД \"ИННОВАЦИЯ\"             Россия     С.Юзеев   \n",
       "\n",
       "        producer                  age_restriction  refundable_support  \\\n",
       "804          NaN  «16+» - для детей старше 16 лет                 NaN   \n",
       "1797  М.Галицкая  «12+» - для детей старше 12 лет                 NaN   \n",
       "\n",
       "      nonrefundable_support  budget financing_source ratings genres  \n",
       "804                     NaN     NaN              NaN     NaN    NaN  \n",
       "1797                    NaN     NaN              NaN     NaN    NaN  "
      ]
     },
     "execution_count": 5,
     "metadata": {},
     "output_type": "execute_result"
    }
   ],
   "source": [
    "mkrf_movies.query('puNumber.str.contains(\"\\D\")')"
   ]
  },
  {
   "cell_type": "markdown",
   "id": "7c034266",
   "metadata": {},
   "source": [
    "Если проблема со строкой `1791` понятна сразу, то строка `804` вызывает недоумение."
   ]
  },
  {
   "cell_type": "code",
   "execution_count": 6,
   "id": "ded519b5",
   "metadata": {},
   "outputs": [
    {
     "data": {
      "text/plain": [
       " 111004112    1\n",
       "111000110     1\n",
       "111000111     1\n",
       "111000112     1\n",
       "111000113     1\n",
       "             ..\n",
       "226017410     1\n",
       "226019110     1\n",
       "231001012     1\n",
       "231001111     1\n",
       "нет           1\n",
       "Name: puNumber, Length: 7484, dtype: int64"
      ]
     },
     "execution_count": 6,
     "metadata": {},
     "output_type": "execute_result"
    }
   ],
   "source": [
    "mkrf_movies.puNumber.value_counts().sort_index()"
   ]
  },
  {
   "cell_type": "markdown",
   "id": "9ecc5605",
   "metadata": {},
   "source": [
    "Теперь все стало понятнее."
   ]
  },
  {
   "cell_type": "code",
   "execution_count": 7,
   "id": "f0f996fa",
   "metadata": {},
   "outputs": [],
   "source": [
    "#Удалим все возможные пробелы в столбце, на всякий случай\n",
    "mkrf_movies.puNumber = mkrf_movies.puNumber.str.replace(' ', '')"
   ]
  },
  {
   "cell_type": "markdown",
   "id": "2c864de9",
   "metadata": {},
   "source": [
    "Что касается фильма на строке `1797` - "
   ]
  },
  {
   "cell_type": "code",
   "execution_count": 8,
   "id": "5fc92918",
   "metadata": {},
   "outputs": [
    {
     "data": {
      "text/html": [
       "<div>\n",
       "<style scoped>\n",
       "    .dataframe tbody tr th:only-of-type {\n",
       "        vertical-align: middle;\n",
       "    }\n",
       "\n",
       "    .dataframe tbody tr th {\n",
       "        vertical-align: top;\n",
       "    }\n",
       "\n",
       "    .dataframe thead th {\n",
       "        text-align: right;\n",
       "    }\n",
       "</style>\n",
       "<table border=\"1\" class=\"dataframe\">\n",
       "  <thead>\n",
       "    <tr style=\"text-align: right;\">\n",
       "      <th></th>\n",
       "      <th>title</th>\n",
       "      <th>puNumber</th>\n",
       "      <th>show_start_date</th>\n",
       "      <th>type</th>\n",
       "      <th>film_studio</th>\n",
       "      <th>production_country</th>\n",
       "      <th>director</th>\n",
       "      <th>producer</th>\n",
       "      <th>age_restriction</th>\n",
       "      <th>refundable_support</th>\n",
       "      <th>nonrefundable_support</th>\n",
       "      <th>budget</th>\n",
       "      <th>financing_source</th>\n",
       "      <th>ratings</th>\n",
       "      <th>genres</th>\n",
       "    </tr>\n",
       "  </thead>\n",
       "  <tbody>\n",
       "    <tr>\n",
       "      <th>1797</th>\n",
       "      <td>Курбан-роман. (История с жертвой)</td>\n",
       "      <td>нет</td>\n",
       "      <td>2014-05-15T12:00:00.000Z</td>\n",
       "      <td>Художественный</td>\n",
       "      <td>ФОНД \"ИННОВАЦИЯ\"</td>\n",
       "      <td>Россия</td>\n",
       "      <td>С.Юзеев</td>\n",
       "      <td>М.Галицкая</td>\n",
       "      <td>«12+» - для детей старше 12 лет</td>\n",
       "      <td>NaN</td>\n",
       "      <td>NaN</td>\n",
       "      <td>NaN</td>\n",
       "      <td>NaN</td>\n",
       "      <td>NaN</td>\n",
       "      <td>NaN</td>\n",
       "    </tr>\n",
       "    <tr>\n",
       "      <th>2078</th>\n",
       "      <td>Курбан-роман. (История с жертвой).</td>\n",
       "      <td>111009614</td>\n",
       "      <td>2014-09-02T12:00:00.000Z</td>\n",
       "      <td>Художественный</td>\n",
       "      <td>ФОНД \"ИННОВАЦИЯ\"</td>\n",
       "      <td>Россия</td>\n",
       "      <td>С.Юзеев</td>\n",
       "      <td>М.Галицкая</td>\n",
       "      <td>«12+» - для детей старше 12 лет</td>\n",
       "      <td>NaN</td>\n",
       "      <td>NaN</td>\n",
       "      <td>NaN</td>\n",
       "      <td>NaN</td>\n",
       "      <td>NaN</td>\n",
       "      <td>NaN</td>\n",
       "    </tr>\n",
       "  </tbody>\n",
       "</table>\n",
       "</div>"
      ],
      "text/plain": [
       "                                   title   puNumber           show_start_date  \\\n",
       "1797   Курбан-роман. (История с жертвой)        нет  2014-05-15T12:00:00.000Z   \n",
       "2078  Курбан-роман. (История с жертвой).  111009614  2014-09-02T12:00:00.000Z   \n",
       "\n",
       "                type       film_studio production_country director  \\\n",
       "1797  Художественный  ФОНД \"ИННОВАЦИЯ\"             Россия  С.Юзеев   \n",
       "2078  Художественный  ФОНД \"ИННОВАЦИЯ\"             Россия  С.Юзеев   \n",
       "\n",
       "        producer                  age_restriction  refundable_support  \\\n",
       "1797  М.Галицкая  «12+» - для детей старше 12 лет                 NaN   \n",
       "2078  М.Галицкая  «12+» - для детей старше 12 лет                 NaN   \n",
       "\n",
       "      nonrefundable_support  budget financing_source ratings genres  \n",
       "1797                    NaN     NaN              NaN     NaN    NaN  \n",
       "2078                    NaN     NaN              NaN     NaN    NaN  "
      ]
     },
     "execution_count": 8,
     "metadata": {},
     "output_type": "execute_result"
    }
   ],
   "source": [
    "mkrf_movies[mkrf_movies.title.str.contains('Курбан-роман')]"
   ]
  },
  {
   "cell_type": "markdown",
   "id": "c264026f",
   "metadata": {},
   "source": [
    "Отличается лишь дата премьеры. Для исследования нам наиболее необходим год, который совпадает. Будем расценивать это как дубликат, и удалим проблемную строку."
   ]
  },
  {
   "cell_type": "code",
   "execution_count": 9,
   "id": "58c12692",
   "metadata": {},
   "outputs": [],
   "source": [
    "mkrf_movies = mkrf_movies.loc[mkrf_movies.puNumber != 'нет']"
   ]
  },
  {
   "cell_type": "code",
   "execution_count": 10,
   "id": "82e86bb3",
   "metadata": {},
   "outputs": [
    {
     "data": {
      "text/plain": [
       "0"
      ]
     },
     "execution_count": 10,
     "metadata": {},
     "output_type": "execute_result"
    }
   ],
   "source": [
    "#Проверяем сколько осталось нечисловых значений\n",
    "mkrf_movies.query('puNumber.str.contains(\"\\D\")').shape[0]"
   ]
  },
  {
   "cell_type": "markdown",
   "id": "462a2798",
   "metadata": {},
   "source": [
    "Осталось лишь преобразовать тип данных и объединить датафреймы. В этом случае с задачей справится простой `merge`."
   ]
  },
  {
   "cell_type": "code",
   "execution_count": 11,
   "id": "97caf1de",
   "metadata": {},
   "outputs": [],
   "source": [
    "mkrf_movies.puNumber = mkrf_movies.puNumber.astype(int)\n",
    "\n",
    "df = pd.merge(mkrf_movies,\n",
    "              mkrf_shows,\n",
    "              on='puNumber',\n",
    "              how='left')"
   ]
  },
  {
   "cell_type": "code",
   "execution_count": 12,
   "id": "00767846",
   "metadata": {},
   "outputs": [
    {
     "name": "stdout",
     "output_type": "stream",
     "text": [
      "<class 'pandas.core.frame.DataFrame'>\n",
      "Int64Index: 7485 entries, 0 to 7484\n",
      "Data columns (total 16 columns):\n",
      " #   Column                 Non-Null Count  Dtype  \n",
      "---  ------                 --------------  -----  \n",
      " 0   title                  7485 non-null   object \n",
      " 1   puNumber               7485 non-null   int64  \n",
      " 2   show_start_date        7485 non-null   object \n",
      " 3   type                   7485 non-null   object \n",
      " 4   film_studio            7467 non-null   object \n",
      " 5   production_country     7483 non-null   object \n",
      " 6   director               7476 non-null   object \n",
      " 7   producer               6917 non-null   object \n",
      " 8   age_restriction        7485 non-null   object \n",
      " 9   refundable_support     332 non-null    float64\n",
      " 10  nonrefundable_support  332 non-null    float64\n",
      " 11  budget                 332 non-null    float64\n",
      " 12  financing_source       332 non-null    object \n",
      " 13  ratings                6519 non-null   object \n",
      " 14  genres                 6510 non-null   object \n",
      " 15  box_office             3158 non-null   float64\n",
      "dtypes: float64(4), int64(1), object(11)\n",
      "memory usage: 994.1+ KB\n"
     ]
    },
    {
     "data": {
      "text/html": [
       "<div>\n",
       "<style scoped>\n",
       "    .dataframe tbody tr th:only-of-type {\n",
       "        vertical-align: middle;\n",
       "    }\n",
       "\n",
       "    .dataframe tbody tr th {\n",
       "        vertical-align: top;\n",
       "    }\n",
       "\n",
       "    .dataframe thead th {\n",
       "        text-align: right;\n",
       "    }\n",
       "</style>\n",
       "<table border=\"1\" class=\"dataframe\">\n",
       "  <thead>\n",
       "    <tr style=\"text-align: right;\">\n",
       "      <th></th>\n",
       "      <th>title</th>\n",
       "      <th>puNumber</th>\n",
       "      <th>show_start_date</th>\n",
       "      <th>type</th>\n",
       "      <th>film_studio</th>\n",
       "      <th>production_country</th>\n",
       "      <th>director</th>\n",
       "      <th>producer</th>\n",
       "      <th>age_restriction</th>\n",
       "      <th>refundable_support</th>\n",
       "      <th>nonrefundable_support</th>\n",
       "      <th>budget</th>\n",
       "      <th>financing_source</th>\n",
       "      <th>ratings</th>\n",
       "      <th>genres</th>\n",
       "      <th>box_office</th>\n",
       "    </tr>\n",
       "  </thead>\n",
       "  <tbody>\n",
       "    <tr>\n",
       "      <th>2314</th>\n",
       "      <td>Обратная сторона брака</td>\n",
       "      <td>121015414</td>\n",
       "      <td>2014-07-21T12:00:00.000Z</td>\n",
       "      <td>Художественный</td>\n",
       "      <td>Баладжи Моушн Пикчерз, Притиш Нанди Коммьюнике...</td>\n",
       "      <td>Индия</td>\n",
       "      <td>Сакет Чаудхари</td>\n",
       "      <td>Шобха Капур, Экта Капур, Притиш Нанди</td>\n",
       "      <td>«12+» - для детей старше 12 лет</td>\n",
       "      <td>NaN</td>\n",
       "      <td>NaN</td>\n",
       "      <td>NaN</td>\n",
       "      <td>NaN</td>\n",
       "      <td>6.7</td>\n",
       "      <td>мелодрама,комедия</td>\n",
       "      <td>NaN</td>\n",
       "    </tr>\n",
       "  </tbody>\n",
       "</table>\n",
       "</div>"
      ],
      "text/plain": [
       "                       title   puNumber           show_start_date  \\\n",
       "2314  Обратная сторона брака  121015414  2014-07-21T12:00:00.000Z   \n",
       "\n",
       "                type                                        film_studio  \\\n",
       "2314  Художественный  Баладжи Моушн Пикчерз, Притиш Нанди Коммьюнике...   \n",
       "\n",
       "     production_country        director  \\\n",
       "2314              Индия  Сакет Чаудхари   \n",
       "\n",
       "                                    producer                  age_restriction  \\\n",
       "2314  Шобха Капур, Экта Капур, Притиш Нанди   «12+» - для детей старше 12 лет   \n",
       "\n",
       "      refundable_support  nonrefundable_support  budget financing_source  \\\n",
       "2314                 NaN                    NaN     NaN              NaN   \n",
       "\n",
       "     ratings             genres  box_office  \n",
       "2314     6.7  мелодрама,комедия         NaN  "
      ]
     },
     "metadata": {},
     "output_type": "display_data"
    },
    {
     "data": {
      "text/plain": [
       "None"
      ]
     },
     "metadata": {},
     "output_type": "display_data"
    }
   ],
   "source": [
    "display(df.sample(), df.info())"
   ]
  },
  {
   "cell_type": "markdown",
   "id": "697d47f0",
   "metadata": {},
   "source": [
    "Код работает как ожидалось."
   ]
  },
  {
   "cell_type": "markdown",
   "id": "4653360d",
   "metadata": {},
   "source": [
    "### Дальнейшее преобразование типов данных и пр."
   ]
  },
  {
   "cell_type": "markdown",
   "id": "ee943c4f",
   "metadata": {},
   "source": [
    "Инцидент с пробелом не внушает доверия к структурной целостности датафрейма."
   ]
  },
  {
   "cell_type": "code",
   "execution_count": 13,
   "id": "f936251b",
   "metadata": {},
   "outputs": [],
   "source": [
    "df.columns = df.columns.str.lower() #нижний регистр\n",
    "df.columns = df.columns.str.replace(' ', '_') #замена пробелов на ниж. прочерк"
   ]
  },
  {
   "cell_type": "markdown",
   "id": "5b55906f",
   "metadata": {},
   "source": [
    "Дату премьеры необходимо перевести в `datetime`."
   ]
  },
  {
   "cell_type": "code",
   "execution_count": 14,
   "id": "bc35b0ea",
   "metadata": {},
   "outputs": [],
   "source": [
    "df.show_start_date = df.show_start_date.astype('datetime64[D]')"
   ]
  },
  {
   "cell_type": "markdown",
   "id": "ead126f5",
   "metadata": {},
   "source": [
    "Еще один неожиданный тип данных - `object` в стоблце `ratings`. Как мы видели раннее, значения в этом столбце представляют собой число с плавающей точкой в пределах от 0 до 10:"
   ]
  },
  {
   "cell_type": "code",
   "execution_count": 15,
   "id": "269c75b8",
   "metadata": {},
   "outputs": [
    {
     "data": {
      "text/plain": [
       "0    7.2\n",
       "1    6.6\n",
       "2    6.8\n",
       "Name: ratings, dtype: object"
      ]
     },
     "execution_count": 15,
     "metadata": {},
     "output_type": "execute_result"
    }
   ],
   "source": [
    "df.ratings.head(3)"
   ]
  },
  {
   "cell_type": "markdown",
   "id": "22c2c952",
   "metadata": {},
   "source": [
    "Скорее всего, здесь тоже присутсвуют нечисловые значения."
   ]
  },
  {
   "cell_type": "code",
   "execution_count": 16,
   "id": "6e9d205b",
   "metadata": {},
   "outputs": [
    {
     "data": {
      "text/plain": [
       "array(['7.2', '6.6', '6.8', '7.7', '8.3', '8.0', '7.8', '8.1', '7.1',\n",
       "       '6.0', '7.4', '5.8', '8.7', '6.3', '6.9', '5.0', '4.3', '7.3',\n",
       "       '7.0', '6.4', nan, '8.2', '7.5', '6.7', '7.9', '5.9', '6.2', '5.6',\n",
       "       '6.5', '2.4', '7.6', '6.1', '8.6', '8.5', '8.8', '5.5', '5.1',\n",
       "       '5.7', '5.4', '99%', '4.4', '4.5', '5.3', '4.1', '8.4', '2.6',\n",
       "       '3.8', '4.6', '4.8', '4.0', '3.0', '1.6', '4.2', '5.2', '4.7',\n",
       "       '4.9', '3.9', '2.7', '3.3', '2.9', '28%', '3.7', '1.4', '3.1',\n",
       "       '97%', '3.5', '3.2', '2.8', '1.5', '2.1', '2.5', '9.2', '3.4',\n",
       "       '1.1', '3.6', '83%', '64%', '91%', '94%', '62%', '79%', '90%',\n",
       "       '19%', '88%', '1.0', '89%', '1.3', '1.9', '1.8', '1.2', '1.7',\n",
       "       '9.0', '98%', '8.9', '9.1'], dtype=object)"
      ]
     },
     "execution_count": 16,
     "metadata": {},
     "output_type": "execute_result"
    }
   ],
   "source": [
    "df.ratings.unique()"
   ]
  },
  {
   "cell_type": "markdown",
   "id": "8a3e6e1a",
   "metadata": {},
   "source": [
    "Действительно, видим оценки в процентах."
   ]
  },
  {
   "cell_type": "code",
   "execution_count": 17,
   "id": "c76f9524",
   "metadata": {},
   "outputs": [
    {
     "data": {
      "text/html": [
       "<div>\n",
       "<style scoped>\n",
       "    .dataframe tbody tr th:only-of-type {\n",
       "        vertical-align: middle;\n",
       "    }\n",
       "\n",
       "    .dataframe tbody tr th {\n",
       "        vertical-align: top;\n",
       "    }\n",
       "\n",
       "    .dataframe thead th {\n",
       "        text-align: right;\n",
       "    }\n",
       "</style>\n",
       "<table border=\"1\" class=\"dataframe\">\n",
       "  <thead>\n",
       "    <tr style=\"text-align: right;\">\n",
       "      <th></th>\n",
       "      <th>title</th>\n",
       "      <th>ratings</th>\n",
       "      <th>show_start_date</th>\n",
       "    </tr>\n",
       "  </thead>\n",
       "  <tbody>\n",
       "    <tr>\n",
       "      <th>2679</th>\n",
       "      <td>Год Белого Слона</td>\n",
       "      <td>79%</td>\n",
       "      <td>2015-04-08</td>\n",
       "    </tr>\n",
       "    <tr>\n",
       "      <th>7158</th>\n",
       "      <td>Анна Каренина. Интимный дневник</td>\n",
       "      <td>79%</td>\n",
       "      <td>2019-10-23</td>\n",
       "    </tr>\n",
       "    <tr>\n",
       "      <th>3785</th>\n",
       "      <td>Охотники</td>\n",
       "      <td>89%</td>\n",
       "      <td>2016-02-06</td>\n",
       "    </tr>\n",
       "  </tbody>\n",
       "</table>\n",
       "</div>"
      ],
      "text/plain": [
       "                                title ratings show_start_date\n",
       "2679                 Год Белого Слона     79%      2015-04-08\n",
       "7158  Анна Каренина. Интимный дневник     79%      2019-10-23\n",
       "3785                         Охотники     89%      2016-02-06"
      ]
     },
     "execution_count": 17,
     "metadata": {},
     "output_type": "execute_result"
    }
   ],
   "source": [
    "df.query('ratings.str.contains(\"%\") == True')[['title','ratings','show_start_date']].sample(3)"
   ]
  },
  {
   "cell_type": "markdown",
   "id": "45799fe9",
   "metadata": {},
   "source": [
    "[Проверка](https://www.kinopoisk.ru/film/742185/?utm_referrer=www.google.com) показала, что фильмы с рейтингом в формате процентов на сайте \"Кинопоиска\" не имеют традиционного рейтинга. Данные фильмы либо не набрали необходимого минимума количества голосов для рассчета рейтинга, либо еще не вышли в прокат (рейтинг отображает долю проголосовавших зрителей, ожидающих выхода фильма).\n",
    "Можно бы было перевести проценты в числа с плавающей точкой (99% = 9.9, etc.), но в свете сказанного выше (т.е. малой выборки и нерепрезентативности таких оценок, мне кажется более правильным замена таких значений на `nan`."
   ]
  },
  {
   "cell_type": "code",
   "execution_count": 18,
   "id": "61d5c6c1",
   "metadata": {},
   "outputs": [],
   "source": [
    "df.loc[(df.ratings.str.contains('%'))&(df.ratings.notna()), 'ratings'] = np.NaN\n",
    "df.ratings = df.ratings.astype(float)"
   ]
  },
  {
   "cell_type": "code",
   "execution_count": 19,
   "id": "efe4dcbd",
   "metadata": {},
   "outputs": [
    {
     "name": "stdout",
     "output_type": "stream",
     "text": [
      "<class 'pandas.core.frame.DataFrame'>\n",
      "Int64Index: 7485 entries, 0 to 7484\n",
      "Data columns (total 16 columns):\n",
      " #   Column                 Non-Null Count  Dtype         \n",
      "---  ------                 --------------  -----         \n",
      " 0   title                  7485 non-null   object        \n",
      " 1   punumber               7485 non-null   int64         \n",
      " 2   show_start_date        7485 non-null   datetime64[ns]\n",
      " 3   type                   7485 non-null   object        \n",
      " 4   film_studio            7467 non-null   object        \n",
      " 5   production_country     7483 non-null   object        \n",
      " 6   director               7476 non-null   object        \n",
      " 7   producer               6917 non-null   object        \n",
      " 8   age_restriction        7485 non-null   object        \n",
      " 9   refundable_support     332 non-null    float64       \n",
      " 10  nonrefundable_support  332 non-null    float64       \n",
      " 11  budget                 332 non-null    float64       \n",
      " 12  financing_source       332 non-null    object        \n",
      " 13  ratings                6490 non-null   float64       \n",
      " 14  genres                 6510 non-null   object        \n",
      " 15  box_office             3158 non-null   float64       \n",
      "dtypes: datetime64[ns](1), float64(5), int64(1), object(9)\n",
      "memory usage: 994.1+ KB\n"
     ]
    }
   ],
   "source": [
    "df.info()"
   ]
  },
  {
   "cell_type": "markdown",
   "id": "10534035",
   "metadata": {},
   "source": [
    "Эта часть предобработки данных завершена."
   ]
  },
  {
   "cell_type": "markdown",
   "id": "cb784c1d",
   "metadata": {},
   "source": [
    "###  Обработка пропусков"
   ]
  },
  {
   "cell_type": "code",
   "execution_count": 20,
   "id": "6c79c665",
   "metadata": {},
   "outputs": [
    {
     "data": {
      "text/html": [
       "<div>\n",
       "<style scoped>\n",
       "    .dataframe tbody tr th:only-of-type {\n",
       "        vertical-align: middle;\n",
       "    }\n",
       "\n",
       "    .dataframe tbody tr th {\n",
       "        vertical-align: top;\n",
       "    }\n",
       "\n",
       "    .dataframe thead th {\n",
       "        text-align: right;\n",
       "    }\n",
       "</style>\n",
       "<table border=\"1\" class=\"dataframe\">\n",
       "  <thead>\n",
       "    <tr style=\"text-align: right;\">\n",
       "      <th></th>\n",
       "      <th>Пропусков</th>\n",
       "      <th>Доля пропусков</th>\n",
       "    </tr>\n",
       "  </thead>\n",
       "  <tbody>\n",
       "    <tr>\n",
       "      <th>refundable_support</th>\n",
       "      <td>7153</td>\n",
       "      <td>0.955645</td>\n",
       "    </tr>\n",
       "    <tr>\n",
       "      <th>nonrefundable_support</th>\n",
       "      <td>7153</td>\n",
       "      <td>0.955645</td>\n",
       "    </tr>\n",
       "    <tr>\n",
       "      <th>budget</th>\n",
       "      <td>7153</td>\n",
       "      <td>0.955645</td>\n",
       "    </tr>\n",
       "    <tr>\n",
       "      <th>financing_source</th>\n",
       "      <td>7153</td>\n",
       "      <td>0.955645</td>\n",
       "    </tr>\n",
       "    <tr>\n",
       "      <th>box_office</th>\n",
       "      <td>4327</td>\n",
       "      <td>0.578090</td>\n",
       "    </tr>\n",
       "    <tr>\n",
       "      <th>ratings</th>\n",
       "      <td>995</td>\n",
       "      <td>0.132933</td>\n",
       "    </tr>\n",
       "    <tr>\n",
       "      <th>genres</th>\n",
       "      <td>975</td>\n",
       "      <td>0.130261</td>\n",
       "    </tr>\n",
       "    <tr>\n",
       "      <th>producer</th>\n",
       "      <td>568</td>\n",
       "      <td>0.075885</td>\n",
       "    </tr>\n",
       "    <tr>\n",
       "      <th>film_studio</th>\n",
       "      <td>18</td>\n",
       "      <td>0.002405</td>\n",
       "    </tr>\n",
       "    <tr>\n",
       "      <th>director</th>\n",
       "      <td>9</td>\n",
       "      <td>0.001202</td>\n",
       "    </tr>\n",
       "    <tr>\n",
       "      <th>production_country</th>\n",
       "      <td>2</td>\n",
       "      <td>0.000267</td>\n",
       "    </tr>\n",
       "    <tr>\n",
       "      <th>title</th>\n",
       "      <td>0</td>\n",
       "      <td>0.000000</td>\n",
       "    </tr>\n",
       "    <tr>\n",
       "      <th>punumber</th>\n",
       "      <td>0</td>\n",
       "      <td>0.000000</td>\n",
       "    </tr>\n",
       "    <tr>\n",
       "      <th>show_start_date</th>\n",
       "      <td>0</td>\n",
       "      <td>0.000000</td>\n",
       "    </tr>\n",
       "    <tr>\n",
       "      <th>type</th>\n",
       "      <td>0</td>\n",
       "      <td>0.000000</td>\n",
       "    </tr>\n",
       "  </tbody>\n",
       "</table>\n",
       "</div>"
      ],
      "text/plain": [
       "                       Пропусков  Доля пропусков\n",
       "refundable_support          7153        0.955645\n",
       "nonrefundable_support       7153        0.955645\n",
       "budget                      7153        0.955645\n",
       "financing_source            7153        0.955645\n",
       "box_office                  4327        0.578090\n",
       "ratings                      995        0.132933\n",
       "genres                       975        0.130261\n",
       "producer                     568        0.075885\n",
       "film_studio                   18        0.002405\n",
       "director                       9        0.001202\n",
       "production_country             2        0.000267\n",
       "title                          0        0.000000\n",
       "punumber                       0        0.000000\n",
       "show_start_date                0        0.000000\n",
       "type                           0        0.000000"
      ]
     },
     "execution_count": 20,
     "metadata": {},
     "output_type": "execute_result"
    }
   ],
   "source": [
    "total_missing = df.isnull().sum().sort_values(ascending=False)\n",
    "percent_missing = (df.isnull().sum()/df.isnull().count()).sort_values(ascending=False)\n",
    "missing_data = pd.concat([total_missing, percent_missing], axis=1, keys=['Пропусков', 'Доля пропусков'])\n",
    "missing_data.head(15)"
   ]
  },
  {
   "cell_type": "markdown",
   "id": "9581477b",
   "metadata": {},
   "source": [
    "* `refundable_support`, `nonrefundable_support`, `financing_source`, - Почти на 96% эти поля состоят из пропусков, которые можно трактовать как отсутствие господдержки. Следовательно, пропуски в этих полях можно заполнить нулями, а для support_source можно указать \"без господдержки\".\n",
    "* `box_office` - Больше половины значений данных о кассовых сборах содержат пропуски. Заполнять их расчетными данными без крайней необходимости не стоит. Можно попробовать частично восстановить пропуски вручную, но необходимо понимать, что это большое количество ручного труда, неизвестно, все ли данные лежат в открытом доступе, неизвестно, если временной период по сборам в открытом доступе будет тем же самым, что в датафрейме, и, наконец, если сборы будут указаны в валюте, необходимо будет учитывать тогдашний курс, инфляцию и т.д. В свете всего этого заполнение пропусков здесь возможным не представляется.\n",
    "* `budget` - см. выше\n",
    "* `ratings` - об этом столбце уже было сказано. Если здесь встречается пропуск - фильм не набрал достаточное количество голосов на платформе Кинопоиска.\n",
    "* `genres`, `producer` - данные есть в открытом доступе, но перспектива заполнять вручную 1500 пропусков кажется нецелесообразной.\n",
    "* `film_studio`, `director` - заполнить вручную кажется возможным. Оценим целесообразность этого дальше, пока же заменим пропуски на \"не указано\". \n",
    "* `production_country` - заполним вручную."
   ]
  },
  {
   "cell_type": "markdown",
   "id": "ebdaa284",
   "metadata": {},
   "source": [
    "* `production_country`:"
   ]
  },
  {
   "cell_type": "code",
   "execution_count": 21,
   "id": "4789b406",
   "metadata": {},
   "outputs": [
    {
     "data": {
      "text/html": [
       "<div>\n",
       "<style scoped>\n",
       "    .dataframe tbody tr th:only-of-type {\n",
       "        vertical-align: middle;\n",
       "    }\n",
       "\n",
       "    .dataframe tbody tr th {\n",
       "        vertical-align: top;\n",
       "    }\n",
       "\n",
       "    .dataframe thead th {\n",
       "        text-align: right;\n",
       "    }\n",
       "</style>\n",
       "<table border=\"1\" class=\"dataframe\">\n",
       "  <thead>\n",
       "    <tr style=\"text-align: right;\">\n",
       "      <th></th>\n",
       "      <th>title</th>\n",
       "      <th>punumber</th>\n",
       "      <th>show_start_date</th>\n",
       "      <th>type</th>\n",
       "      <th>film_studio</th>\n",
       "      <th>production_country</th>\n",
       "      <th>director</th>\n",
       "      <th>producer</th>\n",
       "      <th>age_restriction</th>\n",
       "      <th>refundable_support</th>\n",
       "      <th>nonrefundable_support</th>\n",
       "      <th>budget</th>\n",
       "      <th>financing_source</th>\n",
       "      <th>ratings</th>\n",
       "      <th>genres</th>\n",
       "      <th>box_office</th>\n",
       "    </tr>\n",
       "  </thead>\n",
       "  <tbody>\n",
       "    <tr>\n",
       "      <th>3185</th>\n",
       "      <td>Детский юмористический киножурнал \"Ералаш. Ну ...</td>\n",
       "      <td>111001216</td>\n",
       "      <td>2016-02-09</td>\n",
       "      <td>Художественный</td>\n",
       "      <td>ООО \"Продюсерский центр ЕРАЛАШ\"</td>\n",
       "      <td>NaN</td>\n",
       "      <td>Р.Светлов, И.Магитон, А.Арутюнян, Л.Мирский, А...</td>\n",
       "      <td>ООО \"Продюсерский центр ЕРАЛАШ\"</td>\n",
       "      <td>«0+» - для любой зрительской аудитории</td>\n",
       "      <td>NaN</td>\n",
       "      <td>NaN</td>\n",
       "      <td>NaN</td>\n",
       "      <td>NaN</td>\n",
       "      <td>7.2</td>\n",
       "      <td>детский,комедия</td>\n",
       "      <td>194527.0</td>\n",
       "    </tr>\n",
       "    <tr>\n",
       "      <th>4440</th>\n",
       "      <td>Мульт личности. Выпуск 5</td>\n",
       "      <td>214000410</td>\n",
       "      <td>2010-01-25</td>\n",
       "      <td>Художественный</td>\n",
       "      <td>NaN</td>\n",
       "      <td>NaN</td>\n",
       "      <td>NaN</td>\n",
       "      <td>NaN</td>\n",
       "      <td>«0+» - для любой зрительской аудитории</td>\n",
       "      <td>NaN</td>\n",
       "      <td>NaN</td>\n",
       "      <td>NaN</td>\n",
       "      <td>NaN</td>\n",
       "      <td>4.0</td>\n",
       "      <td>мультфильм,комедия</td>\n",
       "      <td>NaN</td>\n",
       "    </tr>\n",
       "  </tbody>\n",
       "</table>\n",
       "</div>"
      ],
      "text/plain": [
       "                                                  title   punumber  \\\n",
       "3185  Детский юмористический киножурнал \"Ералаш. Ну ...  111001216   \n",
       "4440                           Мульт личности. Выпуск 5  214000410   \n",
       "\n",
       "     show_start_date            type                      film_studio  \\\n",
       "3185      2016-02-09  Художественный  ООО \"Продюсерский центр ЕРАЛАШ\"   \n",
       "4440      2010-01-25  Художественный                              NaN   \n",
       "\n",
       "     production_country                                           director  \\\n",
       "3185                NaN  Р.Светлов, И.Магитон, А.Арутюнян, Л.Мирский, А...   \n",
       "4440                NaN                                                NaN   \n",
       "\n",
       "                             producer                         age_restriction  \\\n",
       "3185  ООО \"Продюсерский центр ЕРАЛАШ\"  «0+» - для любой зрительской аудитории   \n",
       "4440                              NaN  «0+» - для любой зрительской аудитории   \n",
       "\n",
       "      refundable_support  nonrefundable_support  budget financing_source  \\\n",
       "3185                 NaN                    NaN     NaN              NaN   \n",
       "4440                 NaN                    NaN     NaN              NaN   \n",
       "\n",
       "      ratings              genres  box_office  \n",
       "3185      7.2     детский,комедия    194527.0  \n",
       "4440      4.0  мультфильм,комедия         NaN  "
      ]
     },
     "execution_count": 21,
     "metadata": {},
     "output_type": "execute_result"
    }
   ],
   "source": [
    "df[df['production_country'].isna()]"
   ]
  },
  {
   "cell_type": "code",
   "execution_count": 22,
   "id": "e9f05b89",
   "metadata": {},
   "outputs": [],
   "source": [
    "df.loc[df['punumber']==111001216, 'production_country'] = \"СССР, Россия\"\n",
    "df.loc[df['punumber']==214000410, 'production_country'] = \"Россия\""
   ]
  },
  {
   "cell_type": "markdown",
   "id": "870bbaeb",
   "metadata": {},
   "source": [
    "* `film_studio`, `director`: "
   ]
  },
  {
   "cell_type": "code",
   "execution_count": 23,
   "id": "2d10a7ed",
   "metadata": {},
   "outputs": [],
   "source": [
    "df.director = df.director.fillna('не указано')\n",
    "df.film_studio = df.film_studio.fillna('не указано')"
   ]
  },
  {
   "cell_type": "markdown",
   "id": "344f924c",
   "metadata": {},
   "source": [
    "* `refundable_support`, `nonrefundable_support`, `financing_source`:"
   ]
  },
  {
   "cell_type": "code",
   "execution_count": 24,
   "id": "c4944c7d",
   "metadata": {},
   "outputs": [],
   "source": [
    "fill_list = ['refundable_support', 'nonrefundable_support']\n",
    "df[fill_list] = df[fill_list].fillna(0)\n",
    "\n",
    "df.financing_source = df.financing_source.fillna('без господдержки')"
   ]
  },
  {
   "cell_type": "code",
   "execution_count": 25,
   "id": "5322cc2a",
   "metadata": {},
   "outputs": [
    {
     "data": {
      "text/html": [
       "<div>\n",
       "<style scoped>\n",
       "    .dataframe tbody tr th:only-of-type {\n",
       "        vertical-align: middle;\n",
       "    }\n",
       "\n",
       "    .dataframe tbody tr th {\n",
       "        vertical-align: top;\n",
       "    }\n",
       "\n",
       "    .dataframe thead th {\n",
       "        text-align: right;\n",
       "    }\n",
       "</style>\n",
       "<table border=\"1\" class=\"dataframe\">\n",
       "  <thead>\n",
       "    <tr style=\"text-align: right;\">\n",
       "      <th></th>\n",
       "      <th>Пропусков</th>\n",
       "      <th>Доля пропусков</th>\n",
       "    </tr>\n",
       "  </thead>\n",
       "  <tbody>\n",
       "    <tr>\n",
       "      <th>budget</th>\n",
       "      <td>7153</td>\n",
       "      <td>0.955645</td>\n",
       "    </tr>\n",
       "    <tr>\n",
       "      <th>box_office</th>\n",
       "      <td>4327</td>\n",
       "      <td>0.578090</td>\n",
       "    </tr>\n",
       "    <tr>\n",
       "      <th>ratings</th>\n",
       "      <td>995</td>\n",
       "      <td>0.132933</td>\n",
       "    </tr>\n",
       "    <tr>\n",
       "      <th>genres</th>\n",
       "      <td>975</td>\n",
       "      <td>0.130261</td>\n",
       "    </tr>\n",
       "    <tr>\n",
       "      <th>producer</th>\n",
       "      <td>568</td>\n",
       "      <td>0.075885</td>\n",
       "    </tr>\n",
       "    <tr>\n",
       "      <th>title</th>\n",
       "      <td>0</td>\n",
       "      <td>0.000000</td>\n",
       "    </tr>\n",
       "    <tr>\n",
       "      <th>punumber</th>\n",
       "      <td>0</td>\n",
       "      <td>0.000000</td>\n",
       "    </tr>\n",
       "    <tr>\n",
       "      <th>show_start_date</th>\n",
       "      <td>0</td>\n",
       "      <td>0.000000</td>\n",
       "    </tr>\n",
       "    <tr>\n",
       "      <th>type</th>\n",
       "      <td>0</td>\n",
       "      <td>0.000000</td>\n",
       "    </tr>\n",
       "    <tr>\n",
       "      <th>film_studio</th>\n",
       "      <td>0</td>\n",
       "      <td>0.000000</td>\n",
       "    </tr>\n",
       "    <tr>\n",
       "      <th>production_country</th>\n",
       "      <td>0</td>\n",
       "      <td>0.000000</td>\n",
       "    </tr>\n",
       "    <tr>\n",
       "      <th>director</th>\n",
       "      <td>0</td>\n",
       "      <td>0.000000</td>\n",
       "    </tr>\n",
       "    <tr>\n",
       "      <th>age_restriction</th>\n",
       "      <td>0</td>\n",
       "      <td>0.000000</td>\n",
       "    </tr>\n",
       "    <tr>\n",
       "      <th>refundable_support</th>\n",
       "      <td>0</td>\n",
       "      <td>0.000000</td>\n",
       "    </tr>\n",
       "    <tr>\n",
       "      <th>nonrefundable_support</th>\n",
       "      <td>0</td>\n",
       "      <td>0.000000</td>\n",
       "    </tr>\n",
       "  </tbody>\n",
       "</table>\n",
       "</div>"
      ],
      "text/plain": [
       "                       Пропусков  Доля пропусков\n",
       "budget                      7153        0.955645\n",
       "box_office                  4327        0.578090\n",
       "ratings                      995        0.132933\n",
       "genres                       975        0.130261\n",
       "producer                     568        0.075885\n",
       "title                          0        0.000000\n",
       "punumber                       0        0.000000\n",
       "show_start_date                0        0.000000\n",
       "type                           0        0.000000\n",
       "film_studio                    0        0.000000\n",
       "production_country             0        0.000000\n",
       "director                       0        0.000000\n",
       "age_restriction                0        0.000000\n",
       "refundable_support             0        0.000000\n",
       "nonrefundable_support          0        0.000000"
      ]
     },
     "execution_count": 25,
     "metadata": {},
     "output_type": "execute_result"
    }
   ],
   "source": [
    "total_missing = df.isnull().sum().sort_values(ascending=False)\n",
    "percent_missing = (df.isnull().sum()/df.isnull().count()).sort_values(ascending=False)\n",
    "missing_data = pd.concat([total_missing, percent_missing], axis=1, keys=['Пропусков', 'Доля пропусков'])\n",
    "missing_data.head(15)"
   ]
  },
  {
   "cell_type": "markdown",
   "id": "715fc43a",
   "metadata": {},
   "source": [
    "### Обработка дубликатов"
   ]
  },
  {
   "cell_type": "markdown",
   "id": "4c64f7ea",
   "metadata": {},
   "source": [
    "Для начала, как и раннее:"
   ]
  },
  {
   "cell_type": "code",
   "execution_count": 26,
   "id": "cfae5934",
   "metadata": {},
   "outputs": [],
   "source": [
    "for i in range(len(df.dtypes)):\n",
    "    if df.dtypes[i] == 'object':\n",
    "        df[df.columns[i]] = df[df.columns[i]].str.lower()            #нижний регистр\n",
    "        df[df.columns[i]] = df[df.columns[i]].str.replace('ё','е')   #ё->е, урок из предыдущего проекта\n",
    "        df[df.columns[i]] = df[df.columns[i]].str.strip()            #пробелы"
   ]
  },
  {
   "cell_type": "code",
   "execution_count": 27,
   "id": "2fe33210",
   "metadata": {},
   "outputs": [
    {
     "name": "stdout",
     "output_type": "stream",
     "text": [
      "Количество явных дубликатов: 0\n"
     ]
    }
   ],
   "source": [
    "print(f'Количество явных дубликатов: {df.duplicated().sum()}')"
   ]
  },
  {
   "cell_type": "markdown",
   "id": "8a15e269",
   "metadata": {},
   "source": [
    "Поищем неявные дубликаты:\n",
    "* Дубликаты по номерам прокатного удостоверения:"
   ]
  },
  {
   "cell_type": "code",
   "execution_count": 28,
   "id": "0d0ce6d0",
   "metadata": {},
   "outputs": [
    {
     "name": "stdout",
     "output_type": "stream",
     "text": [
      "Совпадающих прокатных удостоверений: 2\n"
     ]
    }
   ],
   "source": [
    "print(f'Совпадающих прокатных удостоверений: {df[\"punumber\"].duplicated().sum()}')"
   ]
  },
  {
   "cell_type": "code",
   "execution_count": 29,
   "id": "a2b0dd0d",
   "metadata": {},
   "outputs": [
    {
     "data": {
      "text/html": [
       "<div>\n",
       "<style scoped>\n",
       "    .dataframe tbody tr th:only-of-type {\n",
       "        vertical-align: middle;\n",
       "    }\n",
       "\n",
       "    .dataframe tbody tr th {\n",
       "        vertical-align: top;\n",
       "    }\n",
       "\n",
       "    .dataframe thead th {\n",
       "        text-align: right;\n",
       "    }\n",
       "</style>\n",
       "<table border=\"1\" class=\"dataframe\">\n",
       "  <thead>\n",
       "    <tr style=\"text-align: right;\">\n",
       "      <th></th>\n",
       "      <th>title</th>\n",
       "      <th>punumber</th>\n",
       "      <th>show_start_date</th>\n",
       "      <th>type</th>\n",
       "      <th>film_studio</th>\n",
       "      <th>production_country</th>\n",
       "      <th>director</th>\n",
       "      <th>producer</th>\n",
       "      <th>age_restriction</th>\n",
       "      <th>refundable_support</th>\n",
       "      <th>nonrefundable_support</th>\n",
       "      <th>budget</th>\n",
       "      <th>financing_source</th>\n",
       "      <th>ratings</th>\n",
       "      <th>genres</th>\n",
       "      <th>box_office</th>\n",
       "    </tr>\n",
       "  </thead>\n",
       "  <tbody>\n",
       "    <tr>\n",
       "      <th>4637</th>\n",
       "      <td>как жениться и остаться холостым</td>\n",
       "      <td>221154310</td>\n",
       "      <td>2010-12-17</td>\n",
       "      <td>художественный</td>\n",
       "      <td>ше вам, скрипт ассосье, тэ фэ 1 фильм продюксь...</td>\n",
       "      <td>франция</td>\n",
       "      <td>эрик лартиго</td>\n",
       "      <td>амандин било, алан шаба</td>\n",
       "      <td>«16+» - для детей старше 16 лет</td>\n",
       "      <td>0.0</td>\n",
       "      <td>0.0</td>\n",
       "      <td>NaN</td>\n",
       "      <td>без господдержки</td>\n",
       "      <td>7.0</td>\n",
       "      <td>мелодрама,комедия</td>\n",
       "      <td>NaN</td>\n",
       "    </tr>\n",
       "    <tr>\n",
       "      <th>4638</th>\n",
       "      <td>иоанна - женщина на папском престоле /по роман...</td>\n",
       "      <td>221154310</td>\n",
       "      <td>2010-12-17</td>\n",
       "      <td>художественный</td>\n",
       "      <td>константин фильм, а эр ди дегето фильм, дюне ф...</td>\n",
       "      <td>германия - великобритания - италия - испания</td>\n",
       "      <td>зенке вортманн</td>\n",
       "      <td>оливер бербен, дорис д.хайнце, фарук элтан</td>\n",
       "      <td>«16+» - для детей старше 16 лет</td>\n",
       "      <td>0.0</td>\n",
       "      <td>0.0</td>\n",
       "      <td>NaN</td>\n",
       "      <td>без господдержки</td>\n",
       "      <td>7.6</td>\n",
       "      <td>драма,мелодрама,история</td>\n",
       "      <td>NaN</td>\n",
       "    </tr>\n",
       "    <tr>\n",
       "      <th>5066</th>\n",
       "      <td>анализируй это!</td>\n",
       "      <td>221054410</td>\n",
       "      <td>2010-05-25</td>\n",
       "      <td>художественный</td>\n",
       "      <td>уорнер бразерс, вилладж роудшоу филмз лтд</td>\n",
       "      <td>сша-австралия</td>\n",
       "      <td>хэрольд рэмис</td>\n",
       "      <td>джейн розенталь, пола уейнстейн</td>\n",
       "      <td>«16+» - для детей старше 16 лет</td>\n",
       "      <td>0.0</td>\n",
       "      <td>0.0</td>\n",
       "      <td>NaN</td>\n",
       "      <td>без господдержки</td>\n",
       "      <td>7.4</td>\n",
       "      <td>комедия,криминал</td>\n",
       "      <td>NaN</td>\n",
       "    </tr>\n",
       "    <tr>\n",
       "      <th>5067</th>\n",
       "      <td>анализируй то!</td>\n",
       "      <td>221054410</td>\n",
       "      <td>2010-05-25</td>\n",
       "      <td>художественный</td>\n",
       "      <td>уорнер бразерс, виллидж роадшоу пикчерз, эн-пи...</td>\n",
       "      <td>сша</td>\n",
       "      <td>гарольд реймис</td>\n",
       "      <td>джейн розенталь, паул уэйнстейн</td>\n",
       "      <td>«12+» - для детей старше 12 лет</td>\n",
       "      <td>0.0</td>\n",
       "      <td>0.0</td>\n",
       "      <td>NaN</td>\n",
       "      <td>без господдержки</td>\n",
       "      <td>6.8</td>\n",
       "      <td>комедия,криминал</td>\n",
       "      <td>NaN</td>\n",
       "    </tr>\n",
       "  </tbody>\n",
       "</table>\n",
       "</div>"
      ],
      "text/plain": [
       "                                                  title   punumber  \\\n",
       "4637                   как жениться и остаться холостым  221154310   \n",
       "4638  иоанна - женщина на папском престоле /по роман...  221154310   \n",
       "5066                                    анализируй это!  221054410   \n",
       "5067                                     анализируй то!  221054410   \n",
       "\n",
       "     show_start_date            type  \\\n",
       "4637      2010-12-17  художественный   \n",
       "4638      2010-12-17  художественный   \n",
       "5066      2010-05-25  художественный   \n",
       "5067      2010-05-25  художественный   \n",
       "\n",
       "                                            film_studio  \\\n",
       "4637  ше вам, скрипт ассосье, тэ фэ 1 фильм продюксь...   \n",
       "4638  константин фильм, а эр ди дегето фильм, дюне ф...   \n",
       "5066          уорнер бразерс, вилладж роудшоу филмз лтд   \n",
       "5067  уорнер бразерс, виллидж роадшоу пикчерз, эн-пи...   \n",
       "\n",
       "                                production_country        director  \\\n",
       "4637                                       франция    эрик лартиго   \n",
       "4638  германия - великобритания - италия - испания  зенке вортманн   \n",
       "5066                                 сша-австралия   хэрольд рэмис   \n",
       "5067                                           сша  гарольд реймис   \n",
       "\n",
       "                                        producer  \\\n",
       "4637                     амандин било, алан шаба   \n",
       "4638  оливер бербен, дорис д.хайнце, фарук элтан   \n",
       "5066             джейн розенталь, пола уейнстейн   \n",
       "5067             джейн розенталь, паул уэйнстейн   \n",
       "\n",
       "                      age_restriction  refundable_support  \\\n",
       "4637  «16+» - для детей старше 16 лет                 0.0   \n",
       "4638  «16+» - для детей старше 16 лет                 0.0   \n",
       "5066  «16+» - для детей старше 16 лет                 0.0   \n",
       "5067  «12+» - для детей старше 12 лет                 0.0   \n",
       "\n",
       "      nonrefundable_support  budget  financing_source  ratings  \\\n",
       "4637                    0.0     NaN  без господдержки      7.0   \n",
       "4638                    0.0     NaN  без господдержки      7.6   \n",
       "5066                    0.0     NaN  без господдержки      7.4   \n",
       "5067                    0.0     NaN  без господдержки      6.8   \n",
       "\n",
       "                       genres  box_office  \n",
       "4637        мелодрама,комедия         NaN  \n",
       "4638  драма,мелодрама,история         NaN  \n",
       "5066         комедия,криминал         NaN  \n",
       "5067         комедия,криминал         NaN  "
      ]
     },
     "execution_count": 29,
     "metadata": {},
     "output_type": "execute_result"
    }
   ],
   "source": [
    "df[df[['punumber']].duplicated(keep=False)]"
   ]
  },
  {
   "cell_type": "markdown",
   "id": "4c744f6c",
   "metadata": {},
   "source": [
    "Позиции `4637` и `4638` делят одно и то же прокатное удостоверение, чего быть не должно. Посмотрим на фильм с позиции `4637` поближе:"
   ]
  },
  {
   "cell_type": "code",
   "execution_count": 30,
   "id": "74fa5dc7",
   "metadata": {},
   "outputs": [
    {
     "data": {
      "text/html": [
       "<div>\n",
       "<style scoped>\n",
       "    .dataframe tbody tr th:only-of-type {\n",
       "        vertical-align: middle;\n",
       "    }\n",
       "\n",
       "    .dataframe tbody tr th {\n",
       "        vertical-align: top;\n",
       "    }\n",
       "\n",
       "    .dataframe thead th {\n",
       "        text-align: right;\n",
       "    }\n",
       "</style>\n",
       "<table border=\"1\" class=\"dataframe\">\n",
       "  <thead>\n",
       "    <tr style=\"text-align: right;\">\n",
       "      <th></th>\n",
       "      <th>title</th>\n",
       "      <th>punumber</th>\n",
       "      <th>show_start_date</th>\n",
       "      <th>type</th>\n",
       "      <th>film_studio</th>\n",
       "      <th>production_country</th>\n",
       "      <th>director</th>\n",
       "      <th>producer</th>\n",
       "      <th>age_restriction</th>\n",
       "      <th>refundable_support</th>\n",
       "      <th>nonrefundable_support</th>\n",
       "      <th>budget</th>\n",
       "      <th>financing_source</th>\n",
       "      <th>ratings</th>\n",
       "      <th>genres</th>\n",
       "      <th>box_office</th>\n",
       "    </tr>\n",
       "  </thead>\n",
       "  <tbody>\n",
       "    <tr>\n",
       "      <th>4519</th>\n",
       "      <td>как жениться и остаться холостым</td>\n",
       "      <td>221142510</td>\n",
       "      <td>2010-12-03</td>\n",
       "      <td>художественный</td>\n",
       "      <td>ше вам, скрипт ассосье, тэ фэ 1 фильм продюксь...</td>\n",
       "      <td>франция</td>\n",
       "      <td>эрик лартиго</td>\n",
       "      <td>амандин било, алан шаба</td>\n",
       "      <td>«16+» - для детей старше 16 лет</td>\n",
       "      <td>0.0</td>\n",
       "      <td>0.0</td>\n",
       "      <td>NaN</td>\n",
       "      <td>без господдержки</td>\n",
       "      <td>7.0</td>\n",
       "      <td>мелодрама,комедия</td>\n",
       "      <td>NaN</td>\n",
       "    </tr>\n",
       "    <tr>\n",
       "      <th>4637</th>\n",
       "      <td>как жениться и остаться холостым</td>\n",
       "      <td>221154310</td>\n",
       "      <td>2010-12-17</td>\n",
       "      <td>художественный</td>\n",
       "      <td>ше вам, скрипт ассосье, тэ фэ 1 фильм продюксь...</td>\n",
       "      <td>франция</td>\n",
       "      <td>эрик лартиго</td>\n",
       "      <td>амандин било, алан шаба</td>\n",
       "      <td>«16+» - для детей старше 16 лет</td>\n",
       "      <td>0.0</td>\n",
       "      <td>0.0</td>\n",
       "      <td>NaN</td>\n",
       "      <td>без господдержки</td>\n",
       "      <td>7.0</td>\n",
       "      <td>мелодрама,комедия</td>\n",
       "      <td>NaN</td>\n",
       "    </tr>\n",
       "  </tbody>\n",
       "</table>\n",
       "</div>"
      ],
      "text/plain": [
       "                                 title   punumber show_start_date  \\\n",
       "4519  как жениться и остаться холостым  221142510      2010-12-03   \n",
       "4637  как жениться и остаться холостым  221154310      2010-12-17   \n",
       "\n",
       "                type                                        film_studio  \\\n",
       "4519  художественный  ше вам, скрипт ассосье, тэ фэ 1 фильм продюксь...   \n",
       "4637  художественный  ше вам, скрипт ассосье, тэ фэ 1 фильм продюксь...   \n",
       "\n",
       "     production_country      director                 producer  \\\n",
       "4519            франция  эрик лартиго  амандин било, алан шаба   \n",
       "4637            франция  эрик лартиго  амандин било, алан шаба   \n",
       "\n",
       "                      age_restriction  refundable_support  \\\n",
       "4519  «16+» - для детей старше 16 лет                 0.0   \n",
       "4637  «16+» - для детей старше 16 лет                 0.0   \n",
       "\n",
       "      nonrefundable_support  budget  financing_source  ratings  \\\n",
       "4519                    0.0     NaN  без господдержки      7.0   \n",
       "4637                    0.0     NaN  без господдержки      7.0   \n",
       "\n",
       "                 genres  box_office  \n",
       "4519  мелодрама,комедия         NaN  \n",
       "4637  мелодрама,комедия         NaN  "
      ]
     },
     "execution_count": 30,
     "metadata": {},
     "output_type": "execute_result"
    }
   ],
   "source": [
    "df.query('title==\"как жениться и остаться холостым\"')"
   ]
  },
  {
   "cell_type": "markdown",
   "id": "b0199624",
   "metadata": {},
   "source": [
    "Видим дубликат. Следовательно, одна из позиций ошибочна.\n",
    "На сайте Министерства культуры находим интересующие фильмы и их прокатные удостоверения:\n",
    "\n",
    "* [\"Как жениться и остаться холостым\"](https://culture.gov.ru/services/reestr-prokatnykh-udostovereniy/557867/) – 121002007\n",
    "* [\"Иоанна - женщина на папском престоле\"](https://culture.gov.ru/services/reestr-prokatnykh-udostovereniy/522107/) – 221154310\n",
    "\n",
    "То есть, ни одно прокатное удостоверение для фильма не является верным. Исправим - удалим одну позицию и исправим оставшуюся."
   ]
  },
  {
   "cell_type": "code",
   "execution_count": 31,
   "id": "b67269b7",
   "metadata": {},
   "outputs": [
    {
     "data": {
      "text/html": [
       "<div>\n",
       "<style scoped>\n",
       "    .dataframe tbody tr th:only-of-type {\n",
       "        vertical-align: middle;\n",
       "    }\n",
       "\n",
       "    .dataframe tbody tr th {\n",
       "        vertical-align: top;\n",
       "    }\n",
       "\n",
       "    .dataframe thead th {\n",
       "        text-align: right;\n",
       "    }\n",
       "</style>\n",
       "<table border=\"1\" class=\"dataframe\">\n",
       "  <thead>\n",
       "    <tr style=\"text-align: right;\">\n",
       "      <th></th>\n",
       "      <th>title</th>\n",
       "      <th>punumber</th>\n",
       "      <th>show_start_date</th>\n",
       "      <th>type</th>\n",
       "      <th>film_studio</th>\n",
       "      <th>production_country</th>\n",
       "      <th>director</th>\n",
       "      <th>producer</th>\n",
       "      <th>age_restriction</th>\n",
       "      <th>refundable_support</th>\n",
       "      <th>nonrefundable_support</th>\n",
       "      <th>budget</th>\n",
       "      <th>financing_source</th>\n",
       "      <th>ratings</th>\n",
       "      <th>genres</th>\n",
       "      <th>box_office</th>\n",
       "    </tr>\n",
       "  </thead>\n",
       "  <tbody>\n",
       "    <tr>\n",
       "      <th>4519</th>\n",
       "      <td>как жениться и остаться холостым</td>\n",
       "      <td>221142510</td>\n",
       "      <td>2010-12-03 00:00:00</td>\n",
       "      <td>художественный</td>\n",
       "      <td>ше вам, скрипт ассосье, тэ фэ 1 фильм продюксь...</td>\n",
       "      <td>франция</td>\n",
       "      <td>эрик лартиго</td>\n",
       "      <td>амандин било, алан шаба</td>\n",
       "      <td>«16+» - для детей старше 16 лет</td>\n",
       "      <td>0.0</td>\n",
       "      <td>0.0</td>\n",
       "      <td>NaN</td>\n",
       "      <td>без господдержки</td>\n",
       "      <td>7.0</td>\n",
       "      <td>мелодрама,комедия</td>\n",
       "      <td>NaN</td>\n",
       "    </tr>\n",
       "  </tbody>\n",
       "</table>\n",
       "</div>"
      ],
      "text/plain": [
       "                                 title   punumber      show_start_date  \\\n",
       "4519  как жениться и остаться холостым  221142510  2010-12-03 00:00:00   \n",
       "\n",
       "                type                                        film_studio  \\\n",
       "4519  художественный  ше вам, скрипт ассосье, тэ фэ 1 фильм продюксь...   \n",
       "\n",
       "     production_country      director                 producer  \\\n",
       "4519            франция  эрик лартиго  амандин било, алан шаба   \n",
       "\n",
       "                      age_restriction  refundable_support  \\\n",
       "4519  «16+» - для детей старше 16 лет                 0.0   \n",
       "\n",
       "      nonrefundable_support  budget  financing_source  ratings  \\\n",
       "4519                    0.0     NaN  без господдержки      7.0   \n",
       "\n",
       "                 genres  box_office  \n",
       "4519  мелодрама,комедия         NaN  "
      ]
     },
     "execution_count": 31,
     "metadata": {},
     "output_type": "execute_result"
    }
   ],
   "source": [
    "df = df.loc[~((df.title=='как жениться и остаться холостым') & (df.punumber==221154310))]\n",
    "df.loc[df.punumber[4519]]=121002007\n",
    "df.query('title==\"как жениться и остаться холостым\"')"
   ]
  },
  {
   "cell_type": "markdown",
   "id": "79405ebc",
   "metadata": {},
   "source": [
    "С позициями `5066` и `5067` ситуация иная. \n",
    "* [\"Анализируй это!\"](https://culture.gov.ru/services/reestr-prokatnykh-udostovereniy/527875/) - 221054410\n",
    "* [\"Анализируй то!\"](https://culture.gov.ru/services/reestr-prokatnykh-udostovereniy/527875/) - 221054410\n",
    "\n",
    "У фильмов действительно один и тот же номер прокатного удостоверения. Объяснить это иначе чем человеческая ошибка я не могу. Видимо, кто-то подумал что это один и тот же фильм. Исправлять ничего не будем, но запомним."
   ]
  },
  {
   "cell_type": "markdown",
   "id": "bdf23736",
   "metadata": {},
   "source": [
    "* Дубликаты по связке \"название+режиссер\":"
   ]
  },
  {
   "cell_type": "markdown",
   "id": "da7e1833",
   "metadata": {},
   "source": [
    "Разные фильмы могут иметь одно и то же название, поэтому будем проводить поиск дубликатов по двум параметрам сразу. Как обычно, для начала:"
   ]
  },
  {
   "cell_type": "code",
   "execution_count": 32,
   "id": "da1802c4",
   "metadata": {},
   "outputs": [
    {
     "data": {
      "text/plain": [
       "718"
      ]
     },
     "execution_count": 32,
     "metadata": {},
     "output_type": "execute_result"
    }
   ],
   "source": [
    "df.title = df.title.str.replace('.', ' ') \n",
    "df.title = df.title.str.replace('_', ' ')\n",
    "df.title = df.title.str.replace('  ', ' ') #точки, нижние подчеркивания, двойные пробелы -> пробел\n",
    "df.title = df.title.str.strip()\n",
    "df[['title','director']].duplicated().sum()"
   ]
  },
  {
   "cell_type": "markdown",
   "id": "0d6aab97",
   "metadata": {},
   "source": [
    "Страшное количество дубликатов - 718. Успокаивает то, что скорее всего это связано с несколькими номерами прокатных удостоверений у одного и того же фильма (что [нормально](https://culture.gov.ru/press/news/poyasneniya-minkultury-rossii-po-voprosu-pravoprim/))."
   ]
  },
  {
   "cell_type": "code",
   "execution_count": 33,
   "id": "25df6026",
   "metadata": {},
   "outputs": [
    {
     "data": {
      "text/plain": [
       "675"
      ]
     },
     "execution_count": 33,
     "metadata": {},
     "output_type": "execute_result"
    }
   ],
   "source": [
    "df.drop(['punumber','show_start_date','box_office'], axis=1).duplicated().sum()"
   ]
  },
  {
   "cell_type": "markdown",
   "id": "d85cd2c2",
   "metadata": {},
   "source": [
    "675 из 718 позиций с одинаковыми названиями отличаются номеров прокатоного удостоверения, и/или датой премьеры, и/или сборами. Логичный шаг: объединить записи с повторяющимися названиями. Сливать данные будем след. образом:\n",
    "\n",
    "* show_start_date: наиболее раняя;\n",
    "* box_office: суммирование всех сборов;\n",
    "* refundable_support, non_refundable_support, budget: максимум из всех записей;\n",
    "* ratings: среднее значение;\n",
    "* financing_source, film_studio, producer, genres: объединение неповторяющихся значений;\n",
    "* оставшиеся поля: будут взяты из записи, определяемой отсортированным по возрастанию полем show_start_date.\n",
    "\n",
    "Для примера будем использовать фильм \"Химера\""
   ]
  },
  {
   "cell_type": "code",
   "execution_count": 34,
   "id": "eb512228",
   "metadata": {},
   "outputs": [
    {
     "data": {
      "text/html": [
       "<div>\n",
       "<style scoped>\n",
       "    .dataframe tbody tr th:only-of-type {\n",
       "        vertical-align: middle;\n",
       "    }\n",
       "\n",
       "    .dataframe tbody tr th {\n",
       "        vertical-align: top;\n",
       "    }\n",
       "\n",
       "    .dataframe thead th {\n",
       "        text-align: right;\n",
       "    }\n",
       "</style>\n",
       "<table border=\"1\" class=\"dataframe\">\n",
       "  <thead>\n",
       "    <tr style=\"text-align: right;\">\n",
       "      <th></th>\n",
       "      <th>title</th>\n",
       "      <th>punumber</th>\n",
       "      <th>show_start_date</th>\n",
       "      <th>type</th>\n",
       "      <th>film_studio</th>\n",
       "      <th>production_country</th>\n",
       "      <th>director</th>\n",
       "      <th>producer</th>\n",
       "      <th>age_restriction</th>\n",
       "      <th>refundable_support</th>\n",
       "      <th>nonrefundable_support</th>\n",
       "      <th>budget</th>\n",
       "      <th>financing_source</th>\n",
       "      <th>ratings</th>\n",
       "      <th>genres</th>\n",
       "      <th>box_office</th>\n",
       "    </tr>\n",
       "  </thead>\n",
       "  <tbody>\n",
       "    <tr>\n",
       "      <th>4005</th>\n",
       "      <td>химера</td>\n",
       "      <td>121010510</td>\n",
       "      <td>2010-06-07 00:00:00</td>\n",
       "      <td>художественный</td>\n",
       "      <td>гомон, коперхет интертейнмент, дак кастл интер...</td>\n",
       "      <td>сша-франция-канада</td>\n",
       "      <td>винченцо натали</td>\n",
       "      <td>стивен хобан</td>\n",
       "      <td>«16+» - для детей старше 16 лет</td>\n",
       "      <td>0.0</td>\n",
       "      <td>0.0</td>\n",
       "      <td>NaN</td>\n",
       "      <td>без господдержки</td>\n",
       "      <td>5.7</td>\n",
       "      <td>ужасы,фантастика,драма</td>\n",
       "      <td>NaN</td>\n",
       "    </tr>\n",
       "    <tr>\n",
       "      <th>4353</th>\n",
       "      <td>химера</td>\n",
       "      <td>221070910</td>\n",
       "      <td>2010-06-21 00:00:00</td>\n",
       "      <td>художественный</td>\n",
       "      <td>гомон, коперхет интертейнмент, дак кастл интер...</td>\n",
       "      <td>сша-франция-канада</td>\n",
       "      <td>винченцо натали</td>\n",
       "      <td>стивен хобан</td>\n",
       "      <td>«16+» - для детей старше 16 лет</td>\n",
       "      <td>0.0</td>\n",
       "      <td>0.0</td>\n",
       "      <td>NaN</td>\n",
       "      <td>без господдержки</td>\n",
       "      <td>5.7</td>\n",
       "      <td>ужасы,фантастика,драма</td>\n",
       "      <td>NaN</td>\n",
       "    </tr>\n",
       "    <tr>\n",
       "      <th>4597</th>\n",
       "      <td>химера</td>\n",
       "      <td>221159310</td>\n",
       "      <td>2010-12-17 00:00:00</td>\n",
       "      <td>художественный</td>\n",
       "      <td>гомон, коперхет интертейнмент, дак кастл интер...</td>\n",
       "      <td>сша-франция-канада</td>\n",
       "      <td>винченцо натали</td>\n",
       "      <td>стивен хобан</td>\n",
       "      <td>«16+» - для детей старше 16 лет</td>\n",
       "      <td>0.0</td>\n",
       "      <td>0.0</td>\n",
       "      <td>NaN</td>\n",
       "      <td>без господдержки</td>\n",
       "      <td>5.7</td>\n",
       "      <td>ужасы,фантастика,драма</td>\n",
       "      <td>NaN</td>\n",
       "    </tr>\n",
       "    <tr>\n",
       "      <th>6599</th>\n",
       "      <td>химера</td>\n",
       "      <td>121032118</td>\n",
       "      <td>2019-01-10 00:00:00</td>\n",
       "      <td>художественный</td>\n",
       "      <td>вандеринг бард, сомниа продакшнз</td>\n",
       "      <td>сша</td>\n",
       "      <td>митци пейроне</td>\n",
       "      <td>ариэль элвис, логан стейнхардт, али дзазаери</td>\n",
       "      <td>«18+» - запрещено для детей</td>\n",
       "      <td>0.0</td>\n",
       "      <td>0.0</td>\n",
       "      <td>NaN</td>\n",
       "      <td>без господдержки</td>\n",
       "      <td>5.7</td>\n",
       "      <td>ужасы,фантастика,драма</td>\n",
       "      <td>5054311.03</td>\n",
       "    </tr>\n",
       "  </tbody>\n",
       "</table>\n",
       "</div>"
      ],
      "text/plain": [
       "       title   punumber      show_start_date            type  \\\n",
       "4005  химера  121010510  2010-06-07 00:00:00  художественный   \n",
       "4353  химера  221070910  2010-06-21 00:00:00  художественный   \n",
       "4597  химера  221159310  2010-12-17 00:00:00  художественный   \n",
       "6599  химера  121032118  2019-01-10 00:00:00  художественный   \n",
       "\n",
       "                                            film_studio  production_country  \\\n",
       "4005  гомон, коперхет интертейнмент, дак кастл интер...  сша-франция-канада   \n",
       "4353  гомон, коперхет интертейнмент, дак кастл интер...  сша-франция-канада   \n",
       "4597  гомон, коперхет интертейнмент, дак кастл интер...  сша-франция-канада   \n",
       "6599                   вандеринг бард, сомниа продакшнз                 сша   \n",
       "\n",
       "             director                                      producer  \\\n",
       "4005  винченцо натали                                  стивен хобан   \n",
       "4353  винченцо натали                                  стивен хобан   \n",
       "4597  винченцо натали                                  стивен хобан   \n",
       "6599    митци пейроне  ариэль элвис, логан стейнхардт, али дзазаери   \n",
       "\n",
       "                      age_restriction  refundable_support  \\\n",
       "4005  «16+» - для детей старше 16 лет                 0.0   \n",
       "4353  «16+» - для детей старше 16 лет                 0.0   \n",
       "4597  «16+» - для детей старше 16 лет                 0.0   \n",
       "6599      «18+» - запрещено для детей                 0.0   \n",
       "\n",
       "      nonrefundable_support  budget  financing_source  ratings  \\\n",
       "4005                    0.0     NaN  без господдержки      5.7   \n",
       "4353                    0.0     NaN  без господдержки      5.7   \n",
       "4597                    0.0     NaN  без господдержки      5.7   \n",
       "6599                    0.0     NaN  без господдержки      5.7   \n",
       "\n",
       "                      genres  box_office  \n",
       "4005  ужасы,фантастика,драма         NaN  \n",
       "4353  ужасы,фантастика,драма         NaN  \n",
       "4597  ужасы,фантастика,драма         NaN  \n",
       "6599  ужасы,фантастика,драма  5054311.03  "
      ]
     },
     "execution_count": 34,
     "metadata": {},
     "output_type": "execute_result"
    }
   ],
   "source": [
    "df.query('title == \"химера\"')"
   ]
  },
  {
   "cell_type": "code",
   "execution_count": 35,
   "id": "a614568b",
   "metadata": {},
   "outputs": [],
   "source": [
    "df = (df\n",
    "      .groupby(['title','director'])\n",
    "      .agg({'show_start_date': min,\n",
    "            'box_office': sum,\n",
    "            'budget': max,\n",
    "            'refundable_support': max,\n",
    "            'nonrefundable_support': max,\n",
    "            'financing_source': set,\n",
    "            'ratings': 'mean',\n",
    "            'film_studio': set,\n",
    "            'punumber': 'first',\n",
    "            'type': 'first',\n",
    "            'production_country': 'first',\n",
    "            'producer': set,\n",
    "            'age_restriction': 'first',\n",
    "            'genres': set,})\n",
    "        .reset_index())\n",
    "\n",
    "#возвращаем nan\n",
    "df.loc[df.box_office == 0, 'box_office'] = np.NaN\n",
    "df.loc[df.budget == 0, 'budget'] = np.NaN"
   ]
  },
  {
   "cell_type": "code",
   "execution_count": 36,
   "id": "1be7b70f",
   "metadata": {},
   "outputs": [
    {
     "data": {
      "text/html": [
       "<div>\n",
       "<style scoped>\n",
       "    .dataframe tbody tr th:only-of-type {\n",
       "        vertical-align: middle;\n",
       "    }\n",
       "\n",
       "    .dataframe tbody tr th {\n",
       "        vertical-align: top;\n",
       "    }\n",
       "\n",
       "    .dataframe thead th {\n",
       "        text-align: right;\n",
       "    }\n",
       "</style>\n",
       "<table border=\"1\" class=\"dataframe\">\n",
       "  <thead>\n",
       "    <tr style=\"text-align: right;\">\n",
       "      <th></th>\n",
       "      <th>title</th>\n",
       "      <th>director</th>\n",
       "      <th>show_start_date</th>\n",
       "      <th>box_office</th>\n",
       "      <th>budget</th>\n",
       "      <th>refundable_support</th>\n",
       "      <th>nonrefundable_support</th>\n",
       "      <th>financing_source</th>\n",
       "      <th>ratings</th>\n",
       "      <th>film_studio</th>\n",
       "      <th>punumber</th>\n",
       "      <th>type</th>\n",
       "      <th>production_country</th>\n",
       "      <th>producer</th>\n",
       "      <th>age_restriction</th>\n",
       "      <th>genres</th>\n",
       "    </tr>\n",
       "  </thead>\n",
       "  <tbody>\n",
       "    <tr>\n",
       "      <th>6285</th>\n",
       "      <td>химера</td>\n",
       "      <td>винченцо натали</td>\n",
       "      <td>2010-06-07</td>\n",
       "      <td>NaN</td>\n",
       "      <td>NaN</td>\n",
       "      <td>0.0</td>\n",
       "      <td>0.0</td>\n",
       "      <td>{без господдержки}</td>\n",
       "      <td>5.7</td>\n",
       "      <td>{гомон, коперхет интертейнмент, дак кастл инте...</td>\n",
       "      <td>121010510</td>\n",
       "      <td>художественный</td>\n",
       "      <td>сша-франция-канада</td>\n",
       "      <td>{стивен хобан}</td>\n",
       "      <td>«16+» - для детей старше 16 лет</td>\n",
       "      <td>{ужасы,фантастика,драма}</td>\n",
       "    </tr>\n",
       "    <tr>\n",
       "      <th>6286</th>\n",
       "      <td>химера</td>\n",
       "      <td>митци пейроне</td>\n",
       "      <td>2019-01-10</td>\n",
       "      <td>5054311.03</td>\n",
       "      <td>NaN</td>\n",
       "      <td>0.0</td>\n",
       "      <td>0.0</td>\n",
       "      <td>{без господдержки}</td>\n",
       "      <td>5.7</td>\n",
       "      <td>{вандеринг бард, сомниа продакшнз}</td>\n",
       "      <td>121032118</td>\n",
       "      <td>художественный</td>\n",
       "      <td>сша</td>\n",
       "      <td>{ариэль элвис, логан стейнхардт, али дзазаери}</td>\n",
       "      <td>«18+» - запрещено для детей</td>\n",
       "      <td>{ужасы,фантастика,драма}</td>\n",
       "    </tr>\n",
       "  </tbody>\n",
       "</table>\n",
       "</div>"
      ],
      "text/plain": [
       "       title         director show_start_date  box_office  budget  \\\n",
       "6285  химера  винченцо натали      2010-06-07         NaN     NaN   \n",
       "6286  химера    митци пейроне      2019-01-10  5054311.03     NaN   \n",
       "\n",
       "      refundable_support  nonrefundable_support    financing_source  ratings  \\\n",
       "6285                 0.0                    0.0  {без господдержки}      5.7   \n",
       "6286                 0.0                    0.0  {без господдержки}      5.7   \n",
       "\n",
       "                                            film_studio   punumber  \\\n",
       "6285  {гомон, коперхет интертейнмент, дак кастл инте...  121010510   \n",
       "6286                 {вандеринг бард, сомниа продакшнз}  121032118   \n",
       "\n",
       "                type  production_country  \\\n",
       "6285  художественный  сша-франция-канада   \n",
       "6286  художественный                 сша   \n",
       "\n",
       "                                            producer  \\\n",
       "6285                                  {стивен хобан}   \n",
       "6286  {ариэль элвис, логан стейнхардт, али дзазаери}   \n",
       "\n",
       "                      age_restriction                    genres  \n",
       "6285  «16+» - для детей старше 16 лет  {ужасы,фантастика,драма}  \n",
       "6286      «18+» - запрещено для детей  {ужасы,фантастика,драма}  "
      ]
     },
     "execution_count": 36,
     "metadata": {},
     "output_type": "execute_result"
    }
   ],
   "source": [
    "df.query('title == \"химера\"')"
   ]
  },
  {
   "cell_type": "markdown",
   "id": "a6c5ba7f",
   "metadata": {},
   "source": [
    "Работает как ожидалось. Посмотрим еще раз на таблицу с пропусками."
   ]
  },
  {
   "cell_type": "code",
   "execution_count": 37,
   "id": "b4fd7274",
   "metadata": {},
   "outputs": [
    {
     "data": {
      "text/html": [
       "<div>\n",
       "<style scoped>\n",
       "    .dataframe tbody tr th:only-of-type {\n",
       "        vertical-align: middle;\n",
       "    }\n",
       "\n",
       "    .dataframe tbody tr th {\n",
       "        vertical-align: top;\n",
       "    }\n",
       "\n",
       "    .dataframe thead th {\n",
       "        text-align: right;\n",
       "    }\n",
       "</style>\n",
       "<table border=\"1\" class=\"dataframe\">\n",
       "  <thead>\n",
       "    <tr style=\"text-align: right;\">\n",
       "      <th></th>\n",
       "      <th>Пропусков</th>\n",
       "      <th>Доля пропусков</th>\n",
       "    </tr>\n",
       "  </thead>\n",
       "  <tbody>\n",
       "    <tr>\n",
       "      <th>budget</th>\n",
       "      <td>6451</td>\n",
       "      <td>0.953444</td>\n",
       "    </tr>\n",
       "    <tr>\n",
       "      <th>box_office</th>\n",
       "      <td>3665</td>\n",
       "      <td>0.541679</td>\n",
       "    </tr>\n",
       "    <tr>\n",
       "      <th>ratings</th>\n",
       "      <td>986</td>\n",
       "      <td>0.145729</td>\n",
       "    </tr>\n",
       "    <tr>\n",
       "      <th>title</th>\n",
       "      <td>0</td>\n",
       "      <td>0.000000</td>\n",
       "    </tr>\n",
       "    <tr>\n",
       "      <th>director</th>\n",
       "      <td>0</td>\n",
       "      <td>0.000000</td>\n",
       "    </tr>\n",
       "    <tr>\n",
       "      <th>show_start_date</th>\n",
       "      <td>0</td>\n",
       "      <td>0.000000</td>\n",
       "    </tr>\n",
       "    <tr>\n",
       "      <th>refundable_support</th>\n",
       "      <td>0</td>\n",
       "      <td>0.000000</td>\n",
       "    </tr>\n",
       "    <tr>\n",
       "      <th>nonrefundable_support</th>\n",
       "      <td>0</td>\n",
       "      <td>0.000000</td>\n",
       "    </tr>\n",
       "    <tr>\n",
       "      <th>financing_source</th>\n",
       "      <td>0</td>\n",
       "      <td>0.000000</td>\n",
       "    </tr>\n",
       "    <tr>\n",
       "      <th>film_studio</th>\n",
       "      <td>0</td>\n",
       "      <td>0.000000</td>\n",
       "    </tr>\n",
       "    <tr>\n",
       "      <th>punumber</th>\n",
       "      <td>0</td>\n",
       "      <td>0.000000</td>\n",
       "    </tr>\n",
       "    <tr>\n",
       "      <th>type</th>\n",
       "      <td>0</td>\n",
       "      <td>0.000000</td>\n",
       "    </tr>\n",
       "    <tr>\n",
       "      <th>production_country</th>\n",
       "      <td>0</td>\n",
       "      <td>0.000000</td>\n",
       "    </tr>\n",
       "    <tr>\n",
       "      <th>producer</th>\n",
       "      <td>0</td>\n",
       "      <td>0.000000</td>\n",
       "    </tr>\n",
       "    <tr>\n",
       "      <th>age_restriction</th>\n",
       "      <td>0</td>\n",
       "      <td>0.000000</td>\n",
       "    </tr>\n",
       "  </tbody>\n",
       "</table>\n",
       "</div>"
      ],
      "text/plain": [
       "                       Пропусков  Доля пропусков\n",
       "budget                      6451        0.953444\n",
       "box_office                  3665        0.541679\n",
       "ratings                      986        0.145729\n",
       "title                          0        0.000000\n",
       "director                       0        0.000000\n",
       "show_start_date                0        0.000000\n",
       "refundable_support             0        0.000000\n",
       "nonrefundable_support          0        0.000000\n",
       "financing_source               0        0.000000\n",
       "film_studio                    0        0.000000\n",
       "punumber                       0        0.000000\n",
       "type                           0        0.000000\n",
       "production_country             0        0.000000\n",
       "producer                       0        0.000000\n",
       "age_restriction                0        0.000000"
      ]
     },
     "execution_count": 37,
     "metadata": {},
     "output_type": "execute_result"
    }
   ],
   "source": [
    "total_missing = df.isnull().sum().sort_values(ascending=False)\n",
    "percent_missing = (df.isnull().sum()/df.isnull().count()).sort_values(ascending=False)\n",
    "missing_data = pd.concat([total_missing, percent_missing], axis=1, keys=['Пропусков', 'Доля пропусков'])\n",
    "missing_data.head(15)"
   ]
  },
  {
   "cell_type": "markdown",
   "id": "fe772137",
   "metadata": {},
   "source": [
    "## Проблемы категориальных значений"
   ]
  },
  {
   "cell_type": "markdown",
   "id": "bc98dd7a",
   "metadata": {},
   "source": [
    "Значения большей части категориальных значений - наборы строк с разделителем."
   ]
  },
  {
   "cell_type": "code",
   "execution_count": 38,
   "id": "7ae32c6f",
   "metadata": {},
   "outputs": [
    {
     "data": {
      "text/html": [
       "<div>\n",
       "<style scoped>\n",
       "    .dataframe tbody tr th:only-of-type {\n",
       "        vertical-align: middle;\n",
       "    }\n",
       "\n",
       "    .dataframe tbody tr th {\n",
       "        vertical-align: top;\n",
       "    }\n",
       "\n",
       "    .dataframe thead th {\n",
       "        text-align: right;\n",
       "    }\n",
       "</style>\n",
       "<table border=\"1\" class=\"dataframe\">\n",
       "  <thead>\n",
       "    <tr style=\"text-align: right;\">\n",
       "      <th></th>\n",
       "      <th>index</th>\n",
       "      <th>title</th>\n",
       "    </tr>\n",
       "  </thead>\n",
       "  <tbody>\n",
       "    <tr>\n",
       "      <th>6587</th>\n",
       "      <td>история одного назначения</td>\n",
       "      <td>1</td>\n",
       "    </tr>\n",
       "  </tbody>\n",
       "</table>\n",
       "</div>"
      ],
      "text/plain": [
       "                          index  title\n",
       "6587  история одного назначения      1"
      ]
     },
     "metadata": {},
     "output_type": "display_data"
    },
    {
     "data": {
      "text/html": [
       "<div>\n",
       "<style scoped>\n",
       "    .dataframe tbody tr th:only-of-type {\n",
       "        vertical-align: middle;\n",
       "    }\n",
       "\n",
       "    .dataframe tbody tr th {\n",
       "        vertical-align: top;\n",
       "    }\n",
       "\n",
       "    .dataframe thead th {\n",
       "        text-align: right;\n",
       "    }\n",
       "</style>\n",
       "<table border=\"1\" class=\"dataframe\">\n",
       "  <thead>\n",
       "    <tr style=\"text-align: right;\">\n",
       "      <th></th>\n",
       "      <th>index</th>\n",
       "      <th>director</th>\n",
       "    </tr>\n",
       "  </thead>\n",
       "  <tbody>\n",
       "    <tr>\n",
       "      <th>4539</th>\n",
       "      <td>сторм эшвуд</td>\n",
       "      <td>1</td>\n",
       "    </tr>\n",
       "  </tbody>\n",
       "</table>\n",
       "</div>"
      ],
      "text/plain": [
       "            index  director\n",
       "4539  сторм эшвуд         1"
      ]
     },
     "metadata": {},
     "output_type": "display_data"
    },
    {
     "data": {
      "text/html": [
       "<div>\n",
       "<style scoped>\n",
       "    .dataframe tbody tr th:only-of-type {\n",
       "        vertical-align: middle;\n",
       "    }\n",
       "\n",
       "    .dataframe tbody tr th {\n",
       "        vertical-align: top;\n",
       "    }\n",
       "\n",
       "    .dataframe thead th {\n",
       "        text-align: right;\n",
       "    }\n",
       "</style>\n",
       "<table border=\"1\" class=\"dataframe\">\n",
       "  <thead>\n",
       "    <tr style=\"text-align: right;\">\n",
       "      <th></th>\n",
       "      <th>index</th>\n",
       "      <th>financing_source</th>\n",
       "    </tr>\n",
       "  </thead>\n",
       "  <tbody>\n",
       "    <tr>\n",
       "      <th>5</th>\n",
       "      <td>{министерство культуры, фонд кино, без господд...</td>\n",
       "      <td>1</td>\n",
       "    </tr>\n",
       "  </tbody>\n",
       "</table>\n",
       "</div>"
      ],
      "text/plain": [
       "                                               index  financing_source\n",
       "5  {министерство культуры, фонд кино, без господд...                 1"
      ]
     },
     "metadata": {},
     "output_type": "display_data"
    },
    {
     "data": {
      "text/html": [
       "<div>\n",
       "<style scoped>\n",
       "    .dataframe tbody tr th:only-of-type {\n",
       "        vertical-align: middle;\n",
       "    }\n",
       "\n",
       "    .dataframe tbody tr th {\n",
       "        vertical-align: top;\n",
       "    }\n",
       "\n",
       "    .dataframe thead th {\n",
       "        text-align: right;\n",
       "    }\n",
       "</style>\n",
       "<table border=\"1\" class=\"dataframe\">\n",
       "  <thead>\n",
       "    <tr style=\"text-align: right;\">\n",
       "      <th></th>\n",
       "      <th>index</th>\n",
       "      <th>film_studio</th>\n",
       "    </tr>\n",
       "  </thead>\n",
       "  <tbody>\n",
       "    <tr>\n",
       "      <th>2562</th>\n",
       "      <td>{пайн хаус филм}</td>\n",
       "      <td>1</td>\n",
       "    </tr>\n",
       "  </tbody>\n",
       "</table>\n",
       "</div>"
      ],
      "text/plain": [
       "                 index  film_studio\n",
       "2562  {пайн хаус филм}            1"
      ]
     },
     "metadata": {},
     "output_type": "display_data"
    },
    {
     "data": {
      "text/html": [
       "<div>\n",
       "<style scoped>\n",
       "    .dataframe tbody tr th:only-of-type {\n",
       "        vertical-align: middle;\n",
       "    }\n",
       "\n",
       "    .dataframe tbody tr th {\n",
       "        vertical-align: top;\n",
       "    }\n",
       "\n",
       "    .dataframe thead th {\n",
       "        text-align: right;\n",
       "    }\n",
       "</style>\n",
       "<table border=\"1\" class=\"dataframe\">\n",
       "  <thead>\n",
       "    <tr style=\"text-align: right;\">\n",
       "      <th></th>\n",
       "      <th>index</th>\n",
       "      <th>type</th>\n",
       "    </tr>\n",
       "  </thead>\n",
       "  <tbody>\n",
       "    <tr>\n",
       "      <th>3</th>\n",
       "      <td>документальный</td>\n",
       "      <td>276</td>\n",
       "    </tr>\n",
       "  </tbody>\n",
       "</table>\n",
       "</div>"
      ],
      "text/plain": [
       "            index  type\n",
       "3  документальный   276"
      ]
     },
     "metadata": {},
     "output_type": "display_data"
    },
    {
     "data": {
      "text/html": [
       "<div>\n",
       "<style scoped>\n",
       "    .dataframe tbody tr th:only-of-type {\n",
       "        vertical-align: middle;\n",
       "    }\n",
       "\n",
       "    .dataframe tbody tr th {\n",
       "        vertical-align: top;\n",
       "    }\n",
       "\n",
       "    .dataframe thead th {\n",
       "        text-align: right;\n",
       "    }\n",
       "</style>\n",
       "<table border=\"1\" class=\"dataframe\">\n",
       "  <thead>\n",
       "    <tr style=\"text-align: right;\">\n",
       "      <th></th>\n",
       "      <th>index</th>\n",
       "      <th>production_country</th>\n",
       "    </tr>\n",
       "  </thead>\n",
       "  <tbody>\n",
       "    <tr>\n",
       "      <th>895</th>\n",
       "      <td>сша - великобритания - чехия</td>\n",
       "      <td>1</td>\n",
       "    </tr>\n",
       "  </tbody>\n",
       "</table>\n",
       "</div>"
      ],
      "text/plain": [
       "                            index  production_country\n",
       "895  сша - великобритания - чехия                   1"
      ]
     },
     "metadata": {},
     "output_type": "display_data"
    },
    {
     "data": {
      "text/html": [
       "<div>\n",
       "<style scoped>\n",
       "    .dataframe tbody tr th:only-of-type {\n",
       "        vertical-align: middle;\n",
       "    }\n",
       "\n",
       "    .dataframe tbody tr th {\n",
       "        vertical-align: top;\n",
       "    }\n",
       "\n",
       "    .dataframe thead th {\n",
       "        text-align: right;\n",
       "    }\n",
       "</style>\n",
       "<table border=\"1\" class=\"dataframe\">\n",
       "  <thead>\n",
       "    <tr style=\"text-align: right;\">\n",
       "      <th></th>\n",
       "      <th>index</th>\n",
       "      <th>producer</th>\n",
       "    </tr>\n",
       "  </thead>\n",
       "  <tbody>\n",
       "    <tr>\n",
       "      <th>3268</th>\n",
       "      <td>{марти бауэн, дэмьен шазелл}</td>\n",
       "      <td>1</td>\n",
       "    </tr>\n",
       "  </tbody>\n",
       "</table>\n",
       "</div>"
      ],
      "text/plain": [
       "                             index  producer\n",
       "3268  {марти бауэн, дэмьен шазелл}         1"
      ]
     },
     "metadata": {},
     "output_type": "display_data"
    },
    {
     "data": {
      "text/html": [
       "<div>\n",
       "<style scoped>\n",
       "    .dataframe tbody tr th:only-of-type {\n",
       "        vertical-align: middle;\n",
       "    }\n",
       "\n",
       "    .dataframe tbody tr th {\n",
       "        vertical-align: top;\n",
       "    }\n",
       "\n",
       "    .dataframe thead th {\n",
       "        text-align: right;\n",
       "    }\n",
       "</style>\n",
       "<table border=\"1\" class=\"dataframe\">\n",
       "  <thead>\n",
       "    <tr style=\"text-align: right;\">\n",
       "      <th></th>\n",
       "      <th>index</th>\n",
       "      <th>age_restriction</th>\n",
       "    </tr>\n",
       "  </thead>\n",
       "  <tbody>\n",
       "    <tr>\n",
       "      <th>2</th>\n",
       "      <td>«18+» - запрещено для детей</td>\n",
       "      <td>1431</td>\n",
       "    </tr>\n",
       "  </tbody>\n",
       "</table>\n",
       "</div>"
      ],
      "text/plain": [
       "                         index  age_restriction\n",
       "2  «18+» - запрещено для детей             1431"
      ]
     },
     "metadata": {},
     "output_type": "display_data"
    },
    {
     "data": {
      "text/html": [
       "<div>\n",
       "<style scoped>\n",
       "    .dataframe tbody tr th:only-of-type {\n",
       "        vertical-align: middle;\n",
       "    }\n",
       "\n",
       "    .dataframe tbody tr th {\n",
       "        vertical-align: top;\n",
       "    }\n",
       "\n",
       "    .dataframe thead th {\n",
       "        text-align: right;\n",
       "    }\n",
       "</style>\n",
       "<table border=\"1\" class=\"dataframe\">\n",
       "  <thead>\n",
       "    <tr style=\"text-align: right;\">\n",
       "      <th></th>\n",
       "      <th>index</th>\n",
       "      <th>genres</th>\n",
       "    </tr>\n",
       "  </thead>\n",
       "  <tbody>\n",
       "    <tr>\n",
       "      <th>300</th>\n",
       "      <td>{драма,комедия,спорт}</td>\n",
       "      <td>3</td>\n",
       "    </tr>\n",
       "  </tbody>\n",
       "</table>\n",
       "</div>"
      ],
      "text/plain": [
       "                     index  genres\n",
       "300  {драма,комедия,спорт}       3"
      ]
     },
     "metadata": {},
     "output_type": "display_data"
    }
   ],
   "source": [
    "for i in range(len(df.dtypes)):\n",
    "    if df.dtypes[i] == 'object':\n",
    "        display(df[df.columns[i]].value_counts().to_frame().reset_index().sample(1))"
   ]
  },
  {
   "cell_type": "markdown",
   "id": "30a70216",
   "metadata": {},
   "source": [
    "Чтобы удобно работать с такими значениями - нужно провести огромное количество работы по их обработке. Может потребоваться множество отдельных вспомогательных таблиц. К счастью для задач нашего исследования такая обработка не требуется, но в очередной раз стоит отметить, что качество данных в казалось бы официальном источнике весьма низкое."
   ]
  },
  {
   "cell_type": "markdown",
   "id": "18479ea5",
   "metadata": {},
   "source": [
    "## Обработка выбросов"
   ]
  },
  {
   "cell_type": "markdown",
   "id": "4a90bb62",
   "metadata": {},
   "source": [
    "Кэпнем данные."
   ]
  },
  {
   "cell_type": "code",
   "execution_count": 39,
   "id": "cc4a010e",
   "metadata": {},
   "outputs": [],
   "source": [
    "df_numerical = df[['box_office','budget']]\n",
    "\n",
    "min_limit=pd.Series()\n",
    "max_limit=pd.Series()\n",
    "\n",
    "for column in df_numerical.columns:\n",
    "    #Q1 и Q2 (10 и 90 процентили соотв.)\n",
    "    q1 = df_numerical[column].quantile(0.15)\n",
    "    q2 = df_numerical[column].quantile(0.95)\n",
    "    #интерквантильный размах\n",
    "    iqr = q2 - q1\n",
    "    #рассчитываем пределы\n",
    "    max_limit[column] = q2 + (1.5 * iqr)\n",
    "    min_limit[column] = q1 - (1.5 * iqr)\n",
    "    \n",
    "for column in df_numerical.columns:\n",
    "    df_numerical[column] = df_numerical[column].clip(min_limit[column],max_limit[column])"
   ]
  },
  {
   "cell_type": "markdown",
   "id": "23bc7284",
   "metadata": {},
   "source": [
    "## Добавление интересующих нас данных "
   ]
  },
  {
   "cell_type": "code",
   "execution_count": 40,
   "id": "cb04bf44",
   "metadata": {},
   "outputs": [],
   "source": [
    "df['premiere_year'] = df.show_start_date.dt.year.astype(int) #год премьеры\n",
    "df['director_main'] = df.director.str.split(',').str[0] #главный режиссер\n",
    "df['genre_main'] = (df                                  #главный жанр\n",
    "                    .genres\n",
    "                    .apply(repr)            \n",
    "                    .str.replace('{','')\n",
    "                    .str.replace('}','')\n",
    "                    .str.replace('\\'','')\n",
    "                    .str.replace('\\\"','')\n",
    "                    .str.replace('nan','')\n",
    "                    .str.split(',')\n",
    "                    .str[0])\n",
    "df['govsupport_share'] = ((df.refundable_support+df.nonrefundable_support)/df.budget) #доля господдержки\n",
    "\n",
    "\n",
    "df_numerical.box_office = df_numerical.box_office / 1E6\n",
    "df_numerical.budget = df_numerical.budget / 1E6\n",
    "df.refundable_support = df.refundable_support / 1E6\n",
    "df.nonrefundable_support =  df.nonrefundable_support / 1E6"
   ]
  },
  {
   "cell_type": "markdown",
   "id": "8d693cf3",
   "metadata": {},
   "source": [
    "<div class=\"alert alert-success\">\n",
    "<h2> Комментарий ревьюера V2<a class=\"tocSkip\"> </h2>\n",
    "\n",
    "<b>Все отлично!👍:</b> Новые столбцы создал верно, использовал подходящие методы."
   ]
  },
  {
   "cell_type": "markdown",
   "id": "89ed6761",
   "metadata": {},
   "source": [
    "## Исследовательский анализ"
   ]
  },
  {
   "cell_type": "markdown",
   "id": "4f7dce5b",
   "metadata": {},
   "source": [
    "### Cборы"
   ]
  },
  {
   "cell_type": "code",
   "execution_count": 41,
   "id": "39e7ffc8",
   "metadata": {},
   "outputs": [
    {
     "data": {
      "image/png": "[encoded data removed]",
      "text/plain": [
       "<Figure size 1080x360 with 2 Axes>"
      ]
     },
     "metadata": {},
     "output_type": "display_data"
    }
   ],
   "source": [
    "fig, (ax_box, ax_hist) = plt.subplots(2, sharex=True, gridspec_kw={\"height_ratios\": (.15, .85)}, figsize=(15,5))\n",
    " \n",
    "sns.boxplot(df_numerical.box_office, ax=ax_box)\n",
    "sns.histplot(x=df_numerical.box_office, \n",
    "             log_scale=True,\n",
    "             kde=True,) \n",
    "\n",
    "ax_box.set(xlabel='', title='Распределение сборов')\n",
    "ax_hist.set(xlabel='сборы, млн.руб.',\n",
    "           ylabel='Количество')\n",
    "\n",
    "plt.show()"
   ]
  },
  {
   "cell_type": "markdown",
   "id": "15e3594f",
   "metadata": {},
   "source": [
    "Наблюдаем бимодальное распределение на лог. шкале. Первая группа фильмов - со сборами от 100 до 100000 руб. Видимо, это очень нишевые картины, бывшие только в ограниченном прокате. Остальные фильмы - с более массовыми показами, и следовательно сборами."
   ]
  },
  {
   "cell_type": "markdown",
   "id": "bedca2dd",
   "metadata": {},
   "source": [
    "### Бюджет"
   ]
  },
  {
   "cell_type": "code",
   "execution_count": 42,
   "id": "e7225373",
   "metadata": {},
   "outputs": [
    {
     "data": {
      "image/png": "[encoded data removed]",
      "text/plain": [
       "<Figure size 1080x360 with 2 Axes>"
      ]
     },
     "metadata": {},
     "output_type": "display_data"
    }
   ],
   "source": [
    "fig, (ax_box, ax_hist) = plt.subplots(2, sharex=True, gridspec_kw={\"height_ratios\": (.15, .85)}, figsize=(15,5))\n",
    " \n",
    "sns.boxplot(df_numerical.budget, ax=ax_box)\n",
    "sns.histplot(x=df_numerical.budget,\n",
    "             log_scale=False,\n",
    "             kde=True,) \n",
    "\n",
    "ax_box.set(xlabel='', title='Распределение бюджета')\n",
    "ax_hist.set(xlabel='бюджет, млн.руб.',\n",
    "           ylabel='Количество')\n",
    "\n",
    "plt.show()"
   ]
  },
  {
   "cell_type": "markdown",
   "id": "332bef27",
   "metadata": {},
   "source": [
    "Классическое распределение Пуассона, можно отметить лишь очень длинный хвост."
   ]
  },
  {
   "cell_type": "markdown",
   "id": "36b04480",
   "metadata": {},
   "source": [
    "### Господдержка"
   ]
  },
  {
   "cell_type": "code",
   "execution_count": 43,
   "id": "48276a8a",
   "metadata": {},
   "outputs": [
    {
     "data": {
      "image/png": "[encoded data removed]",
      "text/plain": [
       "<Figure size 1080x360 with 2 Axes>"
      ]
     },
     "metadata": {},
     "output_type": "display_data"
    }
   ],
   "source": [
    "fig, (ax_box, ax_hist) = plt.subplots(2, sharex=True, gridspec_kw={\"height_ratios\": (.15, .85)}, figsize=(15,5))\n",
    " \n",
    "sns.boxplot(df.query('nonrefundable_support>0').nonrefundable_support, ax=ax_box)\n",
    "sns.histplot(x=df.query('nonrefundable_support>0').nonrefundable_support,\n",
    "             bins=20,\n",
    "             log_scale=False,\n",
    "             kde=True,) \n",
    "\n",
    "ax_box.set(xlabel='', title='Распределение невозвратной господдержки')\n",
    "ax_hist.set(xlabel='невозвратная господдержка, млн.руб.',\n",
    "           ylabel='Количество')\n",
    "\n",
    "plt.show()"
   ]
  },
  {
   "cell_type": "code",
   "execution_count": 44,
   "id": "5b8421b6",
   "metadata": {},
   "outputs": [
    {
     "data": {
      "image/png": "[encoded data removed]",
      "text/plain": [
       "<Figure size 1080x360 with 2 Axes>"
      ]
     },
     "metadata": {},
     "output_type": "display_data"
    }
   ],
   "source": [
    "fig, (ax_box, ax_hist) = plt.subplots(2, sharex=True, gridspec_kw={\"height_ratios\": (.15, .85)}, figsize=(15,5))\n",
    " \n",
    "sns.boxplot(df.query('refundable_support>0').refundable_support, ax=ax_box)\n",
    "sns.histplot(x=df.query('refundable_support>0').refundable_support,\n",
    "             bins=20,\n",
    "             log_scale=False,\n",
    "             kde=True,) \n",
    "\n",
    "ax_box.set(xlabel='', title='Распределение возвратной господдержки')\n",
    "ax_hist.set(xlabel='возвратная господдержка, млн.руб.',\n",
    "           ylabel='Количество')\n",
    "\n",
    "plt.show()"
   ]
  },
  {
   "cell_type": "markdown",
   "id": "9e65d174",
   "metadata": {},
   "source": [
    "Распределения пуассоновы, с длинными хвостами вправо. Изучим их отношения позже."
   ]
  },
  {
   "cell_type": "markdown",
   "id": "2833c1c6",
   "metadata": {},
   "source": [
    "### Рейтинги"
   ]
  },
  {
   "cell_type": "code",
   "execution_count": 45,
   "id": "f5c6e37c",
   "metadata": {},
   "outputs": [
    {
     "data": {
      "image/png": "[encoded data removed]",
      "text/plain": [
       "<Figure size 1080x360 with 2 Axes>"
      ]
     },
     "metadata": {},
     "output_type": "display_data"
    }
   ],
   "source": [
    "fig, (ax_box, ax_hist) = plt.subplots(2, sharex=True, gridspec_kw={\"height_ratios\": (.15, .85)}, figsize=(15,5))\n",
    " \n",
    "sns.boxplot(df.ratings, ax=ax_box)\n",
    "sns.histplot(x=df.ratings, \n",
    "             bins=20,\n",
    "             log_scale=False,\n",
    "             kde=True,) \n",
    "\n",
    "ax_box.set(xlabel='', title='Распределение рейтингов')\n",
    "ax_hist.set(xlabel='средний рейтинг',\n",
    "           ylabel='Количество')\n",
    "\n",
    "plt.show()"
   ]
  },
  {
   "cell_type": "markdown",
   "id": "7a732165",
   "metadata": {},
   "source": [
    "Распределение нормальное, с более длинным хвостом влево."
   ]
  },
  {
   "cell_type": "markdown",
   "id": "a4a5dc64",
   "metadata": {},
   "source": [
    "### Количество премьер в год"
   ]
  },
  {
   "cell_type": "code",
   "execution_count": 46,
   "id": "a5bc6324",
   "metadata": {},
   "outputs": [
    {
     "data": {
      "image/png": "[encoded data removed]",
      "text/plain": [
       "<Figure size 1080x360 with 1 Axes>"
      ]
     },
     "metadata": {},
     "output_type": "display_data"
    }
   ],
   "source": [
    "fig, ax = plt.subplots(figsize=(15,5));\n",
    "\n",
    "sns.countplot(x=df.premiere_year, color='royalblue')\n",
    "sns.countplot(x=df.query('box_office>0').premiere_year, color='skyblue')\n",
    "\n",
    "ax.legend(['всего', 'с данными о сборах '], title=' количество премьер \\n', loc='upper left', fontsize=10, title_fontsize=10);"
   ]
  },
  {
   "cell_type": "markdown",
   "id": "1d8f0379",
   "metadata": {},
   "source": [
    "Общее количество премьер в 2015-2017 годах шло на спад, затем тенденция к росту вернулась.\n",
    "Доля фильмов с данными о прокате постоянно растет, лишь в в конце периода отмечается ее снижение. Возможная причина: снижение популярности кинотеатров и рост доли фильмов, не использующих традиционный прокат.\n",
    "В 2015 году виден резкий рост доли фильмов с данными о прокате. 2015-2017 гг. - самые лучшие в данном показателе. К сожалению, в 2018-2019 гг. снова наблюдается падение."
   ]
  },
  {
   "cell_type": "markdown",
   "id": "b05cab07",
   "metadata": {},
   "source": [
    "### Сборы по годам "
   ]
  },
  {
   "cell_type": "code",
   "execution_count": 47,
   "id": "e1bb8d7b",
   "metadata": {},
   "outputs": [
    {
     "data": {
      "image/png": "[encoded data removed]",
      "text/plain": [
       "<Figure size 432x288 with 1 Axes>"
      ]
     },
     "metadata": {},
     "output_type": "display_data"
    }
   ],
   "source": [
    "sns.barplot(data=df,\n",
    "            x='premiere_year',\n",
    "            y='box_office',\n",
    "            color='skyblue',\n",
    "            alpha=0.8,\n",
    "            log=True,);"
   ]
  },
  {
   "cell_type": "markdown",
   "id": "e11c1ade",
   "metadata": {},
   "source": [
    "2010–2014 годах суммы сборов были относительно небольшими. Вероятно, данные за эти годы являются неполными, о чем говорит и большая погрешность.\n",
    "Начиная с конца 2014 года ситуация изменилась: прокатные сборы резко пошли в рост и в дальнейшем, 2016–2019 годы, оставались стабильными.\n",
    "Наибольшие сборы были в 2018 году.\n",
    "Наиболее слабый – 2012 год."
   ]
  },
  {
   "cell_type": "markdown",
   "id": "2664aaed",
   "metadata": {},
   "source": [
    "Средние и медианные по сборам за каждый год:"
   ]
  },
  {
   "cell_type": "code",
   "execution_count": 48,
   "id": "0fd421d0",
   "metadata": {},
   "outputs": [
    {
     "data": {
      "text/html": [
       "<div>\n",
       "<style scoped>\n",
       "    .dataframe tbody tr th:only-of-type {\n",
       "        vertical-align: middle;\n",
       "    }\n",
       "\n",
       "    .dataframe tbody tr th {\n",
       "        vertical-align: top;\n",
       "    }\n",
       "\n",
       "    .dataframe thead th {\n",
       "        text-align: right;\n",
       "    }\n",
       "</style>\n",
       "<table border=\"1\" class=\"dataframe\">\n",
       "  <thead>\n",
       "    <tr style=\"text-align: right;\">\n",
       "      <th></th>\n",
       "      <th>premiere_year</th>\n",
       "      <th>2010</th>\n",
       "      <th>2011</th>\n",
       "      <th>2012</th>\n",
       "      <th>2013</th>\n",
       "      <th>2014</th>\n",
       "      <th>2015</th>\n",
       "      <th>2016</th>\n",
       "      <th>2017</th>\n",
       "      <th>2018</th>\n",
       "      <th>2019</th>\n",
       "    </tr>\n",
       "  </thead>\n",
       "  <tbody>\n",
       "    <tr>\n",
       "      <th>mean</th>\n",
       "      <th>box_office</th>\n",
       "      <td>98397.27619</td>\n",
       "      <td>145525.981132</td>\n",
       "      <td>59631.048</td>\n",
       "      <td>164982.542541</td>\n",
       "      <td>2.798871e+07</td>\n",
       "      <td>8.586419e+07</td>\n",
       "      <td>9.629543e+07</td>\n",
       "      <td>1.364078e+08</td>\n",
       "      <td>1.045651e+08</td>\n",
       "      <td>9.136926e+07</td>\n",
       "    </tr>\n",
       "    <tr>\n",
       "      <th>median</th>\n",
       "      <th>box_office</th>\n",
       "      <td>2300.00000</td>\n",
       "      <td>3042.500000</td>\n",
       "      <td>6220.000</td>\n",
       "      <td>3580.000000</td>\n",
       "      <td>2.375250e+04</td>\n",
       "      <td>5.104961e+06</td>\n",
       "      <td>4.746948e+06</td>\n",
       "      <td>1.017783e+07</td>\n",
       "      <td>8.891102e+06</td>\n",
       "      <td>4.627798e+06</td>\n",
       "    </tr>\n",
       "  </tbody>\n",
       "</table>\n",
       "</div>"
      ],
      "text/plain": [
       "premiere_year             2010           2011       2012           2013  \\\n",
       "mean   box_office  98397.27619  145525.981132  59631.048  164982.542541   \n",
       "median box_office   2300.00000    3042.500000   6220.000    3580.000000   \n",
       "\n",
       "premiere_year              2014          2015          2016          2017  \\\n",
       "mean   box_office  2.798871e+07  8.586419e+07  9.629543e+07  1.364078e+08   \n",
       "median box_office  2.375250e+04  5.104961e+06  4.746948e+06  1.017783e+07   \n",
       "\n",
       "premiere_year              2018          2019  \n",
       "mean   box_office  1.045651e+08  9.136926e+07  \n",
       "median box_office  8.891102e+06  4.627798e+06  "
      ]
     },
     "execution_count": 48,
     "metadata": {},
     "output_type": "execute_result"
    }
   ],
   "source": [
    "df.pivot_table(index='premiere_year', values='box_office', aggfunc=['mean','median']).T"
   ]
  },
  {
   "cell_type": "markdown",
   "id": "0b65a0b4",
   "metadata": {},
   "source": [
    "Медианные значения гораздо меньше средних, но динамика у них одинаковая."
   ]
  },
  {
   "cell_type": "markdown",
   "id": "68f07e03",
   "metadata": {},
   "source": [
    "### Влияние возрастного ограничения на сборы"
   ]
  },
  {
   "cell_type": "code",
   "execution_count": 49,
   "id": "d7d89705",
   "metadata": {},
   "outputs": [
    {
     "data": {
      "text/plain": [
       "age_restriction\n",
       "«16+» - для детей старше 16 лет           2509\n",
       "«12+» - для детей старше 12 лет           1485\n",
       "«18+» - запрещено для детей               1431\n",
       "«0+» - для любой зрительской аудитории     737\n",
       "«6+» - для детей старше 6 лет              604\n",
       "dtype: int64"
      ]
     },
     "execution_count": 49,
     "metadata": {},
     "output_type": "execute_result"
    }
   ],
   "source": [
    "df.value_counts('age_restriction')"
   ]
  },
  {
   "cell_type": "code",
   "execution_count": 50,
   "id": "dcb88a3f",
   "metadata": {},
   "outputs": [
    {
     "data": {
      "text/plain": [
       "age_restriction\n",
       "D_16+    2509\n",
       "C_12+    1485\n",
       "E_18+    1431\n",
       "A_0+      737\n",
       "B_6+      604\n",
       "dtype: int64"
      ]
     },
     "execution_count": 50,
     "metadata": {},
     "output_type": "execute_result"
    }
   ],
   "source": [
    "#Заменим значения для удобной сортировки\n",
    "df.age_restriction = df.age_restriction.replace(list(df.age_restriction.unique()), ['C_12+','D_16+','B_6+','A_0+','E_18+'])\n",
    "df.value_counts('age_restriction')"
   ]
  },
  {
   "cell_type": "code",
   "execution_count": 51,
   "id": "158d6978",
   "metadata": {},
   "outputs": [
    {
     "data": {
      "image/png": "[encoded data removed]",
      "text/plain": [
       "<Figure size 432x288 with 1 Axes>"
      ]
     },
     "metadata": {},
     "output_type": "display_data"
    }
   ],
   "source": [
    "sns.barplot(data=df.query('premiere_year>=2014'), #данных за годы раньше почти нет\n",
    "            x='premiere_year',\n",
    "            y='box_office',\n",
    "            hue='age_restriction',\n",
    "            palette='Blues_r',\n",
    "            alpha=0.9,\n",
    "            ci=None);"
   ]
  },
  {
   "cell_type": "code",
   "execution_count": 52,
   "id": "6006900c",
   "metadata": {},
   "outputs": [
    {
     "data": {
      "text/html": [
       "<div>\n",
       "<style scoped>\n",
       "    .dataframe tbody tr th:only-of-type {\n",
       "        vertical-align: middle;\n",
       "    }\n",
       "\n",
       "    .dataframe tbody tr th {\n",
       "        vertical-align: top;\n",
       "    }\n",
       "\n",
       "    .dataframe thead th {\n",
       "        text-align: right;\n",
       "    }\n",
       "</style>\n",
       "<table border=\"1\" class=\"dataframe\">\n",
       "  <thead>\n",
       "    <tr style=\"text-align: right;\">\n",
       "      <th>premiere_year</th>\n",
       "      <th>2010</th>\n",
       "      <th>2011</th>\n",
       "      <th>2012</th>\n",
       "      <th>2013</th>\n",
       "      <th>2014</th>\n",
       "      <th>2015</th>\n",
       "      <th>2016</th>\n",
       "      <th>2017</th>\n",
       "      <th>2018</th>\n",
       "      <th>2019</th>\n",
       "    </tr>\n",
       "    <tr>\n",
       "      <th>age_restriction</th>\n",
       "      <th></th>\n",
       "      <th></th>\n",
       "      <th></th>\n",
       "      <th></th>\n",
       "      <th></th>\n",
       "      <th></th>\n",
       "      <th></th>\n",
       "      <th></th>\n",
       "      <th></th>\n",
       "      <th></th>\n",
       "    </tr>\n",
       "  </thead>\n",
       "  <tbody>\n",
       "    <tr>\n",
       "      <th>A_0+</th>\n",
       "      <td>2390813.0</td>\n",
       "      <td>13805640.0</td>\n",
       "      <td>2763501.0</td>\n",
       "      <td>2710422.5</td>\n",
       "      <td>3.756432e+08</td>\n",
       "      <td>3.790547e+08</td>\n",
       "      <td>1.488417e+08</td>\n",
       "      <td>2.295989e+08</td>\n",
       "      <td>3.244900e+07</td>\n",
       "      <td>1.774607e+07</td>\n",
       "    </tr>\n",
       "    <tr>\n",
       "      <th>B_6+</th>\n",
       "      <td>NaN</td>\n",
       "      <td>450.0</td>\n",
       "      <td>1143410.0</td>\n",
       "      <td>359752.0</td>\n",
       "      <td>1.730617e+09</td>\n",
       "      <td>8.701800e+09</td>\n",
       "      <td>1.205314e+10</td>\n",
       "      <td>1.208614e+10</td>\n",
       "      <td>1.010497e+10</td>\n",
       "      <td>1.285255e+10</td>\n",
       "    </tr>\n",
       "    <tr>\n",
       "      <th>C_12+</th>\n",
       "      <td>5171658.0</td>\n",
       "      <td>219891.0</td>\n",
       "      <td>108734.0</td>\n",
       "      <td>20910336.5</td>\n",
       "      <td>2.584782e+09</td>\n",
       "      <td>1.361608e+10</td>\n",
       "      <td>1.219940e+10</td>\n",
       "      <td>7.851428e+09</td>\n",
       "      <td>1.426729e+10</td>\n",
       "      <td>1.268020e+10</td>\n",
       "    </tr>\n",
       "    <tr>\n",
       "      <th>D_16+</th>\n",
       "      <td>2714858.0</td>\n",
       "      <td>1398733.0</td>\n",
       "      <td>3254426.0</td>\n",
       "      <td>678289.6</td>\n",
       "      <td>5.442416e+08</td>\n",
       "      <td>1.136828e+10</td>\n",
       "      <td>1.666352e+10</td>\n",
       "      <td>1.874252e+10</td>\n",
       "      <td>1.650360e+10</td>\n",
       "      <td>1.275342e+10</td>\n",
       "    </tr>\n",
       "    <tr>\n",
       "      <th>E_18+</th>\n",
       "      <td>54385.0</td>\n",
       "      <td>1040.0</td>\n",
       "      <td>183810.0</td>\n",
       "      <td>5203039.6</td>\n",
       "      <td>2.209713e+09</td>\n",
       "      <td>5.432310e+09</td>\n",
       "      <td>6.793923e+09</td>\n",
       "      <td>9.651496e+09</td>\n",
       "      <td>8.760086e+09</td>\n",
       "      <td>1.012180e+10</td>\n",
       "    </tr>\n",
       "  </tbody>\n",
       "</table>\n",
       "</div>"
      ],
      "text/plain": [
       "premiere_year         2010        2011       2012        2013          2014  \\\n",
       "age_restriction                                                               \n",
       "A_0+             2390813.0  13805640.0  2763501.0   2710422.5  3.756432e+08   \n",
       "B_6+                   NaN       450.0  1143410.0    359752.0  1.730617e+09   \n",
       "C_12+            5171658.0    219891.0   108734.0  20910336.5  2.584782e+09   \n",
       "D_16+            2714858.0   1398733.0  3254426.0    678289.6  5.442416e+08   \n",
       "E_18+              54385.0      1040.0   183810.0   5203039.6  2.209713e+09   \n",
       "\n",
       "premiere_year            2015          2016          2017          2018  \\\n",
       "age_restriction                                                           \n",
       "A_0+             3.790547e+08  1.488417e+08  2.295989e+08  3.244900e+07   \n",
       "B_6+             8.701800e+09  1.205314e+10  1.208614e+10  1.010497e+10   \n",
       "C_12+            1.361608e+10  1.219940e+10  7.851428e+09  1.426729e+10   \n",
       "D_16+            1.136828e+10  1.666352e+10  1.874252e+10  1.650360e+10   \n",
       "E_18+            5.432310e+09  6.793923e+09  9.651496e+09  8.760086e+09   \n",
       "\n",
       "premiere_year            2019  \n",
       "age_restriction                \n",
       "A_0+             1.774607e+07  \n",
       "B_6+             1.285255e+10  \n",
       "C_12+            1.268020e+10  \n",
       "D_16+            1.275342e+10  \n",
       "E_18+            1.012180e+10  "
      ]
     },
     "execution_count": 52,
     "metadata": {},
     "output_type": "execute_result"
    }
   ],
   "source": [
    "df.pivot_table(index='age_restriction', columns='premiere_year', values='box_office', aggfunc=sum)"
   ]
  },
  {
   "cell_type": "markdown",
   "id": "348cc207",
   "metadata": {},
   "source": [
    "За период с 2014 по 2019 год наибольшая сумма прокатных сборов в возрастной категории \"16+\". Эта категория была самой популярной на протяжении большей части исследуемого периода.\n",
    "Сборы в категории \"0+\" мизерны на фоне других категорий и к концу исследуемого периода падают до едва различимых.\n",
    "Зависимость сборов от возрастной категории:\n",
    "* 0: сборы исчезающе малы по сравнению с другими категорями и с течением времени тенденция усиливается;\n",
    "* 16+: была наиболее популярна в 2016-2018 годы, но, возможно, эта тенденция закончилась;\n",
    "* 18+: как правило, отстает от других категорий (не считая 0+), но с течением времени отставание сокращается.\n",
    "\n",
    "Возможные причины выявленных тенденций:\n",
    "* необходимо искать в правилах присвоения рейтинга (возможно, они слишком строгие или невыгодные для заявителя)\n",
    "* потребности зрителя изменились\n",
    "\n"
   ]
  },
  {
   "cell_type": "markdown",
   "id": "d40ff432",
   "metadata": {},
   "source": [
    "### Анализ фильмов с господдержкой"
   ]
  },
  {
   "cell_type": "code",
   "execution_count": 53,
   "id": "72bcc343",
   "metadata": {},
   "outputs": [],
   "source": [
    "df['support_total'] = df.refundable_support + df.nonrefundable_support"
   ]
  },
  {
   "cell_type": "code",
   "execution_count": 54,
   "id": "dfb5ff29",
   "metadata": {},
   "outputs": [
    {
     "data": {
      "text/plain": [
       "<AxesSubplot:xlabel='premiere_year', ylabel='support_total'>"
      ]
     },
     "execution_count": 54,
     "metadata": {},
     "output_type": "execute_result"
    },
    {
     "data": {
      "image/png": "[encoded data removed]",
      "text/plain": [
       "<Figure size 432x288 with 1 Axes>"
      ]
     },
     "metadata": {},
     "output_type": "display_data"
    }
   ],
   "source": [
    "sns.lineplot(x=df.premiere_year,\n",
    "             y=df.support_total,\n",
    "             color='skyblue',\n",
    "             linewidth=8,\n",
    "             alpha=0.5)\n",
    "\n",
    "sns.lineplot(x=df.premiere_year,\n",
    "             y=df.nonrefundable_support,\n",
    "             color='violet',\n",
    "             linewidth=5,\n",
    "             alpha=0.5)\n",
    "\n",
    "sns.lineplot(x=df.premiere_year,\n",
    "             y=df.refundable_support,\n",
    "             color='green',\n",
    "             linewidth=5,\n",
    "             alpha=0.5)\n"
   ]
  },
  {
   "cell_type": "code",
   "execution_count": 55,
   "id": "9d75277f",
   "metadata": {},
   "outputs": [
    {
     "data": {
      "text/html": [
       "<div>\n",
       "<style scoped>\n",
       "    .dataframe tbody tr th:only-of-type {\n",
       "        vertical-align: middle;\n",
       "    }\n",
       "\n",
       "    .dataframe tbody tr th {\n",
       "        vertical-align: top;\n",
       "    }\n",
       "\n",
       "    .dataframe thead th {\n",
       "        text-align: right;\n",
       "    }\n",
       "</style>\n",
       "<table border=\"1\" class=\"dataframe\">\n",
       "  <thead>\n",
       "    <tr style=\"text-align: right;\">\n",
       "      <th></th>\n",
       "      <th>nonrefundable_support</th>\n",
       "      <th>refundable_support</th>\n",
       "    </tr>\n",
       "    <tr>\n",
       "      <th>premiere_year</th>\n",
       "      <th></th>\n",
       "      <th></th>\n",
       "    </tr>\n",
       "  </thead>\n",
       "  <tbody>\n",
       "    <tr>\n",
       "      <th>2010</th>\n",
       "      <td>0.000000</td>\n",
       "      <td>0.000000</td>\n",
       "    </tr>\n",
       "    <tr>\n",
       "      <th>2011</th>\n",
       "      <td>0.000000</td>\n",
       "      <td>0.000000</td>\n",
       "    </tr>\n",
       "    <tr>\n",
       "      <th>2012</th>\n",
       "      <td>0.000000</td>\n",
       "      <td>0.000000</td>\n",
       "    </tr>\n",
       "    <tr>\n",
       "      <th>2013</th>\n",
       "      <td>0.226175</td>\n",
       "      <td>0.000000</td>\n",
       "    </tr>\n",
       "    <tr>\n",
       "      <th>2014</th>\n",
       "      <td>0.689137</td>\n",
       "      <td>0.097662</td>\n",
       "    </tr>\n",
       "    <tr>\n",
       "      <th>2015</th>\n",
       "      <td>4.666288</td>\n",
       "      <td>0.984781</td>\n",
       "    </tr>\n",
       "    <tr>\n",
       "      <th>2016</th>\n",
       "      <td>5.283837</td>\n",
       "      <td>1.439844</td>\n",
       "    </tr>\n",
       "    <tr>\n",
       "      <th>2017</th>\n",
       "      <td>4.989119</td>\n",
       "      <td>1.456168</td>\n",
       "    </tr>\n",
       "    <tr>\n",
       "      <th>2018</th>\n",
       "      <td>3.161146</td>\n",
       "      <td>0.751419</td>\n",
       "    </tr>\n",
       "    <tr>\n",
       "      <th>2019</th>\n",
       "      <td>4.359649</td>\n",
       "      <td>1.017544</td>\n",
       "    </tr>\n",
       "  </tbody>\n",
       "</table>\n",
       "</div>"
      ],
      "text/plain": [
       "               nonrefundable_support  refundable_support\n",
       "premiere_year                                           \n",
       "2010                        0.000000            0.000000\n",
       "2011                        0.000000            0.000000\n",
       "2012                        0.000000            0.000000\n",
       "2013                        0.226175            0.000000\n",
       "2014                        0.689137            0.097662\n",
       "2015                        4.666288            0.984781\n",
       "2016                        5.283837            1.439844\n",
       "2017                        4.989119            1.456168\n",
       "2018                        3.161146            0.751419\n",
       "2019                        4.359649            1.017544"
      ]
     },
     "execution_count": 55,
     "metadata": {},
     "output_type": "execute_result"
    }
   ],
   "source": [
    "df.pivot_table(index='premiere_year', values=['refundable_support' ,'nonrefundable_support'])"
   ]
  },
  {
   "cell_type": "markdown",
   "id": "d465b156",
   "metadata": {},
   "source": [
    "Согласно входным данным, в 2010-2012 господдержка не оказывалась.\n",
    "Далее сумма господдержки быстро нарастает и, начиная с 2015 года, выходит на относительно стабильный уровень.\n",
    "Интересно, что график общих кассовых сборов имеет резкий рост в те же годы, что и график госпомощи. Возможно, это связано с третьим фактором: например, данные о сборах в прокате стали собирать более полно.\n",
    "Объем невозвратной госпомощи примерно в 4 раза превосходит объем возвратной. Эта тенденция стабильна."
   ]
  },
  {
   "cell_type": "markdown",
   "id": "196aa46d",
   "metadata": {},
   "source": [
    "#### Сборы фильмов с господдержкой"
   ]
  },
  {
   "cell_type": "code",
   "execution_count": 56,
   "id": "2f0d7684",
   "metadata": {},
   "outputs": [
    {
     "name": "stdout",
     "output_type": "stream",
     "text": [
      "Доля кассовых сборов фильмов с господдержкой от общей суммы кассовых сборов: 0.1743688223174727\n",
      "Доля фильмов с господдержкой от всех фильмов: 0.04906887378066804\n"
     ]
    }
   ],
   "source": [
    "print(f\"Доля кассовых сборов фильмов с господдержкой от общей суммы кассовых сборов: {df.query('support_total > 0').box_office.sum() / df.box_office.sum()}\")\n",
    "print(f\"Доля фильмов с господдержкой от всех фильмов: {df.query('support_total > 0').shape[0] / df.shape[0]}\")"
   ]
  },
  {
   "cell_type": "markdown",
   "id": "64111a64",
   "metadata": {},
   "source": [
    "Доля кассовых сборов фильмов с господдержкой в 3.5 раза больше доли количества таких фильмов.\n",
    "\n",
    "Возможные причины:\n",
    "\n",
    "* для господдержки выбираются фильмы с более обещающими кассовыми сборами;\n",
    "* кассовые сборы фильмов с господдержкой отслеживаются более тщательно;\n",
    "* помимо прямой финансовой такие фильмы получают какую-либо дополнительную поддержку."
   ]
  },
  {
   "cell_type": "markdown",
   "id": "417cc833",
   "metadata": {},
   "source": [
    "#### Окупаемость господдержки"
   ]
  },
  {
   "cell_type": "code",
   "execution_count": 57,
   "id": "8ae02232",
   "metadata": {},
   "outputs": [],
   "source": [
    "df['payback'] = df.box_office / df.support_total\n",
    "df.payback = df.payback /1E6"
   ]
  },
  {
   "cell_type": "code",
   "execution_count": 58,
   "id": "ca6e452e",
   "metadata": {},
   "outputs": [
    {
     "data": {
      "text/html": [
       "<div>\n",
       "<style scoped>\n",
       "    .dataframe tbody tr th:only-of-type {\n",
       "        vertical-align: middle;\n",
       "    }\n",
       "\n",
       "    .dataframe tbody tr th {\n",
       "        vertical-align: top;\n",
       "    }\n",
       "\n",
       "    .dataframe thead th {\n",
       "        text-align: right;\n",
       "    }\n",
       "</style>\n",
       "<table border=\"1\" class=\"dataframe\">\n",
       "  <thead>\n",
       "    <tr style=\"text-align: right;\">\n",
       "      <th></th>\n",
       "      <th>support_count</th>\n",
       "      <th>support_sum</th>\n",
       "      <th>budget_sum</th>\n",
       "      <th>box_office_sum</th>\n",
       "      <th>payback_mean</th>\n",
       "      <th>payback_median</th>\n",
       "      <th>payback_min</th>\n",
       "      <th>payback_max</th>\n",
       "      <th>payback_overall</th>\n",
       "    </tr>\n",
       "  </thead>\n",
       "  <tbody>\n",
       "    <tr>\n",
       "      <th>0</th>\n",
       "      <td>332.0</td>\n",
       "      <td>20200.688312</td>\n",
       "      <td>4.224027e+10</td>\n",
       "      <td>4.211351e+10</td>\n",
       "      <td>1.877601</td>\n",
       "      <td>0.439611</td>\n",
       "      <td>0.000044</td>\n",
       "      <td>51.226145</td>\n",
       "      <td>2.084756e+06</td>\n",
       "    </tr>\n",
       "  </tbody>\n",
       "</table>\n",
       "</div>"
      ],
      "text/plain": [
       "   support_count   support_sum    budget_sum  box_office_sum  payback_mean  \\\n",
       "0          332.0  20200.688312  4.224027e+10    4.211351e+10      1.877601   \n",
       "\n",
       "   payback_median  payback_min  payback_max  payback_overall  \n",
       "0        0.439611     0.000044    51.226145     2.084756e+06  "
      ]
     },
     "execution_count": 58,
     "metadata": {},
     "output_type": "execute_result"
    }
   ],
   "source": [
    "source_columns = df.columns.to_list() \n",
    "(df\n",
    " .query('support_total > 0')\n",
    " .assign(support_count = lambda df: df.support_total.count())\n",
    " .assign(support_sum = lambda df: df.support_total.sum())\n",
    " .assign(budget_sum = lambda df: df.budget.sum())\n",
    " .assign(box_office_sum = lambda df: df.box_office.sum())\n",
    " .assign(payback_mean = lambda df: df.payback.mean())\n",
    " .assign(payback_median = lambda df: df.payback.median())\n",
    " .assign(payback_min = lambda df: df.payback.min())\n",
    " .assign(payback_max = lambda df: df.payback.max())\n",
    " .assign(payback_overall = lambda df: df.box_office_sum / df.support_sum)\n",
    " .drop(source_columns, axis=1)\n",
    " .iloc[0].to_frame().T.reset_index(drop=True))"
   ]
  },
  {
   "cell_type": "code",
   "execution_count": 59,
   "id": "261a745d",
   "metadata": {},
   "outputs": [
    {
     "name": "stdout",
     "output_type": "stream",
     "text": [
      "Фильмов, не окупивших поддержку: 200\n",
      "Фильмов, с окупаемостью менее 10%: 111\n"
     ]
    }
   ],
   "source": [
    "print(f\"Фильмов, не окупивших поддержку: {df.query('payback < 1').shape[0]}\")\n",
    "print(f\"Фильмов, с окупаемостью менее 10%: {df.query('payback < 0.1').shape[0]}\")"
   ]
  },
  {
   "cell_type": "markdown",
   "id": "5e7c185f",
   "metadata": {},
   "source": [
    "* 60%, не смогла окупить господдержку за счет кассовых сборов даже без учета частного финансирования, а каждый третий не смог окупить хотя бы 10% вложений.\n",
    "* Медианная окупаемость господдержки даже без учета частных инвестиций всего 44%.\n",
    "* 48% составляет доля господдержки в общем бюджете всех фильмов, получивших ее."
   ]
  },
  {
   "cell_type": "markdown",
   "id": "dd25d9a3",
   "metadata": {},
   "source": [
    "#### Зависимость окупаемости поддержки от различных факторов"
   ]
  },
  {
   "cell_type": "code",
   "execution_count": 60,
   "id": "4d20be36",
   "metadata": {},
   "outputs": [],
   "source": [
    "def payback_factor(column: str):\n",
    "    return (df\n",
    "            .query('support_total > 0')\n",
    "            .groupby(column)\n",
    "            .agg(support_count=('support_total','count'),\n",
    "                 support_sum=('support_total','sum'),\n",
    "                 budget_sum = ('budget', 'sum'),\n",
    "                 box_office_sum=('box_office','sum'),\n",
    "                 payback_mean=('payback','mean'),\n",
    "                 payback_median=('payback','median'),\n",
    "                 payback_min=('payback','min'),\n",
    "                 payback_max=('payback','max'),)\n",
    "            .assign(payback_overall = lambda df: df.box_office_sum / df.support_sum)\n",
    "            .fillna(0)\n",
    "            .sort_values('support_sum', ascending=False))"
   ]
  },
  {
   "cell_type": "code",
   "execution_count": 61,
   "id": "0b3decd7",
   "metadata": {},
   "outputs": [
    {
     "data": {
      "text/html": [
       "<div>\n",
       "<style scoped>\n",
       "    .dataframe tbody tr th:only-of-type {\n",
       "        vertical-align: middle;\n",
       "    }\n",
       "\n",
       "    .dataframe tbody tr th {\n",
       "        vertical-align: top;\n",
       "    }\n",
       "\n",
       "    .dataframe thead th {\n",
       "        text-align: right;\n",
       "    }\n",
       "</style>\n",
       "<table border=\"1\" class=\"dataframe\">\n",
       "  <thead>\n",
       "    <tr style=\"text-align: right;\">\n",
       "      <th></th>\n",
       "      <th>support_count</th>\n",
       "      <th>support_sum</th>\n",
       "      <th>budget_sum</th>\n",
       "      <th>box_office_sum</th>\n",
       "      <th>payback_mean</th>\n",
       "      <th>payback_median</th>\n",
       "      <th>payback_min</th>\n",
       "      <th>payback_max</th>\n",
       "      <th>payback_overall</th>\n",
       "    </tr>\n",
       "    <tr>\n",
       "      <th>premiere_year</th>\n",
       "      <th></th>\n",
       "      <th></th>\n",
       "      <th></th>\n",
       "      <th></th>\n",
       "      <th></th>\n",
       "      <th></th>\n",
       "      <th></th>\n",
       "      <th></th>\n",
       "      <th></th>\n",
       "    </tr>\n",
       "  </thead>\n",
       "  <tbody>\n",
       "    <tr>\n",
       "      <th>2013</th>\n",
       "      <td>2</td>\n",
       "      <td>134.347945</td>\n",
       "      <td>2.554354e+08</td>\n",
       "      <td>2.032239e+07</td>\n",
       "      <td>0.099417</td>\n",
       "      <td>0.099417</td>\n",
       "      <td>0.013787</td>\n",
       "      <td>0.185048</td>\n",
       "      <td>1.512668e+05</td>\n",
       "    </tr>\n",
       "    <tr>\n",
       "      <th>2014</th>\n",
       "      <td>16</td>\n",
       "      <td>572.002299</td>\n",
       "      <td>1.279485e+09</td>\n",
       "      <td>1.017422e+09</td>\n",
       "      <td>1.563709</td>\n",
       "      <td>0.162975</td>\n",
       "      <td>0.001082</td>\n",
       "      <td>13.111488</td>\n",
       "      <td>1.778703e+06</td>\n",
       "    </tr>\n",
       "    <tr>\n",
       "      <th>2015</th>\n",
       "      <td>86</td>\n",
       "      <td>3656.241459</td>\n",
       "      <td>7.309669e+09</td>\n",
       "      <td>5.785285e+09</td>\n",
       "      <td>1.354060</td>\n",
       "      <td>0.183483</td>\n",
       "      <td>0.000044</td>\n",
       "      <td>17.623205</td>\n",
       "      <td>1.582304e+06</td>\n",
       "    </tr>\n",
       "    <tr>\n",
       "      <th>2016</th>\n",
       "      <td>61</td>\n",
       "      <td>4303.155482</td>\n",
       "      <td>7.228943e+09</td>\n",
       "      <td>6.081708e+09</td>\n",
       "      <td>1.278799</td>\n",
       "      <td>0.324244</td>\n",
       "      <td>0.000180</td>\n",
       "      <td>12.120760</td>\n",
       "      <td>1.413314e+06</td>\n",
       "    </tr>\n",
       "    <tr>\n",
       "      <th>2017</th>\n",
       "      <td>41</td>\n",
       "      <td>3183.971662</td>\n",
       "      <td>6.972173e+09</td>\n",
       "      <td>1.086508e+10</td>\n",
       "      <td>3.062531</td>\n",
       "      <td>1.310201</td>\n",
       "      <td>0.006740</td>\n",
       "      <td>21.118908</td>\n",
       "      <td>3.412428e+06</td>\n",
       "    </tr>\n",
       "    <tr>\n",
       "      <th>2018</th>\n",
       "      <td>56</td>\n",
       "      <td>3446.969465</td>\n",
       "      <td>6.651695e+09</td>\n",
       "      <td>9.934069e+09</td>\n",
       "      <td>2.370559</td>\n",
       "      <td>0.784440</td>\n",
       "      <td>0.001856</td>\n",
       "      <td>21.115409</td>\n",
       "      <td>2.881972e+06</td>\n",
       "    </tr>\n",
       "    <tr>\n",
       "      <th>2019</th>\n",
       "      <td>70</td>\n",
       "      <td>4904.000000</td>\n",
       "      <td>1.254287e+10</td>\n",
       "      <td>8.409627e+09</td>\n",
       "      <td>2.130765</td>\n",
       "      <td>0.468695</td>\n",
       "      <td>0.002528</td>\n",
       "      <td>51.226145</td>\n",
       "      <td>1.714851e+06</td>\n",
       "    </tr>\n",
       "  </tbody>\n",
       "</table>\n",
       "</div>"
      ],
      "text/plain": [
       "               support_count  support_sum    budget_sum  box_office_sum  \\\n",
       "premiere_year                                                             \n",
       "2013                       2   134.347945  2.554354e+08    2.032239e+07   \n",
       "2014                      16   572.002299  1.279485e+09    1.017422e+09   \n",
       "2015                      86  3656.241459  7.309669e+09    5.785285e+09   \n",
       "2016                      61  4303.155482  7.228943e+09    6.081708e+09   \n",
       "2017                      41  3183.971662  6.972173e+09    1.086508e+10   \n",
       "2018                      56  3446.969465  6.651695e+09    9.934069e+09   \n",
       "2019                      70  4904.000000  1.254287e+10    8.409627e+09   \n",
       "\n",
       "               payback_mean  payback_median  payback_min  payback_max  \\\n",
       "premiere_year                                                           \n",
       "2013               0.099417        0.099417     0.013787     0.185048   \n",
       "2014               1.563709        0.162975     0.001082    13.111488   \n",
       "2015               1.354060        0.183483     0.000044    17.623205   \n",
       "2016               1.278799        0.324244     0.000180    12.120760   \n",
       "2017               3.062531        1.310201     0.006740    21.118908   \n",
       "2018               2.370559        0.784440     0.001856    21.115409   \n",
       "2019               2.130765        0.468695     0.002528    51.226145   \n",
       "\n",
       "               payback_overall  \n",
       "premiere_year                   \n",
       "2013              1.512668e+05  \n",
       "2014              1.778703e+06  \n",
       "2015              1.582304e+06  \n",
       "2016              1.413314e+06  \n",
       "2017              3.412428e+06  \n",
       "2018              2.881972e+06  \n",
       "2019              1.714851e+06  "
      ]
     },
     "execution_count": 61,
     "metadata": {},
     "output_type": "execute_result"
    }
   ],
   "source": [
    "payback_factor('premiere_year').sort_index()"
   ]
  },
  {
   "cell_type": "markdown",
   "id": "03779d59",
   "metadata": {},
   "source": [
    "Заметим, что в 2017-2018гг. господдержка снизилась, а окупаемость наоборот выросла."
   ]
  },
  {
   "cell_type": "code",
   "execution_count": 62,
   "id": "9a2e9936",
   "metadata": {},
   "outputs": [
    {
     "data": {
      "text/html": [
       "<div>\n",
       "<style scoped>\n",
       "    .dataframe tbody tr th:only-of-type {\n",
       "        vertical-align: middle;\n",
       "    }\n",
       "\n",
       "    .dataframe tbody tr th {\n",
       "        vertical-align: top;\n",
       "    }\n",
       "\n",
       "    .dataframe thead th {\n",
       "        text-align: right;\n",
       "    }\n",
       "</style>\n",
       "<table border=\"1\" class=\"dataframe\">\n",
       "  <thead>\n",
       "    <tr style=\"text-align: right;\">\n",
       "      <th></th>\n",
       "      <th>support_count</th>\n",
       "      <th>support_sum</th>\n",
       "      <th>budget_sum</th>\n",
       "      <th>box_office_sum</th>\n",
       "      <th>payback_mean</th>\n",
       "      <th>payback_median</th>\n",
       "      <th>payback_min</th>\n",
       "      <th>payback_max</th>\n",
       "      <th>payback_overall</th>\n",
       "    </tr>\n",
       "    <tr>\n",
       "      <th>type</th>\n",
       "      <th></th>\n",
       "      <th></th>\n",
       "      <th></th>\n",
       "      <th></th>\n",
       "      <th></th>\n",
       "      <th></th>\n",
       "      <th></th>\n",
       "      <th></th>\n",
       "      <th></th>\n",
       "    </tr>\n",
       "  </thead>\n",
       "  <tbody>\n",
       "    <tr>\n",
       "      <th>художественный</th>\n",
       "      <td>300</td>\n",
       "      <td>17627.198847</td>\n",
       "      <td>3.696681e+10</td>\n",
       "      <td>3.649022e+10</td>\n",
       "      <td>1.791148</td>\n",
       "      <td>0.289389</td>\n",
       "      <td>0.000044</td>\n",
       "      <td>51.226145</td>\n",
       "      <td>2.070109e+06</td>\n",
       "    </tr>\n",
       "    <tr>\n",
       "      <th>анимационный</th>\n",
       "      <td>31</td>\n",
       "      <td>2570.489465</td>\n",
       "      <td>5.240454e+09</td>\n",
       "      <td>5.623293e+09</td>\n",
       "      <td>2.707550</td>\n",
       "      <td>1.416342</td>\n",
       "      <td>0.009604</td>\n",
       "      <td>17.623205</td>\n",
       "      <td>2.187635e+06</td>\n",
       "    </tr>\n",
       "    <tr>\n",
       "      <th>документальный</th>\n",
       "      <td>1</td>\n",
       "      <td>3.000000</td>\n",
       "      <td>3.300000e+07</td>\n",
       "      <td>0.000000e+00</td>\n",
       "      <td>0.000000</td>\n",
       "      <td>0.000000</td>\n",
       "      <td>0.000000</td>\n",
       "      <td>0.000000</td>\n",
       "      <td>0.000000e+00</td>\n",
       "    </tr>\n",
       "  </tbody>\n",
       "</table>\n",
       "</div>"
      ],
      "text/plain": [
       "                support_count   support_sum    budget_sum  box_office_sum  \\\n",
       "type                                                                        \n",
       "художественный            300  17627.198847  3.696681e+10    3.649022e+10   \n",
       "анимационный               31   2570.489465  5.240454e+09    5.623293e+09   \n",
       "документальный              1      3.000000  3.300000e+07    0.000000e+00   \n",
       "\n",
       "                payback_mean  payback_median  payback_min  payback_max  \\\n",
       "type                                                                     \n",
       "художественный      1.791148        0.289389     0.000044    51.226145   \n",
       "анимационный        2.707550        1.416342     0.009604    17.623205   \n",
       "документальный      0.000000        0.000000     0.000000     0.000000   \n",
       "\n",
       "                payback_overall  \n",
       "type                             \n",
       "художественный     2.070109e+06  \n",
       "анимационный       2.187635e+06  \n",
       "документальный     0.000000e+00  "
      ]
     },
     "execution_count": 62,
     "metadata": {},
     "output_type": "execute_result"
    }
   ],
   "source": [
    "payback_factor('type')"
   ]
  },
  {
   "cell_type": "markdown",
   "id": "8791365f",
   "metadata": {},
   "source": [
    "Абсолютное большинство поддерживаемых фильмов - художественные. Тем не менее, окупаемость анимационных фильмов - выше. "
   ]
  },
  {
   "cell_type": "code",
   "execution_count": 63,
   "id": "5c26f8e7",
   "metadata": {},
   "outputs": [
    {
     "data": {
      "text/html": [
       "<div>\n",
       "<style scoped>\n",
       "    .dataframe tbody tr th:only-of-type {\n",
       "        vertical-align: middle;\n",
       "    }\n",
       "\n",
       "    .dataframe tbody tr th {\n",
       "        vertical-align: top;\n",
       "    }\n",
       "\n",
       "    .dataframe thead th {\n",
       "        text-align: right;\n",
       "    }\n",
       "</style>\n",
       "<table border=\"1\" class=\"dataframe\">\n",
       "  <thead>\n",
       "    <tr style=\"text-align: right;\">\n",
       "      <th></th>\n",
       "      <th>support_count</th>\n",
       "      <th>support_sum</th>\n",
       "      <th>budget_sum</th>\n",
       "      <th>box_office_sum</th>\n",
       "      <th>payback_mean</th>\n",
       "      <th>payback_median</th>\n",
       "      <th>payback_min</th>\n",
       "      <th>payback_max</th>\n",
       "      <th>payback_overall</th>\n",
       "    </tr>\n",
       "    <tr>\n",
       "      <th>genre_main</th>\n",
       "      <th></th>\n",
       "      <th></th>\n",
       "      <th></th>\n",
       "      <th></th>\n",
       "      <th></th>\n",
       "      <th></th>\n",
       "      <th></th>\n",
       "      <th></th>\n",
       "      <th></th>\n",
       "    </tr>\n",
       "  </thead>\n",
       "  <tbody>\n",
       "    <tr>\n",
       "      <th>драма</th>\n",
       "      <td>93</td>\n",
       "      <td>5314.406632</td>\n",
       "      <td>1.105189e+10</td>\n",
       "      <td>9.490844e+09</td>\n",
       "      <td>1.021762</td>\n",
       "      <td>0.127249</td>\n",
       "      <td>0.000180</td>\n",
       "      <td>12.620856</td>\n",
       "      <td>1.785871e+06</td>\n",
       "    </tr>\n",
       "    <tr>\n",
       "      <th>комедия</th>\n",
       "      <td>74</td>\n",
       "      <td>3218.282945</td>\n",
       "      <td>5.915587e+09</td>\n",
       "      <td>1.247998e+10</td>\n",
       "      <td>3.312854</td>\n",
       "      <td>0.960312</td>\n",
       "      <td>0.002374</td>\n",
       "      <td>51.226145</td>\n",
       "      <td>3.877837e+06</td>\n",
       "    </tr>\n",
       "    <tr>\n",
       "      <th>мультфильм</th>\n",
       "      <td>31</td>\n",
       "      <td>2461.520000</td>\n",
       "      <td>5.285499e+09</td>\n",
       "      <td>5.622014e+09</td>\n",
       "      <td>2.707292</td>\n",
       "      <td>1.416342</td>\n",
       "      <td>0.001856</td>\n",
       "      <td>17.623205</td>\n",
       "      <td>2.283960e+06</td>\n",
       "    </tr>\n",
       "    <tr>\n",
       "      <th>фантастика</th>\n",
       "      <td>11</td>\n",
       "      <td>1406.000000</td>\n",
       "      <td>2.193101e+09</td>\n",
       "      <td>1.718204e+09</td>\n",
       "      <td>1.320354</td>\n",
       "      <td>1.384238</td>\n",
       "      <td>0.006129</td>\n",
       "      <td>4.153286</td>\n",
       "      <td>1.222051e+06</td>\n",
       "    </tr>\n",
       "    <tr>\n",
       "      <th>фэнтези</th>\n",
       "      <td>11</td>\n",
       "      <td>1032.900000</td>\n",
       "      <td>2.340124e+09</td>\n",
       "      <td>9.958366e+08</td>\n",
       "      <td>0.791026</td>\n",
       "      <td>0.440686</td>\n",
       "      <td>0.000232</td>\n",
       "      <td>3.602668</td>\n",
       "      <td>9.641172e+05</td>\n",
       "    </tr>\n",
       "    <tr>\n",
       "      <th>история</th>\n",
       "      <td>4</td>\n",
       "      <td>1020.000000</td>\n",
       "      <td>2.145062e+09</td>\n",
       "      <td>1.455468e+09</td>\n",
       "      <td>1.103749</td>\n",
       "      <td>1.249099</td>\n",
       "      <td>0.229928</td>\n",
       "      <td>1.686872</td>\n",
       "      <td>1.426930e+06</td>\n",
       "    </tr>\n",
       "    <tr>\n",
       "      <th>триллер</th>\n",
       "      <td>15</td>\n",
       "      <td>769.645285</td>\n",
       "      <td>1.290961e+09</td>\n",
       "      <td>7.004502e+08</td>\n",
       "      <td>0.693396</td>\n",
       "      <td>0.122676</td>\n",
       "      <td>0.002448</td>\n",
       "      <td>4.704058</td>\n",
       "      <td>9.100948e+05</td>\n",
       "    </tr>\n",
       "    <tr>\n",
       "      <th>приключения</th>\n",
       "      <td>7</td>\n",
       "      <td>696.000000</td>\n",
       "      <td>3.374742e+09</td>\n",
       "      <td>1.205597e+09</td>\n",
       "      <td>4.793205</td>\n",
       "      <td>1.886624</td>\n",
       "      <td>0.012432</td>\n",
       "      <td>21.118908</td>\n",
       "      <td>1.732180e+06</td>\n",
       "    </tr>\n",
       "    <tr>\n",
       "      <th></th>\n",
       "      <td>16</td>\n",
       "      <td>688.969465</td>\n",
       "      <td>9.429615e+08</td>\n",
       "      <td>1.481749e+09</td>\n",
       "      <td>1.193713</td>\n",
       "      <td>0.018825</td>\n",
       "      <td>0.000793</td>\n",
       "      <td>17.008609</td>\n",
       "      <td>2.150674e+06</td>\n",
       "    </tr>\n",
       "    <tr>\n",
       "      <th>детектив</th>\n",
       "      <td>5</td>\n",
       "      <td>485.000000</td>\n",
       "      <td>1.198222e+09</td>\n",
       "      <td>1.385475e+08</td>\n",
       "      <td>0.318218</td>\n",
       "      <td>0.153189</td>\n",
       "      <td>0.001335</td>\n",
       "      <td>1.209639</td>\n",
       "      <td>2.856650e+05</td>\n",
       "    </tr>\n",
       "    <tr>\n",
       "      <th>спорт</th>\n",
       "      <td>3</td>\n",
       "      <td>455.000000</td>\n",
       "      <td>7.104690e+08</td>\n",
       "      <td>2.967768e+09</td>\n",
       "      <td>4.153110</td>\n",
       "      <td>4.217221</td>\n",
       "      <td>1.292892</td>\n",
       "      <td>6.949215</td>\n",
       "      <td>6.522568e+06</td>\n",
       "    </tr>\n",
       "    <tr>\n",
       "      <th>военный</th>\n",
       "      <td>9</td>\n",
       "      <td>422.000866</td>\n",
       "      <td>1.285907e+09</td>\n",
       "      <td>1.017670e+09</td>\n",
       "      <td>2.750346</td>\n",
       "      <td>0.504968</td>\n",
       "      <td>0.044420</td>\n",
       "      <td>12.120760</td>\n",
       "      <td>2.411536e+06</td>\n",
       "    </tr>\n",
       "    <tr>\n",
       "      <th>мелодрама</th>\n",
       "      <td>15</td>\n",
       "      <td>398.000000</td>\n",
       "      <td>9.180053e+08</td>\n",
       "      <td>5.478897e+07</td>\n",
       "      <td>0.137784</td>\n",
       "      <td>0.050151</td>\n",
       "      <td>0.000044</td>\n",
       "      <td>0.637979</td>\n",
       "      <td>1.376607e+05</td>\n",
       "    </tr>\n",
       "    <tr>\n",
       "      <th>ужасы</th>\n",
       "      <td>10</td>\n",
       "      <td>355.000000</td>\n",
       "      <td>5.638776e+08</td>\n",
       "      <td>7.101232e+08</td>\n",
       "      <td>1.808773</td>\n",
       "      <td>1.095530</td>\n",
       "      <td>0.002005</td>\n",
       "      <td>7.031983</td>\n",
       "      <td>2.000347e+06</td>\n",
       "    </tr>\n",
       "    <tr>\n",
       "      <th>семейный</th>\n",
       "      <td>7</td>\n",
       "      <td>339.000000</td>\n",
       "      <td>6.367998e+08</td>\n",
       "      <td>5.844247e+08</td>\n",
       "      <td>1.554702</td>\n",
       "      <td>1.834125</td>\n",
       "      <td>0.013812</td>\n",
       "      <td>3.437384</td>\n",
       "      <td>1.723967e+06</td>\n",
       "    </tr>\n",
       "    <tr>\n",
       "      <th>боевик</th>\n",
       "      <td>6</td>\n",
       "      <td>334.000000</td>\n",
       "      <td>6.034368e+08</td>\n",
       "      <td>5.959289e+08</td>\n",
       "      <td>2.293792</td>\n",
       "      <td>1.223690</td>\n",
       "      <td>0.006782</td>\n",
       "      <td>8.790018</td>\n",
       "      <td>1.784218e+06</td>\n",
       "    </tr>\n",
       "    <tr>\n",
       "      <th>криминал</th>\n",
       "      <td>3</td>\n",
       "      <td>280.000000</td>\n",
       "      <td>4.265948e+08</td>\n",
       "      <td>2.397939e+08</td>\n",
       "      <td>0.486118</td>\n",
       "      <td>0.357983</td>\n",
       "      <td>0.011905</td>\n",
       "      <td>1.088468</td>\n",
       "      <td>8.564067e+05</td>\n",
       "    </tr>\n",
       "    <tr>\n",
       "      <th>мюзикл</th>\n",
       "      <td>4</td>\n",
       "      <td>240.453119</td>\n",
       "      <td>5.641975e+08</td>\n",
       "      <td>1.017050e+08</td>\n",
       "      <td>0.277502</td>\n",
       "      <td>0.261410</td>\n",
       "      <td>0.005541</td>\n",
       "      <td>0.581647</td>\n",
       "      <td>4.229723e+05</td>\n",
       "    </tr>\n",
       "    <tr>\n",
       "      <th>детский</th>\n",
       "      <td>4</td>\n",
       "      <td>119.000000</td>\n",
       "      <td>1.838980e+08</td>\n",
       "      <td>3.013652e+06</td>\n",
       "      <td>0.032442</td>\n",
       "      <td>0.039099</td>\n",
       "      <td>0.001795</td>\n",
       "      <td>0.056432</td>\n",
       "      <td>2.532481e+04</td>\n",
       "    </tr>\n",
       "    <tr>\n",
       "      <th>биография</th>\n",
       "      <td>3</td>\n",
       "      <td>112.510000</td>\n",
       "      <td>5.289336e+08</td>\n",
       "      <td>5.168830e+08</td>\n",
       "      <td>5.515600</td>\n",
       "      <td>1.901503</td>\n",
       "      <td>0.039537</td>\n",
       "      <td>14.605760</td>\n",
       "      <td>4.594108e+06</td>\n",
       "    </tr>\n",
       "    <tr>\n",
       "      <th>реальное тв</th>\n",
       "      <td>1</td>\n",
       "      <td>53.000000</td>\n",
       "      <td>8.000000e+07</td>\n",
       "      <td>3.272110e+07</td>\n",
       "      <td>0.617379</td>\n",
       "      <td>0.617379</td>\n",
       "      <td>0.617379</td>\n",
       "      <td>0.617379</td>\n",
       "      <td>6.173793e+05</td>\n",
       "    </tr>\n",
       "  </tbody>\n",
       "</table>\n",
       "</div>"
      ],
      "text/plain": [
       "             support_count  support_sum    budget_sum  box_office_sum  \\\n",
       "genre_main                                                              \n",
       "драма                   93  5314.406632  1.105189e+10    9.490844e+09   \n",
       "комедия                 74  3218.282945  5.915587e+09    1.247998e+10   \n",
       "мультфильм              31  2461.520000  5.285499e+09    5.622014e+09   \n",
       "фантастика              11  1406.000000  2.193101e+09    1.718204e+09   \n",
       "фэнтези                 11  1032.900000  2.340124e+09    9.958366e+08   \n",
       "история                  4  1020.000000  2.145062e+09    1.455468e+09   \n",
       "триллер                 15   769.645285  1.290961e+09    7.004502e+08   \n",
       "приключения              7   696.000000  3.374742e+09    1.205597e+09   \n",
       "                        16   688.969465  9.429615e+08    1.481749e+09   \n",
       "детектив                 5   485.000000  1.198222e+09    1.385475e+08   \n",
       "спорт                    3   455.000000  7.104690e+08    2.967768e+09   \n",
       "военный                  9   422.000866  1.285907e+09    1.017670e+09   \n",
       "мелодрама               15   398.000000  9.180053e+08    5.478897e+07   \n",
       "ужасы                   10   355.000000  5.638776e+08    7.101232e+08   \n",
       "семейный                 7   339.000000  6.367998e+08    5.844247e+08   \n",
       "боевик                   6   334.000000  6.034368e+08    5.959289e+08   \n",
       "криминал                 3   280.000000  4.265948e+08    2.397939e+08   \n",
       "мюзикл                   4   240.453119  5.641975e+08    1.017050e+08   \n",
       "детский                  4   119.000000  1.838980e+08    3.013652e+06   \n",
       "биография                3   112.510000  5.289336e+08    5.168830e+08   \n",
       "реальное тв              1    53.000000  8.000000e+07    3.272110e+07   \n",
       "\n",
       "             payback_mean  payback_median  payback_min  payback_max  \\\n",
       "genre_main                                                            \n",
       "драма            1.021762        0.127249     0.000180    12.620856   \n",
       "комедия          3.312854        0.960312     0.002374    51.226145   \n",
       "мультфильм       2.707292        1.416342     0.001856    17.623205   \n",
       "фантастика       1.320354        1.384238     0.006129     4.153286   \n",
       "фэнтези          0.791026        0.440686     0.000232     3.602668   \n",
       "история          1.103749        1.249099     0.229928     1.686872   \n",
       "триллер          0.693396        0.122676     0.002448     4.704058   \n",
       "приключения      4.793205        1.886624     0.012432    21.118908   \n",
       "                 1.193713        0.018825     0.000793    17.008609   \n",
       "детектив         0.318218        0.153189     0.001335     1.209639   \n",
       "спорт            4.153110        4.217221     1.292892     6.949215   \n",
       "военный          2.750346        0.504968     0.044420    12.120760   \n",
       "мелодрама        0.137784        0.050151     0.000044     0.637979   \n",
       "ужасы            1.808773        1.095530     0.002005     7.031983   \n",
       "семейный         1.554702        1.834125     0.013812     3.437384   \n",
       "боевик           2.293792        1.223690     0.006782     8.790018   \n",
       "криминал         0.486118        0.357983     0.011905     1.088468   \n",
       "мюзикл           0.277502        0.261410     0.005541     0.581647   \n",
       "детский          0.032442        0.039099     0.001795     0.056432   \n",
       "биография        5.515600        1.901503     0.039537    14.605760   \n",
       "реальное тв      0.617379        0.617379     0.617379     0.617379   \n",
       "\n",
       "             payback_overall  \n",
       "genre_main                    \n",
       "драма           1.785871e+06  \n",
       "комедия         3.877837e+06  \n",
       "мультфильм      2.283960e+06  \n",
       "фантастика      1.222051e+06  \n",
       "фэнтези         9.641172e+05  \n",
       "история         1.426930e+06  \n",
       "триллер         9.100948e+05  \n",
       "приключения     1.732180e+06  \n",
       "                2.150674e+06  \n",
       "детектив        2.856650e+05  \n",
       "спорт           6.522568e+06  \n",
       "военный         2.411536e+06  \n",
       "мелодрама       1.376607e+05  \n",
       "ужасы           2.000347e+06  \n",
       "семейный        1.723967e+06  \n",
       "боевик          1.784218e+06  \n",
       "криминал        8.564067e+05  \n",
       "мюзикл          4.229723e+05  \n",
       "детский         2.532481e+04  \n",
       "биография       4.594108e+06  \n",
       "реальное тв     6.173793e+05  "
      ]
     },
     "execution_count": 63,
     "metadata": {},
     "output_type": "execute_result"
    }
   ],
   "source": [
    "payback_factor('genre_main')"
   ]
  },
  {
   "cell_type": "markdown",
   "id": "87816d86",
   "metadata": {},
   "source": [
    "Наибольшей популярностью у господдержки пользуются драмы и комедии. Лидеры окупаемости же – спорт, биография и комедии."
   ]
  },
  {
   "cell_type": "code",
   "execution_count": 64,
   "id": "325a735c",
   "metadata": {},
   "outputs": [
    {
     "data": {
      "text/html": [
       "<div>\n",
       "<style scoped>\n",
       "    .dataframe tbody tr th:only-of-type {\n",
       "        vertical-align: middle;\n",
       "    }\n",
       "\n",
       "    .dataframe tbody tr th {\n",
       "        vertical-align: top;\n",
       "    }\n",
       "\n",
       "    .dataframe thead th {\n",
       "        text-align: right;\n",
       "    }\n",
       "</style>\n",
       "<table border=\"1\" class=\"dataframe\">\n",
       "  <thead>\n",
       "    <tr style=\"text-align: right;\">\n",
       "      <th></th>\n",
       "      <th>support_count</th>\n",
       "      <th>support_sum</th>\n",
       "      <th>budget_sum</th>\n",
       "      <th>box_office_sum</th>\n",
       "      <th>payback_mean</th>\n",
       "      <th>payback_median</th>\n",
       "      <th>payback_min</th>\n",
       "      <th>payback_max</th>\n",
       "      <th>payback_overall</th>\n",
       "    </tr>\n",
       "    <tr>\n",
       "      <th>age_restriction</th>\n",
       "      <th></th>\n",
       "      <th></th>\n",
       "      <th></th>\n",
       "      <th></th>\n",
       "      <th></th>\n",
       "      <th></th>\n",
       "      <th></th>\n",
       "      <th></th>\n",
       "      <th></th>\n",
       "    </tr>\n",
       "  </thead>\n",
       "  <tbody>\n",
       "    <tr>\n",
       "      <th>C_12+</th>\n",
       "      <td>106</td>\n",
       "      <td>7799.394165</td>\n",
       "      <td>1.525195e+10</td>\n",
       "      <td>1.995796e+10</td>\n",
       "      <td>2.697045</td>\n",
       "      <td>0.671423</td>\n",
       "      <td>0.000044</td>\n",
       "      <td>51.226145</td>\n",
       "      <td>2.558912e+06</td>\n",
       "    </tr>\n",
       "    <tr>\n",
       "      <th>D_16+</th>\n",
       "      <td>125</td>\n",
       "      <td>5569.053319</td>\n",
       "      <td>1.151359e+10</td>\n",
       "      <td>7.658463e+09</td>\n",
       "      <td>1.433519</td>\n",
       "      <td>0.193761</td>\n",
       "      <td>0.000918</td>\n",
       "      <td>21.115409</td>\n",
       "      <td>1.375182e+06</td>\n",
       "    </tr>\n",
       "    <tr>\n",
       "      <th>B_6+</th>\n",
       "      <td>65</td>\n",
       "      <td>5546.373947</td>\n",
       "      <td>1.232091e+10</td>\n",
       "      <td>1.338399e+10</td>\n",
       "      <td>2.016510</td>\n",
       "      <td>0.901627</td>\n",
       "      <td>0.005368</td>\n",
       "      <td>17.623205</td>\n",
       "      <td>2.413107e+06</td>\n",
       "    </tr>\n",
       "    <tr>\n",
       "      <th>E_18+</th>\n",
       "      <td>28</td>\n",
       "      <td>1012.346881</td>\n",
       "      <td>2.250837e+09</td>\n",
       "      <td>5.601587e+08</td>\n",
       "      <td>0.550460</td>\n",
       "      <td>0.058924</td>\n",
       "      <td>0.000180</td>\n",
       "      <td>3.797512</td>\n",
       "      <td>5.533269e+05</td>\n",
       "    </tr>\n",
       "    <tr>\n",
       "      <th>A_0+</th>\n",
       "      <td>8</td>\n",
       "      <td>273.520000</td>\n",
       "      <td>9.029846e+08</td>\n",
       "      <td>5.529328e+08</td>\n",
       "      <td>1.772866</td>\n",
       "      <td>1.612240</td>\n",
       "      <td>0.001795</td>\n",
       "      <td>4.478426</td>\n",
       "      <td>2.021544e+06</td>\n",
       "    </tr>\n",
       "  </tbody>\n",
       "</table>\n",
       "</div>"
      ],
      "text/plain": [
       "                 support_count  support_sum    budget_sum  box_office_sum  \\\n",
       "age_restriction                                                             \n",
       "C_12+                      106  7799.394165  1.525195e+10    1.995796e+10   \n",
       "D_16+                      125  5569.053319  1.151359e+10    7.658463e+09   \n",
       "B_6+                        65  5546.373947  1.232091e+10    1.338399e+10   \n",
       "E_18+                       28  1012.346881  2.250837e+09    5.601587e+08   \n",
       "A_0+                         8   273.520000  9.029846e+08    5.529328e+08   \n",
       "\n",
       "                 payback_mean  payback_median  payback_min  payback_max  \\\n",
       "age_restriction                                                           \n",
       "C_12+                2.697045        0.671423     0.000044    51.226145   \n",
       "D_16+                1.433519        0.193761     0.000918    21.115409   \n",
       "B_6+                 2.016510        0.901627     0.005368    17.623205   \n",
       "E_18+                0.550460        0.058924     0.000180     3.797512   \n",
       "A_0+                 1.772866        1.612240     0.001795     4.478426   \n",
       "\n",
       "                 payback_overall  \n",
       "age_restriction                   \n",
       "C_12+               2.558912e+06  \n",
       "D_16+               1.375182e+06  \n",
       "B_6+                2.413107e+06  \n",
       "E_18+               5.533269e+05  \n",
       "A_0+                2.021544e+06  "
      ]
     },
     "execution_count": 64,
     "metadata": {},
     "output_type": "execute_result"
    }
   ],
   "source": [
    "payback_factor('age_restriction')"
   ]
  },
  {
   "cell_type": "markdown",
   "id": "fd2df8d5",
   "metadata": {},
   "source": [
    "Ничего удивительного. У фильмов 18+ окупаемость очень низкая, лучше всего дела обстоят у фильмов для всех возрастов. "
   ]
  },
  {
   "cell_type": "code",
   "execution_count": 65,
   "id": "f5de8455",
   "metadata": {},
   "outputs": [
    {
     "data": {
      "text/html": [
       "<div>\n",
       "<style scoped>\n",
       "    .dataframe tbody tr th:only-of-type {\n",
       "        vertical-align: middle;\n",
       "    }\n",
       "\n",
       "    .dataframe tbody tr th {\n",
       "        vertical-align: top;\n",
       "    }\n",
       "\n",
       "    .dataframe thead th {\n",
       "        text-align: right;\n",
       "    }\n",
       "</style>\n",
       "<table border=\"1\" class=\"dataframe\">\n",
       "  <thead>\n",
       "    <tr style=\"text-align: right;\">\n",
       "      <th></th>\n",
       "      <th>support_count</th>\n",
       "      <th>support_sum</th>\n",
       "      <th>budget_sum</th>\n",
       "      <th>box_office_sum</th>\n",
       "      <th>payback_mean</th>\n",
       "      <th>payback_median</th>\n",
       "      <th>payback_min</th>\n",
       "      <th>payback_max</th>\n",
       "      <th>payback_overall</th>\n",
       "    </tr>\n",
       "    <tr>\n",
       "      <th>director_main</th>\n",
       "      <th></th>\n",
       "      <th></th>\n",
       "      <th></th>\n",
       "      <th></th>\n",
       "      <th></th>\n",
       "      <th></th>\n",
       "      <th></th>\n",
       "      <th></th>\n",
       "      <th></th>\n",
       "    </tr>\n",
       "  </thead>\n",
       "  <tbody>\n",
       "    <tr>\n",
       "      <th>ф.бондарчук</th>\n",
       "      <td>2</td>\n",
       "      <td>750.000000</td>\n",
       "      <td>944000000.0</td>\n",
       "      <td>1.038321e+09</td>\n",
       "      <td>4.153286</td>\n",
       "      <td>4.153286</td>\n",
       "      <td>4.153286</td>\n",
       "      <td>4.153286</td>\n",
       "      <td>1.384429e+06</td>\n",
       "    </tr>\n",
       "    <tr>\n",
       "      <th>н.хомерики</th>\n",
       "      <td>3</td>\n",
       "      <td>660.000000</td>\n",
       "      <td>883704666.0</td>\n",
       "      <td>6.181430e+08</td>\n",
       "      <td>1.687698</td>\n",
       "      <td>1.123566</td>\n",
       "      <td>0.186256</td>\n",
       "      <td>3.753273</td>\n",
       "      <td>9.365802e+05</td>\n",
       "    </tr>\n",
       "    <tr>\n",
       "      <th>а.кравчук</th>\n",
       "      <td>1</td>\n",
       "      <td>500.000000</td>\n",
       "      <td>980000000.0</td>\n",
       "      <td>7.177032e+08</td>\n",
       "      <td>1.435406</td>\n",
       "      <td>1.435406</td>\n",
       "      <td>1.435406</td>\n",
       "      <td>1.435406</td>\n",
       "      <td>1.435406e+06</td>\n",
       "    </tr>\n",
       "    <tr>\n",
       "      <th>р.давлетьяров</th>\n",
       "      <td>5</td>\n",
       "      <td>459.847945</td>\n",
       "      <td>770430237.0</td>\n",
       "      <td>2.992629e+08</td>\n",
       "      <td>0.485626</td>\n",
       "      <td>0.185048</td>\n",
       "      <td>0.086097</td>\n",
       "      <td>1.661112</td>\n",
       "      <td>6.507867e+05</td>\n",
       "    </tr>\n",
       "    <tr>\n",
       "      <th>а.мизгирев</th>\n",
       "      <td>1</td>\n",
       "      <td>450.000000</td>\n",
       "      <td>684200536.0</td>\n",
       "      <td>3.642851e+08</td>\n",
       "      <td>0.809523</td>\n",
       "      <td>0.809523</td>\n",
       "      <td>0.809523</td>\n",
       "      <td>0.809523</td>\n",
       "      <td>8.095225e+05</td>\n",
       "    </tr>\n",
       "    <tr>\n",
       "      <th>н.лебедев</th>\n",
       "      <td>1</td>\n",
       "      <td>442.104482</td>\n",
       "      <td>635283867.0</td>\n",
       "      <td>1.402255e+09</td>\n",
       "      <td>3.171774</td>\n",
       "      <td>3.171774</td>\n",
       "      <td>3.171774</td>\n",
       "      <td>3.171774</td>\n",
       "      <td>3.171774e+06</td>\n",
       "    </tr>\n",
       "    <tr>\n",
       "      <th>а.мегердичев</th>\n",
       "      <td>1</td>\n",
       "      <td>400.000000</td>\n",
       "      <td>590192191.0</td>\n",
       "      <td>2.779686e+09</td>\n",
       "      <td>6.949215</td>\n",
       "      <td>6.949215</td>\n",
       "      <td>6.949215</td>\n",
       "      <td>6.949215</td>\n",
       "      <td>6.949215e+06</td>\n",
       "    </tr>\n",
       "    <tr>\n",
       "      <th>д.дьяченко</th>\n",
       "      <td>4</td>\n",
       "      <td>351.000000</td>\n",
       "      <td>780695312.0</td>\n",
       "      <td>2.404899e+09</td>\n",
       "      <td>6.678859</td>\n",
       "      <td>4.312813</td>\n",
       "      <td>1.539431</td>\n",
       "      <td>16.550377</td>\n",
       "      <td>6.851563e+06</td>\n",
       "    </tr>\n",
       "    <tr>\n",
       "      <th>а.цицилин</th>\n",
       "      <td>3</td>\n",
       "      <td>350.000000</td>\n",
       "      <td>852162516.0</td>\n",
       "      <td>5.303259e+08</td>\n",
       "      <td>2.073244</td>\n",
       "      <td>1.544319</td>\n",
       "      <td>0.196986</td>\n",
       "      <td>4.478426</td>\n",
       "      <td>1.515217e+06</td>\n",
       "    </tr>\n",
       "    <tr>\n",
       "      <th>и.шурховецкий</th>\n",
       "      <td>1</td>\n",
       "      <td>350.000000</td>\n",
       "      <td>500012729.0</td>\n",
       "      <td>5.904051e+08</td>\n",
       "      <td>1.686872</td>\n",
       "      <td>1.686872</td>\n",
       "      <td>1.686872</td>\n",
       "      <td>1.686872</td>\n",
       "      <td>1.686872e+06</td>\n",
       "    </tr>\n",
       "  </tbody>\n",
       "</table>\n",
       "</div>"
      ],
      "text/plain": [
       "               support_count  support_sum   budget_sum  box_office_sum  \\\n",
       "director_main                                                            \n",
       "ф.бондарчук                2   750.000000  944000000.0    1.038321e+09   \n",
       "н.хомерики                 3   660.000000  883704666.0    6.181430e+08   \n",
       "а.кравчук                  1   500.000000  980000000.0    7.177032e+08   \n",
       "р.давлетьяров              5   459.847945  770430237.0    2.992629e+08   \n",
       "а.мизгирев                 1   450.000000  684200536.0    3.642851e+08   \n",
       "н.лебедев                  1   442.104482  635283867.0    1.402255e+09   \n",
       "а.мегердичев               1   400.000000  590192191.0    2.779686e+09   \n",
       "д.дьяченко                 4   351.000000  780695312.0    2.404899e+09   \n",
       "а.цицилин                  3   350.000000  852162516.0    5.303259e+08   \n",
       "и.шурховецкий              1   350.000000  500012729.0    5.904051e+08   \n",
       "\n",
       "               payback_mean  payback_median  payback_min  payback_max  \\\n",
       "director_main                                                           \n",
       "ф.бондарчук        4.153286        4.153286     4.153286     4.153286   \n",
       "н.хомерики         1.687698        1.123566     0.186256     3.753273   \n",
       "а.кравчук          1.435406        1.435406     1.435406     1.435406   \n",
       "р.давлетьяров      0.485626        0.185048     0.086097     1.661112   \n",
       "а.мизгирев         0.809523        0.809523     0.809523     0.809523   \n",
       "н.лебедев          3.171774        3.171774     3.171774     3.171774   \n",
       "а.мегердичев       6.949215        6.949215     6.949215     6.949215   \n",
       "д.дьяченко         6.678859        4.312813     1.539431    16.550377   \n",
       "а.цицилин          2.073244        1.544319     0.196986     4.478426   \n",
       "и.шурховецкий      1.686872        1.686872     1.686872     1.686872   \n",
       "\n",
       "               payback_overall  \n",
       "director_main                   \n",
       "ф.бондарчук       1.384429e+06  \n",
       "н.хомерики        9.365802e+05  \n",
       "а.кравчук         1.435406e+06  \n",
       "р.давлетьяров     6.507867e+05  \n",
       "а.мизгирев        8.095225e+05  \n",
       "н.лебедев         3.171774e+06  \n",
       "а.мегердичев      6.949215e+06  \n",
       "д.дьяченко        6.851563e+06  \n",
       "а.цицилин         1.515217e+06  \n",
       "и.шурховецкий     1.686872e+06  "
      ]
     },
     "execution_count": 65,
     "metadata": {},
     "output_type": "execute_result"
    }
   ],
   "source": [
    "payback_factor('director_main').head(10)"
   ]
  },
  {
   "cell_type": "markdown",
   "id": "de0b657a",
   "metadata": {},
   "source": [
    "Результаты катастрофические - у самых поддерживаемых режиссеров чудовищная, запредельно низкая окупаемость."
   ]
  },
  {
   "cell_type": "markdown",
   "id": "84daeee0",
   "metadata": {},
   "source": [
    "## Вывод"
   ]
  },
  {
   "cell_type": "markdown",
   "id": "e5b0d5f5",
   "metadata": {},
   "source": [
    "Прежде чем перейти к результатам анализа, стоит отметить, что в целом входные данные очень низкого качества, особенно для официального источника. Датафрейм содержит много пропусков, ошибок, в том числе человеческих, и использует сомнительные способы структурирования данных. Работать с такими данными тяжело."
   ]
  },
  {
   "cell_type": "markdown",
   "id": "ff0e3600",
   "metadata": {},
   "source": [
    "Результаты анализа: \n",
    "* тенденции российского рынка схожи с мировыми (низкие сборы фильмов 18+, etc)\n",
    "* господдержка крайне неэффективна по всем показателям и не то что не приносит прибыли, а является бездной расходов\n",
    "* были изучены и описаны динамики различных показателей киноиндустрии по годам, были созданы инструменты для дальнейшего анализа, если таковой потребуется (функция `payback_factor`, etc)"
   ]
  },
  {
   "cell_type": "markdown",
   "id": "88729bbf",
   "metadata": {},
   "source": [
    "Рекомендации заказчику:\n",
    "* кардинально изменить подход к сбору и структурированию данных\n",
    "* радикально пересмотреть подход к государственному финансированию кинокартин. Особенное внимание уделить например тому, что в 2017-18 гг. фильмы с поддержкой были наиболее окупаемы, несмотря на малый размер поддержки по сравнению с другими годами"
   ]
  },
  {
   "cell_type": "code",
   "execution_count": null,
   "id": "aba397aa",
   "metadata": {},
   "outputs": [],
   "source": []
  }
 ],
 "metadata": {
  "ExecuteTimeLog": [
   {
    "duration": 2126,
    "start_time": "2023-06-16T13:28:09.146Z"
   },
   {
    "duration": 0,
    "start_time": "2023-06-16T13:28:11.277Z"
   },
   {
    "duration": 0,
    "start_time": "2023-06-16T13:28:11.279Z"
   },
   {
    "duration": 0,
    "start_time": "2023-06-16T13:28:11.280Z"
   },
   {
    "duration": 0,
    "start_time": "2023-06-16T13:28:11.282Z"
   },
   {
    "duration": 0,
    "start_time": "2023-06-16T13:28:11.283Z"
   },
   {
    "duration": 0,
    "start_time": "2023-06-16T13:28:11.285Z"
   },
   {
    "duration": 0,
    "start_time": "2023-06-16T13:28:11.286Z"
   },
   {
    "duration": 0,
    "start_time": "2023-06-16T13:28:11.287Z"
   },
   {
    "duration": 0,
    "start_time": "2023-06-16T13:28:11.288Z"
   },
   {
    "duration": 0,
    "start_time": "2023-06-16T13:28:11.289Z"
   },
   {
    "duration": 0,
    "start_time": "2023-06-16T13:28:11.291Z"
   },
   {
    "duration": 1,
    "start_time": "2023-06-16T13:28:11.291Z"
   },
   {
    "duration": 0,
    "start_time": "2023-06-16T13:28:11.292Z"
   },
   {
    "duration": 0,
    "start_time": "2023-06-16T13:28:11.293Z"
   },
   {
    "duration": 0,
    "start_time": "2023-06-16T13:28:11.294Z"
   },
   {
    "duration": 0,
    "start_time": "2023-06-16T13:28:11.295Z"
   },
   {
    "duration": 0,
    "start_time": "2023-06-16T13:28:11.296Z"
   },
   {
    "duration": 0,
    "start_time": "2023-06-16T13:28:11.297Z"
   },
   {
    "duration": 0,
    "start_time": "2023-06-16T13:28:11.299Z"
   },
   {
    "duration": 0,
    "start_time": "2023-06-16T13:28:11.300Z"
   },
   {
    "duration": 0,
    "start_time": "2023-06-16T13:28:11.309Z"
   },
   {
    "duration": 0,
    "start_time": "2023-06-16T13:28:11.310Z"
   },
   {
    "duration": 0,
    "start_time": "2023-06-16T13:28:11.311Z"
   },
   {
    "duration": 0,
    "start_time": "2023-06-16T13:28:11.312Z"
   },
   {
    "duration": 1,
    "start_time": "2023-06-16T13:28:11.313Z"
   },
   {
    "duration": 0,
    "start_time": "2023-06-16T13:28:11.315Z"
   },
   {
    "duration": 0,
    "start_time": "2023-06-16T13:28:11.316Z"
   },
   {
    "duration": 0,
    "start_time": "2023-06-16T13:28:11.317Z"
   },
   {
    "duration": 0,
    "start_time": "2023-06-16T13:28:11.318Z"
   },
   {
    "duration": 0,
    "start_time": "2023-06-16T13:28:11.319Z"
   },
   {
    "duration": 0,
    "start_time": "2023-06-16T13:28:11.320Z"
   },
   {
    "duration": 0,
    "start_time": "2023-06-16T13:28:11.325Z"
   },
   {
    "duration": 0,
    "start_time": "2023-06-16T13:28:11.326Z"
   },
   {
    "duration": 0,
    "start_time": "2023-06-16T13:28:11.327Z"
   },
   {
    "duration": 0,
    "start_time": "2023-06-16T13:28:11.328Z"
   },
   {
    "duration": 0,
    "start_time": "2023-06-16T13:28:11.329Z"
   },
   {
    "duration": 0,
    "start_time": "2023-06-16T13:28:11.330Z"
   },
   {
    "duration": 0,
    "start_time": "2023-06-16T13:28:11.331Z"
   },
   {
    "duration": 0,
    "start_time": "2023-06-16T13:28:11.332Z"
   },
   {
    "duration": 0,
    "start_time": "2023-06-16T13:28:11.336Z"
   },
   {
    "duration": 0,
    "start_time": "2023-06-16T13:28:11.337Z"
   },
   {
    "duration": 0,
    "start_time": "2023-06-16T13:28:11.339Z"
   },
   {
    "duration": 0,
    "start_time": "2023-06-16T13:28:11.345Z"
   },
   {
    "duration": 0,
    "start_time": "2023-06-16T13:28:11.349Z"
   },
   {
    "duration": 0,
    "start_time": "2023-06-16T13:28:11.351Z"
   },
   {
    "duration": 0,
    "start_time": "2023-06-16T13:28:11.352Z"
   },
   {
    "duration": 0,
    "start_time": "2023-06-16T13:28:11.353Z"
   },
   {
    "duration": 0,
    "start_time": "2023-06-16T13:28:11.355Z"
   },
   {
    "duration": 0,
    "start_time": "2023-06-16T13:28:11.356Z"
   },
   {
    "duration": 0,
    "start_time": "2023-06-16T13:28:11.357Z"
   },
   {
    "duration": 0,
    "start_time": "2023-06-16T13:28:11.359Z"
   },
   {
    "duration": 0,
    "start_time": "2023-06-16T13:28:11.360Z"
   },
   {
    "duration": 0,
    "start_time": "2023-06-16T13:28:11.361Z"
   },
   {
    "duration": 0,
    "start_time": "2023-06-16T13:28:11.363Z"
   },
   {
    "duration": 0,
    "start_time": "2023-06-16T13:28:11.364Z"
   },
   {
    "duration": 0,
    "start_time": "2023-06-16T13:28:11.365Z"
   },
   {
    "duration": 0,
    "start_time": "2023-06-16T13:28:11.366Z"
   },
   {
    "duration": 0,
    "start_time": "2023-06-16T13:28:11.367Z"
   },
   {
    "duration": 0,
    "start_time": "2023-06-16T13:28:11.368Z"
   },
   {
    "duration": 0,
    "start_time": "2023-06-16T13:28:11.407Z"
   },
   {
    "duration": 0,
    "start_time": "2023-06-16T13:28:11.408Z"
   },
   {
    "duration": 0,
    "start_time": "2023-06-16T13:28:11.409Z"
   },
   {
    "duration": 0,
    "start_time": "2023-06-16T13:28:11.410Z"
   },
   {
    "duration": 0,
    "start_time": "2023-06-16T13:28:11.411Z"
   },
   {
    "duration": 1860,
    "start_time": "2023-06-16T13:41:41.932Z"
   },
   {
    "duration": 60,
    "start_time": "2023-06-16T13:41:43.795Z"
   },
   {
    "duration": 39,
    "start_time": "2023-06-16T13:41:43.856Z"
   },
   {
    "duration": 74,
    "start_time": "2023-06-16T13:41:43.897Z"
   },
   {
    "duration": 30,
    "start_time": "2023-06-16T13:41:43.973Z"
   },
   {
    "duration": 20,
    "start_time": "2023-06-16T13:41:44.005Z"
   },
   {
    "duration": 30,
    "start_time": "2023-06-16T13:41:44.027Z"
   },
   {
    "duration": 34,
    "start_time": "2023-06-16T13:41:44.062Z"
   },
   {
    "duration": 11,
    "start_time": "2023-06-16T13:41:44.098Z"
   },
   {
    "duration": 28,
    "start_time": "2023-06-16T13:41:44.113Z"
   },
   {
    "duration": 38,
    "start_time": "2023-06-16T13:41:44.144Z"
   },
   {
    "duration": 36,
    "start_time": "2023-06-16T13:41:44.184Z"
   },
   {
    "duration": 5,
    "start_time": "2023-06-16T13:41:44.222Z"
   },
   {
    "duration": 11,
    "start_time": "2023-06-16T13:41:44.228Z"
   },
   {
    "duration": 19,
    "start_time": "2023-06-16T13:41:44.241Z"
   },
   {
    "duration": 9,
    "start_time": "2023-06-16T13:41:44.261Z"
   },
   {
    "duration": 29,
    "start_time": "2023-06-16T13:41:44.272Z"
   },
   {
    "duration": 10,
    "start_time": "2023-06-16T13:41:44.303Z"
   },
   {
    "duration": 27,
    "start_time": "2023-06-16T13:41:44.315Z"
   },
   {
    "duration": 36,
    "start_time": "2023-06-16T13:41:44.344Z"
   },
   {
    "duration": 29,
    "start_time": "2023-06-16T13:41:44.382Z"
   },
   {
    "duration": 22,
    "start_time": "2023-06-16T13:41:44.412Z"
   },
   {
    "duration": 9,
    "start_time": "2023-06-16T13:41:44.436Z"
   },
   {
    "duration": 28,
    "start_time": "2023-06-16T13:41:44.447Z"
   },
   {
    "duration": 25,
    "start_time": "2023-06-16T13:41:44.476Z"
   },
   {
    "duration": 95,
    "start_time": "2023-06-16T13:41:44.502Z"
   },
   {
    "duration": 25,
    "start_time": "2023-06-16T13:41:44.599Z"
   },
   {
    "duration": 4,
    "start_time": "2023-06-16T13:41:44.629Z"
   },
   {
    "duration": 34,
    "start_time": "2023-06-16T13:41:44.634Z"
   },
   {
    "duration": 19,
    "start_time": "2023-06-16T13:41:44.670Z"
   },
   {
    "duration": 58,
    "start_time": "2023-06-16T13:41:44.690Z"
   },
   {
    "duration": 39,
    "start_time": "2023-06-16T13:41:44.749Z"
   },
   {
    "duration": 33,
    "start_time": "2023-06-16T13:41:44.789Z"
   },
   {
    "duration": 20,
    "start_time": "2023-06-16T13:41:44.824Z"
   },
   {
    "duration": 823,
    "start_time": "2023-06-16T13:41:44.846Z"
   },
   {
    "duration": 26,
    "start_time": "2023-06-16T13:41:45.671Z"
   },
   {
    "duration": 47,
    "start_time": "2023-06-16T13:41:45.698Z"
   },
   {
    "duration": 2839,
    "start_time": "2023-06-16T13:41:45.747Z"
   },
   {
    "duration": 14,
    "start_time": "2023-06-16T13:41:48.587Z"
   },
   {
    "duration": 68,
    "start_time": "2023-06-16T13:41:48.603Z"
   },
   {
    "duration": 1402,
    "start_time": "2023-06-16T13:41:48.673Z"
   },
   {
    "duration": 310,
    "start_time": "2023-06-16T13:41:50.077Z"
   },
   {
    "duration": 342,
    "start_time": "2023-06-16T13:41:50.389Z"
   },
   {
    "duration": 303,
    "start_time": "2023-06-16T13:41:50.733Z"
   },
   {
    "duration": 349,
    "start_time": "2023-06-16T13:41:51.037Z"
   },
   {
    "duration": 274,
    "start_time": "2023-06-16T13:41:51.388Z"
   },
   {
    "duration": 753,
    "start_time": "2023-06-16T13:41:51.664Z"
   },
   {
    "duration": 25,
    "start_time": "2023-06-16T13:41:52.418Z"
   },
   {
    "duration": 25,
    "start_time": "2023-06-16T13:41:52.445Z"
   },
   {
    "duration": 13,
    "start_time": "2023-06-16T13:41:52.472Z"
   },
   {
    "duration": 264,
    "start_time": "2023-06-16T13:41:52.486Z"
   },
   {
    "duration": 32,
    "start_time": "2023-06-16T13:41:52.752Z"
   },
   {
    "duration": 4,
    "start_time": "2023-06-16T13:41:52.786Z"
   },
   {
    "duration": 836,
    "start_time": "2023-06-16T13:41:52.791Z"
   },
   {
    "duration": 15,
    "start_time": "2023-06-16T13:41:53.628Z"
   },
   {
    "duration": 27,
    "start_time": "2023-06-16T13:41:53.645Z"
   },
   {
    "duration": 11,
    "start_time": "2023-06-16T13:41:53.674Z"
   },
   {
    "duration": 48,
    "start_time": "2023-06-16T13:41:53.687Z"
   },
   {
    "duration": 10,
    "start_time": "2023-06-16T13:41:53.737Z"
   },
   {
    "duration": 29,
    "start_time": "2023-06-16T13:41:53.749Z"
   },
   {
    "duration": 55,
    "start_time": "2023-06-16T13:41:53.781Z"
   },
   {
    "duration": 36,
    "start_time": "2023-06-16T13:41:53.838Z"
   },
   {
    "duration": 38,
    "start_time": "2023-06-16T13:41:53.876Z"
   },
   {
    "duration": 60,
    "start_time": "2023-06-16T13:41:53.916Z"
   },
   {
    "duration": 49,
    "start_time": "2023-06-16T13:41:53.978Z"
   },
   {
    "duration": 121,
    "start_time": "2023-06-16T13:43:12.813Z"
   },
   {
    "duration": 1529,
    "start_time": "2023-06-17T09:37:48.047Z"
   },
   {
    "duration": 47,
    "start_time": "2023-06-17T09:37:49.580Z"
   },
   {
    "duration": 27,
    "start_time": "2023-06-17T09:37:49.628Z"
   },
   {
    "duration": 49,
    "start_time": "2023-06-17T09:37:49.656Z"
   },
   {
    "duration": 31,
    "start_time": "2023-06-17T09:37:49.706Z"
   },
   {
    "duration": 20,
    "start_time": "2023-06-17T09:37:49.739Z"
   },
   {
    "duration": 6,
    "start_time": "2023-06-17T09:37:49.761Z"
   },
   {
    "duration": 20,
    "start_time": "2023-06-17T09:37:49.768Z"
   },
   {
    "duration": 6,
    "start_time": "2023-06-17T09:37:49.790Z"
   },
   {
    "duration": 10,
    "start_time": "2023-06-17T09:37:49.821Z"
   },
   {
    "duration": 17,
    "start_time": "2023-06-17T09:37:49.832Z"
   },
   {
    "duration": 24,
    "start_time": "2023-06-17T09:37:49.851Z"
   },
   {
    "duration": 4,
    "start_time": "2023-06-17T09:37:49.876Z"
   },
   {
    "duration": 13,
    "start_time": "2023-06-17T09:37:49.881Z"
   },
   {
    "duration": 27,
    "start_time": "2023-06-17T09:37:49.896Z"
   },
   {
    "duration": 15,
    "start_time": "2023-06-17T09:37:49.924Z"
   },
   {
    "duration": 18,
    "start_time": "2023-06-17T09:37:49.946Z"
   },
   {
    "duration": 15,
    "start_time": "2023-06-17T09:37:49.966Z"
   },
   {
    "duration": 23,
    "start_time": "2023-06-17T09:37:49.982Z"
   },
   {
    "duration": 33,
    "start_time": "2023-06-17T09:37:50.006Z"
   },
   {
    "duration": 21,
    "start_time": "2023-06-17T09:37:50.041Z"
   },
   {
    "duration": 18,
    "start_time": "2023-06-17T09:37:50.064Z"
   },
   {
    "duration": 25,
    "start_time": "2023-06-17T09:37:50.084Z"
   },
   {
    "duration": 27,
    "start_time": "2023-06-17T09:37:50.110Z"
   },
   {
    "duration": 32,
    "start_time": "2023-06-17T09:37:50.139Z"
   },
   {
    "duration": 96,
    "start_time": "2023-06-17T09:37:50.172Z"
   },
   {
    "duration": 25,
    "start_time": "2023-06-17T09:37:50.270Z"
   },
   {
    "duration": 4,
    "start_time": "2023-06-17T09:37:50.299Z"
   },
   {
    "duration": 33,
    "start_time": "2023-06-17T09:37:50.304Z"
   },
   {
    "duration": 16,
    "start_time": "2023-06-17T09:37:50.338Z"
   },
   {
    "duration": 47,
    "start_time": "2023-06-17T09:37:50.355Z"
   },
   {
    "duration": 27,
    "start_time": "2023-06-17T09:37:50.420Z"
   },
   {
    "duration": 19,
    "start_time": "2023-06-17T09:37:50.449Z"
   },
   {
    "duration": 16,
    "start_time": "2023-06-17T09:37:50.469Z"
   },
   {
    "duration": 797,
    "start_time": "2023-06-17T09:37:50.486Z"
   },
   {
    "duration": 18,
    "start_time": "2023-06-17T09:37:51.285Z"
   },
   {
    "duration": 45,
    "start_time": "2023-06-17T09:37:51.305Z"
   },
   {
    "duration": 2391,
    "start_time": "2023-06-17T09:37:51.352Z"
   },
   {
    "duration": 12,
    "start_time": "2023-06-17T09:37:53.744Z"
   },
   {
    "duration": 57,
    "start_time": "2023-06-17T09:37:53.758Z"
   },
   {
    "duration": 1093,
    "start_time": "2023-06-17T09:37:53.817Z"
   },
   {
    "duration": 253,
    "start_time": "2023-06-17T09:37:54.912Z"
   },
   {
    "duration": 410,
    "start_time": "2023-06-17T09:37:55.167Z"
   },
   {
    "duration": 264,
    "start_time": "2023-06-17T09:37:55.581Z"
   },
   {
    "duration": 224,
    "start_time": "2023-06-17T09:37:55.847Z"
   },
   {
    "duration": 204,
    "start_time": "2023-06-17T09:37:56.072Z"
   },
   {
    "duration": 560,
    "start_time": "2023-06-17T09:37:56.277Z"
   },
   {
    "duration": 22,
    "start_time": "2023-06-17T09:37:56.839Z"
   },
   {
    "duration": 6,
    "start_time": "2023-06-17T09:37:56.862Z"
   },
   {
    "duration": 11,
    "start_time": "2023-06-17T09:37:56.869Z"
   },
   {
    "duration": 235,
    "start_time": "2023-06-17T09:37:56.882Z"
   },
   {
    "duration": 22,
    "start_time": "2023-06-17T09:37:57.120Z"
   },
   {
    "duration": 3,
    "start_time": "2023-06-17T09:37:57.143Z"
   },
   {
    "duration": 702,
    "start_time": "2023-06-17T09:37:57.148Z"
   },
   {
    "duration": 11,
    "start_time": "2023-06-17T09:37:57.852Z"
   },
   {
    "duration": 8,
    "start_time": "2023-06-17T09:37:57.865Z"
   },
   {
    "duration": 25,
    "start_time": "2023-06-17T09:37:57.874Z"
   },
   {
    "duration": 25,
    "start_time": "2023-06-17T09:37:57.901Z"
   },
   {
    "duration": 9,
    "start_time": "2023-06-17T09:37:57.928Z"
   },
   {
    "duration": 5,
    "start_time": "2023-06-17T09:37:57.939Z"
   },
   {
    "duration": 29,
    "start_time": "2023-06-17T09:37:57.945Z"
   },
   {
    "duration": 46,
    "start_time": "2023-06-17T09:37:57.975Z"
   },
   {
    "duration": 30,
    "start_time": "2023-06-17T09:37:58.023Z"
   },
   {
    "duration": 25,
    "start_time": "2023-06-17T09:37:58.055Z"
   },
   {
    "duration": 63,
    "start_time": "2023-06-17T09:37:58.083Z"
   }
  ],
  "kernelspec": {
   "display_name": "Python 3 (ipykernel)",
   "language": "python",
   "name": "python3"
  },
  "language_info": {
   "codemirror_mode": {
    "name": "ipython",
    "version": 3
   },
   "file_extension": ".py",
   "mimetype": "text/x-python",
   "name": "python",
   "nbconvert_exporter": "python",
   "pygments_lexer": "ipython3",
   "version": "3.10.9"
  },
  "toc": {
   "base_numbering": 1,
   "nav_menu": {},
   "number_sections": true,
   "sideBar": true,
   "skip_h1_title": true,
   "title_cell": "Table of Contents",
   "title_sidebar": "Contents",
   "toc_cell": false,
   "toc_position": {},
   "toc_section_display": true,
   "toc_window_display": false
  }
 },
 "nbformat": 4,
 "nbformat_minor": 5
}
